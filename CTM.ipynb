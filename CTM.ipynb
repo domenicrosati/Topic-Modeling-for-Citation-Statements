{
  "cells": [
    {
      "cell_type": "markdown",
      "metadata": {
        "id": "d5NIzZuBTcVO"
      },
      "source": [
        "## Contextualized Topic Models (CTMs) \n",
        "\n",
        "Using CTMs to produce topic models\n",
        " "
      ]
    },
    {
      "cell_type": "markdown",
      "metadata": {
        "id": "t9pXl7iGMh6j"
      },
      "source": [
        "## Preprocessing\n",
        "\n",
        "to ensure the citations are stripped of html and preprocessed according to a pipeline "
      ]
    },
    {
      "cell_type": "code",
      "source": [
        "!pip install contextualized_topic_models pyLDAvis scispacy\n",
        "!pip install https://s3-us-west-2.amazonaws.com/ai2-s2-scispacy/releases/v0.5.0/en_core_sci_sm-0.5.0.tar.gz\n"
      ],
      "metadata": {
        "colab": {
          "base_uri": "https://localhost:8080/"
        },
        "id": "HC_lJMuFN0P1",
        "outputId": "7454a9b1-5626-4397-ed67-c10790662073"
      },
      "execution_count": 1,
      "outputs": [
        {
          "output_type": "stream",
          "name": "stdout",
          "text": [
            "Looking in indexes: https://pypi.org/simple, https://us-python.pkg.dev/colab-wheels/public/simple/\n",
            "Requirement already satisfied: contextualized_topic_models in /usr/local/lib/python3.7/dist-packages (2.3.0)\n",
            "Requirement already satisfied: pyLDAvis in /usr/local/lib/python3.7/dist-packages (3.3.1)\n",
            "Requirement already satisfied: scispacy in /usr/local/lib/python3.7/dist-packages (0.5.0)\n",
            "Requirement already satisfied: gensim>=3.8.3 in /usr/local/lib/python3.7/dist-packages (from contextualized_topic_models) (4.2.0)\n",
            "Requirement already satisfied: numpy>=1.19.1 in /usr/local/lib/python3.7/dist-packages (from contextualized_topic_models) (1.21.6)\n",
            "Requirement already satisfied: tqdm>=4.56.0 in /usr/local/lib/python3.7/dist-packages (from contextualized_topic_models) (4.64.0)\n",
            "Requirement already satisfied: ipywidgets==7.5.1 in /usr/local/lib/python3.7/dist-packages (from contextualized_topic_models) (7.5.1)\n",
            "Requirement already satisfied: torch>=1.6.0 in /usr/local/lib/python3.7/dist-packages (from contextualized_topic_models) (1.12.1+cu113)\n",
            "Requirement already satisfied: sentence-transformers>=1.1.1 in /usr/local/lib/python3.7/dist-packages (from contextualized_topic_models) (2.2.2)\n",
            "Requirement already satisfied: matplotlib>=3.1.3 in /usr/local/lib/python3.7/dist-packages (from contextualized_topic_models) (3.2.2)\n",
            "Requirement already satisfied: ipython==7.16.3 in /usr/local/lib/python3.7/dist-packages (from contextualized_topic_models) (7.16.3)\n",
            "Requirement already satisfied: scipy>=1.4.1 in /usr/local/lib/python3.7/dist-packages (from contextualized_topic_models) (1.7.3)\n",
            "Requirement already satisfied: torchvision>=0.7.0 in /usr/local/lib/python3.7/dist-packages (from contextualized_topic_models) (0.13.1+cu113)\n",
            "Requirement already satisfied: wordcloud>=1.8.1 in /usr/local/lib/python3.7/dist-packages (from contextualized_topic_models) (1.8.2.2)\n",
            "Requirement already satisfied: pickleshare in /usr/local/lib/python3.7/dist-packages (from ipython==7.16.3->contextualized_topic_models) (0.7.5)\n",
            "Requirement already satisfied: setuptools>=18.5 in /usr/local/lib/python3.7/dist-packages (from ipython==7.16.3->contextualized_topic_models) (57.4.0)\n",
            "Requirement already satisfied: decorator in /usr/local/lib/python3.7/dist-packages (from ipython==7.16.3->contextualized_topic_models) (4.4.2)\n",
            "Requirement already satisfied: pexpect in /usr/local/lib/python3.7/dist-packages (from ipython==7.16.3->contextualized_topic_models) (4.8.0)\n",
            "Requirement already satisfied: jedi<=0.17.2,>=0.10 in /usr/local/lib/python3.7/dist-packages (from ipython==7.16.3->contextualized_topic_models) (0.17.2)\n",
            "Requirement already satisfied: backcall in /usr/local/lib/python3.7/dist-packages (from ipython==7.16.3->contextualized_topic_models) (0.2.0)\n",
            "Requirement already satisfied: pygments in /usr/local/lib/python3.7/dist-packages (from ipython==7.16.3->contextualized_topic_models) (2.6.1)\n",
            "Requirement already satisfied: prompt-toolkit!=3.0.0,!=3.0.1,<3.1.0,>=2.0.0 in /usr/local/lib/python3.7/dist-packages (from ipython==7.16.3->contextualized_topic_models) (2.0.10)\n",
            "Requirement already satisfied: traitlets>=4.2 in /usr/local/lib/python3.7/dist-packages (from ipython==7.16.3->contextualized_topic_models) (5.1.1)\n",
            "Requirement already satisfied: nbformat>=4.2.0 in /usr/local/lib/python3.7/dist-packages (from ipywidgets==7.5.1->contextualized_topic_models) (5.4.0)\n",
            "Requirement already satisfied: widgetsnbextension~=3.5.0 in /usr/local/lib/python3.7/dist-packages (from ipywidgets==7.5.1->contextualized_topic_models) (3.5.2)\n",
            "Requirement already satisfied: ipykernel>=4.5.1 in /usr/local/lib/python3.7/dist-packages (from ipywidgets==7.5.1->contextualized_topic_models) (5.3.4)\n",
            "Requirement already satisfied: smart-open>=1.8.1 in /usr/local/lib/python3.7/dist-packages (from gensim>=3.8.3->contextualized_topic_models) (5.2.1)\n",
            "Requirement already satisfied: jupyter-client in /usr/local/lib/python3.7/dist-packages (from ipykernel>=4.5.1->ipywidgets==7.5.1->contextualized_topic_models) (6.1.12)\n",
            "Requirement already satisfied: tornado>=4.2 in /usr/local/lib/python3.7/dist-packages (from ipykernel>=4.5.1->ipywidgets==7.5.1->contextualized_topic_models) (5.1.1)\n",
            "Requirement already satisfied: parso<0.8.0,>=0.7.0 in /usr/local/lib/python3.7/dist-packages (from jedi<=0.17.2,>=0.10->ipython==7.16.3->contextualized_topic_models) (0.7.1)\n",
            "Requirement already satisfied: cycler>=0.10 in /usr/local/lib/python3.7/dist-packages (from matplotlib>=3.1.3->contextualized_topic_models) (0.11.0)\n",
            "Requirement already satisfied: pyparsing!=2.0.4,!=2.1.2,!=2.1.6,>=2.0.1 in /usr/local/lib/python3.7/dist-packages (from matplotlib>=3.1.3->contextualized_topic_models) (3.0.9)\n",
            "Requirement already satisfied: python-dateutil>=2.1 in /usr/local/lib/python3.7/dist-packages (from matplotlib>=3.1.3->contextualized_topic_models) (2.8.2)\n",
            "Requirement already satisfied: kiwisolver>=1.0.1 in /usr/local/lib/python3.7/dist-packages (from matplotlib>=3.1.3->contextualized_topic_models) (1.4.4)\n",
            "Requirement already satisfied: typing-extensions in /usr/local/lib/python3.7/dist-packages (from kiwisolver>=1.0.1->matplotlib>=3.1.3->contextualized_topic_models) (3.10.0.2)\n",
            "Requirement already satisfied: jsonschema>=2.6 in /usr/local/lib/python3.7/dist-packages (from nbformat>=4.2.0->ipywidgets==7.5.1->contextualized_topic_models) (4.3.3)\n",
            "Requirement already satisfied: fastjsonschema in /usr/local/lib/python3.7/dist-packages (from nbformat>=4.2.0->ipywidgets==7.5.1->contextualized_topic_models) (2.16.1)\n",
            "Requirement already satisfied: jupyter-core in /usr/local/lib/python3.7/dist-packages (from nbformat>=4.2.0->ipywidgets==7.5.1->contextualized_topic_models) (4.11.1)\n",
            "Requirement already satisfied: attrs>=17.4.0 in /usr/local/lib/python3.7/dist-packages (from jsonschema>=2.6->nbformat>=4.2.0->ipywidgets==7.5.1->contextualized_topic_models) (22.1.0)\n",
            "Requirement already satisfied: importlib-resources>=1.4.0 in /usr/local/lib/python3.7/dist-packages (from jsonschema>=2.6->nbformat>=4.2.0->ipywidgets==7.5.1->contextualized_topic_models) (5.9.0)\n",
            "Requirement already satisfied: importlib-metadata in /usr/local/lib/python3.7/dist-packages (from jsonschema>=2.6->nbformat>=4.2.0->ipywidgets==7.5.1->contextualized_topic_models) (4.12.0)\n",
            "Requirement already satisfied: pyrsistent!=0.17.0,!=0.17.1,!=0.17.2,>=0.14.0 in /usr/local/lib/python3.7/dist-packages (from jsonschema>=2.6->nbformat>=4.2.0->ipywidgets==7.5.1->contextualized_topic_models) (0.18.1)\n",
            "Requirement already satisfied: zipp>=3.1.0 in /usr/local/lib/python3.7/dist-packages (from importlib-resources>=1.4.0->jsonschema>=2.6->nbformat>=4.2.0->ipywidgets==7.5.1->contextualized_topic_models) (3.8.1)\n",
            "Requirement already satisfied: six>=1.9.0 in /usr/local/lib/python3.7/dist-packages (from prompt-toolkit!=3.0.0,!=3.0.1,<3.1.0,>=2.0.0->ipython==7.16.3->contextualized_topic_models) (1.15.0)\n",
            "Requirement already satisfied: wcwidth in /usr/local/lib/python3.7/dist-packages (from prompt-toolkit!=3.0.0,!=3.0.1,<3.1.0,>=2.0.0->ipython==7.16.3->contextualized_topic_models) (0.2.5)\n",
            "Requirement already satisfied: huggingface-hub>=0.4.0 in /usr/local/lib/python3.7/dist-packages (from sentence-transformers>=1.1.1->contextualized_topic_models) (0.8.1)\n",
            "Requirement already satisfied: transformers<5.0.0,>=4.6.0 in /usr/local/lib/python3.7/dist-packages (from sentence-transformers>=1.1.1->contextualized_topic_models) (4.21.1)\n",
            "Requirement already satisfied: sentencepiece in /usr/local/lib/python3.7/dist-packages (from sentence-transformers>=1.1.1->contextualized_topic_models) (0.1.97)\n",
            "Requirement already satisfied: scikit-learn in /usr/local/lib/python3.7/dist-packages (from sentence-transformers>=1.1.1->contextualized_topic_models) (1.0.2)\n",
            "Requirement already satisfied: nltk in /usr/local/lib/python3.7/dist-packages (from sentence-transformers>=1.1.1->contextualized_topic_models) (3.7)\n",
            "Requirement already satisfied: packaging>=20.9 in /usr/local/lib/python3.7/dist-packages (from huggingface-hub>=0.4.0->sentence-transformers>=1.1.1->contextualized_topic_models) (21.3)\n",
            "Requirement already satisfied: requests in /usr/local/lib/python3.7/dist-packages (from huggingface-hub>=0.4.0->sentence-transformers>=1.1.1->contextualized_topic_models) (2.23.0)\n",
            "Requirement already satisfied: filelock in /usr/local/lib/python3.7/dist-packages (from huggingface-hub>=0.4.0->sentence-transformers>=1.1.1->contextualized_topic_models) (3.8.0)\n",
            "Requirement already satisfied: pyyaml>=5.1 in /usr/local/lib/python3.7/dist-packages (from huggingface-hub>=0.4.0->sentence-transformers>=1.1.1->contextualized_topic_models) (6.0)\n",
            "Requirement already satisfied: pillow!=8.3.*,>=5.3.0 in /usr/local/lib/python3.7/dist-packages (from torchvision>=0.7.0->contextualized_topic_models) (7.1.2)\n",
            "Requirement already satisfied: tokenizers!=0.11.3,<0.13,>=0.11.1 in /usr/local/lib/python3.7/dist-packages (from transformers<5.0.0,>=4.6.0->sentence-transformers>=1.1.1->contextualized_topic_models) (0.12.1)\n",
            "Requirement already satisfied: regex!=2019.12.17 in /usr/local/lib/python3.7/dist-packages (from transformers<5.0.0,>=4.6.0->sentence-transformers>=1.1.1->contextualized_topic_models) (2022.6.2)\n",
            "Requirement already satisfied: notebook>=4.4.1 in /usr/local/lib/python3.7/dist-packages (from widgetsnbextension~=3.5.0->ipywidgets==7.5.1->contextualized_topic_models) (5.3.1)\n",
            "Requirement already satisfied: Send2Trash in /usr/local/lib/python3.7/dist-packages (from notebook>=4.4.1->widgetsnbextension~=3.5.0->ipywidgets==7.5.1->contextualized_topic_models) (1.8.0)\n",
            "Requirement already satisfied: ipython-genutils in /usr/local/lib/python3.7/dist-packages (from notebook>=4.4.1->widgetsnbextension~=3.5.0->ipywidgets==7.5.1->contextualized_topic_models) (0.2.0)\n",
            "Requirement already satisfied: nbconvert in /usr/local/lib/python3.7/dist-packages (from notebook>=4.4.1->widgetsnbextension~=3.5.0->ipywidgets==7.5.1->contextualized_topic_models) (5.6.1)\n",
            "Requirement already satisfied: jinja2 in /usr/local/lib/python3.7/dist-packages (from notebook>=4.4.1->widgetsnbextension~=3.5.0->ipywidgets==7.5.1->contextualized_topic_models) (2.11.3)\n",
            "Requirement already satisfied: terminado>=0.8.1 in /usr/local/lib/python3.7/dist-packages (from notebook>=4.4.1->widgetsnbextension~=3.5.0->ipywidgets==7.5.1->contextualized_topic_models) (0.13.3)\n",
            "Requirement already satisfied: pyzmq>=13 in /usr/local/lib/python3.7/dist-packages (from jupyter-client->ipykernel>=4.5.1->ipywidgets==7.5.1->contextualized_topic_models) (23.2.0)\n",
            "Requirement already satisfied: ptyprocess in /usr/local/lib/python3.7/dist-packages (from terminado>=0.8.1->notebook>=4.4.1->widgetsnbextension~=3.5.0->ipywidgets==7.5.1->contextualized_topic_models) (0.7.0)\n",
            "Requirement already satisfied: pandas>=1.2.0 in /usr/local/lib/python3.7/dist-packages (from pyLDAvis) (1.3.5)\n",
            "Requirement already satisfied: numexpr in /usr/local/lib/python3.7/dist-packages (from pyLDAvis) (2.8.3)\n",
            "Requirement already satisfied: future in /usr/local/lib/python3.7/dist-packages (from pyLDAvis) (0.16.0)\n",
            "Requirement already satisfied: funcy in /usr/local/lib/python3.7/dist-packages (from pyLDAvis) (1.17)\n",
            "Requirement already satisfied: sklearn in /usr/local/lib/python3.7/dist-packages (from pyLDAvis) (0.0)\n",
            "Requirement already satisfied: joblib in /usr/local/lib/python3.7/dist-packages (from pyLDAvis) (1.1.0)\n",
            "Requirement already satisfied: pytz>=2017.3 in /usr/local/lib/python3.7/dist-packages (from pandas>=1.2.0->pyLDAvis) (2022.1)\n",
            "Requirement already satisfied: nmslib>=1.7.3.6 in /usr/local/lib/python3.7/dist-packages (from scispacy) (2.1.1)\n",
            "Requirement already satisfied: pysbd in /usr/local/lib/python3.7/dist-packages (from scispacy) (0.3.4)\n",
            "Requirement already satisfied: conllu in /usr/local/lib/python3.7/dist-packages (from scispacy) (4.5.2)\n",
            "Requirement already satisfied: spacy<3.3.0,>=3.2.0 in /usr/local/lib/python3.7/dist-packages (from scispacy) (3.2.4)\n",
            "Requirement already satisfied: pybind11<2.6.2 in /usr/local/lib/python3.7/dist-packages (from nmslib>=1.7.3.6->scispacy) (2.6.1)\n",
            "Requirement already satisfied: psutil in /usr/local/lib/python3.7/dist-packages (from nmslib>=1.7.3.6->scispacy) (5.4.8)\n",
            "Requirement already satisfied: certifi>=2017.4.17 in /usr/local/lib/python3.7/dist-packages (from requests->huggingface-hub>=0.4.0->sentence-transformers>=1.1.1->contextualized_topic_models) (2022.6.15)\n",
            "Requirement already satisfied: idna<3,>=2.5 in /usr/local/lib/python3.7/dist-packages (from requests->huggingface-hub>=0.4.0->sentence-transformers>=1.1.1->contextualized_topic_models) (2.10)\n",
            "Requirement already satisfied: urllib3!=1.25.0,!=1.25.1,<1.26,>=1.21.1 in /usr/local/lib/python3.7/dist-packages (from requests->huggingface-hub>=0.4.0->sentence-transformers>=1.1.1->contextualized_topic_models) (1.24.3)\n",
            "Requirement already satisfied: chardet<4,>=3.0.2 in /usr/local/lib/python3.7/dist-packages (from requests->huggingface-hub>=0.4.0->sentence-transformers>=1.1.1->contextualized_topic_models) (3.0.4)\n",
            "Requirement already satisfied: threadpoolctl>=2.0.0 in /usr/local/lib/python3.7/dist-packages (from scikit-learn->sentence-transformers>=1.1.1->contextualized_topic_models) (3.1.0)\n",
            "Requirement already satisfied: cymem<2.1.0,>=2.0.2 in /usr/local/lib/python3.7/dist-packages (from spacy<3.3.0,>=3.2.0->scispacy) (2.0.6)\n",
            "Requirement already satisfied: thinc<8.1.0,>=8.0.12 in /usr/local/lib/python3.7/dist-packages (from spacy<3.3.0,>=3.2.0->scispacy) (8.0.17)\n",
            "Requirement already satisfied: typer<0.5.0,>=0.3.0 in /usr/local/lib/python3.7/dist-packages (from spacy<3.3.0,>=3.2.0->scispacy) (0.4.2)\n",
            "Requirement already satisfied: preshed<3.1.0,>=3.0.2 in /usr/local/lib/python3.7/dist-packages (from spacy<3.3.0,>=3.2.0->scispacy) (3.0.6)\n",
            "Requirement already satisfied: blis<0.8.0,>=0.4.0 in /usr/local/lib/python3.7/dist-packages (from spacy<3.3.0,>=3.2.0->scispacy) (0.7.8)\n",
            "Requirement already satisfied: spacy-legacy<3.1.0,>=3.0.8 in /usr/local/lib/python3.7/dist-packages (from spacy<3.3.0,>=3.2.0->scispacy) (3.0.9)\n",
            "Requirement already satisfied: murmurhash<1.1.0,>=0.28.0 in /usr/local/lib/python3.7/dist-packages (from spacy<3.3.0,>=3.2.0->scispacy) (1.0.7)\n",
            "Requirement already satisfied: catalogue<2.1.0,>=2.0.6 in /usr/local/lib/python3.7/dist-packages (from spacy<3.3.0,>=3.2.0->scispacy) (2.0.8)\n",
            "Requirement already satisfied: spacy-loggers<2.0.0,>=1.0.0 in /usr/local/lib/python3.7/dist-packages (from spacy<3.3.0,>=3.2.0->scispacy) (1.0.3)\n",
            "Requirement already satisfied: pydantic!=1.8,!=1.8.1,<1.9.0,>=1.7.4 in /usr/local/lib/python3.7/dist-packages (from spacy<3.3.0,>=3.2.0->scispacy) (1.8.2)\n",
            "Requirement already satisfied: pathy>=0.3.5 in /usr/local/lib/python3.7/dist-packages (from spacy<3.3.0,>=3.2.0->scispacy) (0.6.2)\n",
            "Requirement already satisfied: wasabi<1.1.0,>=0.8.1 in /usr/local/lib/python3.7/dist-packages (from spacy<3.3.0,>=3.2.0->scispacy) (0.10.1)\n",
            "Requirement already satisfied: srsly<3.0.0,>=2.4.1 in /usr/local/lib/python3.7/dist-packages (from spacy<3.3.0,>=3.2.0->scispacy) (2.4.4)\n",
            "Requirement already satisfied: click<8.1.0 in /usr/local/lib/python3.7/dist-packages (from spacy<3.3.0,>=3.2.0->scispacy) (7.1.2)\n",
            "Requirement already satisfied: langcodes<4.0.0,>=3.2.0 in /usr/local/lib/python3.7/dist-packages (from spacy<3.3.0,>=3.2.0->scispacy) (3.3.0)\n",
            "Requirement already satisfied: MarkupSafe>=0.23 in /usr/local/lib/python3.7/dist-packages (from jinja2->notebook>=4.4.1->widgetsnbextension~=3.5.0->ipywidgets==7.5.1->contextualized_topic_models) (2.0.1)\n",
            "Requirement already satisfied: mistune<2,>=0.8.1 in /usr/local/lib/python3.7/dist-packages (from nbconvert->notebook>=4.4.1->widgetsnbextension~=3.5.0->ipywidgets==7.5.1->contextualized_topic_models) (0.8.4)\n",
            "Requirement already satisfied: pandocfilters>=1.4.1 in /usr/local/lib/python3.7/dist-packages (from nbconvert->notebook>=4.4.1->widgetsnbextension~=3.5.0->ipywidgets==7.5.1->contextualized_topic_models) (1.5.0)\n",
            "Requirement already satisfied: defusedxml in /usr/local/lib/python3.7/dist-packages (from nbconvert->notebook>=4.4.1->widgetsnbextension~=3.5.0->ipywidgets==7.5.1->contextualized_topic_models) (0.7.1)\n",
            "Requirement already satisfied: entrypoints>=0.2.2 in /usr/local/lib/python3.7/dist-packages (from nbconvert->notebook>=4.4.1->widgetsnbextension~=3.5.0->ipywidgets==7.5.1->contextualized_topic_models) (0.4)\n",
            "Requirement already satisfied: bleach in /usr/local/lib/python3.7/dist-packages (from nbconvert->notebook>=4.4.1->widgetsnbextension~=3.5.0->ipywidgets==7.5.1->contextualized_topic_models) (5.0.1)\n",
            "Requirement already satisfied: testpath in /usr/local/lib/python3.7/dist-packages (from nbconvert->notebook>=4.4.1->widgetsnbextension~=3.5.0->ipywidgets==7.5.1->contextualized_topic_models) (0.6.0)\n",
            "Requirement already satisfied: webencodings in /usr/local/lib/python3.7/dist-packages (from bleach->nbconvert->notebook>=4.4.1->widgetsnbextension~=3.5.0->ipywidgets==7.5.1->contextualized_topic_models) (0.5.1)\n",
            "Looking in indexes: https://pypi.org/simple, https://us-python.pkg.dev/colab-wheels/public/simple/\n",
            "Collecting https://s3-us-west-2.amazonaws.com/ai2-s2-scispacy/releases/v0.5.0/en_core_sci_sm-0.5.0.tar.gz\n",
            "  Using cached https://s3-us-west-2.amazonaws.com/ai2-s2-scispacy/releases/v0.5.0/en_core_sci_sm-0.5.0.tar.gz (15.9 MB)\n",
            "Requirement already satisfied: spacy<3.3.0,>=3.2.3 in /usr/local/lib/python3.7/dist-packages (from en-core-sci-sm==0.5.0) (3.2.4)\n",
            "Requirement already satisfied: pydantic!=1.8,!=1.8.1,<1.9.0,>=1.7.4 in /usr/local/lib/python3.7/dist-packages (from spacy<3.3.0,>=3.2.3->en-core-sci-sm==0.5.0) (1.8.2)\n",
            "Requirement already satisfied: spacy-legacy<3.1.0,>=3.0.8 in /usr/local/lib/python3.7/dist-packages (from spacy<3.3.0,>=3.2.3->en-core-sci-sm==0.5.0) (3.0.9)\n",
            "Requirement already satisfied: packaging>=20.0 in /usr/local/lib/python3.7/dist-packages (from spacy<3.3.0,>=3.2.3->en-core-sci-sm==0.5.0) (21.3)\n",
            "Requirement already satisfied: catalogue<2.1.0,>=2.0.6 in /usr/local/lib/python3.7/dist-packages (from spacy<3.3.0,>=3.2.3->en-core-sci-sm==0.5.0) (2.0.8)\n",
            "Requirement already satisfied: spacy-loggers<2.0.0,>=1.0.0 in /usr/local/lib/python3.7/dist-packages (from spacy<3.3.0,>=3.2.3->en-core-sci-sm==0.5.0) (1.0.3)\n",
            "Requirement already satisfied: blis<0.8.0,>=0.4.0 in /usr/local/lib/python3.7/dist-packages (from spacy<3.3.0,>=3.2.3->en-core-sci-sm==0.5.0) (0.7.8)\n",
            "Requirement already satisfied: murmurhash<1.1.0,>=0.28.0 in /usr/local/lib/python3.7/dist-packages (from spacy<3.3.0,>=3.2.3->en-core-sci-sm==0.5.0) (1.0.7)\n",
            "Requirement already satisfied: langcodes<4.0.0,>=3.2.0 in /usr/local/lib/python3.7/dist-packages (from spacy<3.3.0,>=3.2.3->en-core-sci-sm==0.5.0) (3.3.0)\n",
            "Requirement already satisfied: preshed<3.1.0,>=3.0.2 in /usr/local/lib/python3.7/dist-packages (from spacy<3.3.0,>=3.2.3->en-core-sci-sm==0.5.0) (3.0.6)\n",
            "Requirement already satisfied: setuptools in /usr/local/lib/python3.7/dist-packages (from spacy<3.3.0,>=3.2.3->en-core-sci-sm==0.5.0) (57.4.0)\n",
            "Requirement already satisfied: tqdm<5.0.0,>=4.38.0 in /usr/local/lib/python3.7/dist-packages (from spacy<3.3.0,>=3.2.3->en-core-sci-sm==0.5.0) (4.64.0)\n",
            "Requirement already satisfied: pathy>=0.3.5 in /usr/local/lib/python3.7/dist-packages (from spacy<3.3.0,>=3.2.3->en-core-sci-sm==0.5.0) (0.6.2)\n",
            "Requirement already satisfied: wasabi<1.1.0,>=0.8.1 in /usr/local/lib/python3.7/dist-packages (from spacy<3.3.0,>=3.2.3->en-core-sci-sm==0.5.0) (0.10.1)\n",
            "Requirement already satisfied: requests<3.0.0,>=2.13.0 in /usr/local/lib/python3.7/dist-packages (from spacy<3.3.0,>=3.2.3->en-core-sci-sm==0.5.0) (2.23.0)\n",
            "Requirement already satisfied: srsly<3.0.0,>=2.4.1 in /usr/local/lib/python3.7/dist-packages (from spacy<3.3.0,>=3.2.3->en-core-sci-sm==0.5.0) (2.4.4)\n",
            "Requirement already satisfied: typing-extensions<4.0.0.0,>=3.7.4 in /usr/local/lib/python3.7/dist-packages (from spacy<3.3.0,>=3.2.3->en-core-sci-sm==0.5.0) (3.10.0.2)\n",
            "Requirement already satisfied: cymem<2.1.0,>=2.0.2 in /usr/local/lib/python3.7/dist-packages (from spacy<3.3.0,>=3.2.3->en-core-sci-sm==0.5.0) (2.0.6)\n",
            "Requirement already satisfied: jinja2 in /usr/local/lib/python3.7/dist-packages (from spacy<3.3.0,>=3.2.3->en-core-sci-sm==0.5.0) (2.11.3)\n",
            "Requirement already satisfied: numpy>=1.15.0 in /usr/local/lib/python3.7/dist-packages (from spacy<3.3.0,>=3.2.3->en-core-sci-sm==0.5.0) (1.21.6)\n",
            "Requirement already satisfied: thinc<8.1.0,>=8.0.12 in /usr/local/lib/python3.7/dist-packages (from spacy<3.3.0,>=3.2.3->en-core-sci-sm==0.5.0) (8.0.17)\n",
            "Requirement already satisfied: typer<0.5.0,>=0.3.0 in /usr/local/lib/python3.7/dist-packages (from spacy<3.3.0,>=3.2.3->en-core-sci-sm==0.5.0) (0.4.2)\n",
            "Requirement already satisfied: click<8.1.0 in /usr/local/lib/python3.7/dist-packages (from spacy<3.3.0,>=3.2.3->en-core-sci-sm==0.5.0) (7.1.2)\n",
            "Requirement already satisfied: zipp>=0.5 in /usr/local/lib/python3.7/dist-packages (from catalogue<2.1.0,>=2.0.6->spacy<3.3.0,>=3.2.3->en-core-sci-sm==0.5.0) (3.8.1)\n",
            "Requirement already satisfied: pyparsing!=3.0.5,>=2.0.2 in /usr/local/lib/python3.7/dist-packages (from packaging>=20.0->spacy<3.3.0,>=3.2.3->en-core-sci-sm==0.5.0) (3.0.9)\n",
            "Requirement already satisfied: smart-open<6.0.0,>=5.2.1 in /usr/local/lib/python3.7/dist-packages (from pathy>=0.3.5->spacy<3.3.0,>=3.2.3->en-core-sci-sm==0.5.0) (5.2.1)\n",
            "Requirement already satisfied: certifi>=2017.4.17 in /usr/local/lib/python3.7/dist-packages (from requests<3.0.0,>=2.13.0->spacy<3.3.0,>=3.2.3->en-core-sci-sm==0.5.0) (2022.6.15)\n",
            "Requirement already satisfied: idna<3,>=2.5 in /usr/local/lib/python3.7/dist-packages (from requests<3.0.0,>=2.13.0->spacy<3.3.0,>=3.2.3->en-core-sci-sm==0.5.0) (2.10)\n",
            "Requirement already satisfied: chardet<4,>=3.0.2 in /usr/local/lib/python3.7/dist-packages (from requests<3.0.0,>=2.13.0->spacy<3.3.0,>=3.2.3->en-core-sci-sm==0.5.0) (3.0.4)\n",
            "Requirement already satisfied: urllib3!=1.25.0,!=1.25.1,<1.26,>=1.21.1 in /usr/local/lib/python3.7/dist-packages (from requests<3.0.0,>=2.13.0->spacy<3.3.0,>=3.2.3->en-core-sci-sm==0.5.0) (1.24.3)\n",
            "Requirement already satisfied: MarkupSafe>=0.23 in /usr/local/lib/python3.7/dist-packages (from jinja2->spacy<3.3.0,>=3.2.3->en-core-sci-sm==0.5.0) (2.0.1)\n"
          ]
        }
      ]
    },
    {
      "cell_type": "code",
      "execution_count": 2,
      "metadata": {
        "id": "zG3-sZWnMh6j"
      },
      "outputs": [],
      "source": [
        "from bs4 import BeautifulSoup\n",
        "import string\n",
        "import re\n",
        "\n",
        "def remove_html(x):\n",
        "    soup = BeautifulSoup(x, 'html.parser')\n",
        "    tags = soup.find_all('cite')\n",
        "    text = soup.get_text()\n",
        "    text = text.replace('  ', '')\n",
        "    text = text.replace(' et ', '')\n",
        "    text = text.replace(' al ', '')\n",
        "    text = text.replace(' et. ', '')\n",
        "    text = text.replace(' al. ', '')\n",
        "    return text"
      ]
    },
    {
      "cell_type": "code",
      "execution_count": 3,
      "metadata": {
        "id": "l5_4ho81Mh6k"
      },
      "outputs": [],
      "source": [
        "import scispacy\n",
        "import spacy\n",
        "import string\n",
        "\n",
        "nlp = spacy.load(\"en_core_sci_sm\")\n",
        "nlp.add_pipe(\"merge_entities\")\n",
        "\n",
        "def merge_entities(x):\n",
        "    doc = nlp(x)\n",
        "    return \" \".join([re.sub(r'\\W+', '', t.text.strip().translate(str.maketrans('', '', string.punctuation)).replace(\" \", \"_\").lower()) for t in doc])\n"
      ]
    },
    {
      "cell_type": "code",
      "execution_count": 4,
      "metadata": {
        "id": "4vM7jLHCMh6l"
      },
      "outputs": [],
      "source": [
        "import pandas as pd\n",
        "\n",
        "citations = pd.read_csv('./example_doc_citations.csv')\n",
        "citations['text'] = citations['text'].apply(\n",
        "    lambda x : remove_html(x)\n",
        ")\n",
        "citations['ner_merged_text'] = citations['text'].apply(\n",
        "    lambda x: merge_entities(x)\n",
        ")"
      ]
    },
    {
      "cell_type": "code",
      "execution_count": 5,
      "metadata": {
        "id": "DlMQbDnfMh6l"
      },
      "outputs": [],
      "source": [
        "from gensim.corpora.dictionary import Dictionary\n",
        "\n",
        "removal = ['ADV','PRON','CCONJ','PUNCT','PART','DET','ADP','SPACE', 'NUM', 'SYM']\n",
        "remove_text = ['al', 'et', 'al.']\n",
        "authors = [\n",
        "    'mongeon',\n",
        "    'hus'\n",
        "]\n",
        "\n",
        "\n",
        "unpreprocessed_corpus = citations['text']\n",
        "\n",
        "preprocessed_documents = []\n",
        "for doc in nlp.pipe(citations['ner_merged_text']):\n",
        "    proj_tok = [token.lemma_.lower() for token in doc if \"_\" in token.text or (len(token.text) > 2 and token.text not in remove_text and token.pos_ not in removal and not token.is_stop and token.is_alpha)]\n",
        "    proj_tok = [\n",
        "        tok for tok in proj_tok\n",
        "        if all([author not in tok for author in authors])\n",
        "    ]\n",
        "    preprocessed_documents.append(' '.join(proj_tok))\n",
        "    \n",
        "    \n",
        "texts = [doc.split(' ') for doc in preprocessed_documents]\n",
        "dictionary = Dictionary(texts)\n",
        "dictionary.filter_extremes(no_below=2, no_above=0.9)\n"
      ]
    },
    {
      "cell_type": "code",
      "execution_count": 6,
      "metadata": {
        "id": "QOq_Jn-YMh6m"
      },
      "outputs": [],
      "source": [
        "preprocessed_documents = [' '.join([dictionary[token[0]].replace(\"-\", \"_\").replace(\"®\", \"_\") for token in dictionary.doc2bow(text)]) for text in texts]"
      ]
    },
    {
      "cell_type": "code",
      "execution_count": 7,
      "metadata": {
        "id": "5LRErjJYMh6m"
      },
      "outputs": [],
      "source": [
        "from contextualized_topic_models.models.ctm import ZeroShotTM, CombinedTM\n",
        "from contextualized_topic_models.utils.data_preparation import TopicModelDataPreparation\n",
        "from contextualized_topic_models.utils.preprocessing import WhiteSpacePreprocessingStopwords\n",
        "import nltk\n",
        "import torch\n",
        "import random\n",
        "import numpy as np"
      ]
    },
    {
      "cell_type": "code",
      "execution_count": 8,
      "metadata": {
        "id": "wzvklXPYMh6m"
      },
      "outputs": [],
      "source": [
        "def fix_seeds():\n",
        "    torch.manual_seed(10)\n",
        "    torch.cuda.manual_seed(10)\n",
        "    np.random.seed(10)\n",
        "    random.seed(10)\n",
        "    torch.backends.cudnn.enabled = False\n",
        "    torch.backends.cudnn.deterministic = True"
      ]
    },
    {
      "cell_type": "code",
      "execution_count": 9,
      "metadata": {
        "colab": {
          "base_uri": "https://localhost:8080/",
          "height": 1000,
          "referenced_widgets": [
            "3ec59eb891094cd28221a810fb28d09d",
            "faeee1570e25400fa6b3f98980bff717",
            "b95744733d994a8094022d2c7ad37984",
            "de1326729a73412d9210fb778a623671",
            "4cbf3fd6453c492a920e36f9cad93555",
            "b511fc45522c452e9a3e7fa56bee5089",
            "1d98267f30b34f14b8553eb0062324db",
            "99b6449031ff431cb396929389120009",
            "8a37ee4d60db426b956683ffb09ffedf",
            "20903af29b8543849041c0a489c8aab6",
            "c89205fdefa6423aa0f1d21658c03fb3",
            "805f79f4a08c48e18ab771007955efc0",
            "16890d6cbd0a4deab49c3155be3fc772",
            "e4ecc89fe77b47c38f336184f3bbd36c",
            "0a82ce110bbd40ef840d36ffc2af382e",
            "ff9002ffe46a4784806da6cca6060f89",
            "1415cd6ddfc742cd8dcbdb439e526098",
            "baf79755afa040db8995f1d6540ac443",
            "c3845c26f00b4f25b40035255bf99f01",
            "598ba4eed50a411a9229f8f4350f6ac5",
            "61577e70b95047caa5771465592122dd",
            "75e0291d2f09431791f6e2d06e43664f",
            "44f75c62b0ca47f595d738793335767a",
            "194aede679d74211b189d79c31bb6eaf",
            "cb3c7f6491134fc58ea8f3c941fdff7f",
            "490dc7a260684d82874a6a68b3e6f3c7",
            "d06e3f887abf4d70a6a644d0bcdf4f04",
            "ace8d8b992fe4ad9bb2a3e726bc28336",
            "818f1f7b05734851b877f12453397e75",
            "9940b287166542fb938d4cf1fdc2e199",
            "0b179de866ac44a8bdccb6db9dd53561",
            "9f2b707119aa463382b890f47d44b80d",
            "25a1899407e74223ba78563beb50b7fb",
            "a4a83ccffcbb4a9ba123f045c6e85d5a",
            "60d726f2e9044fd0b356ae2bea2449a8",
            "b2cdf8a3b2f040f9a5af3a3b97741ecb",
            "508c3bdf4ff74025bbf73eb5d2c08e5f",
            "ba463e985f544b13b0cc7c96393c2715",
            "13f8b9a971424ad2a690db7a5e4672cd",
            "7cefc61d5c5b4e26a9fe15495849cf77",
            "6662b4323c6541a2bb7e711a4d303670",
            "0afcb23058f54c10b0d82e6fbeee3f9e",
            "b2931f870d59444fb611bdce6f72ba3c",
            "c5c663ca80f1466fb185ce4283c712e4"
          ]
        },
        "id": "6v6dCnv5Mh6n",
        "outputId": "30f969a5-0788-4bc4-cdfb-9b3e07e79948"
      },
      "outputs": [
        {
          "output_type": "stream",
          "name": "stderr",
          "text": [
            "/usr/local/lib/python3.7/dist-packages/contextualized_topic_models/utils/data_preparation.py:57: UserWarning: the longest document in your collection has 178 words, the model instead truncates to 128 tokens.\n",
            "  warnings.warn(f\"the longest document in your collection has {max_local_length} words, the model instead \"\n"
          ]
        },
        {
          "output_type": "display_data",
          "data": {
            "text/plain": [
              "Batches:   0%|          | 0/4 [00:00<?, ?it/s]"
            ],
            "application/vnd.jupyter.widget-view+json": {
              "version_major": 2,
              "version_minor": 0,
              "model_id": "3ec59eb891094cd28221a810fb28d09d"
            }
          },
          "metadata": {}
        },
        {
          "output_type": "stream",
          "name": "stderr",
          "text": [
            "/usr/local/lib/python3.7/dist-packages/sklearn/utils/deprecation.py:87: FutureWarning: Function get_feature_names is deprecated; get_feature_names is deprecated in 1.0 and will be removed in 1.2. Please use get_feature_names_out instead.\n",
            "  warnings.warn(msg, category=FutureWarning)\n"
          ]
        },
        {
          "output_type": "stream",
          "name": "stdout",
          "text": [
            "num topics: 3\n"
          ]
        },
        {
          "output_type": "stream",
          "name": "stderr",
          "text": [
            "Epoch: [50/50]\t Seen Samples: [39550/39550]\tTrain Loss: 177.24774254800096\tTime: 0:00:00.357226: : 50it [00:17,  2.83it/s]\n",
            "Sampling: [20/20]: : 20it [00:06,  3.22it/s]\n"
          ]
        },
        {
          "output_type": "stream",
          "name": "stdout",
          "text": [
            "coherence score: -0.2631906989752105\n",
            "diversity score LDA: 1.0\n",
            "num topics: 5\n"
          ]
        },
        {
          "output_type": "stream",
          "name": "stderr",
          "text": [
            "Epoch: [50/50]\t Seen Samples: [39550/39550]\tTrain Loss: 172.28467846278446\tTime: 0:00:00.358753: : 50it [00:18,  2.67it/s]\n",
            "Sampling: [20/20]: : 20it [00:06,  3.21it/s]\n"
          ]
        },
        {
          "output_type": "stream",
          "name": "stdout",
          "text": [
            "coherence score: -0.11875868500459016\n",
            "diversity score LDA: 0.9698818720792857\n",
            "num topics: 10\n"
          ]
        },
        {
          "output_type": "stream",
          "name": "stderr",
          "text": [
            "Epoch: [50/50]\t Seen Samples: [39550/39550]\tTrain Loss: 171.84883775481984\tTime: 0:00:00.362376: : 50it [00:19,  2.58it/s]\n",
            "Sampling: [20/20]: : 20it [00:06,  3.17it/s]\n"
          ]
        },
        {
          "output_type": "stream",
          "name": "stdout",
          "text": [
            "coherence score: -0.062270815673325285\n",
            "diversity score LDA: 0.9699455483157143\n",
            "num topics: 15\n"
          ]
        },
        {
          "output_type": "stream",
          "name": "stderr",
          "text": [
            "Epoch: [50/50]\t Seen Samples: [39550/39550]\tTrain Loss: 172.15615864017067\tTime: 0:00:00.339837: : 50it [00:17,  2.78it/s]\n",
            "Sampling: [20/20]: : 20it [00:06,  3.15it/s]\n"
          ]
        },
        {
          "output_type": "stream",
          "name": "stdout",
          "text": [
            "coherence score: -0.10312385109917867\n",
            "diversity score LDA: 0.9643189906817007\n",
            "num topics: 20\n"
          ]
        },
        {
          "output_type": "stream",
          "name": "stderr",
          "text": [
            "Epoch: [50/50]\t Seen Samples: [39550/39550]\tTrain Loss: 173.78861557759166\tTime: 0:00:00.355672: : 50it [00:18,  2.75it/s]\n",
            "Sampling: [20/20]: : 20it [00:06,  3.14it/s]\n"
          ]
        },
        {
          "output_type": "stream",
          "name": "stdout",
          "text": [
            "coherence score: -0.0876926799456792\n",
            "diversity score LDA: 0.93973130891297\n",
            "num topics: 25\n"
          ]
        },
        {
          "output_type": "stream",
          "name": "stderr",
          "text": [
            "Epoch: [50/50]\t Seen Samples: [39550/39550]\tTrain Loss: 174.93850804460334\tTime: 0:00:00.371637: : 50it [00:18,  2.64it/s]\n",
            "Sampling: [20/20]: : 20it [00:06,  3.15it/s]\n"
          ]
        },
        {
          "output_type": "stream",
          "name": "stdout",
          "text": [
            "coherence score: -0.05637737640789706\n",
            "diversity score LDA: 0.9400377133493809\n",
            "num topics: 50\n"
          ]
        },
        {
          "output_type": "stream",
          "name": "stderr",
          "text": [
            "Epoch: [50/50]\t Seen Samples: [39550/39550]\tTrain Loss: 184.7961533808075\tTime: 0:00:00.346081: : 50it [00:18,  2.74it/s]\n",
            "Sampling: [20/20]: : 20it [00:06,  3.07it/s]\n"
          ]
        },
        {
          "output_type": "stream",
          "name": "stdout",
          "text": [
            "coherence score: -0.0833063531208772\n",
            "diversity score LDA: 0.93895836529386\n",
            "num topics: 100\n"
          ]
        },
        {
          "output_type": "stream",
          "name": "stderr",
          "text": [
            "Epoch: [50/50]\t Seen Samples: [39550/39550]\tTrain Loss: 207.1381218641356\tTime: 0:00:00.363916: : 50it [00:18,  2.72it/s]\n",
            "Sampling: [20/20]: : 20it [00:06,  3.02it/s]\n"
          ]
        },
        {
          "output_type": "stream",
          "name": "stdout",
          "text": [
            "coherence score: -0.11704717171364268\n",
            "diversity score LDA: 0.9371013196203968\n",
            "num topics: 250\n"
          ]
        },
        {
          "output_type": "stream",
          "name": "stderr",
          "text": [
            "Epoch: [50/50]\t Seen Samples: [39550/39550]\tTrain Loss: 267.3013787926675\tTime: 0:00:00.353036: : 50it [00:18,  2.70it/s]\n",
            "Sampling: [20/20]: : 20it [00:06,  2.88it/s]\n"
          ]
        },
        {
          "output_type": "stream",
          "name": "stdout",
          "text": [
            "coherence score: -0.1954924809457843\n",
            "diversity score LDA: 0.955651476004834\n"
          ]
        },
        {
          "output_type": "stream",
          "name": "stderr",
          "text": [
            "/usr/local/lib/python3.7/dist-packages/contextualized_topic_models/utils/data_preparation.py:57: UserWarning: the longest document in your collection has 178 words, the model instead truncates to 128 tokens.\n",
            "  warnings.warn(f\"the longest document in your collection has {max_local_length} words, the model instead \"\n"
          ]
        },
        {
          "output_type": "display_data",
          "data": {
            "text/plain": [
              "Batches:   0%|          | 0/4 [00:00<?, ?it/s]"
            ],
            "application/vnd.jupyter.widget-view+json": {
              "version_major": 2,
              "version_minor": 0,
              "model_id": "805f79f4a08c48e18ab771007955efc0"
            }
          },
          "metadata": {}
        },
        {
          "output_type": "stream",
          "name": "stderr",
          "text": [
            "/usr/local/lib/python3.7/dist-packages/sklearn/utils/deprecation.py:87: FutureWarning: Function get_feature_names is deprecated; get_feature_names is deprecated in 1.0 and will be removed in 1.2. Please use get_feature_names_out instead.\n",
            "  warnings.warn(msg, category=FutureWarning)\n"
          ]
        },
        {
          "output_type": "stream",
          "name": "stdout",
          "text": [
            "num topics: 3\n"
          ]
        },
        {
          "output_type": "stream",
          "name": "stderr",
          "text": [
            "Epoch: [50/50]\t Seen Samples: [39550/39550]\tTrain Loss: 172.94141921321904\tTime: 0:00:00.365144: : 50it [00:19,  2.50it/s]\n",
            "Sampling: [20/20]: : 20it [00:06,  2.94it/s]\n"
          ]
        },
        {
          "output_type": "stream",
          "name": "stdout",
          "text": [
            "coherence score: -0.24064952533781359\n",
            "diversity score LDA: 1.0\n",
            "num topics: 5\n"
          ]
        },
        {
          "output_type": "stream",
          "name": "stderr",
          "text": [
            "Epoch: [50/50]\t Seen Samples: [39550/39550]\tTrain Loss: 172.9044450260746\tTime: 0:00:00.396044: : 50it [00:19,  2.58it/s]\n",
            "Sampling: [20/20]: : 20it [00:06,  2.95it/s]\n"
          ]
        },
        {
          "output_type": "stream",
          "name": "stdout",
          "text": [
            "coherence score: -0.15725600972413495\n",
            "diversity score LDA: 0.9762778513128572\n",
            "num topics: 10\n"
          ]
        },
        {
          "output_type": "stream",
          "name": "stderr",
          "text": [
            "Epoch: [50/50]\t Seen Samples: [39550/39550]\tTrain Loss: 174.63030689495102\tTime: 0:00:00.381443: : 50it [00:19,  2.58it/s]\n",
            "Sampling: [20/20]: : 20it [00:06,  2.93it/s]\n"
          ]
        },
        {
          "output_type": "stream",
          "name": "stdout",
          "text": [
            "coherence score: -0.056732877122992284\n",
            "diversity score LDA: 0.9156062199192063\n",
            "num topics: 15\n"
          ]
        },
        {
          "output_type": "stream",
          "name": "stderr",
          "text": [
            "Epoch: [50/50]\t Seen Samples: [39550/39550]\tTrain Loss: 175.94420383612515\tTime: 0:00:00.382874: : 50it [00:19,  2.59it/s]\n",
            "Sampling: [20/20]: : 20it [00:07,  2.75it/s]\n"
          ]
        },
        {
          "output_type": "stream",
          "name": "stdout",
          "text": [
            "coherence score: -0.04725688140891185\n",
            "diversity score LDA: 0.9128445448623129\n",
            "num topics: 20\n"
          ]
        },
        {
          "output_type": "stream",
          "name": "stderr",
          "text": [
            "Epoch: [50/50]\t Seen Samples: [39550/39550]\tTrain Loss: 179.02070411267383\tTime: 0:00:00.383067: : 50it [00:20,  2.43it/s]\n",
            "Sampling: [20/20]: : 20it [00:07,  2.86it/s]\n"
          ]
        },
        {
          "output_type": "stream",
          "name": "stdout",
          "text": [
            "coherence score: -0.0561339236370925\n",
            "diversity score LDA: 0.9195980722837218\n",
            "num topics: 25\n"
          ]
        },
        {
          "output_type": "stream",
          "name": "stderr",
          "text": [
            "Epoch: [50/50]\t Seen Samples: [39550/39550]\tTrain Loss: 180.36972952552148\tTime: 0:00:00.393448: : 50it [00:19,  2.52it/s]\n",
            "Sampling: [20/20]: : 20it [00:07,  2.84it/s]\n"
          ]
        },
        {
          "output_type": "stream",
          "name": "stdout",
          "text": [
            "coherence score: -0.02887655045450726\n",
            "diversity score LDA: 0.9117168991832619\n",
            "num topics: 50\n"
          ]
        },
        {
          "output_type": "stream",
          "name": "stderr",
          "text": [
            "Epoch: [50/50]\t Seen Samples: [39550/39550]\tTrain Loss: 193.46307766573167\tTime: 0:00:00.378858: : 50it [00:19,  2.51it/s]\n",
            "Sampling: [20/20]: : 20it [00:07,  2.78it/s]\n"
          ]
        },
        {
          "output_type": "stream",
          "name": "stdout",
          "text": [
            "coherence score: -0.07849000696410974\n",
            "diversity score LDA: 0.8837062477956094\n",
            "num topics: 100\n"
          ]
        },
        {
          "output_type": "stream",
          "name": "stderr",
          "text": [
            "Epoch: [50/50]\t Seen Samples: [39550/39550]\tTrain Loss: 215.4784705623815\tTime: 0:00:00.391373: : 50it [00:20,  2.50it/s]\n",
            "Sampling: [20/20]: : 20it [00:07,  2.75it/s]\n"
          ]
        },
        {
          "output_type": "stream",
          "name": "stdout",
          "text": [
            "coherence score: -0.1543823181904119\n",
            "diversity score LDA: 0.9312996349632006\n",
            "num topics: 250\n"
          ]
        },
        {
          "output_type": "stream",
          "name": "stderr",
          "text": [
            "Epoch: [50/50]\t Seen Samples: [39550/39550]\tTrain Loss: 283.67177870180154\tTime: 0:00:00.399798: : 50it [00:20,  2.40it/s]\n",
            "Sampling: [20/20]: : 20it [00:07,  2.64it/s]\n"
          ]
        },
        {
          "output_type": "stream",
          "name": "stdout",
          "text": [
            "coherence score: -0.3122664871544185\n",
            "diversity score LDA: 0.9760449095631807\n"
          ]
        },
        {
          "output_type": "stream",
          "name": "stderr",
          "text": [
            "WARNING:sentence_transformers.SentenceTransformer:No sentence-transformers model found with name /root/.cache/torch/sentence_transformers/allenai_aspire-sentence-embedder. Creating a new one with MEAN pooling.\n",
            "/usr/local/lib/python3.7/dist-packages/contextualized_topic_models/utils/data_preparation.py:57: UserWarning: the longest document in your collection has 178 words, the model instead truncates to 128 tokens.\n",
            "  warnings.warn(f\"the longest document in your collection has {max_local_length} words, the model instead \"\n"
          ]
        },
        {
          "output_type": "display_data",
          "data": {
            "text/plain": [
              "Batches:   0%|          | 0/4 [00:00<?, ?it/s]"
            ],
            "application/vnd.jupyter.widget-view+json": {
              "version_major": 2,
              "version_minor": 0,
              "model_id": "44f75c62b0ca47f595d738793335767a"
            }
          },
          "metadata": {}
        },
        {
          "output_type": "stream",
          "name": "stderr",
          "text": [
            "/usr/local/lib/python3.7/dist-packages/sklearn/utils/deprecation.py:87: FutureWarning: Function get_feature_names is deprecated; get_feature_names is deprecated in 1.0 and will be removed in 1.2. Please use get_feature_names_out instead.\n",
            "  warnings.warn(msg, category=FutureWarning)\n"
          ]
        },
        {
          "output_type": "stream",
          "name": "stdout",
          "text": [
            "num topics: 3\n"
          ]
        },
        {
          "output_type": "stream",
          "name": "stderr",
          "text": [
            "Epoch: [50/50]\t Seen Samples: [39550/39550]\tTrain Loss: 173.5848371696231\tTime: 0:00:00.390030: : 50it [00:20,  2.47it/s]\n",
            "Sampling: [20/20]: : 20it [00:07,  2.75it/s]\n"
          ]
        },
        {
          "output_type": "stream",
          "name": "stdout",
          "text": [
            "coherence score: -0.14739614229477613\n",
            "diversity score LDA: 1.0\n",
            "num topics: 5\n"
          ]
        },
        {
          "output_type": "stream",
          "name": "stderr",
          "text": [
            "Epoch: [50/50]\t Seen Samples: [39550/39550]\tTrain Loss: 174.0824003930942\tTime: 0:00:00.404822: : 50it [00:20,  2.47it/s]\n",
            "Sampling: [20/20]: : 20it [00:07,  2.77it/s]\n"
          ]
        },
        {
          "output_type": "stream",
          "name": "stdout",
          "text": [
            "coherence score: -0.15526260480340076\n",
            "diversity score LDA: 0.99564749821\n",
            "num topics: 10\n"
          ]
        },
        {
          "output_type": "stream",
          "name": "stderr",
          "text": [
            "Epoch: [50/50]\t Seen Samples: [39550/39550]\tTrain Loss: 175.76144837428888\tTime: 0:00:00.383354: : 50it [00:20,  2.46it/s]\n",
            "Sampling: [20/20]: : 20it [00:08,  2.48it/s]\n"
          ]
        },
        {
          "output_type": "stream",
          "name": "stdout",
          "text": [
            "coherence score: -0.07412771666406018\n",
            "diversity score LDA: 0.9442119350292063\n",
            "num topics: 15\n"
          ]
        },
        {
          "output_type": "stream",
          "name": "stderr",
          "text": [
            "Epoch: [50/50]\t Seen Samples: [39550/39550]\tTrain Loss: 177.44822305131953\tTime: 0:00:00.398130: : 50it [00:20,  2.44it/s]\n",
            "Sampling: [20/20]: : 20it [00:07,  2.73it/s]\n"
          ]
        },
        {
          "output_type": "stream",
          "name": "stdout",
          "text": [
            "coherence score: -0.05885685333277651\n",
            "diversity score LDA: 0.8872955236015646\n",
            "num topics: 20\n"
          ]
        },
        {
          "output_type": "stream",
          "name": "stderr",
          "text": [
            "Epoch: [50/50]\t Seen Samples: [39550/39550]\tTrain Loss: 181.0981500869153\tTime: 0:00:00.411657: : 50it [00:20,  2.40it/s]\n",
            "Sampling: [20/20]: : 20it [00:07,  2.68it/s]\n"
          ]
        },
        {
          "output_type": "stream",
          "name": "stdout",
          "text": [
            "coherence score: -0.05727140409580742\n",
            "diversity score LDA: 0.9072848851711278\n",
            "num topics: 25\n"
          ]
        },
        {
          "output_type": "stream",
          "name": "stderr",
          "text": [
            "Epoch: [50/50]\t Seen Samples: [39550/39550]\tTrain Loss: 180.60768978152655\tTime: 0:00:00.409906: : 50it [00:20,  2.41it/s]\n",
            "Sampling: [20/20]: : 20it [00:07,  2.68it/s]\n"
          ]
        },
        {
          "output_type": "stream",
          "name": "stdout",
          "text": [
            "coherence score: -0.09652241566354144\n",
            "diversity score LDA: 0.9202648294917619\n",
            "num topics: 50\n"
          ]
        },
        {
          "output_type": "stream",
          "name": "stderr",
          "text": [
            "Epoch: [50/50]\t Seen Samples: [39550/39550]\tTrain Loss: 195.4235731816925\tTime: 0:00:00.407855: : 50it [00:21,  2.31it/s]\n",
            "Sampling: [20/20]: : 20it [00:07,  2.70it/s]\n"
          ]
        },
        {
          "output_type": "stream",
          "name": "stdout",
          "text": [
            "coherence score: -0.1322260383141062\n",
            "diversity score LDA: 0.9259191739697726\n",
            "num topics: 100\n"
          ]
        },
        {
          "output_type": "stream",
          "name": "stderr",
          "text": [
            "Epoch: [50/50]\t Seen Samples: [39550/39550]\tTrain Loss: 219.96142392936156\tTime: 0:00:00.410130: : 50it [00:20,  2.40it/s]\n",
            "Sampling: [20/20]: : 20it [00:08,  2.26it/s]\n"
          ]
        },
        {
          "output_type": "stream",
          "name": "stdout",
          "text": [
            "coherence score: -0.2679128286418246\n",
            "diversity score LDA: 0.9648700301235426\n",
            "num topics: 250\n"
          ]
        },
        {
          "output_type": "stream",
          "name": "stderr",
          "text": [
            "Epoch: [50/50]\t Seen Samples: [39550/39550]\tTrain Loss: 283.1849925430626\tTime: 0:00:00.413594: : 50it [00:24,  2.03it/s]\n",
            "Sampling: [20/20]: : 20it [00:07,  2.55it/s]\n"
          ]
        },
        {
          "output_type": "stream",
          "name": "stdout",
          "text": [
            "coherence score: -0.31119549567331867\n",
            "diversity score LDA: 0.9781470685580108\n"
          ]
        },
        {
          "output_type": "stream",
          "name": "stderr",
          "text": [
            "WARNING:sentence_transformers.SentenceTransformer:No sentence-transformers model found with name /root/.cache/torch/sentence_transformers/allenai_aspire-contextualsentence-multim-compsci. Creating a new one with MEAN pooling.\n",
            "/usr/local/lib/python3.7/dist-packages/contextualized_topic_models/utils/data_preparation.py:57: UserWarning: the longest document in your collection has 178 words, the model instead truncates to 128 tokens.\n",
            "  warnings.warn(f\"the longest document in your collection has {max_local_length} words, the model instead \"\n"
          ]
        },
        {
          "output_type": "display_data",
          "data": {
            "text/plain": [
              "Batches:   0%|          | 0/4 [00:00<?, ?it/s]"
            ],
            "application/vnd.jupyter.widget-view+json": {
              "version_major": 2,
              "version_minor": 0,
              "model_id": "a4a83ccffcbb4a9ba123f045c6e85d5a"
            }
          },
          "metadata": {}
        },
        {
          "output_type": "stream",
          "name": "stderr",
          "text": [
            "/usr/local/lib/python3.7/dist-packages/sklearn/utils/deprecation.py:87: FutureWarning: Function get_feature_names is deprecated; get_feature_names is deprecated in 1.0 and will be removed in 1.2. Please use get_feature_names_out instead.\n",
            "  warnings.warn(msg, category=FutureWarning)\n"
          ]
        },
        {
          "output_type": "stream",
          "name": "stdout",
          "text": [
            "num topics: 3\n"
          ]
        },
        {
          "output_type": "stream",
          "name": "stderr",
          "text": [
            "Epoch: [50/50]\t Seen Samples: [39550/39550]\tTrain Loss: 173.7730001456819\tTime: 0:00:00.409753: : 50it [00:21,  2.31it/s]\n",
            "Sampling: [20/20]: : 20it [00:07,  2.69it/s]\n"
          ]
        },
        {
          "output_type": "stream",
          "name": "stdout",
          "text": [
            "coherence score: -0.16846463628813435\n",
            "diversity score LDA: 1.0\n",
            "num topics: 5\n"
          ]
        },
        {
          "output_type": "stream",
          "name": "stderr",
          "text": [
            "Epoch: [50/50]\t Seen Samples: [39550/39550]\tTrain Loss: 174.5211186270346\tTime: 0:00:00.424659: : 50it [00:20,  2.39it/s]\n",
            "Sampling: [20/20]: : 20it [00:07,  2.56it/s]\n"
          ]
        },
        {
          "output_type": "stream",
          "name": "stdout",
          "text": [
            "coherence score: -0.09549355227732978\n",
            "diversity score LDA: 0.9401247779207142\n",
            "num topics: 10\n"
          ]
        },
        {
          "output_type": "stream",
          "name": "stderr",
          "text": [
            "Epoch: [50/50]\t Seen Samples: [39550/39550]\tTrain Loss: 174.53641368224558\tTime: 0:00:00.409047: : 50it [00:21,  2.32it/s]\n",
            "Sampling: [20/20]: : 20it [00:07,  2.62it/s]\n"
          ]
        },
        {
          "output_type": "stream",
          "name": "stdout",
          "text": [
            "coherence score: -0.09223133285887493\n",
            "diversity score LDA: 0.9496266916992063\n",
            "num topics: 15\n"
          ]
        },
        {
          "output_type": "stream",
          "name": "stderr",
          "text": [
            "Epoch: [50/50]\t Seen Samples: [39550/39550]\tTrain Loss: 176.33253527230167\tTime: 0:00:00.423592: : 50it [00:21,  2.35it/s]\n",
            "Sampling: [20/20]: : 20it [00:07,  2.63it/s]\n"
          ]
        },
        {
          "output_type": "stream",
          "name": "stdout",
          "text": [
            "coherence score: -0.06346590866826526\n",
            "diversity score LDA: 0.9007158973403402\n",
            "num topics: 20\n"
          ]
        },
        {
          "output_type": "stream",
          "name": "stderr",
          "text": [
            "Epoch: [50/50]\t Seen Samples: [39550/39550]\tTrain Loss: 181.22245254227244\tTime: 0:00:00.416244: : 50it [00:22,  2.24it/s]\n",
            "Sampling: [20/20]: : 20it [00:07,  2.61it/s]\n"
          ]
        },
        {
          "output_type": "stream",
          "name": "stdout",
          "text": [
            "coherence score: -0.10074492538430906\n",
            "diversity score LDA: 0.8860728335767293\n",
            "num topics: 25\n"
          ]
        },
        {
          "output_type": "stream",
          "name": "stderr",
          "text": [
            "Epoch: [50/50]\t Seen Samples: [39550/39550]\tTrain Loss: 186.25960512800253\tTime: 0:00:00.424078: : 50it [00:21,  2.33it/s]\n",
            "Sampling: [20/20]: : 20it [00:07,  2.60it/s]\n"
          ]
        },
        {
          "output_type": "stream",
          "name": "stdout",
          "text": [
            "coherence score: -0.11206173748142596\n",
            "diversity score LDA: 0.9217933183148095\n",
            "num topics: 50\n"
          ]
        },
        {
          "output_type": "stream",
          "name": "stderr",
          "text": [
            "Epoch: [50/50]\t Seen Samples: [39550/39550]\tTrain Loss: 196.58475846436474\tTime: 0:00:00.426249: : 50it [00:21,  2.29it/s]\n",
            "Sampling: [20/20]: : 20it [00:07,  2.54it/s]\n"
          ]
        },
        {
          "output_type": "stream",
          "name": "stdout",
          "text": [
            "coherence score: -0.15200987226589485\n",
            "diversity score LDA: 0.9471349979826531\n",
            "num topics: 100\n"
          ]
        },
        {
          "output_type": "stream",
          "name": "stderr",
          "text": [
            "Epoch: [50/50]\t Seen Samples: [39550/39550]\tTrain Loss: 219.07160882190266\tTime: 0:00:00.424581: : 50it [00:21,  2.28it/s]\n",
            "Sampling: [20/20]: : 20it [00:08,  2.32it/s]\n"
          ]
        },
        {
          "output_type": "stream",
          "name": "stdout",
          "text": [
            "coherence score: -0.2804807101646764\n",
            "diversity score LDA: 0.9628271792083262\n",
            "num topics: 250\n"
          ]
        },
        {
          "output_type": "stream",
          "name": "stderr",
          "text": [
            "Epoch: [50/50]\t Seen Samples: [39550/39550]\tTrain Loss: 283.6315211164665\tTime: 0:00:00.433919: : 50it [00:21,  2.29it/s]\n",
            "Sampling: [20/20]: : 20it [00:08,  2.42it/s]\n"
          ]
        },
        {
          "output_type": "stream",
          "name": "stdout",
          "text": [
            "coherence score: -0.30738995591767415\n",
            "diversity score LDA: 0.9759608815891555\n"
          ]
        }
      ],
      "source": [
        "from contextualized_topic_models.evaluation.measures import CoherenceNPMI, InvertedRBO\n",
        "\n",
        "fix_seeds()\n",
        "\n",
        "num_topics = [3, 5, 10, 15, 20, 25, 50, 100, 250]\n",
        "\n",
        "corpus = [doc.split(' ') for doc in preprocessed_documents]\n",
        "model_results = []\n",
        "embedding_models = [\n",
        "    \"paraphrase-distilroberta-base-v2\",\n",
        "    \"sentence-transformers/allenai-specter\",\n",
        "    \"allenai/aspire-sentence-embedder\",\n",
        "    \"allenai/aspire-contextualsentence-multim-compsci\", \n",
        "]\n",
        "for embedding_model in embedding_models:\n",
        "    tp = TopicModelDataPreparation(embedding_model)\n",
        "    training_dataset = tp.fit(text_for_contextual=unpreprocessed_corpus, text_for_bow=preprocessed_documents)\n",
        "    for n_components in num_topics:\n",
        "        print(\"num topics:\", n_components)\n",
        "        ctm = CombinedTM(bow_size=len(tp.vocab), contextual_size=768, \n",
        "                     n_components=n_components, num_epochs=50)\n",
        "        ctm.fit(training_dataset, n_samples=20)\n",
        "        coh = CoherenceNPMI(ctm.get_topic_lists(10), [doc.split(' ') for doc in preprocessed_documents])\n",
        "        coh_score = coh.score()\n",
        "        print(\"coherence score:\", coh_score)\n",
        "        diversity_score = InvertedRBO(ctm.get_topic_lists(10)).score()\n",
        "        print(\"diversity score LDA:\", diversity_score)\n",
        "        model_results.append({\n",
        "            \"coherence\": coh_score,\n",
        "            \"diversity\": diversity_score,\n",
        "            \"num_topics\": n_components,\n",
        "            \"model\": ctm,\n",
        "            \"embedding_model\": embedding_model,\n",
        "            \"tp\": tp,\n",
        "            \"training_dataset\": training_dataset\n",
        "        })"
      ]
    },
    {
      "cell_type": "markdown",
      "metadata": {
        "id": "i_HJh0VFMh6p"
      },
      "source": [
        "## Select Top Topic Model"
      ]
    },
    {
      "cell_type": "markdown",
      "source": [
        ""
      ],
      "metadata": {
        "id": "NcEPaL2CapkF"
      }
    },
    {
      "cell_type": "code",
      "execution_count": 10,
      "metadata": {
        "id": "N2pp9m7jMh6p"
      },
      "outputs": [],
      "source": [
        "results_df = pd.DataFrame(model_results)"
      ]
    },
    {
      "cell_type": "code",
      "execution_count": 11,
      "metadata": {
        "colab": {
          "base_uri": "https://localhost:8080/",
          "height": 882
        },
        "id": "n-HG15wdMh6p",
        "outputId": "9887e77a-b213-4056-b32f-858d4b1ed92b"
      },
      "outputs": [
        {
          "output_type": "execute_result",
          "data": {
            "text/plain": [
              "    coherence  diversity  num_topics  \\\n",
              "14  -0.028877   0.911717          25   \n",
              "12  -0.047257   0.912845          15   \n",
              "13  -0.056134   0.919598          20   \n",
              "5   -0.056377   0.940038          25   \n",
              "11  -0.056733   0.915606          10   \n",
              "22  -0.057271   0.907285          20   \n",
              "21  -0.058857   0.887296          15   \n",
              "2   -0.062271   0.969946          10   \n",
              "30  -0.063466   0.900716          15   \n",
              "20  -0.074128   0.944212          10   \n",
              "15  -0.078490   0.883706          50   \n",
              "6   -0.083306   0.938958          50   \n",
              "4   -0.087693   0.939731          20   \n",
              "29  -0.092231   0.949627          10   \n",
              "28  -0.095494   0.940125           5   \n",
              "23  -0.096522   0.920265          25   \n",
              "31  -0.100745   0.886073          20   \n",
              "3   -0.103124   0.964319          15   \n",
              "32  -0.112062   0.921793          25   \n",
              "7   -0.117047   0.937101         100   \n",
              "1   -0.118759   0.969882           5   \n",
              "24  -0.132226   0.925919          50   \n",
              "18  -0.147396   1.000000           3   \n",
              "33  -0.152010   0.947135          50   \n",
              "16  -0.154382   0.931300         100   \n",
              "19  -0.155263   0.995647           5   \n",
              "10  -0.157256   0.976278           5   \n",
              "27  -0.168465   1.000000           3   \n",
              "8   -0.195492   0.955651         250   \n",
              "9   -0.240650   1.000000           3   \n",
              "0   -0.263191   1.000000           3   \n",
              "25  -0.267913   0.964870         100   \n",
              "34  -0.280481   0.962827         100   \n",
              "35  -0.307390   0.975961         250   \n",
              "26  -0.311195   0.978147         250   \n",
              "17  -0.312266   0.976045         250   \n",
              "\n",
              "                                     embedding_model  \n",
              "14             sentence-transformers/allenai-specter  \n",
              "12             sentence-transformers/allenai-specter  \n",
              "13             sentence-transformers/allenai-specter  \n",
              "5                   paraphrase-distilroberta-base-v2  \n",
              "11             sentence-transformers/allenai-specter  \n",
              "22                  allenai/aspire-sentence-embedder  \n",
              "21                  allenai/aspire-sentence-embedder  \n",
              "2                   paraphrase-distilroberta-base-v2  \n",
              "30  allenai/aspire-contextualsentence-multim-compsci  \n",
              "20                  allenai/aspire-sentence-embedder  \n",
              "15             sentence-transformers/allenai-specter  \n",
              "6                   paraphrase-distilroberta-base-v2  \n",
              "4                   paraphrase-distilroberta-base-v2  \n",
              "29  allenai/aspire-contextualsentence-multim-compsci  \n",
              "28  allenai/aspire-contextualsentence-multim-compsci  \n",
              "23                  allenai/aspire-sentence-embedder  \n",
              "31  allenai/aspire-contextualsentence-multim-compsci  \n",
              "3                   paraphrase-distilroberta-base-v2  \n",
              "32  allenai/aspire-contextualsentence-multim-compsci  \n",
              "7                   paraphrase-distilroberta-base-v2  \n",
              "1                   paraphrase-distilroberta-base-v2  \n",
              "24                  allenai/aspire-sentence-embedder  \n",
              "18                  allenai/aspire-sentence-embedder  \n",
              "33  allenai/aspire-contextualsentence-multim-compsci  \n",
              "16             sentence-transformers/allenai-specter  \n",
              "19                  allenai/aspire-sentence-embedder  \n",
              "10             sentence-transformers/allenai-specter  \n",
              "27  allenai/aspire-contextualsentence-multim-compsci  \n",
              "8                   paraphrase-distilroberta-base-v2  \n",
              "9              sentence-transformers/allenai-specter  \n",
              "0                   paraphrase-distilroberta-base-v2  \n",
              "25                  allenai/aspire-sentence-embedder  \n",
              "34  allenai/aspire-contextualsentence-multim-compsci  \n",
              "35  allenai/aspire-contextualsentence-multim-compsci  \n",
              "26                  allenai/aspire-sentence-embedder  \n",
              "17             sentence-transformers/allenai-specter  "
            ],
            "text/html": [
              "\n",
              "  <div id=\"df-55cb0ffa-fb52-49a6-bb2a-4c406183fbf1\">\n",
              "    <div class=\"colab-df-container\">\n",
              "      <div>\n",
              "<style scoped>\n",
              "    .dataframe tbody tr th:only-of-type {\n",
              "        vertical-align: middle;\n",
              "    }\n",
              "\n",
              "    .dataframe tbody tr th {\n",
              "        vertical-align: top;\n",
              "    }\n",
              "\n",
              "    .dataframe thead th {\n",
              "        text-align: right;\n",
              "    }\n",
              "</style>\n",
              "<table border=\"1\" class=\"dataframe\">\n",
              "  <thead>\n",
              "    <tr style=\"text-align: right;\">\n",
              "      <th></th>\n",
              "      <th>coherence</th>\n",
              "      <th>diversity</th>\n",
              "      <th>num_topics</th>\n",
              "      <th>embedding_model</th>\n",
              "    </tr>\n",
              "  </thead>\n",
              "  <tbody>\n",
              "    <tr>\n",
              "      <th>14</th>\n",
              "      <td>-0.028877</td>\n",
              "      <td>0.911717</td>\n",
              "      <td>25</td>\n",
              "      <td>sentence-transformers/allenai-specter</td>\n",
              "    </tr>\n",
              "    <tr>\n",
              "      <th>12</th>\n",
              "      <td>-0.047257</td>\n",
              "      <td>0.912845</td>\n",
              "      <td>15</td>\n",
              "      <td>sentence-transformers/allenai-specter</td>\n",
              "    </tr>\n",
              "    <tr>\n",
              "      <th>13</th>\n",
              "      <td>-0.056134</td>\n",
              "      <td>0.919598</td>\n",
              "      <td>20</td>\n",
              "      <td>sentence-transformers/allenai-specter</td>\n",
              "    </tr>\n",
              "    <tr>\n",
              "      <th>5</th>\n",
              "      <td>-0.056377</td>\n",
              "      <td>0.940038</td>\n",
              "      <td>25</td>\n",
              "      <td>paraphrase-distilroberta-base-v2</td>\n",
              "    </tr>\n",
              "    <tr>\n",
              "      <th>11</th>\n",
              "      <td>-0.056733</td>\n",
              "      <td>0.915606</td>\n",
              "      <td>10</td>\n",
              "      <td>sentence-transformers/allenai-specter</td>\n",
              "    </tr>\n",
              "    <tr>\n",
              "      <th>22</th>\n",
              "      <td>-0.057271</td>\n",
              "      <td>0.907285</td>\n",
              "      <td>20</td>\n",
              "      <td>allenai/aspire-sentence-embedder</td>\n",
              "    </tr>\n",
              "    <tr>\n",
              "      <th>21</th>\n",
              "      <td>-0.058857</td>\n",
              "      <td>0.887296</td>\n",
              "      <td>15</td>\n",
              "      <td>allenai/aspire-sentence-embedder</td>\n",
              "    </tr>\n",
              "    <tr>\n",
              "      <th>2</th>\n",
              "      <td>-0.062271</td>\n",
              "      <td>0.969946</td>\n",
              "      <td>10</td>\n",
              "      <td>paraphrase-distilroberta-base-v2</td>\n",
              "    </tr>\n",
              "    <tr>\n",
              "      <th>30</th>\n",
              "      <td>-0.063466</td>\n",
              "      <td>0.900716</td>\n",
              "      <td>15</td>\n",
              "      <td>allenai/aspire-contextualsentence-multim-compsci</td>\n",
              "    </tr>\n",
              "    <tr>\n",
              "      <th>20</th>\n",
              "      <td>-0.074128</td>\n",
              "      <td>0.944212</td>\n",
              "      <td>10</td>\n",
              "      <td>allenai/aspire-sentence-embedder</td>\n",
              "    </tr>\n",
              "    <tr>\n",
              "      <th>15</th>\n",
              "      <td>-0.078490</td>\n",
              "      <td>0.883706</td>\n",
              "      <td>50</td>\n",
              "      <td>sentence-transformers/allenai-specter</td>\n",
              "    </tr>\n",
              "    <tr>\n",
              "      <th>6</th>\n",
              "      <td>-0.083306</td>\n",
              "      <td>0.938958</td>\n",
              "      <td>50</td>\n",
              "      <td>paraphrase-distilroberta-base-v2</td>\n",
              "    </tr>\n",
              "    <tr>\n",
              "      <th>4</th>\n",
              "      <td>-0.087693</td>\n",
              "      <td>0.939731</td>\n",
              "      <td>20</td>\n",
              "      <td>paraphrase-distilroberta-base-v2</td>\n",
              "    </tr>\n",
              "    <tr>\n",
              "      <th>29</th>\n",
              "      <td>-0.092231</td>\n",
              "      <td>0.949627</td>\n",
              "      <td>10</td>\n",
              "      <td>allenai/aspire-contextualsentence-multim-compsci</td>\n",
              "    </tr>\n",
              "    <tr>\n",
              "      <th>28</th>\n",
              "      <td>-0.095494</td>\n",
              "      <td>0.940125</td>\n",
              "      <td>5</td>\n",
              "      <td>allenai/aspire-contextualsentence-multim-compsci</td>\n",
              "    </tr>\n",
              "    <tr>\n",
              "      <th>23</th>\n",
              "      <td>-0.096522</td>\n",
              "      <td>0.920265</td>\n",
              "      <td>25</td>\n",
              "      <td>allenai/aspire-sentence-embedder</td>\n",
              "    </tr>\n",
              "    <tr>\n",
              "      <th>31</th>\n",
              "      <td>-0.100745</td>\n",
              "      <td>0.886073</td>\n",
              "      <td>20</td>\n",
              "      <td>allenai/aspire-contextualsentence-multim-compsci</td>\n",
              "    </tr>\n",
              "    <tr>\n",
              "      <th>3</th>\n",
              "      <td>-0.103124</td>\n",
              "      <td>0.964319</td>\n",
              "      <td>15</td>\n",
              "      <td>paraphrase-distilroberta-base-v2</td>\n",
              "    </tr>\n",
              "    <tr>\n",
              "      <th>32</th>\n",
              "      <td>-0.112062</td>\n",
              "      <td>0.921793</td>\n",
              "      <td>25</td>\n",
              "      <td>allenai/aspire-contextualsentence-multim-compsci</td>\n",
              "    </tr>\n",
              "    <tr>\n",
              "      <th>7</th>\n",
              "      <td>-0.117047</td>\n",
              "      <td>0.937101</td>\n",
              "      <td>100</td>\n",
              "      <td>paraphrase-distilroberta-base-v2</td>\n",
              "    </tr>\n",
              "    <tr>\n",
              "      <th>1</th>\n",
              "      <td>-0.118759</td>\n",
              "      <td>0.969882</td>\n",
              "      <td>5</td>\n",
              "      <td>paraphrase-distilroberta-base-v2</td>\n",
              "    </tr>\n",
              "    <tr>\n",
              "      <th>24</th>\n",
              "      <td>-0.132226</td>\n",
              "      <td>0.925919</td>\n",
              "      <td>50</td>\n",
              "      <td>allenai/aspire-sentence-embedder</td>\n",
              "    </tr>\n",
              "    <tr>\n",
              "      <th>18</th>\n",
              "      <td>-0.147396</td>\n",
              "      <td>1.000000</td>\n",
              "      <td>3</td>\n",
              "      <td>allenai/aspire-sentence-embedder</td>\n",
              "    </tr>\n",
              "    <tr>\n",
              "      <th>33</th>\n",
              "      <td>-0.152010</td>\n",
              "      <td>0.947135</td>\n",
              "      <td>50</td>\n",
              "      <td>allenai/aspire-contextualsentence-multim-compsci</td>\n",
              "    </tr>\n",
              "    <tr>\n",
              "      <th>16</th>\n",
              "      <td>-0.154382</td>\n",
              "      <td>0.931300</td>\n",
              "      <td>100</td>\n",
              "      <td>sentence-transformers/allenai-specter</td>\n",
              "    </tr>\n",
              "    <tr>\n",
              "      <th>19</th>\n",
              "      <td>-0.155263</td>\n",
              "      <td>0.995647</td>\n",
              "      <td>5</td>\n",
              "      <td>allenai/aspire-sentence-embedder</td>\n",
              "    </tr>\n",
              "    <tr>\n",
              "      <th>10</th>\n",
              "      <td>-0.157256</td>\n",
              "      <td>0.976278</td>\n",
              "      <td>5</td>\n",
              "      <td>sentence-transformers/allenai-specter</td>\n",
              "    </tr>\n",
              "    <tr>\n",
              "      <th>27</th>\n",
              "      <td>-0.168465</td>\n",
              "      <td>1.000000</td>\n",
              "      <td>3</td>\n",
              "      <td>allenai/aspire-contextualsentence-multim-compsci</td>\n",
              "    </tr>\n",
              "    <tr>\n",
              "      <th>8</th>\n",
              "      <td>-0.195492</td>\n",
              "      <td>0.955651</td>\n",
              "      <td>250</td>\n",
              "      <td>paraphrase-distilroberta-base-v2</td>\n",
              "    </tr>\n",
              "    <tr>\n",
              "      <th>9</th>\n",
              "      <td>-0.240650</td>\n",
              "      <td>1.000000</td>\n",
              "      <td>3</td>\n",
              "      <td>sentence-transformers/allenai-specter</td>\n",
              "    </tr>\n",
              "    <tr>\n",
              "      <th>0</th>\n",
              "      <td>-0.263191</td>\n",
              "      <td>1.000000</td>\n",
              "      <td>3</td>\n",
              "      <td>paraphrase-distilroberta-base-v2</td>\n",
              "    </tr>\n",
              "    <tr>\n",
              "      <th>25</th>\n",
              "      <td>-0.267913</td>\n",
              "      <td>0.964870</td>\n",
              "      <td>100</td>\n",
              "      <td>allenai/aspire-sentence-embedder</td>\n",
              "    </tr>\n",
              "    <tr>\n",
              "      <th>34</th>\n",
              "      <td>-0.280481</td>\n",
              "      <td>0.962827</td>\n",
              "      <td>100</td>\n",
              "      <td>allenai/aspire-contextualsentence-multim-compsci</td>\n",
              "    </tr>\n",
              "    <tr>\n",
              "      <th>35</th>\n",
              "      <td>-0.307390</td>\n",
              "      <td>0.975961</td>\n",
              "      <td>250</td>\n",
              "      <td>allenai/aspire-contextualsentence-multim-compsci</td>\n",
              "    </tr>\n",
              "    <tr>\n",
              "      <th>26</th>\n",
              "      <td>-0.311195</td>\n",
              "      <td>0.978147</td>\n",
              "      <td>250</td>\n",
              "      <td>allenai/aspire-sentence-embedder</td>\n",
              "    </tr>\n",
              "    <tr>\n",
              "      <th>17</th>\n",
              "      <td>-0.312266</td>\n",
              "      <td>0.976045</td>\n",
              "      <td>250</td>\n",
              "      <td>sentence-transformers/allenai-specter</td>\n",
              "    </tr>\n",
              "  </tbody>\n",
              "</table>\n",
              "</div>\n",
              "      <button class=\"colab-df-convert\" onclick=\"convertToInteractive('df-55cb0ffa-fb52-49a6-bb2a-4c406183fbf1')\"\n",
              "              title=\"Convert this dataframe to an interactive table.\"\n",
              "              style=\"display:none;\">\n",
              "        \n",
              "  <svg xmlns=\"http://www.w3.org/2000/svg\" height=\"24px\"viewBox=\"0 0 24 24\"\n",
              "       width=\"24px\">\n",
              "    <path d=\"M0 0h24v24H0V0z\" fill=\"none\"/>\n",
              "    <path d=\"M18.56 5.44l.94 2.06.94-2.06 2.06-.94-2.06-.94-.94-2.06-.94 2.06-2.06.94zm-11 1L8.5 8.5l.94-2.06 2.06-.94-2.06-.94L8.5 2.5l-.94 2.06-2.06.94zm10 10l.94 2.06.94-2.06 2.06-.94-2.06-.94-.94-2.06-.94 2.06-2.06.94z\"/><path d=\"M17.41 7.96l-1.37-1.37c-.4-.4-.92-.59-1.43-.59-.52 0-1.04.2-1.43.59L10.3 9.45l-7.72 7.72c-.78.78-.78 2.05 0 2.83L4 21.41c.39.39.9.59 1.41.59.51 0 1.02-.2 1.41-.59l7.78-7.78 2.81-2.81c.8-.78.8-2.07 0-2.86zM5.41 20L4 18.59l7.72-7.72 1.47 1.35L5.41 20z\"/>\n",
              "  </svg>\n",
              "      </button>\n",
              "      \n",
              "  <style>\n",
              "    .colab-df-container {\n",
              "      display:flex;\n",
              "      flex-wrap:wrap;\n",
              "      gap: 12px;\n",
              "    }\n",
              "\n",
              "    .colab-df-convert {\n",
              "      background-color: #E8F0FE;\n",
              "      border: none;\n",
              "      border-radius: 50%;\n",
              "      cursor: pointer;\n",
              "      display: none;\n",
              "      fill: #1967D2;\n",
              "      height: 32px;\n",
              "      padding: 0 0 0 0;\n",
              "      width: 32px;\n",
              "    }\n",
              "\n",
              "    .colab-df-convert:hover {\n",
              "      background-color: #E2EBFA;\n",
              "      box-shadow: 0px 1px 2px rgba(60, 64, 67, 0.3), 0px 1px 3px 1px rgba(60, 64, 67, 0.15);\n",
              "      fill: #174EA6;\n",
              "    }\n",
              "\n",
              "    [theme=dark] .colab-df-convert {\n",
              "      background-color: #3B4455;\n",
              "      fill: #D2E3FC;\n",
              "    }\n",
              "\n",
              "    [theme=dark] .colab-df-convert:hover {\n",
              "      background-color: #434B5C;\n",
              "      box-shadow: 0px 1px 3px 1px rgba(0, 0, 0, 0.15);\n",
              "      filter: drop-shadow(0px 1px 2px rgba(0, 0, 0, 0.3));\n",
              "      fill: #FFFFFF;\n",
              "    }\n",
              "  </style>\n",
              "\n",
              "      <script>\n",
              "        const buttonEl =\n",
              "          document.querySelector('#df-55cb0ffa-fb52-49a6-bb2a-4c406183fbf1 button.colab-df-convert');\n",
              "        buttonEl.style.display =\n",
              "          google.colab.kernel.accessAllowed ? 'block' : 'none';\n",
              "\n",
              "        async function convertToInteractive(key) {\n",
              "          const element = document.querySelector('#df-55cb0ffa-fb52-49a6-bb2a-4c406183fbf1');\n",
              "          const dataTable =\n",
              "            await google.colab.kernel.invokeFunction('convertToInteractive',\n",
              "                                                     [key], {});\n",
              "          if (!dataTable) return;\n",
              "\n",
              "          const docLinkHtml = 'Like what you see? Visit the ' +\n",
              "            '<a target=\"_blank\" href=https://colab.research.google.com/notebooks/data_table.ipynb>data table notebook</a>'\n",
              "            + ' to learn more about interactive tables.';\n",
              "          element.innerHTML = '';\n",
              "          dataTable['output_type'] = 'display_data';\n",
              "          await google.colab.output.renderOutput(dataTable, element);\n",
              "          const docLink = document.createElement('div');\n",
              "          docLink.innerHTML = docLinkHtml;\n",
              "          element.appendChild(docLink);\n",
              "        }\n",
              "      </script>\n",
              "    </div>\n",
              "  </div>\n",
              "  "
            ]
          },
          "metadata": {},
          "execution_count": 11
        }
      ],
      "source": [
        "results_df.sort_values(by='coherence', ascending=False)[\n",
        "    ['coherence','diversity','num_topics', 'embedding_model']\n",
        "]"
      ]
    },
    {
      "cell_type": "code",
      "execution_count": 12,
      "metadata": {
        "colab": {
          "base_uri": "https://localhost:8080/",
          "height": 882
        },
        "id": "-MYyNkbIMh6q",
        "outputId": "9c441845-1829-41b5-f7cf-f8120f943007"
      },
      "outputs": [
        {
          "output_type": "execute_result",
          "data": {
            "text/plain": [
              "    coherence  diversity  num_topics  \\\n",
              "0   -0.263191   1.000000           3   \n",
              "9   -0.240650   1.000000           3   \n",
              "27  -0.168465   1.000000           3   \n",
              "18  -0.147396   1.000000           3   \n",
              "19  -0.155263   0.995647           5   \n",
              "26  -0.311195   0.978147         250   \n",
              "10  -0.157256   0.976278           5   \n",
              "17  -0.312266   0.976045         250   \n",
              "35  -0.307390   0.975961         250   \n",
              "2   -0.062271   0.969946          10   \n",
              "1   -0.118759   0.969882           5   \n",
              "25  -0.267913   0.964870         100   \n",
              "3   -0.103124   0.964319          15   \n",
              "34  -0.280481   0.962827         100   \n",
              "8   -0.195492   0.955651         250   \n",
              "29  -0.092231   0.949627          10   \n",
              "33  -0.152010   0.947135          50   \n",
              "20  -0.074128   0.944212          10   \n",
              "28  -0.095494   0.940125           5   \n",
              "5   -0.056377   0.940038          25   \n",
              "4   -0.087693   0.939731          20   \n",
              "6   -0.083306   0.938958          50   \n",
              "7   -0.117047   0.937101         100   \n",
              "16  -0.154382   0.931300         100   \n",
              "24  -0.132226   0.925919          50   \n",
              "32  -0.112062   0.921793          25   \n",
              "23  -0.096522   0.920265          25   \n",
              "13  -0.056134   0.919598          20   \n",
              "11  -0.056733   0.915606          10   \n",
              "12  -0.047257   0.912845          15   \n",
              "14  -0.028877   0.911717          25   \n",
              "22  -0.057271   0.907285          20   \n",
              "30  -0.063466   0.900716          15   \n",
              "21  -0.058857   0.887296          15   \n",
              "31  -0.100745   0.886073          20   \n",
              "15  -0.078490   0.883706          50   \n",
              "\n",
              "                                     embedding_model  \n",
              "0                   paraphrase-distilroberta-base-v2  \n",
              "9              sentence-transformers/allenai-specter  \n",
              "27  allenai/aspire-contextualsentence-multim-compsci  \n",
              "18                  allenai/aspire-sentence-embedder  \n",
              "19                  allenai/aspire-sentence-embedder  \n",
              "26                  allenai/aspire-sentence-embedder  \n",
              "10             sentence-transformers/allenai-specter  \n",
              "17             sentence-transformers/allenai-specter  \n",
              "35  allenai/aspire-contextualsentence-multim-compsci  \n",
              "2                   paraphrase-distilroberta-base-v2  \n",
              "1                   paraphrase-distilroberta-base-v2  \n",
              "25                  allenai/aspire-sentence-embedder  \n",
              "3                   paraphrase-distilroberta-base-v2  \n",
              "34  allenai/aspire-contextualsentence-multim-compsci  \n",
              "8                   paraphrase-distilroberta-base-v2  \n",
              "29  allenai/aspire-contextualsentence-multim-compsci  \n",
              "33  allenai/aspire-contextualsentence-multim-compsci  \n",
              "20                  allenai/aspire-sentence-embedder  \n",
              "28  allenai/aspire-contextualsentence-multim-compsci  \n",
              "5                   paraphrase-distilroberta-base-v2  \n",
              "4                   paraphrase-distilroberta-base-v2  \n",
              "6                   paraphrase-distilroberta-base-v2  \n",
              "7                   paraphrase-distilroberta-base-v2  \n",
              "16             sentence-transformers/allenai-specter  \n",
              "24                  allenai/aspire-sentence-embedder  \n",
              "32  allenai/aspire-contextualsentence-multim-compsci  \n",
              "23                  allenai/aspire-sentence-embedder  \n",
              "13             sentence-transformers/allenai-specter  \n",
              "11             sentence-transformers/allenai-specter  \n",
              "12             sentence-transformers/allenai-specter  \n",
              "14             sentence-transformers/allenai-specter  \n",
              "22                  allenai/aspire-sentence-embedder  \n",
              "30  allenai/aspire-contextualsentence-multim-compsci  \n",
              "21                  allenai/aspire-sentence-embedder  \n",
              "31  allenai/aspire-contextualsentence-multim-compsci  \n",
              "15             sentence-transformers/allenai-specter  "
            ],
            "text/html": [
              "\n",
              "  <div id=\"df-e5d82eb6-625e-4566-a622-1a29233f562a\">\n",
              "    <div class=\"colab-df-container\">\n",
              "      <div>\n",
              "<style scoped>\n",
              "    .dataframe tbody tr th:only-of-type {\n",
              "        vertical-align: middle;\n",
              "    }\n",
              "\n",
              "    .dataframe tbody tr th {\n",
              "        vertical-align: top;\n",
              "    }\n",
              "\n",
              "    .dataframe thead th {\n",
              "        text-align: right;\n",
              "    }\n",
              "</style>\n",
              "<table border=\"1\" class=\"dataframe\">\n",
              "  <thead>\n",
              "    <tr style=\"text-align: right;\">\n",
              "      <th></th>\n",
              "      <th>coherence</th>\n",
              "      <th>diversity</th>\n",
              "      <th>num_topics</th>\n",
              "      <th>embedding_model</th>\n",
              "    </tr>\n",
              "  </thead>\n",
              "  <tbody>\n",
              "    <tr>\n",
              "      <th>0</th>\n",
              "      <td>-0.263191</td>\n",
              "      <td>1.000000</td>\n",
              "      <td>3</td>\n",
              "      <td>paraphrase-distilroberta-base-v2</td>\n",
              "    </tr>\n",
              "    <tr>\n",
              "      <th>9</th>\n",
              "      <td>-0.240650</td>\n",
              "      <td>1.000000</td>\n",
              "      <td>3</td>\n",
              "      <td>sentence-transformers/allenai-specter</td>\n",
              "    </tr>\n",
              "    <tr>\n",
              "      <th>27</th>\n",
              "      <td>-0.168465</td>\n",
              "      <td>1.000000</td>\n",
              "      <td>3</td>\n",
              "      <td>allenai/aspire-contextualsentence-multim-compsci</td>\n",
              "    </tr>\n",
              "    <tr>\n",
              "      <th>18</th>\n",
              "      <td>-0.147396</td>\n",
              "      <td>1.000000</td>\n",
              "      <td>3</td>\n",
              "      <td>allenai/aspire-sentence-embedder</td>\n",
              "    </tr>\n",
              "    <tr>\n",
              "      <th>19</th>\n",
              "      <td>-0.155263</td>\n",
              "      <td>0.995647</td>\n",
              "      <td>5</td>\n",
              "      <td>allenai/aspire-sentence-embedder</td>\n",
              "    </tr>\n",
              "    <tr>\n",
              "      <th>26</th>\n",
              "      <td>-0.311195</td>\n",
              "      <td>0.978147</td>\n",
              "      <td>250</td>\n",
              "      <td>allenai/aspire-sentence-embedder</td>\n",
              "    </tr>\n",
              "    <tr>\n",
              "      <th>10</th>\n",
              "      <td>-0.157256</td>\n",
              "      <td>0.976278</td>\n",
              "      <td>5</td>\n",
              "      <td>sentence-transformers/allenai-specter</td>\n",
              "    </tr>\n",
              "    <tr>\n",
              "      <th>17</th>\n",
              "      <td>-0.312266</td>\n",
              "      <td>0.976045</td>\n",
              "      <td>250</td>\n",
              "      <td>sentence-transformers/allenai-specter</td>\n",
              "    </tr>\n",
              "    <tr>\n",
              "      <th>35</th>\n",
              "      <td>-0.307390</td>\n",
              "      <td>0.975961</td>\n",
              "      <td>250</td>\n",
              "      <td>allenai/aspire-contextualsentence-multim-compsci</td>\n",
              "    </tr>\n",
              "    <tr>\n",
              "      <th>2</th>\n",
              "      <td>-0.062271</td>\n",
              "      <td>0.969946</td>\n",
              "      <td>10</td>\n",
              "      <td>paraphrase-distilroberta-base-v2</td>\n",
              "    </tr>\n",
              "    <tr>\n",
              "      <th>1</th>\n",
              "      <td>-0.118759</td>\n",
              "      <td>0.969882</td>\n",
              "      <td>5</td>\n",
              "      <td>paraphrase-distilroberta-base-v2</td>\n",
              "    </tr>\n",
              "    <tr>\n",
              "      <th>25</th>\n",
              "      <td>-0.267913</td>\n",
              "      <td>0.964870</td>\n",
              "      <td>100</td>\n",
              "      <td>allenai/aspire-sentence-embedder</td>\n",
              "    </tr>\n",
              "    <tr>\n",
              "      <th>3</th>\n",
              "      <td>-0.103124</td>\n",
              "      <td>0.964319</td>\n",
              "      <td>15</td>\n",
              "      <td>paraphrase-distilroberta-base-v2</td>\n",
              "    </tr>\n",
              "    <tr>\n",
              "      <th>34</th>\n",
              "      <td>-0.280481</td>\n",
              "      <td>0.962827</td>\n",
              "      <td>100</td>\n",
              "      <td>allenai/aspire-contextualsentence-multim-compsci</td>\n",
              "    </tr>\n",
              "    <tr>\n",
              "      <th>8</th>\n",
              "      <td>-0.195492</td>\n",
              "      <td>0.955651</td>\n",
              "      <td>250</td>\n",
              "      <td>paraphrase-distilroberta-base-v2</td>\n",
              "    </tr>\n",
              "    <tr>\n",
              "      <th>29</th>\n",
              "      <td>-0.092231</td>\n",
              "      <td>0.949627</td>\n",
              "      <td>10</td>\n",
              "      <td>allenai/aspire-contextualsentence-multim-compsci</td>\n",
              "    </tr>\n",
              "    <tr>\n",
              "      <th>33</th>\n",
              "      <td>-0.152010</td>\n",
              "      <td>0.947135</td>\n",
              "      <td>50</td>\n",
              "      <td>allenai/aspire-contextualsentence-multim-compsci</td>\n",
              "    </tr>\n",
              "    <tr>\n",
              "      <th>20</th>\n",
              "      <td>-0.074128</td>\n",
              "      <td>0.944212</td>\n",
              "      <td>10</td>\n",
              "      <td>allenai/aspire-sentence-embedder</td>\n",
              "    </tr>\n",
              "    <tr>\n",
              "      <th>28</th>\n",
              "      <td>-0.095494</td>\n",
              "      <td>0.940125</td>\n",
              "      <td>5</td>\n",
              "      <td>allenai/aspire-contextualsentence-multim-compsci</td>\n",
              "    </tr>\n",
              "    <tr>\n",
              "      <th>5</th>\n",
              "      <td>-0.056377</td>\n",
              "      <td>0.940038</td>\n",
              "      <td>25</td>\n",
              "      <td>paraphrase-distilroberta-base-v2</td>\n",
              "    </tr>\n",
              "    <tr>\n",
              "      <th>4</th>\n",
              "      <td>-0.087693</td>\n",
              "      <td>0.939731</td>\n",
              "      <td>20</td>\n",
              "      <td>paraphrase-distilroberta-base-v2</td>\n",
              "    </tr>\n",
              "    <tr>\n",
              "      <th>6</th>\n",
              "      <td>-0.083306</td>\n",
              "      <td>0.938958</td>\n",
              "      <td>50</td>\n",
              "      <td>paraphrase-distilroberta-base-v2</td>\n",
              "    </tr>\n",
              "    <tr>\n",
              "      <th>7</th>\n",
              "      <td>-0.117047</td>\n",
              "      <td>0.937101</td>\n",
              "      <td>100</td>\n",
              "      <td>paraphrase-distilroberta-base-v2</td>\n",
              "    </tr>\n",
              "    <tr>\n",
              "      <th>16</th>\n",
              "      <td>-0.154382</td>\n",
              "      <td>0.931300</td>\n",
              "      <td>100</td>\n",
              "      <td>sentence-transformers/allenai-specter</td>\n",
              "    </tr>\n",
              "    <tr>\n",
              "      <th>24</th>\n",
              "      <td>-0.132226</td>\n",
              "      <td>0.925919</td>\n",
              "      <td>50</td>\n",
              "      <td>allenai/aspire-sentence-embedder</td>\n",
              "    </tr>\n",
              "    <tr>\n",
              "      <th>32</th>\n",
              "      <td>-0.112062</td>\n",
              "      <td>0.921793</td>\n",
              "      <td>25</td>\n",
              "      <td>allenai/aspire-contextualsentence-multim-compsci</td>\n",
              "    </tr>\n",
              "    <tr>\n",
              "      <th>23</th>\n",
              "      <td>-0.096522</td>\n",
              "      <td>0.920265</td>\n",
              "      <td>25</td>\n",
              "      <td>allenai/aspire-sentence-embedder</td>\n",
              "    </tr>\n",
              "    <tr>\n",
              "      <th>13</th>\n",
              "      <td>-0.056134</td>\n",
              "      <td>0.919598</td>\n",
              "      <td>20</td>\n",
              "      <td>sentence-transformers/allenai-specter</td>\n",
              "    </tr>\n",
              "    <tr>\n",
              "      <th>11</th>\n",
              "      <td>-0.056733</td>\n",
              "      <td>0.915606</td>\n",
              "      <td>10</td>\n",
              "      <td>sentence-transformers/allenai-specter</td>\n",
              "    </tr>\n",
              "    <tr>\n",
              "      <th>12</th>\n",
              "      <td>-0.047257</td>\n",
              "      <td>0.912845</td>\n",
              "      <td>15</td>\n",
              "      <td>sentence-transformers/allenai-specter</td>\n",
              "    </tr>\n",
              "    <tr>\n",
              "      <th>14</th>\n",
              "      <td>-0.028877</td>\n",
              "      <td>0.911717</td>\n",
              "      <td>25</td>\n",
              "      <td>sentence-transformers/allenai-specter</td>\n",
              "    </tr>\n",
              "    <tr>\n",
              "      <th>22</th>\n",
              "      <td>-0.057271</td>\n",
              "      <td>0.907285</td>\n",
              "      <td>20</td>\n",
              "      <td>allenai/aspire-sentence-embedder</td>\n",
              "    </tr>\n",
              "    <tr>\n",
              "      <th>30</th>\n",
              "      <td>-0.063466</td>\n",
              "      <td>0.900716</td>\n",
              "      <td>15</td>\n",
              "      <td>allenai/aspire-contextualsentence-multim-compsci</td>\n",
              "    </tr>\n",
              "    <tr>\n",
              "      <th>21</th>\n",
              "      <td>-0.058857</td>\n",
              "      <td>0.887296</td>\n",
              "      <td>15</td>\n",
              "      <td>allenai/aspire-sentence-embedder</td>\n",
              "    </tr>\n",
              "    <tr>\n",
              "      <th>31</th>\n",
              "      <td>-0.100745</td>\n",
              "      <td>0.886073</td>\n",
              "      <td>20</td>\n",
              "      <td>allenai/aspire-contextualsentence-multim-compsci</td>\n",
              "    </tr>\n",
              "    <tr>\n",
              "      <th>15</th>\n",
              "      <td>-0.078490</td>\n",
              "      <td>0.883706</td>\n",
              "      <td>50</td>\n",
              "      <td>sentence-transformers/allenai-specter</td>\n",
              "    </tr>\n",
              "  </tbody>\n",
              "</table>\n",
              "</div>\n",
              "      <button class=\"colab-df-convert\" onclick=\"convertToInteractive('df-e5d82eb6-625e-4566-a622-1a29233f562a')\"\n",
              "              title=\"Convert this dataframe to an interactive table.\"\n",
              "              style=\"display:none;\">\n",
              "        \n",
              "  <svg xmlns=\"http://www.w3.org/2000/svg\" height=\"24px\"viewBox=\"0 0 24 24\"\n",
              "       width=\"24px\">\n",
              "    <path d=\"M0 0h24v24H0V0z\" fill=\"none\"/>\n",
              "    <path d=\"M18.56 5.44l.94 2.06.94-2.06 2.06-.94-2.06-.94-.94-2.06-.94 2.06-2.06.94zm-11 1L8.5 8.5l.94-2.06 2.06-.94-2.06-.94L8.5 2.5l-.94 2.06-2.06.94zm10 10l.94 2.06.94-2.06 2.06-.94-2.06-.94-.94-2.06-.94 2.06-2.06.94z\"/><path d=\"M17.41 7.96l-1.37-1.37c-.4-.4-.92-.59-1.43-.59-.52 0-1.04.2-1.43.59L10.3 9.45l-7.72 7.72c-.78.78-.78 2.05 0 2.83L4 21.41c.39.39.9.59 1.41.59.51 0 1.02-.2 1.41-.59l7.78-7.78 2.81-2.81c.8-.78.8-2.07 0-2.86zM5.41 20L4 18.59l7.72-7.72 1.47 1.35L5.41 20z\"/>\n",
              "  </svg>\n",
              "      </button>\n",
              "      \n",
              "  <style>\n",
              "    .colab-df-container {\n",
              "      display:flex;\n",
              "      flex-wrap:wrap;\n",
              "      gap: 12px;\n",
              "    }\n",
              "\n",
              "    .colab-df-convert {\n",
              "      background-color: #E8F0FE;\n",
              "      border: none;\n",
              "      border-radius: 50%;\n",
              "      cursor: pointer;\n",
              "      display: none;\n",
              "      fill: #1967D2;\n",
              "      height: 32px;\n",
              "      padding: 0 0 0 0;\n",
              "      width: 32px;\n",
              "    }\n",
              "\n",
              "    .colab-df-convert:hover {\n",
              "      background-color: #E2EBFA;\n",
              "      box-shadow: 0px 1px 2px rgba(60, 64, 67, 0.3), 0px 1px 3px 1px rgba(60, 64, 67, 0.15);\n",
              "      fill: #174EA6;\n",
              "    }\n",
              "\n",
              "    [theme=dark] .colab-df-convert {\n",
              "      background-color: #3B4455;\n",
              "      fill: #D2E3FC;\n",
              "    }\n",
              "\n",
              "    [theme=dark] .colab-df-convert:hover {\n",
              "      background-color: #434B5C;\n",
              "      box-shadow: 0px 1px 3px 1px rgba(0, 0, 0, 0.15);\n",
              "      filter: drop-shadow(0px 1px 2px rgba(0, 0, 0, 0.3));\n",
              "      fill: #FFFFFF;\n",
              "    }\n",
              "  </style>\n",
              "\n",
              "      <script>\n",
              "        const buttonEl =\n",
              "          document.querySelector('#df-e5d82eb6-625e-4566-a622-1a29233f562a button.colab-df-convert');\n",
              "        buttonEl.style.display =\n",
              "          google.colab.kernel.accessAllowed ? 'block' : 'none';\n",
              "\n",
              "        async function convertToInteractive(key) {\n",
              "          const element = document.querySelector('#df-e5d82eb6-625e-4566-a622-1a29233f562a');\n",
              "          const dataTable =\n",
              "            await google.colab.kernel.invokeFunction('convertToInteractive',\n",
              "                                                     [key], {});\n",
              "          if (!dataTable) return;\n",
              "\n",
              "          const docLinkHtml = 'Like what you see? Visit the ' +\n",
              "            '<a target=\"_blank\" href=https://colab.research.google.com/notebooks/data_table.ipynb>data table notebook</a>'\n",
              "            + ' to learn more about interactive tables.';\n",
              "          element.innerHTML = '';\n",
              "          dataTable['output_type'] = 'display_data';\n",
              "          await google.colab.output.renderOutput(dataTable, element);\n",
              "          const docLink = document.createElement('div');\n",
              "          docLink.innerHTML = docLinkHtml;\n",
              "          element.appendChild(docLink);\n",
              "        }\n",
              "      </script>\n",
              "    </div>\n",
              "  </div>\n",
              "  "
            ]
          },
          "metadata": {},
          "execution_count": 12
        }
      ],
      "source": [
        "results_df.sort_values(by='diversity', ascending=False)[\n",
        "    ['coherence','diversity','num_topics', 'embedding_model']\n",
        "]"
      ]
    },
    {
      "cell_type": "code",
      "execution_count": 30,
      "metadata": {
        "id": "ajiQpog4Mh6q"
      },
      "outputs": [],
      "source": [
        "ctm_model = results_df.sort_values(by='coherence', ascending=False).iloc[0]['model']"
      ]
    },
    {
      "cell_type": "code",
      "execution_count": 31,
      "metadata": {
        "colab": {
          "base_uri": "https://localhost:8080/"
        },
        "id": "0TCK_GvsMh6q",
        "outputId": "77783593-455d-4a30-c9ea-373e94069326"
      },
      "outputs": [
        {
          "output_type": "execute_result",
          "data": {
            "text/plain": [
              "[['search', 'article', 'perform', 'literature', 'keyword'],\n",
              " ['search', 'keyword', 'article', 'database', 'field'],\n",
              " ['web_of_science', 'scopus', 'bibliometric_analyse', 'compare', 'large'],\n",
              " ['relevant', 'keyword', 'search', 'review', 'follow'],\n",
              " ['author', 'publication', 'emerge', 'country', 'fact'],\n",
              " ['english', 'language', 'publication', 'paulhu', 'researcher'],\n",
              " ['citation', 'datum', 'google_scholar', 'bibliometric_analyse', 'evaluation'],\n",
              " ['coverage', 'wos', 'scopus', 'citation', 'compare'],\n",
              " ['wos', 'journal', 'scopus', 'coverage', 'compare'],\n",
              " ['search', 'keyword', 'review', 'literature', 'abstract'],\n",
              " ['journal', 'wos', 'scopus', 'compare', 'show'],\n",
              " ['research', 'review', 'identify', 'purpose', 'impact'],\n",
              " ['exclusion', 'britton', 'sdgs', 'people', 'ınal'],\n",
              " ['web_of_science', 'well', 'database', 'scopus_database', 'choose'],\n",
              " ['purpose', 'review', 'engine', 'field', 'research'],\n",
              " ['identify', 'literature', 'define', 'sustainability', 'keyword'],\n",
              " ['coverage', 'scopus', 'wos', 'comparison', 'citation'],\n",
              " ['database', 'scopus_database', 'search', 'field', 'abstract'],\n",
              " ['database', 'web_of_science', 'well', 'large', 'choose'],\n",
              " ['paulhu', 'limitation', 'publish', 'publication', 'bias'],\n",
              " ['journal', 'scopus', 'wos', 'citation', 'large'],\n",
              " ['citation', 'index', 'journal', 'paulhu', 'datum'],\n",
              " ['assessment', 'year', 'reference', 'weakness', 'bibliometric'],\n",
              " ['country', 'english', 'author', 'language', 'increase'],\n",
              " ['bias', 'publication', 'paulhu', 'publish', 'limitation']]"
            ]
          },
          "metadata": {},
          "execution_count": 31
        }
      ],
      "source": [
        "ctm_model.get_topic_lists(5)"
      ]
    },
    {
      "cell_type": "markdown",
      "metadata": {
        "id": "Tw-9cscsMh6q"
      },
      "source": [
        "## Visualize topics"
      ]
    },
    {
      "cell_type": "code",
      "execution_count": 15,
      "metadata": {
        "colab": {
          "base_uri": "https://localhost:8080/",
          "height": 970
        },
        "id": "m5vnhSQJMh6r",
        "outputId": "27c06766-d583-463e-98df-3cef7d8145bb"
      },
      "outputs": [
        {
          "output_type": "stream",
          "name": "stderr",
          "text": [
            "/usr/local/lib/python3.7/dist-packages/past/types/oldstr.py:5: DeprecationWarning: Using or importing the ABCs from 'collections' instead of from 'collections.abc' is deprecated since Python 3.3,and in 3.9 it will stop working\n",
            "  from collections import Iterable\n",
            "Sampling: [1/1]: : 1it [00:00,  2.36it/s]\n",
            "/usr/local/lib/python3.7/dist-packages/pyLDAvis/_prepare.py:247: FutureWarning: In a future version of pandas all arguments of DataFrame.drop except for the argument 'labels' will be keyword-only\n",
            "  by='saliency', ascending=False).head(R).drop('saliency', 1)\n"
          ]
        },
        {
          "output_type": "execute_result",
          "data": {
            "text/plain": [
              "<IPython.core.display.HTML object>"
            ],
            "text/html": [
              "\n",
              "<link rel=\"stylesheet\" type=\"text/css\" href=\"https://cdn.jsdelivr.net/gh/bmabey/pyLDAvis@3.3.1/pyLDAvis/js/ldavis.v1.0.0.css\">\n",
              "\n",
              "\n",
              "<div id=\"ldavis_el272111397388307525925714025946\"></div>\n",
              "<script type=\"text/javascript\">\n",
              "\n",
              "var ldavis_el272111397388307525925714025946_data = {\"mdsDat\": {\"x\": [-0.0005699752927054373, 0.00017542688997112364, -0.000281675896216692, 0.0023696401296920563, -0.0004584387131572379, 0.0004113397035116098, 0.0002272860280347577, -1.2937722900344086e-05, -0.0005905813285690153, -0.00020355339173849948, 0.0001484789390403294, 8.383229903496329e-05, -0.0001478094128863912, -3.166816045239649e-05, 0.000487544394704677, -9.377370169937959e-05, 0.0004263464812054105, -5.635087103972981e-05, -6.897920063583685e-05, -0.0002799101548807584, -0.00013246613468590552, -0.00035629006877965736, -0.0002724055839898064, -0.00047225528319666847, -0.00030082394766117087], \"y\": [-0.00034406943549590997, 0.00016208029316805688, -0.0004451387273622893, -0.0006939656842299646, -0.0004085792579192145, 0.0002123493030061003, 0.00040521171274806423, 0.0002163776409047469, -0.0005242027976257108, 0.000630281759192975, 0.00019439476701659596, 0.00048046948789417387, 0.0002673787930953392, 0.0004434697182637025, 0.00019104496328188812, 0.00047173844111888494, 0.0003754189575593967, -0.000636526178265918, 3.7780417900188725e-05, -0.00027664244843386427, 0.00045790673777137427, -0.00030973252560591736, -0.0002700010490483887, -0.0005783655178652217, -5.8679371069090004e-05], \"topics\": [1, 2, 3, 4, 5, 6, 7, 8, 9, 10, 11, 12, 13, 14, 15, 16, 17, 18, 19, 20, 21, 22, 23, 24, 25], \"cluster\": [1, 1, 1, 1, 1, 1, 1, 1, 1, 1, 1, 1, 1, 1, 1, 1, 1, 1, 1, 1, 1, 1, 1, 1, 1], \"Freq\": [4.684069826403872, 4.62845450677696, 4.614926181447002, 4.46516708820441, 4.3116574130966425, 4.2349321936848225, 4.23375677419179, 4.216877603427375, 4.2119508963089105, 4.203052617398377, 4.047089391965456, 4.046386878617867, 4.022304583698252, 3.9854409629773406, 3.9715018597375087, 3.8868246835832174, 3.826741314652523, 3.8094470172380817, 3.7786217959169943, 3.757684325604181, 3.6260697459703164, 3.53847442582797, 3.488542210067584, 3.48085066626021, 2.9291750369423357]}, \"tinfo\": {\"Term\": [\"web_of_science\", \"well\", \"scopus\", \"large\", \"coverage\", \"keyword\", \"database\", \"search\", \"choose\", \"abstract\", \"scopus_database\", \"compare\", \"comparison\", \"wide\", \"field\", \"offer\", \"great\", \"choice\", \"title\", \"journal\", \"early\", \"engine\", \"table\", \"term\", \"wos\", \"perform\", \"management\", \"citation\", \"scopus_cover\", \"select\", \"keyword\", \"search\", \"follow\", \"review\", \"article\", \"relevant\", \"management\", \"field\", \"choose\", \"scopus_database\", \"database\", \"literature\", \"perform\", \"consider\", \"select\", \"peerreviewe\", \"ensure\", \"superior\", \"carry\", \"term\", \"conduct\", \"include\", \"combination\", \"identify\", \"criterion\", \"employ\", \"citation_database\", \"extant\", \"scopus_index\", \"wide\", \"order\", \"paulhu\", \"study\", \"area\", \"web_of_science\", \"abstract\", \"social_science\", \"language\", \"english\", \"publication\", \"english_language\", \"researcher\", \"ecology\", \"country\", \"limit\", \"reflect\", \"englishlanguage\", \"publish\", \"influence\", \"underrepresented\", \"book\", \"overrepresentation\", \"underrepresentation\", \"limitation\", \"overrepresente\", \"bias\", \"produce\", \"likely\", \"developing_countrie\", \"underrepresent\", \"archambaultal\", \"nonenglish_language\", \"account\", \"biased\", \"netherland\", \"paulhu\", \"context\", \"result\", \"certain\", \"research\", \"discipline\", \"analysis\", \"potential\", \"humanity\", \"identify\", \"review\", \"research\", \"sustainability\", \"purpose\", \"impact\", \"end\", \"exist\", \"appropriate\", \"objective\", \"literature\", \"bibliometric_method\", \"keyword\", \"circular_economy\", \"knowledge\", \"environmental\", \"knowledge_base\", \"propose\", \"order\", \"relevant\", \"industry\", \"researcher\", \"case\", \"ensure\", \"people\", \"evolution\", \"new\", \"analyze\", \"stakeholder\", \"practice\", \"trend\", \"conduct\", \"study\", \"give\", \"platform\", \"limit\", \"article\", \"people\", \"ebscho\", \"identical\", \"analytical\", \"effort\", \"\\u0131nal\", \"exclusion\", \"anticipate\", \"source_title\", \"gm\\u00fcr\", \"britton\", \"raise\", \"google\", \"correct\", \"research_literature\", \"animal\", \"match\", \"lack_of_transparency\", \"technical_reports\", \"professor\", \"mastrogiacomo\", \"sdgs\", \"implement\", \"scopus_dbs\", \"subject_coverage\", \"sufficient\", \"erosion\", \"wos_journal_coverage\", \"periodical\", \"life_sciences\", \"preferred_reporting_items_for_systematic_reviews_and_metaanalyse\", \"detail\", \"final\", \"bibliometric_approach\", \"reference\", \"subject_areas\", \"particular\", \"search\", \"perform\", \"keyword\", \"article\", \"literature\", \"follow\", \"analysis\", \"management\", \"review\", \"study\", \"include\", \"relevant\", \"scopus_database\", \"abstract\", \"strategy\", \"systematic_review\", \"natural_science\", \"criterion\", \"paper\", \"ensure\", \"order\", \"carry\", \"identify\", \"peerreviewe\", \"agriculture\", \"range\", \"scientific\", \"conduct\", \"term\", \"database\", \"field\", \"select\", \"paulhu\", \"well\", \"collaboration\", \"increase\", \"country\", \"english\", \"ecology\", \"biased\", \"sancho\", \"developing_countrie\", \"language\", \"weak\", \"scholarly_communication\", \"archambaultal\", \"overestimate\", \"balt\\u00e0\", \"production\", \"national_publishing_systems\", \"author\", \"contrast\", \"sample\", \"overrepresentation\", \"time\", \"imply\", \"detriment\", \"emerge\", \"dominate\", \"rate\", \"public_administration\", \"raanal\", \"underestimate\", \"composition\", \"write\", \"influence\", \"publication\", \"fact\", \"publish\", \"analysis\", \"english_language\", \"publisher\", \"share\", \"represent\", \"result\", \"citation\", \"favor\", \"index\", \"citation_analysis\", \"bibliometric_analyse\", \"journal\", \"example\", \"harze\", \"bias\", \"available\", \"alakangas\", \"biomedical_research\", \"depend\", \"calculation\", \"take\", \"datum\", \"scholarly_journal\", \"englishlanguage\", \"note\", \"wang\", \"raw\", \"satisfy\", \"author\", \"detriment\", \"approach\", \"addition\", \"count\", \"oppose\", \"system\", \"reveal\", \"paulhu\", \"wos\", \"recommend\", \"book\", \"directory\", \"difference\", \"compare\", \"year\", \"humanity\", \"citation\", \"google_scholar\", \"datum\", \"bibliometric_analyse\", \"evaluation\", \"microsoft\", \"scientometric\", \"thelwall\", \"scholarly_database\", \"yang\", \"research_evaluation\", \"give\", \"provide\", \"require\", \"bibliometric_indicator_takes\", \"value\", \"vary\", \"university\", \"valid\", \"unit_of_analysis\", \"comparison\", \"fair\", \"harze\", \"bibliometric_analysis\", \"selection\", \"examine\", \"evaluate\", \"source\", \"effectiveness\", \"suitability\", \"impact\", \"bibliometric\", \"bibliometric_data\", \"different\", \"individual\", \"purpose\", \"search\", \"keyword\", \"management\", \"identify\", \"abstract\", \"review\", \"literature\", \"term\", \"relevant\", \"field\", \"strategy\", \"string\", \"carry\", \"combination\", \"conduct\", \"scopus_index\", \"employ\", \"select\", \"retrieve\", \"range\", \"sustainable\", \"perform\", \"web_of_science\", \"ensure\", \"engineer\", \"citation_database\", \"systematic_review\", \"supply_chain\", \"follow\", \"period\", \"engine\", \"include\", \"research\", \"order\", \"scopus_database\", \"main\", \"journal\", \"wos\", \"coverage\", \"citation\", \"scopus\", \"compare\", \"show\", \"country\", \"citation_analysis\", \"high\", \"great\", \"receive\", \"gavel\", \"rank\", \"number\", \"correlation\", \"underrepresented\", \"humanity\", \"overlap\", \"scopus_data\", \"comparison\", \"comprehensive_analysis\", \"social_science\", \"singhal\", \"scientometric\", \"index\", \"englishlanguage\", \"find\", \"proportion\", \"alternative\", \"bias\", \"example\", \"paulhu\", \"analysis\", \"source\", \"report\", \"author\", \"bias\", \"publication\", \"publish\", \"limitation\", \"english\", \"humanity\", \"language\", \"influence\", \"paulhu\", \"book\", \"sample\", \"art\", \"overrepresente\", \"english_language\", \"second\", \"underrepresented\", \"biomedicine\", \"netherland\", \"assign\", \"social_science\", \"country\", \"reflect\", \"produce\", \"author\", \"researcher\", \"limit\", \"remain\", \"use\", \"case\", \"despite\", \"englishlanguage\", \"result\", \"datum\", \"potential\", \"analysis\", \"few\", \"include\", \"coverage\", \"citation\", \"wos\", \"singhal\", \"scopus_coverage\", \"scopus\", \"scholarly_journal\", \"show\", \"compare\", \"alternative\", \"discipline\", \"bias\", \"rank\", \"unique\", \"index\", \"report\", \"classification\", \"journal\", \"extent\", \"comparative_study\", \"citation_analysis\", \"onward\", \"instance\", \"comparison\", \"note\", \"receive\", \"datum\", \"indexing\", \"ulrichsweb\", \"accurate\", \"addition\", \"share\", \"source\", \"paulhu\", \"great\", \"conclude\", \"question\", \"biomedical_research\", \"humanity\", \"journal\", \"citation\", \"large\", \"scopus\", \"great\", \"compare\", \"peerreviewe\", \"wos\", \"choose\", \"wide\", \"find\", \"cover\", \"journal_coverage\", \"show\", \"number\", \"record\", \"multidisciplinary\", \"overlap\", \"indexed_journal\", \"bibliometric_analysis\", \"chadeganial\", \"note\", \"pubmed\", \"index\", \"title\", \"elsevi\", \"gome\", \"list\", \"alakangas\", \"decision\", \"coverage\", \"comparison\", \"web_of_science\", \"obtain\", \"biomedical_research\", \"database\", \"field\", \"limitation\", \"publish\", \"paulhu\", \"publication\", \"bias\", \"index\", \"englishlanguage\", \"developing_countrie\", \"art\", \"english\", \"language\", \"biased\", \"limit\", \"include\", \"humanity\", \"social_science\", \"andor\", \"overrepresente\", \"instance\", \"dissemination\", \"archambaultal\", \"despite\", \"certain\", \"different\", \"brazil\", \"country\", \"book\", \"produce\", \"result\", \"picture\", \"english_language\", \"discipline\", \"wos\", \"journal\", \"datum\", \"researcher\", \"author\", \"analysis\", \"research\", \"corporation\", \"weakness\", \"academic_document\", \"easy\", \"authority\", \"filser\", \"assessment\", \"ulrichs_web\", \"bibliometric_indicator\", \"enterprise\", \"citable\", \"reference\", \"communication\", \"disciplinary_coverage\", \"year\", \"institutional_addresse\", \"research_area\", \"bibliometric\", \"serial\", \"verabacetaal\", \"dbs\", \"fraction\", \"evaluate\", \"strength\", \"manipulation\", \"emergence\", \"principal\", \"amount\", \"institution\", \"scientific_discipline\", \"citation_count\", \"academic\", \"provide\", \"selective\", \"prestigious\", \"development\", \"version\", \"waltman\", \"raan\", \"user\", \"journal\", \"show\", \"compare\", \"wos\", \"scopus\", \"index\", \"large\", \"biomedical_research\", \"broad\", \"cover\", \"citation\", \"wide\", \"high\", \"serial\", \"number\", \"coverage\", \"great\", \"classification\", \"level\", \"comparison\", \"citation_indexe\", \"overrepresentation\", \"overlap\", \"scopus_coverage\", \"journal_title\", \"largescale\", \"receive\", \"social_science\", \"exclusive\", \"find\", \"choose\", \"contain\", \"web_of_science\", \"wos_database\", \"humanity\", \"pubme\", \"country\", \"emerge\", \"composition\", \"unique\", \"collaboration_pattern\", \"author\", \"similar\", \"principal\", \"bibliographic_records\", \"corporation\", \"publisher\", \"considerable\", \"acm_digital_library\", \"identical\", \"disease\", \"bibliometric_feature\", \"fact\", \"overrepresentation\", \"biased\", \"likely\", \"publication\", \"country\", \"estimate\", \"pattern\", \"international_scene\", \"linguistic\", \"increase\", \"scholarly_communication\", \"difference\", \"india\", \"raise\", \"conference\", \"overrepresente\", \"humanity\", \"limit\", \"underrepresent\", \"account\", \"second\", \"point\", \"issue\", \"social_science\", \"number\", \"book\", \"knowledge_base\", \"define\", \"literature_review\", \"sustainability\", \"sustainable\", \"propose\", \"appropriate\", \"identify\", \"keyword\", \"add\", \"objective\", \"catalogue\", \"corporate\", \"urban\", \"guideline\", \"section\", \"stakeholder\", \"qualitative\", \"purpose\", \"order\", \"accommodate\", \"feedback\", \"literature\", \"combination\", \"circular_economy\", \"answer\", \"fund\", \"educational\", \"environmental\", \"singular\", \"case\", \"review\", \"requirement\", \"follow\", \"abstract\", \"knowledge\", \"bibliometric_analyse\", \"web_of_science\", \"large\", \"choice\", \"compare\", \"well\", \"great\", \"citation\", \"scopus\", \"low\", \"google_scholar\", \"citation_database\", \"allow\", \"download\", \"contain\", \"datum\", \"classification\", \"elseviers_scopus\", \"have\", \"question\", \"scopus_data\", \"scientific_production\", \"quality\", \"late\", \"coverage\", \"obtain\", \"advantage\", \"comprehensiveness\", \"reveal\", \"factor\", \"good\", \"database\", \"comparison\", \"wos\", \"choose\", \"engine\", \"show\", \"database\", \"web_of_science\", \"well\", \"large\", \"december\", \"offer\", \"choose\", \"select\", \"valid\", \"searching\", \"summary\", \"present\", \"title\", \"systemic_sclerosis\", \"comprehensive_database\", \"recognize\", \"string\", \"good\", \"search\", \"social_sciencetype_research\", \"question\", \"scleroderma\", \"october\", \"localisedlocalized_scleroderma\", \"comprehensiveness\", \"ssc\", \"extensive\", \"google_scholar\", \"combine\", \"highquality\", \"scopus_database\", \"high\", \"scopus\", \"term\", \"engine\", \"wide\", \"abstract\", \"retrieve\", \"comparison\", \"compare\", \"coverage\", \"comparison\", \"citation\", \"scopus\", \"index\", \"scopus_data\", \"journal\", \"great\", \"wos\", \"show\", \"scopus_coverage\", \"google_scholar\", \"data_quality\", \"overlap\", \"reveal\", \"find\", \"number\", \"web_of_science\", \"compare\", \"question\", \"comparative_study\", \"metadata\", \"alternative\", \"extent\", \"correlation\", \"classification\", \"clarivate_analytic\", \"rank\", \"low\", \"variation\", \"gavel\", \"good\", \"datum\", \"obtain\", \"cover\", \"database\", \"scopus_database\", \"search\", \"abstract\", \"field\", \"select\", \"present\", \"large\", \"extensive\", \"choose\", \"wide\", \"medline\", \"well\", \"keyword\", \"peerreviewe\", \"reduce\", \"technology\", \"conduct\", \"scopus_index\", \"comprehensiveness\", \"combination\", \"december\", \"highquality\", \"systematic_review\", \"management\", \"string\", \"web_of_science\", \"generate\", \"include\", \"engine\", \"study\", \"area\", \"choice\", \"carry\", \"review\", \"literature\", \"relevant\", \"title\", \"literature_review\", \"scopus_index\", \"purpose\", \"generate\", \"engine\", \"opt\", \"review\", \"stage\", \"superior\", \"sustainability\", \"increase\", \"criterion\", \"relevance\", \"education\", \"quantitative\", \"catalogue\", \"inclusion\", \"integrity\", \"apply\", \"keyword\", \"comprehensive\", \"gather\", \"form\", \"scope\", \"management\", \"body\", \"stakeholder\", \"vast\", \"extant\", \"agriculture\", \"field\", \"early\", \"facilitate\", \"choice\", \"literature\", \"relevant\", \"research\", \"article\", \"single\", \"repository\", \"principle\", \"conduct\", \"keyword\", \"relevant\", \"follow\", \"management\", \"search\", \"review\", \"scopus_index\", \"sustainable\", \"strategy\", \"conduct\", \"abstract\", \"employ\", \"systematic_review\", \"superior\", \"december\", \"string\", \"sustainability\", \"retrieve\", \"article\", \"scopus_database\", \"engine\", \"research\", \"regard\", \"systematic_literature_review\", \"basis\", \"include\", \"ebsco\", \"october\", \"identify\", \"carry\", \"paper\", \"field\", \"database\", \"study\", \"title\", \"web_of_science\", \"select\", \"choice\", \"web_of_science\", \"well\", \"choose\", \"scopus_database\", \"phrase\", \"database\", \"word\", \"skill\", \"comprehensiveness\", \"search\", \"good\", \"technology\", \"field\", \"experience\", \"chadeganial\", \"present\", \"extensive\", \"comparison\", \"abstract\", \"offer\", \"large\", \"google_scholar\", \"work\", \"coverage\", \"create\", \"return\", \"valid\", \"title\", \"free\", \"comparative_analysis\", \"scopus\", \"key\", \"question\", \"study\", \"select\", \"great\"], \"Freq\": [11.0, 11.0, 11.0, 11.0, 11.0, 10.0, 11.0, 11.0, 10.0, 11.0, 11.0, 11.0, 10.0, 10.0, 11.0, 10.0, 11.0, 11.0, 10.0, 11.0, 10.0, 11.0, 10.0, 11.0, 11.0, 10.0, 10.0, 11.0, 10.0, 10.0, 0.6297973186881997, 0.6302500519371307, 0.6042018818481757, 0.6109656184638111, 0.6170342469306297, 0.6099043684326335, 0.5872632550279868, 0.6117296153049577, 0.596791289515796, 0.6013650535906855, 0.615538472115454, 0.6031040125708551, 0.5932630959606141, 0.5934800801677321, 0.5893243015211932, 0.5798093164332527, 0.5857614613035693, 0.565860266659714, 0.5809076915012659, 0.5893807477624855, 0.5858533634724117, 0.5954743117104484, 0.559898056554615, 0.579939001166831, 0.5721301492431113, 0.5648814099323581, 0.5769143728251847, 0.5545819940592907, 0.5516841168652056, 0.5756626925982495, 0.5791144106007129, 0.600606165235534, 0.5918963483511163, 0.5764749418714685, 0.5886485145768331, 0.5752881040113226, 0.57766618011064, 0.6065513264617887, 0.6074381954641982, 0.6037209423905316, 0.5893872001446572, 0.5953127545353969, 0.5627268533895531, 0.5896632315619751, 0.5850939944993497, 0.5742715438079008, 0.5759987518019426, 0.5918122583432999, 0.5745238354238018, 0.5743263202760125, 0.5881202444269292, 0.5651068309547681, 0.5669024595554201, 0.5862090654665382, 0.571246593322083, 0.5841907825178595, 0.568915594715581, 0.5628873344471319, 0.5585921796391818, 0.5687108326810433, 0.5640631293274185, 0.5445058810918664, 0.5656986766987261, 0.565470774605123, 0.5545311742409973, 0.5958312817768733, 0.5621090188103597, 0.5804784773185936, 0.5678280119395069, 0.5787985490132687, 0.5660834613957986, 0.5708406177285879, 0.5681169877959134, 0.5660661688246611, 0.6074058277916764, 0.6157029305578771, 0.6226565504977908, 0.5861225383013702, 0.5959512912214564, 0.5955044436508586, 0.5805363705957346, 0.5808806131537462, 0.5776188800338729, 0.5688741822103389, 0.5942875352451492, 0.5654236339410293, 0.5787906402407464, 0.5662514505845857, 0.5844119896554086, 0.5685373646872353, 0.5443694242189888, 0.5635507810085242, 0.579591796524063, 0.5856648770893295, 0.5503641681743545, 0.5837074584907928, 0.5640148207740429, 0.5727093871538363, 0.5523034975938875, 0.5578381883796583, 0.5684725825034751, 0.5591310912701632, 0.5496193225584602, 0.546056950273491, 0.5618461624239991, 0.572397585520154, 0.5813361315704779, 0.566478038730399, 0.5637066569091409, 0.5658506481969067, 0.5670991005428624, 0.5526927697526496, 0.5503905357262125, 0.5511865709055143, 0.5367600605482249, 0.5421536689875089, 0.5522680890827956, 0.5564639803876743, 0.5516369985642081, 0.5432981081768429, 0.5385110486506791, 0.5548977534485807, 0.5388041014562391, 0.5483205549680189, 0.5490010179895503, 0.5434359076040048, 0.5448240270959549, 0.5426733338671281, 0.5400603520072206, 0.5440439511925071, 0.5459381388396328, 0.5442138620327167, 0.5542107813568369, 0.5477059540939693, 0.5429947855049478, 0.5475268341247927, 0.544196215220141, 0.5476326185695769, 0.5466980125177548, 0.5521964893104598, 0.5427933900510447, 0.551096167152565, 0.5477051826486108, 0.5445346868711827, 0.5432209154256581, 0.5454588301953301, 0.5433693222264994, 0.5429722689435467, 0.5883854513533056, 0.5747401746347138, 0.5672376305880872, 0.5780217025259818, 0.5685843592429801, 0.5566140431165347, 0.5635338707196628, 0.5430449348304744, 0.559071639008714, 0.5648125785433036, 0.5580696237245197, 0.5525835411579479, 0.5485961516495593, 0.5457467725301476, 0.5367149470022492, 0.528019920032378, 0.5419465916202975, 0.5344517295977341, 0.5431876342471669, 0.5386398760016459, 0.539029145111912, 0.5354345631006309, 0.5366589380631689, 0.5287841184746587, 0.5226886884478353, 0.5342733669662989, 0.5249846824883541, 0.5375214664134609, 0.5395038010835858, 0.5501737134881264, 0.5383345970211393, 0.5311201521557501, 0.5376268265374332, 0.5288892923677446, 0.5178988115036158, 0.5196021797692286, 0.5339375631990492, 0.5336379909821298, 0.5046563110553487, 0.5187923607508459, 0.5069379254945146, 0.5081077707781707, 0.5254814045655127, 0.5101531022613264, 0.49510214776596556, 0.5135495497147309, 0.49755071964124387, 0.49504763851813044, 0.49652656769953624, 0.4985017962658033, 0.5263431262653492, 0.5072728006806694, 0.511928082508575, 0.5040647119452455, 0.5085918604573507, 0.49697283930156894, 0.5051087103748393, 0.5033088534238808, 0.4991671109023413, 0.5060348645664541, 0.49647782033528104, 0.4959828013689931, 0.49832162308084493, 0.49752364793426535, 0.503734546870271, 0.5051833862152041, 0.5150141199164218, 0.5060438274964673, 0.5095259258065791, 0.5078542021714209, 0.5046866295379953, 0.5004087510845723, 0.5012027477877277, 0.5019741085196764, 0.5004051842042608, 0.5499180260856491, 0.5223824953965351, 0.5383383001797727, 0.5117401414772597, 0.5237176013025385, 0.5344434336283461, 0.5230352819063222, 0.5060621469037212, 0.5274686436113858, 0.5152786018636677, 0.5128861180471058, 0.5154459701256139, 0.5030967433770499, 0.48656797316716055, 0.5087793096048344, 0.528660931038744, 0.49855905652209254, 0.5087292957073831, 0.5061958220738744, 0.5078473321702438, 0.4916841571504074, 0.4943792844780549, 0.5203891169956495, 0.5011009419994139, 0.5072021346065051, 0.5113976331411489, 0.504128840039628, 0.4920453178358418, 0.4998737728501587, 0.5026552587265132, 0.5324070359610056, 0.5251547922478552, 0.5059706681022587, 0.5104484662865933, 0.5016206476540997, 0.5016142016216129, 0.5049234849806686, 0.5019587672021343, 0.5024580375623405, 0.5729180411408294, 0.5683941649449161, 0.5693351763636713, 0.5513023267485172, 0.5488932901608533, 0.5386893768799521, 0.5294059845920615, 0.5274848933427979, 0.5270041879548274, 0.5236465357237431, 0.533692445055013, 0.5425752722867346, 0.5480602860529123, 0.5360146022375193, 0.5237864170301602, 0.529079367205691, 0.5308409974083814, 0.527419232911856, 0.5232751581406904, 0.5207925836917427, 0.5341079908891153, 0.5193418615490185, 0.5191727472352057, 0.5259747944996934, 0.5300609041331413, 0.5205966952216236, 0.5261469596102283, 0.5350799200836053, 0.5138553451516195, 0.5201245047439069, 0.5300758849110746, 0.5233349901838649, 0.5232844015994152, 0.5263886100311773, 0.5212609037557077, 0.521044980202638, 0.5892297270265443, 0.5711535900126241, 0.5459213233746287, 0.5537301974637561, 0.5537487082634549, 0.5583097784054399, 0.5571279525327822, 0.5485579525641503, 0.5471790571703755, 0.5502746814226971, 0.5329731326880623, 0.5213112379156967, 0.5332319200352019, 0.515816395713233, 0.53763994634184, 0.5065255661022784, 0.5166814913423968, 0.5307699836752698, 0.5252982458616192, 0.5299788857638206, 0.5026580824354917, 0.5296214499534215, 0.5465623792020334, 0.5285217174307791, 0.5296918546657893, 0.5260426801846387, 0.5138598451180487, 0.5148151297295285, 0.5260246241957435, 0.5226961368120765, 0.5270844243298466, 0.528456997853454, 0.5287602202160867, 0.5214812461940109, 0.5226901787905518, 0.5215682969817833, 0.5716559732279197, 0.5783249806668076, 0.5653988800109773, 0.5495587449293583, 0.5658522761190906, 0.5501694454329391, 0.53746663895648, 0.542328370477332, 0.5198362473302527, 0.5336228475065863, 0.5349450485894355, 0.5194107629945608, 0.5187439666361624, 0.525108077673218, 0.5295398317437932, 0.5144146465011239, 0.523906056059266, 0.5372086252553164, 0.5202810656741584, 0.5165875439453821, 0.5267725723944446, 0.5041710260224744, 0.5337184736927519, 0.5107734082875174, 0.510167563978488, 0.5310093979080281, 0.5180822080122985, 0.5254765584541761, 0.513703009766868, 0.5096987369718002, 0.5294923590381788, 0.5217274401055361, 0.5380022726769957, 0.5238413824402408, 0.5211588114930684, 0.5168788248484724, 0.5180587439694663, 0.5324371205368189, 0.5318614050276674, 0.5305953465780222, 0.5271178046502679, 0.5218030773570418, 0.5196525129179306, 0.5131570750109005, 0.5032113208298433, 0.5306421502299352, 0.511781589535681, 0.49980002944952134, 0.5029136303752859, 0.49888598165922143, 0.5037678516488082, 0.49572409125132455, 0.49698459968809117, 0.47871225295718745, 0.48509459296398344, 0.4813121936359073, 0.505734522747817, 0.5028978543544264, 0.4899444739029631, 0.4905579469800443, 0.5036033615033364, 0.502299851391983, 0.4971633800242031, 0.4879357188480325, 0.5013128231173744, 0.4840046927971217, 0.4885778597081715, 0.4880681325411196, 0.500032955186866, 0.49978508374554914, 0.49228819627060394, 0.4923264345483106, 0.48935936270271796, 0.49328496984341663, 0.5563007743067157, 0.5312611473056766, 0.5449840340575395, 0.5071135627786041, 0.49682370253644, 0.5321182788305492, 0.4925605032698172, 0.5058832904461457, 0.5147790284696164, 0.492518994631971, 0.5013864193951003, 0.5109388240692979, 0.49803339532318724, 0.48515794018293185, 0.5086385027464675, 0.4989927691770704, 0.4908880547110393, 0.5114502104875631, 0.49154410965552425, 0.48343428307304265, 0.48398180385288553, 0.4759935757326417, 0.48917575785992906, 0.49677253767863166, 0.4883756024021633, 0.48360184689003227, 0.5076811824778251, 0.48549739345390774, 0.47649137353367516, 0.48876189489395094, 0.4944499764645763, 0.4897412365873033, 0.49517476097467394, 0.5017964373504148, 0.49023654387006593, 0.4867860400391688, 0.4874469012469833, 0.4874636357820308, 0.48752777755082893, 0.539437265716854, 0.5273127409185577, 0.5239229487171204, 0.5379769526528055, 0.5175571095479656, 0.5215370294515391, 0.502794535410422, 0.5310185969522204, 0.5056392836334896, 0.5026941177135544, 0.5074305581379059, 0.5044818741239196, 0.4916928204492942, 0.49987451734796357, 0.49983972730679105, 0.4948064205510859, 0.4906302691793257, 0.4898917300281425, 0.4883359072255942, 0.49014481563352624, 0.48721228879221923, 0.48981098759800556, 0.48679541636378737, 0.5032493250747385, 0.4958536833135728, 0.48900139163364104, 0.48641350770956754, 0.49042465612700264, 0.490531501946334, 0.48590003971113854, 0.5021739609931023, 0.49250215581409934, 0.5018685383095501, 0.4903217627343213, 0.490695766535241, 0.4946717340121645, 0.4919388698665756, 0.5331027049607181, 0.5274398317415991, 0.5392491217174968, 0.5247049876445242, 0.5235117075437564, 0.5193389282185022, 0.5045224243475723, 0.4947066971020543, 0.5065632397305285, 0.5139609480413293, 0.5103619140386169, 0.5009127606497903, 0.5062309649303978, 0.515103489638101, 0.5106647527600935, 0.5088056320029827, 0.4886737641748242, 0.4939095560422403, 0.49023723308931116, 0.4817899392195943, 0.4882994439816448, 0.49106992122656434, 0.49387258880311163, 0.5025784381707156, 0.48371391402719044, 0.5002329765877689, 0.5009056168061402, 0.48851461999519935, 0.5023541817293891, 0.48731828439503905, 0.49334773147084954, 0.49049144203172446, 0.5065791627555316, 0.4990162853367264, 0.4993038035260379, 0.49464304803724485, 0.49508523474509936, 0.49339713588356165, 0.4933500984069986, 0.478051428609958, 0.48462595129471947, 0.46894031958353594, 0.473659264753592, 0.4723825876264853, 0.4687257674952956, 0.4899206662702352, 0.47431514315406126, 0.4713311837593279, 0.47720149700155595, 0.4761247911691654, 0.485766726849243, 0.4762374063567966, 0.4630597140164672, 0.4872837726460653, 0.4761944787852738, 0.4670399704557738, 0.4819598531988143, 0.4660746361550962, 0.46360855223859393, 0.46709096034842174, 0.47442012486743573, 0.4806354025305723, 0.4773767238319677, 0.4667625494166319, 0.4681282551536101, 0.46363329670289827, 0.4675832336686118, 0.47042858975549134, 0.4676124381403471, 0.47114514998783347, 0.4785881304657101, 0.4801477178718737, 0.47019932821966626, 0.4693927101449686, 0.4715719812759119, 0.4700644129948803, 0.4689099572252561, 0.46829344696730224, 0.4681666369483283, 0.5335230658897445, 0.5122490171054596, 0.5199653049727575, 0.5278600087296829, 0.5234772566068084, 0.5082340510190012, 0.5012594628932924, 0.49563417903378687, 0.490052376440255, 0.4969717735768178, 0.4961768554517784, 0.4876332483616306, 0.489947954249384, 0.4679221748136955, 0.48799704721632126, 0.495600350944622, 0.4879477320739284, 0.4761419388070744, 0.48439410389826376, 0.48526431680241194, 0.46871113315131385, 0.47280076446187175, 0.47581788585863566, 0.4667627023679543, 0.4639322230462722, 0.47391352392592506, 0.4708063761628354, 0.4896944954026515, 0.47697458826233613, 0.48300266141677317, 0.4784472433400227, 0.47910198054966446, 0.4892664399666812, 0.4770278066457865, 0.4817348215687694, 0.47709374204042415, 0.4794345115055613, 0.47073833391708214, 0.4603579892824482, 0.45894561878771356, 0.4514846414864032, 0.4790107837688781, 0.46705604685162616, 0.4497508306733965, 0.44615490564228794, 0.43921214186860974, 0.45922755570654256, 0.44926815367664413, 0.4432576453368954, 0.44958599902028074, 0.453603651765528, 0.4521919837371015, 0.4672467044719511, 0.45500267540040895, 0.4604772019470857, 0.4558398499534611, 0.47260164646006253, 0.47006718934202424, 0.4543178120715695, 0.45388149785115106, 0.45043313206628877, 0.4501304104090499, 0.45415149284274253, 0.4389401634427366, 0.4574657702058549, 0.4510069643969026, 0.44170329400483166, 0.45068750751291214, 0.45594096378027843, 0.4640728377273615, 0.4589066525683884, 0.4547718945574279, 0.4537339386049048, 0.4522473959323455, 0.45218202524414564, 0.451191093212717, 0.4534434894472837, 0.4521673974163184, 0.45103688119731766, 0.46640925519661636, 0.47061393124517426, 0.4640243416505008, 0.4704198572496833, 0.45504691793877505, 0.46417082268016235, 0.46850091873979527, 0.4737403407308234, 0.46897277605269827, 0.46584628429744535, 0.4577439623619116, 0.4569819401562165, 0.45435807454570787, 0.45530520336007385, 0.455873727457505, 0.453777580220916, 0.4492736896231421, 0.455919839570465, 0.4653635673968336, 0.4657774246390198, 0.45317150004932566, 0.45441874837855, 0.47118517023953255, 0.4467647546492171, 0.45094927464483087, 0.4525053630669221, 0.4518569963189509, 0.44435528362635124, 0.45263826961194775, 0.4564965083586776, 0.4528196329536433, 0.4616637387723241, 0.4536843687597497, 0.4555679724747826, 0.45383385262995196, 0.4536233658484922, 0.4821670240917204, 0.49704557683820155, 0.4802366431295762, 0.47623817463076523, 0.48088421084639027, 0.4743117922595257, 0.47406738859096564, 0.47497633358671054, 0.4855250244126704, 0.4605415428267501, 0.4710863574676494, 0.46178885837731437, 0.46686853769635445, 0.46099199633274385, 0.46384164518347865, 0.4751000042911188, 0.4531652850622058, 0.450870869119946, 0.45192490584280265, 0.46011838582397274, 0.45185509370976323, 0.45307409270841087, 0.4550704096185339, 0.44844866147652923, 0.4691607503334219, 0.45681685539906397, 0.4525569688193742, 0.44529495650924866, 0.45194865257654254, 0.450254270081669, 0.45398107921065145, 0.4681026334157646, 0.45601574995190075, 0.46378990831340616, 0.4541908828273018, 0.4531391718154815, 0.4524924609395756, 0.5012684908247913, 0.49925783508346866, 0.4814495757046696, 0.4782353181379306, 0.45005789695873577, 0.4660223891209041, 0.47178351245906647, 0.4687824404767504, 0.4550550579475424, 0.4505049618177331, 0.45283701897021184, 0.4608898264771261, 0.46201621243517343, 0.44475986594547234, 0.44547091736942124, 0.4539129691304979, 0.4474418087649627, 0.4568463199973968, 0.4698944625792808, 0.4474917170765044, 0.45927713880051985, 0.44376462117677695, 0.44571015265791714, 0.443971192895524, 0.44631797908628706, 0.4424238323584155, 0.45831151441184514, 0.4644984408567708, 0.44962531768284447, 0.44815797274765484, 0.45916198450120654, 0.4556793176004444, 0.4694821306590475, 0.4545235547175546, 0.4529061602408355, 0.45066779275612084, 0.45171838300200556, 0.4497164104953739, 0.4507408698854596, 0.4499424992042442, 0.5046967942082967, 0.48502231384304584, 0.481032452436905, 0.49397573511899695, 0.4795792658203445, 0.46037193988528663, 0.48005127543026627, 0.47190342244253836, 0.4877121225674586, 0.46586369632397656, 0.44781942086201, 0.46734237263411305, 0.45252530381411843, 0.45230247455737316, 0.4516025455829259, 0.45900830001098175, 0.4561622249777181, 0.4706813658738724, 0.463778279166445, 0.4537214791424561, 0.44051934490240535, 0.4425683873666464, 0.4432241890221072, 0.44503697217599836, 0.43949423635015633, 0.44316835445522634, 0.4489502470373854, 0.4476202410291048, 0.4460892540728584, 0.4352578571087548, 0.4392172953322404, 0.44344525631846704, 0.45356117990205624, 0.44445924494295014, 0.4426135718618641, 0.5019751060757957, 0.47352157696551267, 0.4732322598415971, 0.45432760954656903, 0.4614595899633456, 0.45183861111998325, 0.45026142778123696, 0.45156679363193053, 0.448254166055434, 0.44566272980407035, 0.44306265836121106, 0.4330431616094442, 0.44431583097481153, 0.4388996936752665, 0.434291940209673, 0.4295214172052681, 0.4285377695510047, 0.44124090041731645, 0.41760072638960916, 0.425508536732575, 0.42206492934879075, 0.41530670753028975, 0.42886628891595796, 0.4255060913686116, 0.4266668368661593, 0.42347689778476216, 0.4505776056999376, 0.4279644081192196, 0.445415480582087, 0.43620134916812947, 0.44786210543624516, 0.43332468413572656, 0.4337861319573758, 0.430909390507349, 0.43222335334072626, 0.43177921411088016, 0.43043292662261223, 0.4290833149677066, 0.4233052570948267, 0.41702757413415, 0.4371447433301686, 0.42154578360995537, 0.430426551614416, 0.41777576849820997, 0.4327196532012546, 0.4175198409728135, 0.4116063480791861, 0.4166553227644168, 0.41707153460252466, 0.41811396651454924, 0.4191063731463668, 0.41236328179942683, 0.40681198248199696, 0.40960051515715074, 0.41806593772519385, 0.40784782220724725, 0.41270656521699195, 0.41874259744534337, 0.4195570903735331, 0.414410588993682, 0.41369840680422887, 0.4129969227921694, 0.40955128093935667, 0.4090530246281382, 0.40324444167831835, 0.40665896840955656, 0.4008066133395556, 0.40834909208956255, 0.4268731369252537, 0.408459087434596, 0.40907781125040943, 0.4188602773966737, 0.4214716120913352, 0.4208544704003476, 0.4246928182367132, 0.42350392676938375, 0.4134986447101492, 0.4115798663231729, 0.41203408682673925, 0.41240479374128536, 0.46454511573161744, 0.4652438503398241, 0.4549656484273687, 0.4447282655458176, 0.4632203765564564, 0.4587471971200564, 0.43127978556645524, 0.42390458351762766, 0.4406229084265726, 0.44697304913946617, 0.44409718678993865, 0.43018631664650103, 0.42980492557229594, 0.4265240301868332, 0.41700894870204963, 0.42562074938508915, 0.4293405809058201, 0.434189438255562, 0.4482340038805161, 0.4405352940978082, 0.4382273274554025, 0.44820562600912306, 0.43025540078904456, 0.4280951870108056, 0.427294705518015, 0.4442202452680058, 0.41458356156927073, 0.41945647433317357, 0.43219118507047866, 0.42964161186209376, 0.4341229851739424, 0.4387912389845539, 0.44172442087563685, 0.4408820679275723, 0.4302681426412329, 0.4344673534622904, 0.4286849205235954, 0.42887852902100654, 0.41451652803381084, 0.3865083856669716, 0.37813310640094466, 0.38000171602611726, 0.36863731925412674, 0.38610817716994544, 0.36582248048195076, 0.3549792119164727, 0.358834061404741, 0.37658170937489277, 0.3659275221652372, 0.3605268424489472, 0.3756887127340535, 0.3581639897213854, 0.3611956805804666, 0.36586590783249345, 0.36665338834703226, 0.36669200800836704, 0.36709281746654415, 0.35928914714371296, 0.3682934745871568, 0.36961666452350317, 0.360028139582227, 0.3701740085467465, 0.3553789143409506, 0.3510546193051551, 0.3537855449229321, 0.3618564848102832, 0.35229573060008973, 0.35293040883460536, 0.372699120785076, 0.3604818336216914, 0.3569665271837333, 0.36386337875925245, 0.3563627826337266, 0.35549161037152865], \"Total\": [11.0, 11.0, 11.0, 11.0, 11.0, 10.0, 11.0, 11.0, 10.0, 11.0, 11.0, 11.0, 10.0, 10.0, 11.0, 10.0, 11.0, 11.0, 10.0, 11.0, 10.0, 11.0, 10.0, 11.0, 11.0, 10.0, 10.0, 11.0, 10.0, 10.0, 10.89955375959892, 11.189495533739521, 10.94790303055312, 11.115989195675242, 11.234024293208702, 11.125214633991396, 10.717662949729398, 11.19303196972589, 10.95349693036325, 11.053476806677377, 11.322270697277833, 11.137943075513322, 10.983354973976938, 10.998451840365988, 10.977988810588647, 10.800916106579788, 10.96404786331412, 10.601348722671922, 10.918665979916632, 11.092631534162136, 11.046305888539818, 11.234597889704228, 10.570519329909768, 10.960855181896054, 10.814475087410791, 10.681294704444378, 10.916394269170265, 10.50832502233658, 10.455233435162743, 10.911481615135608, 10.9875463716145, 11.468555197766213, 11.318581768197108, 10.98189747849564, 11.335956707694912, 11.009428466969508, 11.176498003173464, 11.058829567973206, 11.133816437835172, 11.164913271344556, 10.999060647685758, 11.14202145283203, 10.548363751652062, 11.11634595031531, 11.035784944662128, 10.836081499730462, 10.879788536079486, 11.179177729836338, 10.857275177300274, 10.879203672429336, 11.142011569345813, 10.72197787345471, 10.783506782626587, 11.165400864968529, 10.888203766875655, 11.160481312812207, 10.87625548782931, 10.764357331116432, 10.690250387359814, 10.893373974505385, 10.821669305729706, 10.451291768836589, 10.864725809997562, 10.86517321965712, 10.668731508029907, 11.468555197766213, 10.81958977575104, 11.185476877642328, 10.951791086315477, 11.276290161450438, 10.941800263847119, 11.113180942920588, 11.016978081020225, 11.164458825088738, 10.960855181896054, 11.115989195675242, 11.276290161450438, 10.749607710630233, 10.967687319691297, 10.990810136791742, 10.73689928593691, 10.798762969357465, 10.804093310961674, 10.650204609782646, 11.137943075513322, 10.620733678409588, 10.89955375959892, 10.678277593153684, 11.035141085261518, 10.750797909857885, 10.294354227664222, 10.664297542868384, 10.9875463716145, 11.125214633991396, 10.484866590435743, 11.14202145283203, 10.781339420716527, 10.96404786331412, 10.580411489996543, 10.693111606820073, 10.9084827881424, 10.739897680142178, 10.571803725709518, 10.51889205428974, 10.82523543194312, 11.046305888539818, 11.318581768197108, 11.004698662818951, 10.947608295562043, 11.035784944662128, 11.234024293208702, 10.580411489996543, 10.54442337074954, 10.560024178614917, 10.320853848209682, 10.440509248182527, 10.66707380135729, 10.770855303065476, 10.715546047369097, 10.555711295995115, 10.463364490046457, 10.796865878087994, 10.504829755539262, 10.694348720318251, 10.708903101066094, 10.615879765904436, 10.651107491688501, 10.620073296604454, 10.569507874606344, 10.662704639862497, 10.702797419136902, 10.669355213234963, 10.867768958237681, 10.742447532073381, 10.654260129347117, 10.745360335155276, 10.683835212797229, 10.752491820819026, 10.736194017176254, 10.844511487865466, 10.666691528241662, 10.84578464485848, 10.785739204201937, 10.777264160182192, 10.723357995049367, 10.901023268280941, 10.778192447575606, 11.001232598887814, 11.189495533739521, 10.983354973976938, 10.89955375959892, 11.234024293208702, 11.137943075513322, 10.94790303055312, 11.113180942920588, 10.717662949729398, 11.115989195675242, 11.318581768197108, 11.234597889704228, 11.125214633991396, 11.053476806677377, 11.009428466969508, 10.845253489507943, 10.680248346805133, 10.961981730563696, 10.814475087410791, 11.047212496895595, 10.96404786331412, 10.9875463716145, 10.918665979916632, 10.960855181896054, 10.800916106579788, 10.70614366780613, 10.976679356847077, 10.788167568895455, 11.046305888539818, 11.092631534162136, 11.322270697277833, 11.19303196972589, 10.977988810588647, 11.468555197766213, 11.03024715066076, 10.659427908242419, 10.782729438937242, 11.11634595031531, 11.133816437835172, 10.548363751652062, 10.86517321965712, 10.638823123170148, 10.690250387359814, 11.058829567973206, 10.736703541789035, 10.42605807557748, 10.821669305729706, 10.52905492836238, 10.478916217225777, 10.527544157034463, 10.573002614723688, 11.167516108004648, 10.77254631141431, 10.887447381775871, 10.72197787345471, 10.821526989896093, 10.579780690615765, 10.759212014296782, 10.720956875683946, 10.63723334287633, 10.785034068784618, 10.587612455319524, 10.5846912820606, 10.637440564280979, 10.62735924055316, 10.81088978625519, 10.857275177300274, 11.164913271344556, 11.0086261504539, 11.179177729836338, 11.113180942920588, 10.999060647685758, 10.770143176418173, 10.90399931318304, 11.115626855669474, 11.185476877642328, 11.091477412844979, 10.756664995903966, 11.146182179027079, 10.668467240182553, 10.940163311338882, 11.22134696621296, 11.009350519826393, 10.685498354381693, 11.160481312812207, 10.939890547035807, 10.895378933847114, 10.963595347437035, 10.704141719922166, 10.370841746456263, 10.845515849464572, 11.275481747608163, 10.650297623260093, 10.879788536079486, 10.829827432167598, 10.86928946663253, 10.52417438538858, 10.594003519765222, 11.167516108004648, 10.759212014296782, 10.90712179543524, 10.998745834434487, 10.84401782019577, 10.584346322405791, 10.758435047884523, 10.819687328784132, 11.468555197766213, 11.445809641659999, 10.944635953765971, 11.142011569345813, 10.847612044803954, 10.86722058505833, 11.17432619851933, 10.944487933245394, 11.164458825088738, 11.091477412844979, 11.134978387569834, 11.275481747608163, 10.940163311338882, 10.987977091536122, 10.882575387717512, 10.701706157517805, 10.663053118471709, 10.66554456184636, 10.61424921333236, 10.819378055818822, 11.004698662818951, 11.163705799948549, 10.925677772431795, 10.677359116927851, 10.800338293551468, 10.850454525345034, 10.807515611210611, 10.728553198835584, 10.696756880362813, 10.98664344678102, 10.684812194151542, 10.685498354381693, 10.83220601365518, 10.927382564699219, 10.738526945345097, 10.883676733027304, 11.072840448402584, 10.649492436923214, 10.781163225527015, 10.990810136791742, 10.85314740769526, 10.877302108190866, 11.167071487053963, 10.83199783435588, 10.967687319691297, 11.189495533739521, 10.89955375959892, 10.717662949729398, 10.960855181896054, 11.009428466969508, 11.115989195675242, 11.137943075513322, 11.092631534162136, 11.125214633991396, 11.19303196972589, 10.845253489507943, 10.649974607318885, 10.918665979916632, 10.570519329909768, 11.046305888539818, 10.455233435162743, 10.681294704444378, 10.977988810588647, 10.879320560662574, 10.976679356847077, 10.416143403907776, 10.983354973976938, 11.335956707694912, 10.96404786331412, 10.99030367309881, 10.916394269170265, 10.680248346805133, 10.705393775678399, 10.94790303055312, 10.882062961223044, 11.023653454645048, 11.234597889704228, 11.276290161450438, 10.9875463716145, 11.053476806677377, 11.006690138924426, 11.22134696621296, 11.445809641659999, 11.197097642584046, 11.091477412844979, 11.437774963459253, 11.17432619851933, 10.941052818375303, 11.11634595031531, 10.668467240182553, 10.983186685319549, 11.03394912556735, 10.73304285083332, 10.743259344861315, 10.879701688496064, 10.981142402142035, 10.678053446134426, 10.879203672429336, 11.164458825088738, 10.813008484075699, 10.750347426306119, 10.98664344678102, 10.53865065195015, 11.176498003173464, 10.712777249071399, 10.701706157517805, 11.146182179027079, 10.879788536079486, 11.03595610072673, 10.797528890671156, 10.733650232171563, 11.160481312812207, 11.009350519826393, 11.468555197766213, 11.113180942920588, 11.072840448402584, 10.936494095036442, 11.167516108004648, 11.160481312812207, 11.164913271344556, 11.179177729836338, 11.165400864968529, 11.133816437835172, 11.164458825088738, 11.058829567973206, 10.857275177300274, 11.468555197766213, 11.142011569345813, 10.887447381775871, 10.962310251220893, 10.888203766875655, 10.999060647685758, 10.846668730067883, 10.879203672429336, 10.52594953649865, 10.668731508029907, 10.601880175606032, 11.176498003173464, 11.11634595031531, 10.836081499730462, 10.87625548782931, 11.167516108004648, 11.14202145283203, 11.035784944662128, 10.83304989793606, 11.145456813361013, 10.781339420716527, 10.88539686885418, 10.879788536079486, 11.185476877642328, 11.275481747608163, 11.016978081020225, 11.113180942920588, 10.93797671679184, 11.234597889704228, 11.197097642584046, 11.091477412844979, 11.445809641659999, 10.712777249071399, 10.623976262609858, 11.437774963459253, 10.650297623260093, 10.941052818375303, 11.17432619851933, 10.733650232171563, 10.941800263847119, 11.160481312812207, 10.879701688496064, 10.624260984528965, 11.146182179027079, 10.936494095036442, 10.767375604047436, 11.22134696621296, 10.793901134182212, 10.651241293871022, 10.668467240182553, 10.50716641204708, 10.814270517927769, 10.98664344678102, 10.829827432167598, 10.73304285083332, 11.275481747608163, 10.784762530255202, 10.587571282581505, 10.860778864064159, 10.998745834434487, 10.90399931318304, 11.072840448402584, 11.468555197766213, 11.03394912556735, 10.861419854998587, 10.942938524025775, 10.963595347437035, 11.164458825088738, 11.22134696621296, 11.091477412844979, 11.055893782275888, 11.437774963459253, 11.03394912556735, 11.17432619851933, 10.800916106579788, 11.445809641659999, 10.95349693036325, 10.911481615135608, 11.03595610072673, 11.028460284169725, 10.761504281337809, 10.941052818375303, 10.981142402142035, 10.912733992527, 10.828956990378838, 10.813008484075699, 10.781045252413739, 10.83220601365518, 10.770235974957286, 10.829827432167598, 10.764398002789807, 11.146182179027079, 10.98242221474944, 10.839475043667264, 10.791221450460545, 10.880903864971692, 10.895378933847114, 10.808384502093274, 11.197097642584046, 10.98664344678102, 11.335956707694912, 10.919432530402545, 10.963595347437035, 11.322270697277833, 11.19303196972589, 11.165400864968529, 11.179177729836338, 11.468555197766213, 11.164913271344556, 11.160481312812207, 11.146182179027079, 10.879788536079486, 10.690250387359814, 10.962310251220893, 11.133816437835172, 11.058829567973206, 10.86517321965712, 11.035784944662128, 11.234597889704228, 11.164458825088738, 11.176498003173464, 10.769004903989892, 10.888203766875655, 10.814270517927769, 10.629156152327695, 10.821669305729706, 10.88539686885418, 10.951791086315477, 11.167071487053963, 10.749080356464676, 11.11634595031531, 11.142011569345813, 10.87625548782931, 11.185476877642328, 10.852494737637159, 10.999060647685758, 10.941800263847119, 11.445809641659999, 11.22134696621296, 11.275481747608163, 11.14202145283203, 11.167516108004648, 11.113180942920588, 11.276290161450438, 10.300724475138349, 10.619285533769133, 10.303843182079659, 10.526055432754518, 10.50261766662311, 10.459154147777715, 10.952121052142294, 10.60950811051891, 10.545651345244918, 10.683338652024748, 10.680476072842188, 10.901023268280941, 10.687646261839578, 10.399081781341941, 10.944487933245394, 10.705354818673372, 10.506555965246466, 10.85314740769526, 10.495551499867846, 10.440325515445187, 10.56014500142491, 10.7281094373932, 10.883676733027304, 10.81441174244205, 10.581531658061435, 10.616003862332537, 10.519894929559905, 10.609573048764124, 10.676786257616708, 10.62906772611522, 10.732814685600852, 11.013247392650198, 11.163705799948549, 10.735979095809224, 10.719973176825109, 10.886961408442584, 10.878859068825173, 10.764471678349814, 10.70196243334443, 10.714353060328278, 11.22134696621296, 10.941052818375303, 11.17432619851933, 11.445809641659999, 11.437774963459253, 11.146182179027079, 11.055893782275888, 10.963595347437035, 10.840829284965977, 11.028460284169725, 11.091477412844979, 10.911481615135608, 10.983186685319549, 10.495551499867846, 10.981142402142035, 11.197097642584046, 11.03394912556735, 10.767375604047436, 10.961405430421525, 10.98664344678102, 10.6229794798769, 10.72197787345471, 10.813008484075699, 10.623976262609858, 10.566490093933085, 10.798607756604639, 10.73304285083332, 11.176498003173464, 10.893871816028458, 11.03595610072673, 10.95349693036325, 10.994010531258773, 11.335956707694912, 10.934568397294747, 11.164458825088738, 10.954037662847684, 11.11634595031531, 10.720956875683946, 10.62735924055316, 10.624260984528965, 10.462390074945366, 11.167516108004648, 10.915838256850384, 10.519894929559905, 10.435949626279294, 10.300724475138349, 10.770143176418173, 10.540533854646291, 10.411207312644953, 10.560024178614917, 10.68149530716922, 10.650392006106737, 11.0086261504539, 10.72197787345471, 10.86517321965712, 10.764357331116432, 11.164913271344556, 11.11634595031531, 10.756215836636642, 10.75492530676041, 10.673573832183804, 10.66666928090258, 10.782729438937242, 10.42605807557748, 10.86722058505833, 10.716260169980277, 10.504829755539262, 10.740696666069006, 10.888203766875655, 11.164458825088738, 11.035784944662128, 10.893373974505385, 10.864725809997562, 10.846668730067883, 10.893945063272076, 10.807755997878171, 11.176498003173464, 10.981142402142035, 11.142011569345813, 10.294354227664222, 10.662140116858428, 10.59384531433645, 10.749607710630233, 10.416143403907776, 10.664297542868384, 10.804093310961674, 10.960855181896054, 10.89955375959892, 10.834278689885581, 10.650204609782646, 10.639291055062124, 10.579820992331426, 10.637028591099169, 10.679146708967291, 10.666280007149386, 10.571803725709518, 10.732207992760893, 10.967687319691297, 10.9875463716145, 10.698348648184563, 10.738602393149872, 11.137943075513322, 10.570519329909768, 10.678277593153684, 10.727508997097774, 10.719121182311198, 10.547736160664465, 10.750797909857885, 10.867100298761182, 10.781339420716527, 11.115989195675242, 10.829431112387866, 10.94790303055312, 11.009428466969508, 11.035141085261518, 10.940163311338882, 11.335956707694912, 11.055893782275888, 11.02241998212911, 11.17432619851933, 11.03024715066076, 11.03394912556735, 11.091477412844979, 11.437774963459253, 10.878932572569866, 11.134978387569834, 10.916394269170265, 11.064695503010945, 10.926213369438631, 10.994010531258773, 11.275481747608163, 10.767375604047436, 10.717594915349379, 10.74615533581036, 10.942938524025775, 10.750347426306119, 10.792275644114287, 10.857471070124332, 10.700255730869102, 11.197097642584046, 10.919432530402545, 10.824343160501607, 10.656556377411004, 10.819687328784132, 10.7812910560278, 10.878037550541547, 11.322270697277833, 10.98664344678102, 11.445809641659999, 10.95349693036325, 11.023653454645048, 10.941052818375303, 11.322270697277833, 11.335956707694912, 11.03024715066076, 11.055893782275888, 10.412874867087313, 10.78506855249061, 10.95349693036325, 10.977988810588647, 10.728553198835584, 10.663211467050319, 10.738053102642159, 10.950269416346776, 10.98242221474944, 10.575480454875725, 10.596662507059142, 10.801234992824003, 10.649974607318885, 10.878037550541547, 11.189495533739521, 10.66156489393843, 10.942938524025775, 10.57633440674024, 10.635904507464048, 10.59963672623174, 10.656556377411004, 10.595121814892567, 10.976363882918973, 11.134978387569834, 10.788081684323465, 10.753540447255048, 11.053476806677377, 10.983186685319549, 11.437774963459253, 11.092631534162136, 11.023653454645048, 10.911481615135608, 11.009428466969508, 10.879320560662574, 10.98664344678102, 11.17432619851933, 11.197097642584046, 10.98664344678102, 11.091477412844979, 11.437774963459253, 11.146182179027079, 10.750347426306119, 11.22134696621296, 11.03394912556735, 11.445809641659999, 10.941052818375303, 10.623976262609858, 11.134978387569834, 10.802998531078668, 10.813008484075699, 10.819687328784132, 11.03595610072673, 10.981142402142035, 11.335956707694912, 11.17432619851933, 10.942938524025775, 10.651241293871022, 10.713020554208118, 10.733650232171563, 10.793901134182212, 10.678053446134426, 10.767375604047436, 10.909727270563543, 10.879701688496064, 10.878932572569866, 10.644555576964752, 10.743259344861315, 10.878037550541547, 11.275481747608163, 10.919432530402545, 11.028460284169725, 11.322270697277833, 11.053476806677377, 11.189495533739521, 11.009428466969508, 11.19303196972589, 10.977988810588647, 10.950269416346776, 11.055893782275888, 10.976363882918973, 10.95349693036325, 10.911481615135608, 10.669370178120817, 11.03024715066076, 10.89955375959892, 10.800916106579788, 10.735163930102992, 10.726176039679647, 11.046305888539818, 10.455233435162743, 10.656556377411004, 10.570519329909768, 10.412874867087313, 10.753540447255048, 10.680248346805133, 10.717662949729398, 10.649974607318885, 11.335956707694912, 10.7875064701545, 11.234597889704228, 11.023653454645048, 11.318581768197108, 10.98189747849564, 11.02241998212911, 10.918665979916632, 11.115989195675242, 11.137943075513322, 11.125214633991396, 10.98242221474944, 10.59384531433645, 10.455233435162743, 10.967687319691297, 10.7875064701545, 11.023653454645048, 10.708130470264996, 11.115989195675242, 10.733799307087859, 10.601348722671922, 10.749607710630233, 10.782729438937242, 10.814475087410791, 10.844103823229746, 10.691562640229202, 10.554845417841163, 10.639291055062124, 10.87032518729162, 10.609804036339126, 10.741129658501363, 10.89955375959892, 10.920811901399201, 10.798673024968283, 10.789031581977223, 10.790066956917618, 10.717662949729398, 10.71825113460605, 10.571803725709518, 10.661354002338339, 10.50832502233658, 10.70614366780613, 11.19303196972589, 10.709335557698497, 10.7317875952098, 11.02241998212911, 11.137943075513322, 11.125214633991396, 11.276290161450438, 11.234024293208702, 10.898956520600537, 10.83183021896248, 10.88656592636092, 11.046305888539818, 10.89955375959892, 11.125214633991396, 10.94790303055312, 10.717662949729398, 11.189495533739521, 11.115989195675242, 10.455233435162743, 10.416143403907776, 10.845253489507943, 11.046305888539818, 11.009428466969508, 10.681294704444378, 10.680248346805133, 10.601348722671922, 10.412874867087313, 10.649974607318885, 10.749607710630233, 10.879320560662574, 11.234024293208702, 11.053476806677377, 11.023653454645048, 11.276290161450438, 10.827243974630736, 10.776780687681477, 10.776915917421451, 11.234597889704228, 10.505972316504378, 10.635904507464048, 10.960855181896054, 10.918665979916632, 11.047212496895595, 11.19303196972589, 11.322270697277833, 11.318581768197108, 10.98242221474944, 11.335956707694912, 10.977988810588647, 11.02241998212911, 11.335956707694912, 11.03024715066076, 10.95349693036325, 11.053476806677377, 10.798960643074336, 11.322270697277833, 10.742680708947132, 10.517477214344416, 10.656556377411004, 11.189495533739521, 10.878037550541547, 10.726176039679647, 11.19303196972589, 10.675410501568972, 10.770235974957286, 10.950269416346776, 10.976363882918973, 10.98664344678102, 11.009428466969508, 10.78506855249061, 11.055893782275888, 11.134978387569834, 10.85512285753396, 11.197097642584046, 10.764323635894023, 10.642724146267708, 10.728553198835584, 10.98242221474944, 10.696327964471529, 10.732199969211997, 11.437774963459253, 11.015638250939904, 10.942938524025775, 11.318581768197108, 10.977988810588647, 11.03394912556735], \"Category\": [\"Default\", \"Default\", \"Default\", \"Default\", \"Default\", \"Default\", \"Default\", \"Default\", \"Default\", \"Default\", \"Default\", \"Default\", \"Default\", \"Default\", \"Default\", \"Default\", \"Default\", \"Default\", \"Default\", \"Default\", \"Default\", \"Default\", \"Default\", \"Default\", \"Default\", \"Default\", \"Default\", \"Default\", \"Default\", \"Default\", \"Topic1\", \"Topic1\", \"Topic1\", \"Topic1\", \"Topic1\", \"Topic1\", \"Topic1\", \"Topic1\", \"Topic1\", \"Topic1\", \"Topic1\", \"Topic1\", \"Topic1\", \"Topic1\", \"Topic1\", \"Topic1\", \"Topic1\", \"Topic1\", \"Topic1\", \"Topic1\", \"Topic1\", \"Topic1\", \"Topic1\", \"Topic1\", \"Topic1\", \"Topic1\", \"Topic1\", \"Topic1\", \"Topic1\", \"Topic1\", \"Topic1\", \"Topic1\", \"Topic1\", \"Topic1\", \"Topic1\", \"Topic1\", \"Topic1\", \"Topic2\", \"Topic2\", \"Topic2\", \"Topic2\", \"Topic2\", \"Topic2\", \"Topic2\", \"Topic2\", \"Topic2\", \"Topic2\", \"Topic2\", \"Topic2\", \"Topic2\", \"Topic2\", \"Topic2\", \"Topic2\", \"Topic2\", \"Topic2\", \"Topic2\", \"Topic2\", \"Topic2\", \"Topic2\", \"Topic2\", \"Topic2\", \"Topic2\", \"Topic2\", \"Topic2\", \"Topic2\", \"Topic2\", \"Topic2\", \"Topic2\", \"Topic2\", \"Topic2\", \"Topic2\", \"Topic2\", \"Topic2\", \"Topic2\", \"Topic3\", \"Topic3\", \"Topic3\", \"Topic3\", \"Topic3\", \"Topic3\", \"Topic3\", \"Topic3\", \"Topic3\", \"Topic3\", \"Topic3\", \"Topic3\", \"Topic3\", \"Topic3\", \"Topic3\", \"Topic3\", \"Topic3\", \"Topic3\", \"Topic3\", \"Topic3\", \"Topic3\", \"Topic3\", \"Topic3\", \"Topic3\", \"Topic3\", \"Topic3\", \"Topic3\", \"Topic3\", \"Topic3\", \"Topic3\", \"Topic3\", \"Topic3\", \"Topic3\", \"Topic3\", \"Topic3\", \"Topic3\", \"Topic3\", \"Topic4\", \"Topic4\", \"Topic4\", \"Topic4\", \"Topic4\", \"Topic4\", \"Topic4\", \"Topic4\", \"Topic4\", \"Topic4\", \"Topic4\", \"Topic4\", \"Topic4\", \"Topic4\", \"Topic4\", \"Topic4\", \"Topic4\", \"Topic4\", \"Topic4\", \"Topic4\", \"Topic4\", \"Topic4\", \"Topic4\", \"Topic4\", \"Topic4\", \"Topic4\", \"Topic4\", \"Topic4\", \"Topic4\", \"Topic4\", \"Topic4\", \"Topic4\", \"Topic4\", \"Topic4\", \"Topic4\", \"Topic4\", \"Topic4\", \"Topic5\", \"Topic5\", \"Topic5\", \"Topic5\", \"Topic5\", \"Topic5\", \"Topic5\", \"Topic5\", \"Topic5\", \"Topic5\", \"Topic5\", \"Topic5\", \"Topic5\", \"Topic5\", \"Topic5\", \"Topic5\", \"Topic5\", \"Topic5\", \"Topic5\", \"Topic5\", \"Topic5\", \"Topic5\", \"Topic5\", \"Topic5\", \"Topic5\", \"Topic5\", \"Topic5\", \"Topic5\", \"Topic5\", \"Topic5\", \"Topic5\", \"Topic5\", \"Topic5\", \"Topic5\", \"Topic6\", \"Topic6\", \"Topic6\", \"Topic6\", \"Topic6\", \"Topic6\", \"Topic6\", \"Topic6\", \"Topic6\", \"Topic6\", \"Topic6\", \"Topic6\", \"Topic6\", \"Topic6\", \"Topic6\", \"Topic6\", \"Topic6\", \"Topic6\", \"Topic6\", \"Topic6\", \"Topic6\", \"Topic6\", \"Topic6\", \"Topic6\", \"Topic6\", \"Topic6\", \"Topic6\", \"Topic6\", \"Topic6\", \"Topic6\", \"Topic6\", \"Topic6\", \"Topic6\", \"Topic6\", \"Topic6\", \"Topic6\", \"Topic6\", \"Topic6\", \"Topic6\", \"Topic6\", \"Topic6\", \"Topic7\", \"Topic7\", \"Topic7\", \"Topic7\", \"Topic7\", \"Topic7\", \"Topic7\", \"Topic7\", \"Topic7\", \"Topic7\", \"Topic7\", \"Topic7\", \"Topic7\", \"Topic7\", \"Topic7\", \"Topic7\", \"Topic7\", \"Topic7\", \"Topic7\", \"Topic7\", \"Topic7\", \"Topic7\", \"Topic7\", \"Topic7\", \"Topic7\", \"Topic7\", \"Topic7\", \"Topic7\", \"Topic7\", \"Topic7\", \"Topic7\", \"Topic7\", \"Topic7\", \"Topic7\", \"Topic7\", \"Topic7\", \"Topic7\", \"Topic7\", \"Topic7\", \"Topic8\", \"Topic8\", \"Topic8\", \"Topic8\", \"Topic8\", \"Topic8\", \"Topic8\", \"Topic8\", \"Topic8\", \"Topic8\", \"Topic8\", \"Topic8\", \"Topic8\", \"Topic8\", \"Topic8\", \"Topic8\", \"Topic8\", \"Topic8\", \"Topic8\", \"Topic8\", \"Topic8\", \"Topic8\", \"Topic8\", \"Topic8\", \"Topic8\", \"Topic8\", \"Topic8\", \"Topic8\", \"Topic8\", \"Topic8\", \"Topic8\", \"Topic8\", \"Topic8\", \"Topic8\", \"Topic8\", \"Topic8\", \"Topic9\", \"Topic9\", \"Topic9\", \"Topic9\", \"Topic9\", \"Topic9\", \"Topic9\", \"Topic9\", \"Topic9\", \"Topic9\", \"Topic9\", \"Topic9\", \"Topic9\", \"Topic9\", \"Topic9\", \"Topic9\", \"Topic9\", \"Topic9\", \"Topic9\", \"Topic9\", \"Topic9\", \"Topic9\", \"Topic9\", \"Topic9\", \"Topic9\", \"Topic9\", \"Topic9\", \"Topic9\", \"Topic9\", \"Topic9\", \"Topic9\", \"Topic9\", \"Topic9\", \"Topic9\", \"Topic9\", \"Topic9\", \"Topic10\", \"Topic10\", \"Topic10\", \"Topic10\", \"Topic10\", \"Topic10\", \"Topic10\", \"Topic10\", \"Topic10\", \"Topic10\", \"Topic10\", \"Topic10\", \"Topic10\", \"Topic10\", \"Topic10\", \"Topic10\", \"Topic10\", \"Topic10\", \"Topic10\", \"Topic10\", \"Topic10\", \"Topic10\", \"Topic10\", \"Topic10\", \"Topic10\", \"Topic10\", \"Topic10\", \"Topic10\", \"Topic10\", \"Topic10\", \"Topic10\", \"Topic10\", \"Topic10\", \"Topic10\", \"Topic10\", \"Topic10\", \"Topic10\", \"Topic11\", \"Topic11\", \"Topic11\", \"Topic11\", \"Topic11\", \"Topic11\", \"Topic11\", \"Topic11\", \"Topic11\", \"Topic11\", \"Topic11\", \"Topic11\", \"Topic11\", \"Topic11\", \"Topic11\", \"Topic11\", \"Topic11\", \"Topic11\", \"Topic11\", \"Topic11\", \"Topic11\", \"Topic11\", \"Topic11\", \"Topic11\", \"Topic11\", \"Topic11\", \"Topic11\", \"Topic11\", \"Topic11\", \"Topic11\", \"Topic11\", \"Topic11\", \"Topic11\", \"Topic11\", \"Topic11\", \"Topic11\", \"Topic11\", \"Topic12\", \"Topic12\", \"Topic12\", \"Topic12\", \"Topic12\", \"Topic12\", \"Topic12\", \"Topic12\", \"Topic12\", \"Topic12\", \"Topic12\", \"Topic12\", \"Topic12\", \"Topic12\", \"Topic12\", \"Topic12\", \"Topic12\", \"Topic12\", \"Topic12\", \"Topic12\", \"Topic12\", \"Topic12\", \"Topic12\", \"Topic12\", \"Topic12\", \"Topic12\", \"Topic12\", \"Topic12\", \"Topic12\", \"Topic12\", \"Topic12\", \"Topic12\", \"Topic12\", \"Topic12\", \"Topic12\", \"Topic12\", \"Topic12\", \"Topic12\", \"Topic12\", \"Topic13\", \"Topic13\", \"Topic13\", \"Topic13\", \"Topic13\", \"Topic13\", \"Topic13\", \"Topic13\", \"Topic13\", \"Topic13\", \"Topic13\", \"Topic13\", \"Topic13\", \"Topic13\", \"Topic13\", \"Topic13\", \"Topic13\", \"Topic13\", \"Topic13\", \"Topic13\", \"Topic13\", \"Topic13\", \"Topic13\", \"Topic13\", \"Topic13\", \"Topic13\", \"Topic13\", \"Topic13\", \"Topic13\", \"Topic13\", \"Topic13\", \"Topic13\", \"Topic13\", \"Topic13\", \"Topic13\", \"Topic13\", \"Topic13\", \"Topic14\", \"Topic14\", \"Topic14\", \"Topic14\", \"Topic14\", \"Topic14\", \"Topic14\", \"Topic14\", \"Topic14\", \"Topic14\", \"Topic14\", \"Topic14\", \"Topic14\", \"Topic14\", \"Topic14\", \"Topic14\", \"Topic14\", \"Topic14\", \"Topic14\", \"Topic14\", \"Topic14\", \"Topic14\", \"Topic14\", \"Topic14\", \"Topic14\", \"Topic14\", \"Topic14\", \"Topic14\", \"Topic14\", \"Topic14\", \"Topic14\", \"Topic14\", \"Topic14\", \"Topic14\", \"Topic14\", \"Topic14\", \"Topic14\", \"Topic14\", \"Topic14\", \"Topic15\", \"Topic15\", \"Topic15\", \"Topic15\", \"Topic15\", \"Topic15\", \"Topic15\", \"Topic15\", \"Topic15\", \"Topic15\", \"Topic15\", \"Topic15\", \"Topic15\", \"Topic15\", \"Topic15\", \"Topic15\", \"Topic15\", \"Topic15\", \"Topic15\", \"Topic15\", \"Topic15\", \"Topic15\", \"Topic15\", \"Topic15\", \"Topic15\", \"Topic15\", \"Topic15\", \"Topic15\", \"Topic15\", \"Topic15\", \"Topic15\", \"Topic15\", \"Topic15\", \"Topic15\", \"Topic15\", \"Topic15\", \"Topic15\", \"Topic15\", \"Topic15\", \"Topic15\", \"Topic16\", \"Topic16\", \"Topic16\", \"Topic16\", \"Topic16\", \"Topic16\", \"Topic16\", \"Topic16\", \"Topic16\", \"Topic16\", \"Topic16\", \"Topic16\", \"Topic16\", \"Topic16\", \"Topic16\", \"Topic16\", \"Topic16\", \"Topic16\", \"Topic16\", \"Topic16\", \"Topic16\", \"Topic16\", \"Topic16\", \"Topic16\", \"Topic16\", \"Topic16\", \"Topic16\", \"Topic16\", \"Topic16\", \"Topic16\", \"Topic16\", \"Topic16\", \"Topic16\", \"Topic16\", \"Topic16\", \"Topic16\", \"Topic16\", \"Topic17\", \"Topic17\", \"Topic17\", \"Topic17\", \"Topic17\", \"Topic17\", \"Topic17\", \"Topic17\", \"Topic17\", \"Topic17\", \"Topic17\", \"Topic17\", \"Topic17\", \"Topic17\", \"Topic17\", \"Topic17\", \"Topic17\", \"Topic17\", \"Topic17\", \"Topic17\", \"Topic17\", \"Topic17\", \"Topic17\", \"Topic17\", \"Topic17\", \"Topic17\", \"Topic17\", \"Topic17\", \"Topic17\", \"Topic17\", \"Topic17\", \"Topic17\", \"Topic17\", \"Topic17\", \"Topic17\", \"Topic17\", \"Topic17\", \"Topic17\", \"Topic17\", \"Topic17\", \"Topic17\", \"Topic17\", \"Topic18\", \"Topic18\", \"Topic18\", \"Topic18\", \"Topic18\", \"Topic18\", \"Topic18\", \"Topic18\", \"Topic18\", \"Topic18\", \"Topic18\", \"Topic18\", \"Topic18\", \"Topic18\", \"Topic18\", \"Topic18\", \"Topic18\", \"Topic18\", \"Topic18\", \"Topic18\", \"Topic18\", \"Topic18\", \"Topic18\", \"Topic18\", \"Topic18\", \"Topic18\", \"Topic18\", \"Topic18\", \"Topic18\", \"Topic18\", \"Topic18\", \"Topic18\", \"Topic18\", \"Topic18\", \"Topic18\", \"Topic18\", \"Topic19\", \"Topic19\", \"Topic19\", \"Topic19\", \"Topic19\", \"Topic19\", \"Topic19\", \"Topic19\", \"Topic19\", \"Topic19\", \"Topic19\", \"Topic19\", \"Topic19\", \"Topic19\", \"Topic19\", \"Topic19\", \"Topic19\", \"Topic19\", \"Topic19\", \"Topic19\", \"Topic19\", \"Topic19\", \"Topic19\", \"Topic19\", \"Topic19\", \"Topic19\", \"Topic19\", \"Topic19\", \"Topic19\", \"Topic19\", \"Topic19\", \"Topic19\", \"Topic19\", \"Topic19\", \"Topic19\", \"Topic19\", \"Topic19\", \"Topic20\", \"Topic20\", \"Topic20\", \"Topic20\", \"Topic20\", \"Topic20\", \"Topic20\", \"Topic20\", \"Topic20\", \"Topic20\", \"Topic20\", \"Topic20\", \"Topic20\", \"Topic20\", \"Topic20\", \"Topic20\", \"Topic20\", \"Topic20\", \"Topic20\", \"Topic20\", \"Topic20\", \"Topic20\", \"Topic20\", \"Topic20\", \"Topic20\", \"Topic20\", \"Topic20\", \"Topic20\", \"Topic20\", \"Topic20\", \"Topic20\", \"Topic20\", \"Topic20\", \"Topic20\", \"Topic20\", \"Topic20\", \"Topic20\", \"Topic20\", \"Topic20\", \"Topic20\", \"Topic21\", \"Topic21\", \"Topic21\", \"Topic21\", \"Topic21\", \"Topic21\", \"Topic21\", \"Topic21\", \"Topic21\", \"Topic21\", \"Topic21\", \"Topic21\", \"Topic21\", \"Topic21\", \"Topic21\", \"Topic21\", \"Topic21\", \"Topic21\", \"Topic21\", \"Topic21\", \"Topic21\", \"Topic21\", \"Topic21\", \"Topic21\", \"Topic21\", \"Topic21\", \"Topic21\", \"Topic21\", \"Topic21\", \"Topic21\", \"Topic21\", \"Topic21\", \"Topic21\", \"Topic21\", \"Topic21\", \"Topic22\", \"Topic22\", \"Topic22\", \"Topic22\", \"Topic22\", \"Topic22\", \"Topic22\", \"Topic22\", \"Topic22\", \"Topic22\", \"Topic22\", \"Topic22\", \"Topic22\", \"Topic22\", \"Topic22\", \"Topic22\", \"Topic22\", \"Topic22\", \"Topic22\", \"Topic22\", \"Topic22\", \"Topic22\", \"Topic22\", \"Topic22\", \"Topic22\", \"Topic22\", \"Topic22\", \"Topic22\", \"Topic22\", \"Topic22\", \"Topic22\", \"Topic22\", \"Topic22\", \"Topic22\", \"Topic22\", \"Topic22\", \"Topic22\", \"Topic22\", \"Topic23\", \"Topic23\", \"Topic23\", \"Topic23\", \"Topic23\", \"Topic23\", \"Topic23\", \"Topic23\", \"Topic23\", \"Topic23\", \"Topic23\", \"Topic23\", \"Topic23\", \"Topic23\", \"Topic23\", \"Topic23\", \"Topic23\", \"Topic23\", \"Topic23\", \"Topic23\", \"Topic23\", \"Topic23\", \"Topic23\", \"Topic23\", \"Topic23\", \"Topic23\", \"Topic23\", \"Topic23\", \"Topic23\", \"Topic23\", \"Topic23\", \"Topic23\", \"Topic23\", \"Topic23\", \"Topic23\", \"Topic23\", \"Topic23\", \"Topic23\", \"Topic23\", \"Topic23\", \"Topic23\", \"Topic23\", \"Topic24\", \"Topic24\", \"Topic24\", \"Topic24\", \"Topic24\", \"Topic24\", \"Topic24\", \"Topic24\", \"Topic24\", \"Topic24\", \"Topic24\", \"Topic24\", \"Topic24\", \"Topic24\", \"Topic24\", \"Topic24\", \"Topic24\", \"Topic24\", \"Topic24\", \"Topic24\", \"Topic24\", \"Topic24\", \"Topic24\", \"Topic24\", \"Topic24\", \"Topic24\", \"Topic24\", \"Topic24\", \"Topic24\", \"Topic24\", \"Topic24\", \"Topic24\", \"Topic24\", \"Topic24\", \"Topic24\", \"Topic24\", \"Topic24\", \"Topic24\", \"Topic25\", \"Topic25\", \"Topic25\", \"Topic25\", \"Topic25\", \"Topic25\", \"Topic25\", \"Topic25\", \"Topic25\", \"Topic25\", \"Topic25\", \"Topic25\", \"Topic25\", \"Topic25\", \"Topic25\", \"Topic25\", \"Topic25\", \"Topic25\", \"Topic25\", \"Topic25\", \"Topic25\", \"Topic25\", \"Topic25\", \"Topic25\", \"Topic25\", \"Topic25\", \"Topic25\", \"Topic25\", \"Topic25\", \"Topic25\", \"Topic25\", \"Topic25\", \"Topic25\", \"Topic25\", \"Topic25\", \"Topic25\"], \"logprob\": [30.0, 29.0, 28.0, 27.0, 26.0, 25.0, 24.0, 23.0, 22.0, 21.0, 20.0, 19.0, 18.0, 17.0, 16.0, 15.0, 14.0, 13.0, 12.0, 11.0, 10.0, 9.0, 8.0, 7.0, 6.0, 5.0, 4.0, 3.0, 2.0, 1.0, -7.2296, -7.2289, -7.2711, -7.26, -7.2501, -7.2617, -7.2996, -7.2587, -7.2835, -7.2758, -7.2525, -7.2729, -7.2894, -7.289, -7.2961, -7.3123, -7.3021, -7.3367, -7.3104, -7.296, -7.302, -7.2857, -7.3473, -7.3121, -7.3257, -7.3384, -7.3173, -7.3568, -7.3621, -7.3195, -7.3135, -7.2771, -7.2917, -7.3181, -7.2972, -7.3202, -7.316, -7.2553, -7.2538, -7.26, -7.284, -7.274, -7.3303, -7.2835, -7.2913, -7.31, -7.307, -7.2799, -7.3095, -7.3099, -7.2862, -7.3261, -7.3229, -7.2894, -7.3153, -7.2929, -7.3194, -7.33, -7.3377, -7.3197, -7.3279, -7.3632, -7.325, -7.3254, -7.345, -7.2731, -7.3314, -7.2992, -7.3213, -7.3021, -7.3243, -7.316, -7.3208, -7.3244, -7.251, -7.2374, -7.2262, -7.2866, -7.27, -7.2708, -7.2962, -7.2956, -7.3012, -7.3165, -7.2728, -7.3226, -7.2992, -7.3211, -7.2896, -7.3171, -7.3605, -7.3259, -7.2978, -7.2874, -7.3496, -7.2908, -7.3251, -7.3098, -7.3461, -7.3361, -7.3172, -7.3338, -7.3509, -7.3574, -7.3289, -7.3103, -7.2948, -7.3207, -7.3256, -7.3218, -7.3196, -7.3124, -7.3165, -7.3151, -7.3416, -7.3316, -7.3131, -7.3056, -7.3143, -7.3295, -7.3384, -7.3084, -7.3378, -7.3203, -7.3191, -7.3293, -7.3267, -7.3307, -7.3355, -7.3281, -7.3247, -7.3278, -7.3096, -7.3214, -7.3301, -7.3218, -7.3279, -7.3216, -7.3233, -7.3133, -7.3304, -7.3153, -7.3214, -7.3272, -7.3297, -7.3255, -7.3294, -7.3301, -7.2148, -7.2383, -7.2514, -7.2326, -7.249, -7.2703, -7.258, -7.295, -7.2659, -7.2557, -7.2677, -7.2776, -7.2848, -7.29, -7.3067, -7.3231, -7.297, -7.3109, -7.2947, -7.3031, -7.3024, -7.3091, -7.3068, -7.3216, -7.3332, -7.3113, -7.3288, -7.3052, -7.3015, -7.282, -7.3037, -7.3172, -7.305, -7.3214, -7.3245, -7.3212, -7.294, -7.2945, -7.3504, -7.3227, -7.3458, -7.3435, -7.3099, -7.3395, -7.3695, -7.3329, -7.3645, -7.3696, -7.3666, -7.3626, -7.3083, -7.3452, -7.336, -7.3515, -7.3426, -7.3657, -7.3495, -7.353, -7.3613, -7.3476, -7.3667, -7.3677, -7.363, -7.3646, -7.3522, -7.3493, -7.33, -7.3476, -7.3408, -7.344, -7.3503, -7.3588, -7.3572, -7.3557, -7.3588, -7.2642, -7.3156, -7.2855, -7.3361, -7.313, -7.2927, -7.3143, -7.3473, -7.3059, -7.3292, -7.3339, -7.3289, -7.3532, -7.3866, -7.3419, -7.3036, -7.3622, -7.342, -7.347, -7.3438, -7.3761, -7.3707, -7.3194, -7.3571, -7.345, -7.3368, -7.3511, -7.3754, -7.3596, -7.354, -7.2965, -7.3103, -7.3475, -7.3387, -7.3561, -7.3561, -7.3495, -7.3554, -7.3544, -7.2192, -7.2271, -7.2255, -7.2577, -7.2621, -7.2808, -7.2982, -7.3018, -7.3028, -7.3091, -7.2901, -7.2736, -7.2636, -7.2858, -7.3089, -7.2988, -7.2955, -7.302, -7.3099, -7.3146, -7.2894, -7.3174, -7.3177, -7.3047, -7.297, -7.315, -7.3044, -7.2875, -7.328, -7.3159, -7.2969, -7.3097, -7.3098, -7.3039, -7.3137, -7.3141, -7.19, -7.2211, -7.2663, -7.2521, -7.2521, -7.2439, -7.246, -7.2615, -7.264, -7.2584, -7.2903, -7.3124, -7.2898, -7.323, -7.2816, -7.3412, -7.3214, -7.2945, -7.3048, -7.296, -7.3489, -7.2966, -7.2651, -7.2987, -7.2965, -7.3034, -7.3268, -7.325, -7.3034, -7.3098, -7.3014, -7.2988, -7.2983, -7.3121, -7.3098, -7.3119, -7.2181, -7.2065, -7.2291, -7.2576, -7.2283, -7.2564, -7.2798, -7.2708, -7.3132, -7.287, -7.2845, -7.314, -7.3153, -7.3031, -7.2947, -7.3236, -7.3054, -7.2803, -7.3123, -7.3194, -7.2999, -7.3438, -7.2868, -7.3307, -7.3319, -7.2919, -7.3165, -7.3024, -7.325, -7.3329, -7.2948, -7.3095, -7.2788, -7.3055, -7.3106, -7.3189, -7.3166, -7.2514, -7.2525, -7.2549, -7.2614, -7.2716, -7.2757, -7.2883, -7.3079, -7.2548, -7.291, -7.3147, -7.3084, -7.3165, -7.3067, -7.3228, -7.3203, -7.3578, -7.3445, -7.3523, -7.3029, -7.3085, -7.3346, -7.3333, -7.3071, -7.3097, -7.3199, -7.3387, -7.3116, -7.3468, -7.3374, -7.3384, -7.3142, -7.3147, -7.3298, -7.3297, -7.3358, -7.3278, -7.2074, -7.2534, -7.2279, -7.3, -7.3205, -7.2518, -7.3291, -7.3024, -7.285, -7.3292, -7.3113, -7.2924, -7.318, -7.3442, -7.297, -7.3161, -7.3325, -7.2914, -7.3311, -7.3478, -7.3466, -7.3633, -7.336, -7.3206, -7.3376, -7.3474, -7.2988, -7.3435, -7.3622, -7.3368, -7.3252, -7.3348, -7.3238, -7.3105, -7.3338, -7.3409, -7.3395, -7.3395, -7.3393, -7.2322, -7.2549, -7.2614, -7.2349, -7.2736, -7.2659, -7.3025, -7.2479, -7.2969, -7.3027, -7.2934, -7.2992, -7.3249, -7.3084, -7.3084, -7.3186, -7.327, -7.3285, -7.3317, -7.328, -7.334, -7.3287, -7.3349, -7.3016, -7.3164, -7.3304, -7.3357, -7.3274, -7.3272, -7.3367, -7.3038, -7.3232, -7.3044, -7.3277, -7.3269, -7.3188, -7.3244, -7.2348, -7.2455, -7.2233, -7.2507, -7.253, -7.261, -7.2899, -7.3095, -7.2859, -7.2714, -7.2784, -7.2971, -7.2865, -7.2691, -7.2778, -7.2814, -7.3218, -7.3112, -7.3186, -7.336, -7.3226, -7.3169, -7.3112, -7.2938, -7.332, -7.2984, -7.2971, -7.3221, -7.2942, -7.3246, -7.3123, -7.3181, -7.2858, -7.3009, -7.3003, -7.3097, -7.3088, -7.3122, -7.3123, -7.3403, -7.3266, -7.3595, -7.3495, -7.3522, -7.36, -7.3158, -7.3481, -7.3544, -7.3421, -7.3443, -7.3243, -7.3441, -7.3722, -7.3212, -7.3442, -7.3636, -7.3321, -7.3657, -7.371, -7.3635, -7.3479, -7.3349, -7.3417, -7.3642, -7.3613, -7.3709, -7.3624, -7.3564, -7.3624, -7.3548, -7.3392, -7.3359, -7.3569, -7.3586, -7.3539, -7.3571, -7.3596, -7.3609, -7.3612, -7.209, -7.2496, -7.2347, -7.2196, -7.228, -7.2575, -7.2713, -7.2826, -7.2939, -7.2799, -7.2815, -7.2989, -7.2942, -7.3402, -7.2981, -7.2827, -7.2982, -7.3227, -7.3056, -7.3038, -7.3385, -7.3298, -7.3234, -7.3426, -7.3487, -7.3274, -7.334, -7.2947, -7.321, -7.3084, -7.3179, -7.3165, -7.2955, -7.3209, -7.3111, -7.3207, -7.3158, -7.3186, -7.3409, -7.3439, -7.3603, -7.3012, -7.3264, -7.3642, -7.3722, -7.3879, -7.3433, -7.3653, -7.3787, -7.3646, -7.3557, -7.3588, -7.326, -7.3526, -7.3406, -7.3507, -7.3146, -7.32, -7.3541, -7.355, -7.3627, -7.3633, -7.3544, -7.3885, -7.3472, -7.3614, -7.3822, -7.3621, -7.3505, -7.3328, -7.344, -7.3531, -7.3554, -7.3586, -7.3588, -7.361, -7.356, -7.3588, -7.3613, -7.3233, -7.3143, -7.3284, -7.3147, -7.3479, -7.3281, -7.3188, -7.3077, -7.3178, -7.3245, -7.342, -7.3437, -7.3495, -7.3474, -7.3461, -7.3507, -7.3607, -7.346, -7.3255, -7.3246, -7.3521, -7.3493, -7.3131, -7.3663, -7.357, -7.3535, -7.355, -7.3717, -7.3533, -7.3448, -7.3529, -7.3335, -7.3509, -7.3468, -7.3506, -7.3511, -7.2819, -7.2515, -7.2859, -7.2943, -7.2846, -7.2984, -7.2989, -7.297, -7.275, -7.3278, -7.3052, -7.3251, -7.3142, -7.3268, -7.3207, -7.2967, -7.344, -7.349, -7.3467, -7.3287, -7.3469, -7.3442, -7.3398, -7.3544, -7.3093, -7.3359, -7.3453, -7.3615, -7.3467, -7.3504, -7.3422, -7.3115, -7.3377, -7.3208, -7.3417, -7.344, -7.3455, -7.2375, -7.2415, -7.2779, -7.2846, -7.3453, -7.3104, -7.2981, -7.3045, -7.3342, -7.3443, -7.3391, -7.3215, -7.3191, -7.3571, -7.3555, -7.3368, -7.3511, -7.3303, -7.3022, -7.351, -7.325, -7.3594, -7.355, -7.3589, -7.3536, -7.3624, -7.3271, -7.3137, -7.3463, -7.3495, -7.3253, -7.3329, -7.303, -7.3354, -7.339, -7.3439, -7.3416, -7.346, -7.3438, -7.3455, -7.1951, -7.2348, -7.2431, -7.2165, -7.2461, -7.287, -7.2451, -7.2622, -7.2293, -7.2751, -7.3146, -7.272, -7.3042, -7.3047, -7.3062, -7.2899, -7.2962, -7.2648, -7.2796, -7.3015, -7.3311, -7.3264, -7.3249, -7.3209, -7.3334, -7.3251, -7.3121, -7.3151, -7.3185, -7.3431, -7.334, -7.3244, -7.3019, -7.3222, -7.3263, -7.176, -7.2344, -7.235, -7.2757, -7.2602, -7.2812, -7.2847, -7.2818, -7.2892, -7.295, -7.3008, -7.3237, -7.298, -7.3103, -7.3208, -7.3319, -7.3342, -7.305, -7.36, -7.3413, -7.3494, -7.3655, -7.3334, -7.3413, -7.3386, -7.3461, -7.284, -7.3355, -7.2956, -7.3165, -7.2901, -7.3231, -7.322, -7.3287, -7.3256, -7.3266, -7.3298, -7.3329, -7.3323, -7.3472, -7.3001, -7.3364, -7.3156, -7.3454, -7.3103, -7.346, -7.3603, -7.3481, -7.3471, -7.3446, -7.3422, -7.3584, -7.372, -7.3652, -7.3447, -7.3695, -7.3576, -7.3431, -7.3411, -7.3535, -7.3552, -7.3569, -7.3653, -7.3665, -7.3808, -7.3724, -7.3869, -7.3682, -7.3239, -7.368, -7.3664, -7.3428, -7.3366, -7.3381, -7.329, -7.3318, -7.3557, -7.3603, -7.3592, -7.3583, -7.2371, -7.2356, -7.2579, -7.2807, -7.2399, -7.2496, -7.3114, -7.3286, -7.29, -7.2756, -7.2821, -7.3139, -7.3148, -7.3225, -7.345, -7.3246, -7.3159, -7.3047, -7.2728, -7.2902, -7.2954, -7.2729, -7.3138, -7.3188, -7.3207, -7.2818, -7.3509, -7.3392, -7.3093, -7.3152, -7.3048, -7.2941, -7.2875, -7.2894, -7.3137, -7.304, -7.3174, -7.317, -7.1785, -7.2484, -7.2703, -7.2654, -7.2958, -7.2495, -7.3034, -7.3335, -7.3227, -7.2744, -7.3031, -7.318, -7.2768, -7.3246, -7.3162, -7.3033, -7.3012, -7.3011, -7.3, -7.3215, -7.2967, -7.2931, -7.3194, -7.2916, -7.3324, -7.3446, -7.3369, -7.3143, -7.3411, -7.3393, -7.2848, -7.3181, -7.3279, -7.3088, -7.3296, -7.3321], \"loglift\": [30.0, 29.0, 28.0, 27.0, 26.0, 25.0, 24.0, 23.0, 22.0, 21.0, 20.0, 19.0, 18.0, 17.0, 16.0, 15.0, 14.0, 13.0, 12.0, 11.0, 10.0, 9.0, 8.0, 7.0, 6.0, 5.0, 4.0, 3.0, 2.0, 1.0, 0.2099, 0.1844, 0.164, 0.1599, 0.1592, 0.1573, 0.1568, 0.1542, 0.1512, 0.1497, 0.149, 0.145, 0.1425, 0.1415, 0.1363, 0.1363, 0.1315, 0.1306, 0.1274, 0.126, 0.1242, 0.1236, 0.1229, 0.1218, 0.1217, 0.1214, 0.1207, 0.1193, 0.1191, 0.119, 0.118, 0.1116, 0.1101, 0.1139, 0.1031, 0.1094, 0.0984, 0.1698, 0.1645, 0.1555, 0.1465, 0.1436, 0.142, 0.1363, 0.1358, 0.1354, 0.1344, 0.1343, 0.1339, 0.1315, 0.1314, 0.1299, 0.1274, 0.126, 0.1253, 0.123, 0.1223, 0.122, 0.1213, 0.1204, 0.1188, 0.1183, 0.1177, 0.1173, 0.116, 0.1155, 0.1155, 0.1144, 0.1135, 0.1034, 0.1113, 0.1042, 0.1081, 0.0912, 0.183, 0.1825, 0.1794, 0.1668, 0.1633, 0.1605, 0.1584, 0.1532, 0.1471, 0.1462, 0.1451, 0.1429, 0.1403, 0.1389, 0.1376, 0.1362, 0.1362, 0.1355, 0.1337, 0.1317, 0.1288, 0.1268, 0.1254, 0.1239, 0.1232, 0.1226, 0.1215, 0.1205, 0.1192, 0.1177, 0.1175, 0.1159, 0.107, 0.1092, 0.1095, 0.1053, 0.0897, 0.1569, 0.1561, 0.1561, 0.1525, 0.151, 0.148, 0.1459, 0.1423, 0.1421, 0.142, 0.1406, 0.1386, 0.1383, 0.1381, 0.1367, 0.1359, 0.1349, 0.1348, 0.1334, 0.1331, 0.1331, 0.1329, 0.1326, 0.1322, 0.132, 0.1317, 0.1316, 0.1314, 0.1314, 0.1307, 0.1292, 0.1286, 0.1236, 0.1262, 0.1139, 0.1214, 0.1002, 0.1985, 0.1936, 0.1881, 0.1768, 0.1689, 0.1648, 0.1622, 0.1614, 0.154, 0.1461, 0.1416, 0.1415, 0.1407, 0.1395, 0.1378, 0.1368, 0.1368, 0.1364, 0.1314, 0.1305, 0.1291, 0.1287, 0.1271, 0.127, 0.1243, 0.1212, 0.121, 0.121, 0.1205, 0.1196, 0.1093, 0.1152, 0.0836, 0.1062, 0.1374, 0.1292, 0.1259, 0.1238, 0.122, 0.12, 0.1179, 0.1154, 0.1151, 0.1151, 0.1145, 0.1138, 0.1096, 0.1093, 0.1077, 0.1074, 0.107, 0.1061, 0.1046, 0.1045, 0.1042, 0.1036, 0.1031, 0.1031, 0.1026, 0.1025, 0.1019, 0.1012, 0.1009, 0.1003, 0.0955, 0.0941, 0.0855, 0.082, 0.0735, 0.0761, 0.0802, 0.0927, 0.0819, 0.0642, 0.0548, 0.1579, 0.1372, 0.1317, 0.1248, 0.1228, 0.1177, 0.1152, 0.1121, 0.11, 0.1066, 0.106, 0.1048, 0.1045, 0.1027, 0.1026, 0.102, 0.1005, 0.0993, 0.0989, 0.0986, 0.0985, 0.0973, 0.0959, 0.0954, 0.0938, 0.0937, 0.0935, 0.0935, 0.093, 0.0929, 0.0921, 0.0804, 0.088, 0.0789, 0.0882, 0.0864, 0.0651, 0.08, 0.0611, 0.2029, 0.191, 0.1802, 0.1782, 0.1694, 0.1603, 0.1597, 0.1597, 0.1585, 0.1569, 0.1568, 0.1563, 0.152, 0.1514, 0.1513, 0.1499, 0.1486, 0.1461, 0.1455, 0.1437, 0.1422, 0.1421, 0.1417, 0.141, 0.14, 0.1395, 0.1366, 0.1362, 0.1347, 0.1346, 0.1343, 0.1341, 0.1318, 0.1114, 0.1321, 0.1192, 0.2233, 0.2184, 0.1901, 0.1818, 0.1774, 0.176, 0.1719, 0.1605, 0.1551, 0.1546, 0.1542, 0.1503, 0.148, 0.1472, 0.1446, 0.14, 0.1384, 0.1379, 0.1366, 0.1366, 0.136, 0.1353, 0.1352, 0.135, 0.1348, 0.1346, 0.133, 0.1325, 0.1317, 0.1314, 0.1268, 0.1105, 0.1073, 0.1194, 0.1157, 0.1178, 0.1923, 0.1841, 0.1835, 0.1645, 0.163, 0.1582, 0.1559, 0.1491, 0.1478, 0.1449, 0.1428, 0.141, 0.1387, 0.1383, 0.1374, 0.1364, 0.1361, 0.1353, 0.1352, 0.1339, 0.1317, 0.1295, 0.1277, 0.1261, 0.1259, 0.1253, 0.1248, 0.1248, 0.1239, 0.122, 0.1211, 0.12, 0.1099, 0.1147, 0.1132, 0.1173, 0.0987, 0.1645, 0.163, 0.1594, 0.154, 0.1467, 0.1398, 0.1368, 0.1356, 0.1339, 0.1266, 0.126, 0.1254, 0.1241, 0.1237, 0.1216, 0.1211, 0.1167, 0.1164, 0.1149, 0.1116, 0.1114, 0.1108, 0.1084, 0.1082, 0.1079, 0.1072, 0.107, 0.1056, 0.1037, 0.1035, 0.103, 0.0995, 0.091, 0.099, 0.0904, 0.1003, 0.0815, 0.2052, 0.1687, 0.1627, 0.1569, 0.1447, 0.1395, 0.1336, 0.1334, 0.1297, 0.1257, 0.1244, 0.1235, 0.1234, 0.1209, 0.1202, 0.1201, 0.1193, 0.119, 0.1182, 0.1148, 0.1143, 0.1129, 0.1114, 0.111, 0.1084, 0.1075, 0.1068, 0.1066, 0.1064, 0.1063, 0.1053, 0.1043, 0.1, 0.0782, 0.0935, 0.1022, 0.0961, 0.0942, 0.0762, 0.1783, 0.1672, 0.1639, 0.1565, 0.1537, 0.1487, 0.1461, 0.1427, 0.1377, 0.1357, 0.1338, 0.1286, 0.1274, 0.1274, 0.1237, 0.1198, 0.119, 0.119, 0.1188, 0.1177, 0.1175, 0.1173, 0.1172, 0.1155, 0.1155, 0.1147, 0.1139, 0.1138, 0.1127, 0.1112, 0.1089, 0.1084, 0.0959, 0.1101, 0.1068, 0.0827, 0.0886, 0.1807, 0.1687, 0.1653, 0.1648, 0.1629, 0.1562, 0.1515, 0.1494, 0.148, 0.1469, 0.1467, 0.1456, 0.1406, 0.1401, 0.1377, 0.133, 0.1298, 0.1294, 0.1288, 0.1287, 0.1241, 0.1239, 0.1235, 0.1215, 0.1214, 0.1214, 0.1205, 0.1196, 0.1195, 0.1193, 0.1182, 0.1176, 0.1048, 0.1096, 0.1054, 0.1079, 0.1065, 0.1079, 0.0933, 0.1558, 0.139, 0.1362, 0.1249, 0.1244, 0.1208, 0.119, 0.1184, 0.1181, 0.1175, 0.1155, 0.1151, 0.1151, 0.1144, 0.1143, 0.1134, 0.1127, 0.1117, 0.1117, 0.1116, 0.1077, 0.1075, 0.1061, 0.1057, 0.105, 0.1047, 0.1041, 0.1041, 0.1038, 0.1023, 0.1001, 0.09, 0.0797, 0.0978, 0.0976, 0.0868, 0.0843, 0.0924, 0.0969, 0.0955, 0.2015, 0.1861, 0.18, 0.171, 0.1634, 0.1597, 0.154, 0.1511, 0.151, 0.1479, 0.1406, 0.1396, 0.1378, 0.1372, 0.134, 0.1299, 0.1291, 0.129, 0.1283, 0.1278, 0.1268, 0.1262, 0.1241, 0.1225, 0.1219, 0.1214, 0.1209, 0.1198, 0.1191, 0.1187, 0.1167, 0.1144, 0.1047, 0.1155, 0.1045, 0.1138, 0.104, 0.1375, 0.124, 0.1212, 0.1202, 0.1141, 0.1116, 0.1108, 0.1108, 0.1082, 0.1082, 0.1078, 0.1067, 0.1067, 0.1041, 0.1039, 0.1036, 0.1034, 0.1021, 0.1013, 0.1009, 0.0999, 0.0987, 0.0979, 0.0978, 0.0978, 0.0959, 0.0955, 0.0954, 0.0951, 0.0942, 0.0921, 0.0901, 0.0827, 0.0831, 0.087, 0.0874, 0.0858, 0.0813, 0.087, 0.0585, 0.0733, 0.0562, 0.1734, 0.1473, 0.1396, 0.1387, 0.137, 0.1333, 0.1295, 0.1263, 0.1218, 0.1211, 0.1207, 0.12, 0.1199, 0.1166, 0.1139, 0.1105, 0.1094, 0.109, 0.1078, 0.1069, 0.1061, 0.1051, 0.1048, 0.1039, 0.1031, 0.1019, 0.1013, 0.1006, 0.1, 0.0978, 0.0976, 0.0864, 0.0951, 0.0883, 0.0789, 0.0761, 0.1539, 0.1488, 0.1394, 0.134, 0.1301, 0.1293, 0.1284, 0.1251, 0.1164, 0.1136, 0.113, 0.1129, 0.1103, 0.1103, 0.1102, 0.109, 0.1078, 0.1073, 0.107, 0.1068, 0.1065, 0.1053, 0.1037, 0.1036, 0.1033, 0.1018, 0.1012, 0.1006, 0.1003, 0.1001, 0.0994, 0.09, 0.0939, 0.0699, 0.0929, 0.0842, 0.0903, 0.164, 0.1588, 0.1498, 0.1408, 0.1399, 0.1397, 0.1365, 0.1279, 0.1211, 0.1172, 0.1154, 0.1134, 0.1129, 0.1126, 0.1122, 0.1119, 0.1116, 0.1112, 0.1111, 0.1106, 0.1106, 0.1103, 0.109, 0.1086, 0.1085, 0.1055, 0.1054, 0.1045, 0.1036, 0.1035, 0.1003, 0.099, 0.0883, 0.0866, 0.0893, 0.0945, 0.0879, 0.0954, 0.0878, 0.0691, 0.2176, 0.1968, 0.179, 0.1748, 0.1711, 0.1664, 0.1653, 0.1651, 0.1614, 0.1606, 0.1505, 0.1462, 0.1443, 0.1429, 0.1407, 0.1372, 0.1359, 0.1355, 0.1351, 0.1341, 0.1315, 0.1304, 0.13, 0.1284, 0.1267, 0.1267, 0.1265, 0.1263, 0.123, 0.1202, 0.12, 0.1171, 0.1038, 0.1156, 0.1015, 0.2255, 0.1912, 0.1783, 0.1538, 0.1528, 0.1512, 0.1502, 0.1435, 0.1433, 0.1396, 0.1376, 0.1372, 0.1296, 0.1293, 0.1278, 0.1229, 0.1214, 0.1212, 0.1211, 0.1208, 0.1208, 0.1197, 0.1196, 0.1186, 0.1178, 0.1167, 0.1163, 0.1144, 0.1137, 0.1118, 0.1118, 0.109, 0.1063, 0.1091, 0.0943, 0.0913, 0.0893, 0.0991, 0.1358, 0.134, 0.1332, 0.1135, 0.1127, 0.1119, 0.1096, 0.1089, 0.107, 0.1053, 0.1032, 0.1028, 0.1024, 0.1004, 0.0997, 0.0986, 0.0975, 0.097, 0.0966, 0.0965, 0.0965, 0.0954, 0.0945, 0.0927, 0.0911, 0.0898, 0.0893, 0.0893, 0.0892, 0.0892, 0.0891, 0.0892, 0.0886, 0.0855, 0.0813, 0.081, 0.0766, 0.0775, 0.0839, 0.0854, 0.0815, 0.0678, 0.2025, 0.1835, 0.1772, 0.1757, 0.1734, 0.1703, 0.1698, 0.1563, 0.1546, 0.1505, 0.1474, 0.1459, 0.1451, 0.1448, 0.1402, 0.1381, 0.1375, 0.1368, 0.1365, 0.1354, 0.1328, 0.1327, 0.1325, 0.1321, 0.1302, 0.1275, 0.1255, 0.1249, 0.1247, 0.1226, 0.1213, 0.1189, 0.1141, 0.1125, 0.1183, 0.0963, 0.115, 0.1114, 0.2218, 0.1792, 0.1643, 0.1601, 0.1531, 0.152, 0.1506, 0.1417, 0.1394, 0.1389, 0.1384, 0.1376, 0.1362, 0.1357, 0.1353, 0.1316, 0.1314, 0.1305, 0.1296, 0.1287, 0.1286, 0.1251, 0.1242, 0.121, 0.1196, 0.1188, 0.1185, 0.1176, 0.1173, 0.1157, 0.1065, 0.1108, 0.1076, 0.093, 0.1028, 0.0952]}, \"token.table\": {\"Topic\": [1, 3, 5, 9, 1, 3, 5, 8, 9, 10, 4, 2, 3, 4, 1, 2, 3, 2, 3, 10, 1, 2, 3, 7, 10, 2, 1, 2, 3, 5, 1, 7, 8, 10, 1, 3, 8, 1, 10, 2, 1, 2, 5, 6, 10, 4, 2, 3, 8, 1, 2, 3, 4, 5, 1, 2, 4, 1, 3, 4, 2, 3, 4, 1, 3, 9, 3, 7, 1, 3, 9, 2, 3, 6, 10, 1, 2, 3, 5, 1, 2, 5, 10, 11, 14, 1, 2, 3, 5, 9, 10, 1, 3, 8, 2, 2, 6, 7, 10, 11, 1, 3, 7, 2, 1, 1, 2, 3, 7, 10, 11, 12, 14, 2, 3, 6, 14, 1, 2, 3, 4, 7, 8, 7, 8, 1, 3, 8, 2, 3, 4, 1, 3, 8, 4, 3, 4, 8, 3, 4, 1, 7, 2, 1, 5, 1, 2, 3, 7, 11, 14, 1, 2, 3, 4, 1, 3, 5, 9, 10, 2, 4, 1, 3, 5, 9, 1, 2, 3, 1, 3, 2, 3, 1, 2, 1, 5, 9, 1, 13, 1, 3, 1, 7, 8, 10, 12, 13, 2, 7, 10, 2, 10, 1, 9, 4, 3, 8, 10, 10, 2, 6, 2, 4, 1, 3, 5, 9, 1, 3, 4, 1, 7, 10, 12, 13, 16, 8, 10, 2, 4, 1, 3, 10, 1, 4, 10, 1, 2, 3, 5, 9, 2, 4, 1, 2, 3, 5, 9, 2, 4, 1, 2, 3, 1, 2, 3, 8, 1, 2, 6, 1, 2, 3, 4, 1, 4, 4, 10, 2, 7, 2, 6, 10, 11, 14, 1, 2, 7, 13, 1, 8, 10, 12, 13, 21, 8, 1, 3, 5, 9, 1, 8, 10, 1, 5, 9, 20, 22, 2, 3, 7, 8, 10, 12, 4, 1, 1, 3, 8, 2, 3, 4, 7, 8, 1, 2, 3, 1, 2, 3, 4, 2, 6, 7, 10, 2, 6, 3, 8, 2, 4, 7, 8, 10, 1, 3, 5, 8, 10, 14, 1, 2, 4, 7, 2, 10, 12, 2, 2, 4, 2, 1, 3, 4, 1, 3, 1, 4, 1, 3, 1, 2, 3, 6, 1, 2, 3, 3, 4, 9, 8, 2, 3, 4, 1, 5, 1, 8, 2, 4, 6, 4, 1, 3, 9, 2, 3, 1, 3, 5, 8, 9, 1, 3, 5, 9, 1, 2, 3, 5, 6, 11, 14, 1, 2, 3, 6, 11, 2, 3, 7, 10, 14, 1, 2, 3, 5, 9, 10, 3, 1, 3, 5, 9, 2, 4, 2, 3, 4, 4, 8, 2, 3, 8, 1, 2, 3, 8, 3, 7, 8, 9, 10, 1, 2, 3, 4, 1, 2, 7, 1, 2, 3, 8, 1, 4, 1, 2, 3, 5, 9, 1, 9, 4, 1, 4, 1, 2, 3, 5, 6, 10, 2, 3, 4, 8, 2, 7, 3, 4, 1, 2, 3, 4, 1, 3, 5, 9, 1, 3, 4, 1, 10, 13, 1, 2, 3, 5, 9, 2, 3, 3, 4, 1, 3, 4, 1, 3, 1, 2, 10, 1, 2, 3, 5, 1, 2, 3, 5, 8, 4, 1, 1, 4, 1, 8, 9, 10, 1, 10, 13, 1, 3, 4, 7, 8, 1, 3, 1, 10, 1, 3, 1, 2, 7, 10, 11, 14, 2, 4, 1, 3, 5, 9, 1, 2, 3, 5, 8, 1, 4, 2, 1, 2, 3, 5, 9, 14, 1, 2, 3, 5, 1, 2, 6, 1, 2, 7, 10, 12, 13, 14, 16, 4, 8, 4, 2, 3, 8, 1, 3, 1, 2, 3, 6, 11, 2, 10, 2, 4, 1, 3, 9, 4, 1, 2, 1, 2, 7, 10, 12, 13, 16, 1, 10, 4, 1, 2, 3, 1, 3, 5, 9, 1, 2, 3, 5, 9, 3, 2, 4, 1, 2, 3, 6, 10, 11, 14, 1, 5, 10, 13, 16, 1, 3, 1, 2, 5, 10, 2, 3, 4, 2, 3, 1, 2, 3, 5, 14, 1, 2, 3, 5, 11, 14, 2, 2, 1, 3, 5, 9, 1, 3, 5, 9, 1, 4, 10, 1, 2, 3, 5, 9, 1, 3, 5, 9, 2, 4, 4, 4, 1, 5, 8, 8, 2, 3, 2, 1, 3, 5, 1, 2, 1, 2, 3, 8, 2, 1, 7, 10, 1, 2, 10, 1, 3, 8, 1, 3, 1, 3, 9, 10, 2, 1, 4, 1, 2, 3, 5, 9, 2, 4, 1, 10, 2, 6, 10, 1, 2, 1, 2, 3, 5, 9, 1, 2, 3, 4, 4, 1, 2, 3, 5, 7, 8, 10, 11, 12, 14, 1, 3, 5, 13, 1, 2, 3, 4, 1, 3, 5, 9, 1, 2, 3, 9, 1, 2, 4, 1, 3, 5, 2, 3, 1, 2, 3, 2, 4, 10, 1, 2, 3, 5, 1, 2, 3, 1, 2, 3, 4, 5, 1, 5, 9, 1, 4, 2, 1, 3, 4, 1, 2, 3, 2, 4, 2, 10, 1, 2, 3, 4, 2, 3, 8, 1, 2, 1, 2, 3, 6, 11, 14, 1, 2, 3, 5, 6, 11, 14, 1, 2, 6, 1, 1, 1, 2, 3, 5, 8, 9, 1, 2, 3, 1, 3, 8, 3, 1, 3, 8, 9, 10, 2, 3, 2, 4, 1, 3, 5, 9, 10, 2, 4, 6, 10, 1, 3, 9, 2, 3, 4, 7, 1, 2, 3, 1, 2, 3, 1, 2, 4, 2, 3, 1, 3, 5, 1, 3, 1, 3, 5, 9, 1, 2, 3, 10, 1, 3, 1, 2, 3, 6, 8, 2, 3, 8, 1, 3, 1, 2, 3, 5, 9, 3, 3, 8, 1, 4, 1, 2, 3, 8, 11, 1, 2, 3, 6, 11, 14, 1, 3, 5, 9, 1, 2, 7, 10, 1, 3, 5, 9, 2, 6, 2, 6, 4, 2, 3, 8, 2, 1, 2, 3, 5, 9, 2, 2, 4, 8, 10, 1, 3, 5, 1, 5, 10, 12, 13, 16, 1, 10, 10, 10, 1, 5, 9, 4, 1, 3, 9, 1, 4, 1, 3, 5, 9, 1, 4, 2, 3, 3, 8, 1, 3, 5, 9, 1, 3, 5, 8, 9, 3, 1, 2, 6, 10, 7, 10, 12, 16, 1, 2, 10, 12, 2, 4, 2, 3, 4, 1, 4, 1, 2, 5, 10, 11, 14, 3, 1, 7, 8, 10, 4, 1, 4, 1, 2, 3, 4, 1, 3, 1, 3, 5, 9, 1, 4, 1, 9, 1, 2, 3, 5, 9, 10, 4, 4, 2, 4, 3, 8, 2, 1, 3, 5, 9, 1, 3, 4, 9, 1, 2, 3, 1, 3, 9, 10, 1, 3, 9, 1, 3, 5, 9, 1, 4, 1, 9, 10, 2, 3, 4, 7, 2, 4, 1, 1, 3, 5, 9, 3, 8, 1, 2, 3, 6, 1, 3, 5, 9, 1, 3, 3, 2, 2, 1, 2, 2, 3, 2, 3, 10, 2, 3, 8, 1, 2, 3, 4, 8, 3, 4, 1, 2, 3, 5, 9, 11, 1, 2, 3, 8, 1, 2, 3, 8, 2, 3, 8, 1, 3, 5, 1, 4, 1, 4, 8, 1, 3, 7, 8, 2, 6, 4, 1, 5, 8, 9, 10, 13, 1, 5, 1, 5, 9, 13, 1, 1, 2, 3, 1, 2, 7, 10, 12, 13, 14, 16, 1, 2, 5, 4, 1, 2, 3, 6, 8, 1, 2, 3, 7, 10, 4], \"Freq\": [0.0908312364261415, 0.0908312364261415, 0.0908312364261415, 0.0908312364261415, 0.09079974001740486, 0.09079974001740486, 0.09079974001740486, 0.09079974001740486, 0.09079974001740486, 0.09079974001740486, 0.09705116647535844, 0.09347236969788728, 0.09347236969788728, 0.09347236969788728, 0.09204097898907072, 0.09204097898907072, 0.09204097898907072, 0.092074427857911, 0.092074427857911, 0.092074427857911, 0.09229963790146521, 0.09229963790146521, 0.09229963790146521, 0.09091945709566586, 0.09091945709566586, 0.09238435858621276, 0.0934043135444788, 0.0934043135444788, 0.0934043135444788, 0.0934043135444788, 0.09178203035173409, 0.09178203035173409, 0.09178203035173409, 0.09178203035173409, 0.09037754357793923, 0.09037754357793923, 0.09037754357793923, 0.09316495119272081, 0.09316495119272081, 0.09425449972433027, 0.08998323748494606, 0.08998323748494606, 0.08998323748494606, 0.08998323748494606, 0.08998323748494606, 0.09689120829605256, 0.09311075671130245, 0.09311075671130245, 0.09311075671130245, 0.09285909040950499, 0.09285909040950499, 0.09285909040950499, 0.09285909040950499, 0.09285909040950499, 0.09388695032702855, 0.09388695032702855, 0.09388695032702855, 0.09321828583602591, 0.09321828583602591, 0.09321828583602591, 0.09332235572311522, 0.09332235572311522, 0.09332235572311522, 0.09310007716074095, 0.09310007716074095, 0.09310007716074095, 0.09168321567826554, 0.09168321567826554, 0.09255751234445696, 0.09255751234445696, 0.09255751234445696, 0.09240718522700873, 0.09240718522700873, 0.09240718522700873, 0.09240718522700873, 0.09105894513750146, 0.09105894513750146, 0.09105894513750146, 0.09105894513750146, 0.09122164736111424, 0.09122164736111424, 0.09122164736111424, 0.09122164736111424, 0.09122164736111424, 0.09122164736111424, 0.08901529620196116, 0.08901529620196116, 0.08901529620196116, 0.08901529620196116, 0.08901529620196116, 0.08901529620196116, 0.09130651453166641, 0.09130651453166641, 0.09130651453166641, 0.09432289211312815, 0.08954542714142319, 0.08954542714142319, 0.08954542714142319, 0.08954542714142319, 0.08954542714142319, 0.09140859277343984, 0.09140859277343984, 0.09140859277343984, 0.09542971613382585, 0.09279092531319164, 0.08960187038277662, 0.08960187038277662, 0.08960187038277662, 0.08960187038277662, 0.08960187038277662, 0.08960187038277662, 0.08960187038277662, 0.08960187038277662, 0.09203718889550826, 0.09203718889550826, 0.09203718889550826, 0.09203718889550826, 0.09213917054982272, 0.09213917054982272, 0.09213917054982272, 0.09213917054982272, 0.09213917054982272, 0.09213917054982272, 0.09140631373971855, 0.09140631373971855, 0.09231729887147555, 0.09231729887147555, 0.09231729887147555, 0.09325437054900788, 0.09325437054900788, 0.09325437054900788, 0.09193456153497624, 0.09193456153497624, 0.09193456153497624, 0.09389325758400428, 0.0936561174958144, 0.0936561174958144, 0.0936561174958144, 0.09415545387724532, 0.09415545387724532, 0.09121095482913553, 0.09121095482913553, 0.09500330554811302, 0.09329880289623901, 0.09329880289623901, 0.08975040043498299, 0.08975040043498299, 0.08975040043498299, 0.08975040043498299, 0.08975040043498299, 0.08975040043498299, 0.09303121447022986, 0.09303121447022986, 0.09303121447022986, 0.09261947043627525, 0.09224386564105352, 0.09224386564105352, 0.09224386564105352, 0.09224386564105352, 0.09224386564105352, 0.09642418855168647, 0.09642418855168647, 0.09158628003085367, 0.09158628003085367, 0.09158628003085367, 0.09158628003085367, 0.09275285388738276, 0.09275285388738276, 0.09275285388738276, 0.09399122505669255, 0.09399122505669255, 0.09130926549991661, 0.09130926549991661, 0.09284847633099014, 0.09284847633099014, 0.09072417868501852, 0.09072417868501852, 0.09072417868501852, 0.09129504544142297, 0.09129504544142297, 0.09364806180363247, 0.09364806180363247, 0.09362878519458069, 0.09015931446985642, 0.09015931446985642, 0.09015931446985642, 0.09015931446985642, 0.09015931446985642, 0.0937341773177614, 0.0937341773177614, 0.0937341773177614, 0.09317220405767374, 0.09317220405767374, 0.09160533921206641, 0.09160533921206641, 0.09413554849600332, 0.09166131977452677, 0.09166131977452677, 0.09166131977452677, 0.09287314168032756, 0.093813665105493, 0.093813665105493, 0.09558045464150045, 0.09558045464150045, 0.09460273131240149, 0.09460273131240149, 0.09460273131240149, 0.09460273131240149, 0.09269488582507997, 0.09269488582507997, 0.0935659709818912, 0.08949085450293248, 0.08949085450293248, 0.08949085450293248, 0.08949085450293248, 0.08949085450293248, 0.08949085450293248, 0.09101960984207513, 0.09101960984207513, 0.09409675323518558, 0.09409675323518558, 0.0915682834782529, 0.0915682834782529, 0.0948888081620727, 0.09383894426906308, 0.09383894426906308, 0.09206899404959334, 0.09052800185783985, 0.09052800185783985, 0.09052800185783985, 0.09052800185783985, 0.09052800185783985, 0.0931038303277948, 0.0931038303277948, 0.0909218874178135, 0.0909218874178135, 0.0909218874178135, 0.0909218874178135, 0.0909218874178135, 0.094871855049277, 0.094871855049277, 0.09095861761790615, 0.09095861761790615, 0.09095861761790615, 0.09242494592920784, 0.09242494592920784, 0.09242494592920784, 0.09242494592920784, 0.09282856356258372, 0.09282856356258372, 0.09282856356258372, 0.09451955763002326, 0.09451955763002326, 0.09451955763002326, 0.09451955763002326, 0.09338024544273334, 0.09338024544273334, 0.09365002760517284, 0.09365002760517284, 0.0922167425931016, 0.0922167425931016, 0.08995761777022021, 0.08995761777022021, 0.08995761777022021, 0.08995761777022021, 0.08995761777022021, 0.09067448893436213, 0.09067448893436213, 0.09067448893436213, 0.09067448893436213, 0.08930885769870109, 0.08930885769870109, 0.08930885769870109, 0.08930885769870109, 0.08930885769870109, 0.08930885769870109, 0.09289947365252603, 0.0924686581565209, 0.0924686581565209, 0.0924686581565209, 0.0924686581565209, 0.09256689215713067, 0.09256689215713067, 0.09256689215713067, 0.08832150605977172, 0.08832150605977172, 0.08832150605977172, 0.08832150605977172, 0.08832150605977172, 0.08868800663103617, 0.08868800663103617, 0.08868800663103617, 0.08868800663103617, 0.08868800663103617, 0.08868800663103617, 0.09469566941221613, 0.0960349579500632, 0.0937898010192955, 0.0937898010192955, 0.0937898010192955, 0.09342178253664521, 0.09342178253664521, 0.09342178253664521, 0.09342178253664521, 0.09342178253664521, 0.09186619578944778, 0.09186619578944778, 0.09186619578944778, 0.09271501758640867, 0.09271501758640867, 0.09271501758640867, 0.09271501758640867, 0.09294360950143983, 0.09294360950143983, 0.09294360950143983, 0.09294360950143983, 0.09354317848180649, 0.09354317848180649, 0.09185299391476885, 0.09185299391476885, 0.092019849249672, 0.092019849249672, 0.092019849249672, 0.092019849249672, 0.092019849249672, 0.08954899242467504, 0.08954899242467504, 0.08954899242467504, 0.08954899242467504, 0.08954899242467504, 0.08954899242467504, 0.0921861876945538, 0.0921861876945538, 0.0921861876945538, 0.0921861876945538, 0.09139263886072817, 0.09139263886072817, 0.09139263886072817, 0.09361985108291146, 0.09408084571050435, 0.09408084571050435, 0.09400940712367582, 0.09152301590568135, 0.09152301590568135, 0.09152301590568135, 0.09337647462929122, 0.09337647462929122, 0.09500234977750961, 0.09483685971620048, 0.09518395536118518, 0.09518395536118518, 0.09480143305101535, 0.09480143305101535, 0.09480143305101535, 0.09480143305101535, 0.09353169725043695, 0.09353169725043695, 0.09353169725043695, 0.09480707374244787, 0.09480707374244787, 0.09480707374244787, 0.09390118880528675, 0.09578076856491258, 0.09578076856491258, 0.09578076856491258, 0.0922553902261373, 0.0922553902261373, 0.09330451541584518, 0.09330451541584518, 0.09327525626635867, 0.09327525626635867, 0.09327525626635867, 0.09419740355861939, 0.09362160933392374, 0.09362160933392374, 0.09362160933392374, 0.09313675888808891, 0.09313675888808891, 0.09071402726095576, 0.09071402726095576, 0.09071402726095576, 0.09071402726095576, 0.09071402726095576, 0.09098929654216202, 0.09098929654216202, 0.09098929654216202, 0.09098929654216202, 0.08981646190984241, 0.08981646190984241, 0.08981646190984241, 0.08981646190984241, 0.08981646190984241, 0.08981646190984241, 0.08981646190984241, 0.09091685481436122, 0.09091685481436122, 0.09091685481436122, 0.09091685481436122, 0.09091685481436122, 0.09191355113969416, 0.09191355113969416, 0.09191355113969416, 0.09191355113969416, 0.09191355113969416, 0.09120719030660346, 0.09120719030660346, 0.09120719030660346, 0.09120719030660346, 0.09120719030660346, 0.09120719030660346, 0.09360369754921849, 0.09301635175218534, 0.09301635175218534, 0.09301635175218534, 0.09301635175218534, 0.09300169827274783, 0.09300169827274783, 0.09296949923540115, 0.09296949923540115, 0.09296949923540115, 0.0918807149945411, 0.0918807149945411, 0.09100856251059036, 0.09100856251059036, 0.09100856251059036, 0.09351814857727656, 0.09351814857727656, 0.09351814857727656, 0.09312264196845703, 0.09083187951906259, 0.09083187951906259, 0.09083187951906259, 0.09083187951906259, 0.09083187951906259, 0.09284313750973812, 0.09284313750973812, 0.09284313750973812, 0.09284313750973812, 0.09179472797987875, 0.09179472797987875, 0.09179472797987875, 0.09260319935140689, 0.09260319935140689, 0.09260319935140689, 0.09260319935140689, 0.09367321283364506, 0.09367321283364506, 0.09516264465310999, 0.09516264465310999, 0.09516264465310999, 0.09516264465310999, 0.09516264465310999, 0.09110485135757611, 0.09110485135757611, 0.09264491008104493, 0.09318112114391419, 0.09318112114391419, 0.09083785627135396, 0.09083785627135396, 0.09083785627135396, 0.09083785627135396, 0.09083785627135396, 0.09083785627135396, 0.09275326997511135, 0.09359078866611824, 0.09359078866611824, 0.09359078866611824, 0.09296561716673248, 0.09296561716673248, 0.093121987702785, 0.093121987702785, 0.0914245866390274, 0.0914245866390274, 0.0914245866390274, 0.0914245866390274, 0.08934129757734349, 0.08934129757734349, 0.08934129757734349, 0.08934129757734349, 0.09278792698564557, 0.09278792698564557, 0.09278792698564557, 0.09061290121787897, 0.09061290121787897, 0.09061290121787897, 0.09134169321825616, 0.09134169321825616, 0.09134169321825616, 0.09134169321825616, 0.09134169321825616, 0.0926867246983012, 0.0926867246983012, 0.09321306851274885, 0.09349002791626788, 0.09329123003574305, 0.09329123003574305, 0.09329123003574305, 0.0926039706626766, 0.0926039706626766, 0.09308162149862995, 0.09308162149862995, 0.09308162149862995, 0.09269982852540322, 0.09269982852540322, 0.09269982852540322, 0.09269982852540322, 0.09087027556498681, 0.09087027556498681, 0.09087027556498681, 0.09087027556498681, 0.09087027556498681, 0.0955715535811904, 0.09192834602324171, 0.09350733047446776, 0.09350733047446776, 0.08980708944314764, 0.08980708944314764, 0.08980708944314764, 0.08980708944314764, 0.0906293828818593, 0.0906293828818593, 0.0906293828818593, 0.09364044031348487, 0.09364044031348487, 0.09364044031348487, 0.09358477881286091, 0.09358477881286091, 0.09305653684975237, 0.09305653684975237, 0.09104825663544712, 0.09104825663544712, 0.09299262925590802, 0.09299262925590802, 0.08956994832143614, 0.08956994832143614, 0.08956994832143614, 0.08956994832143614, 0.08956994832143614, 0.08956994832143614, 0.09469675287534833, 0.09469675287534833, 0.09123375716629219, 0.09123375716629219, 0.09123375716629219, 0.09123375716629219, 0.09098510369608692, 0.09098510369608692, 0.09098510369608692, 0.09098510369608692, 0.09098510369608692, 0.0930886557289977, 0.0930886557289977, 0.09451991768477745, 0.08901075141429267, 0.08901075141429267, 0.08901075141429267, 0.08901075141429267, 0.08901075141429267, 0.08901075141429267, 0.09199356806446685, 0.09199356806446685, 0.09199356806446685, 0.09199356806446685, 0.09274089697446411, 0.09274089697446411, 0.09274089697446411, 0.08971681818386422, 0.08971681818386422, 0.08971681818386422, 0.08971681818386422, 0.08971681818386422, 0.08971681818386422, 0.08971681818386422, 0.08971681818386422, 0.09272341390871003, 0.09272341390871003, 0.09331613679941483, 0.09231907311025275, 0.09231907311025275, 0.09231907311025275, 0.0953755578456474, 0.0953755578456474, 0.09210414064946414, 0.09210414064946414, 0.09210414064946414, 0.09210414064946414, 0.09210414064946414, 0.09247040735130603, 0.09247040735130603, 0.09341119625999672, 0.09341119625999672, 0.0942524476960129, 0.0942524476960129, 0.0942524476960129, 0.09368933177608431, 0.0925261451309897, 0.0925261451309897, 0.08911586131423982, 0.08911586131423982, 0.08911586131423982, 0.08911586131423982, 0.08911586131423982, 0.08911586131423982, 0.08911586131423982, 0.09292381193716216, 0.09292381193716216, 0.09463880542264129, 0.09078003264265468, 0.09078003264265468, 0.09078003264265468, 0.09174687533600438, 0.09174687533600438, 0.09174687533600438, 0.09174687533600438, 0.0906195935578563, 0.0906195935578563, 0.0906195935578563, 0.0906195935578563, 0.0906195935578563, 0.09714062464575779, 0.09461178437669165, 0.09461178437669165, 0.09042548253895134, 0.09042548253895134, 0.09042548253895134, 0.09042548253895134, 0.09042548253895134, 0.09042548253895134, 0.09042548253895134, 0.09044949415153906, 0.09044949415153906, 0.09044949415153906, 0.09044949415153906, 0.09044949415153906, 0.09345571032616595, 0.09345571032616595, 0.09122917734843283, 0.09122917734843283, 0.09122917734843283, 0.09122917734843283, 0.09374978149057281, 0.09374978149057281, 0.09374978149057281, 0.0928991828531471, 0.0928991828531471, 0.09061430655040878, 0.09061430655040878, 0.09061430655040878, 0.09061430655040878, 0.09061430655040878, 0.08956239118449409, 0.08956239118449409, 0.08956239118449409, 0.08956239118449409, 0.08956239118449409, 0.08956239118449409, 0.0937499770233228, 0.09190412969452345, 0.08978318467065, 0.08978318467065, 0.08978318467065, 0.08978318467065, 0.09439443094819583, 0.09439443094819583, 0.09439443094819583, 0.09439443094819583, 0.09434285587592099, 0.09434285587592099, 0.09192078297473774, 0.09085383411163421, 0.09085383411163421, 0.09085383411163421, 0.09085383411163421, 0.09085383411163421, 0.0933039231304851, 0.0933039231304851, 0.0933039231304851, 0.0933039231304851, 0.09450427710417139, 0.09450427710417139, 0.09372637615059763, 0.09416130869075348, 0.09372624468974314, 0.09372624468974314, 0.0933443555848678, 0.09189001356504618, 0.0923449969270786, 0.0923449969270786, 0.09458051193588339, 0.09122438119120795, 0.09122438119120795, 0.09122438119120795, 0.09373185549259927, 0.09373185549259927, 0.09167177685672358, 0.09167177685672358, 0.09167177685672358, 0.09167177685672358, 0.09568195225223508, 0.0923375747456254, 0.0923375747456254, 0.0923375747456254, 0.09106520645838588, 0.09106520645838588, 0.09106520645838588, 0.09389490968853868, 0.09389490968853868, 0.09157985062096766, 0.09402115253086576, 0.09402115253086576, 0.0927207829169587, 0.0927207829169587, 0.0927207829169587, 0.0927207829169587, 0.09447914585741776, 0.09338698316917807, 0.09338698316917807, 0.09101213011336406, 0.09101213011336406, 0.09101213011336406, 0.09101213011336406, 0.09101213011336406, 0.09497528570263936, 0.09497528570263936, 0.0924811999798852, 0.0924811999798852, 0.09326637415245773, 0.09326637415245773, 0.09326637415245773, 0.09184251336682576, 0.09184251336682576, 0.09052057252279817, 0.09052057252279817, 0.09052057252279817, 0.09052057252279817, 0.09052057252279817, 0.09089890528276773, 0.09089890528276773, 0.09089890528276773, 0.09089890528276773, 0.09298065504661504, 0.08719494153847514, 0.08719494153847514, 0.08719494153847514, 0.08719494153847514, 0.08719494153847514, 0.08719494153847514, 0.08719494153847514, 0.08719494153847514, 0.08719494153847514, 0.08719494153847514, 0.09258473912141695, 0.09258473912141695, 0.09258473912141695, 0.09258473912141695, 0.09451428244973928, 0.09451428244973928, 0.09451428244973928, 0.09451428244973928, 0.09104686158002888, 0.09104686158002888, 0.09104686158002888, 0.09104686158002888, 0.0918943405826067, 0.0918943405826067, 0.0918943405826067, 0.0918943405826067, 0.09221254467008091, 0.09221254467008091, 0.09221254467008091, 0.0926015042606278, 0.0926015042606278, 0.0926015042606278, 0.09214471180823842, 0.09214471180823842, 0.091344152348361, 0.091344152348361, 0.091344152348361, 0.09179411078282441, 0.09179411078282441, 0.09179411078282441, 0.09076899242658702, 0.09076899242658702, 0.09076899242658702, 0.09076899242658702, 0.09506704649490029, 0.09506704649490029, 0.09506704649490029, 0.09220172009169084, 0.09220172009169084, 0.09220172009169084, 0.09220172009169084, 0.09220172009169084, 0.09132195400664576, 0.09132195400664576, 0.09132195400664576, 0.09328381550075539, 0.09328381550075539, 0.09505798362967438, 0.09185633070742562, 0.09185633070742562, 0.09185633070742562, 0.0919434083834289, 0.0919434083834289, 0.0919434083834289, 0.0949889152762949, 0.09343351656941315, 0.09261378322071262, 0.09261378322071262, 0.09377082700292225, 0.09377082700292225, 0.09377082700292225, 0.09377082700292225, 0.08957599008069604, 0.08957599008069604, 0.08957599008069604, 0.09445000033955445, 0.09445000033955445, 0.08956630254948439, 0.08956630254948439, 0.08956630254948439, 0.08956630254948439, 0.08956630254948439, 0.08956630254948439, 0.08945201732781109, 0.08945201732781109, 0.08945201732781109, 0.08945201732781109, 0.08945201732781109, 0.08945201732781109, 0.08945201732781109, 0.09284927633919998, 0.09284927633919998, 0.09284927633919998, 0.0912905387747255, 0.09289883184743171, 0.09117692461970611, 0.09117692461970611, 0.09117692461970611, 0.09117692461970611, 0.09117692461970611, 0.09117692461970611, 0.09317747109211093, 0.09317747109211093, 0.09317747109211093, 0.09210247888678452, 0.09210247888678452, 0.09210247888678452, 0.09474321606924445, 0.0913831324012695, 0.0913831324012695, 0.0913831324012695, 0.0913831324012695, 0.0913831324012695, 0.09344080641549157, 0.09344080641549157, 0.09447606674129873, 0.0951943080726933, 0.09110223296959258, 0.09110223296959258, 0.09110223296959258, 0.09110223296959258, 0.09191428484269712, 0.09272107937927836, 0.09272107937927836, 0.09272107937927836, 0.09317022338379646, 0.09258200573030474, 0.09258200573030474, 0.09258200573030474, 0.09136895957292276, 0.09136895957292276, 0.09136895957292276, 0.09136895957292276, 0.0916360648655778, 0.0916360648655778, 0.0916360648655778, 0.09315181458904895, 0.09315181458904895, 0.09315181458904895, 0.09173450743011734, 0.09173450743011734, 0.09173450743011734, 0.09228428191730324, 0.09228428191730324, 0.09235960714869779, 0.09235960714869779, 0.09235960714869779, 0.09221601123532638, 0.09221601123532638, 0.08988590628576752, 0.08988590628576752, 0.08988590628576752, 0.08988590628576752, 0.09231010744172077, 0.09231010744172077, 0.09231010744172077, 0.0914369807463118, 0.09232050168672089, 0.09232050168672089, 0.0899634373287688, 0.0899634373287688, 0.0899634373287688, 0.0899634373287688, 0.0899634373287688, 0.0915275025338244, 0.0915275025338244, 0.0915275025338244, 0.0923409539819772, 0.0923409539819772, 0.08868164845727708, 0.08868164845727708, 0.08868164845727708, 0.08868164845727708, 0.08868164845727708, 0.09517866780587235, 0.09242675455473018, 0.09242675455473018, 0.09419850469781611, 0.09419850469781611, 0.08975032082224402, 0.08975032082224402, 0.08975032082224402, 0.08975032082224402, 0.08975032082224402, 0.08940164205236636, 0.08940164205236636, 0.08940164205236636, 0.08940164205236636, 0.08940164205236636, 0.08940164205236636, 0.09191750481328752, 0.09191750481328752, 0.09191750481328752, 0.09191750481328752, 0.09396090570953015, 0.09242411260255665, 0.09242411260255665, 0.09242411260255665, 0.0899605048544899, 0.0899605048544899, 0.0899605048544899, 0.0899605048544899, 0.09184889395413898, 0.09184889395413898, 0.09399535911280578, 0.09399535911280578, 0.09439302131005535, 0.09591352673763155, 0.09375986328698865, 0.09375986328698865, 0.09389408966525169, 0.09269414788135191, 0.09269414788135191, 0.09269414788135191, 0.09269414788135191, 0.09269414788135191, 0.0940816283955965, 0.09265886389265487, 0.09265886389265487, 0.09344304406055043, 0.09344304406055043, 0.09267783082280968, 0.09267783082280968, 0.09267783082280968, 0.08742959213612286, 0.08742959213612286, 0.08742959213612286, 0.08742959213612286, 0.08742959213612286, 0.08742959213612286, 0.09271896673103033, 0.09271896673103033, 0.09412671633307496, 0.09302024951798285, 0.09046927202089958, 0.09046927202089958, 0.09046927202089958, 0.09385916880755558, 0.0956458797597793, 0.0956458797597793, 0.0956458797597793, 0.09201520605036492, 0.09201520605036492, 0.08936953386188991, 0.08936953386188991, 0.08936953386188991, 0.08936953386188991, 0.09378037780550762, 0.09378037780550762, 0.09219420495694826, 0.09219420495694826, 0.09375339849785687, 0.09375339849785687, 0.0910913663015821, 0.0910913663015821, 0.0910913663015821, 0.0910913663015821, 0.09151322323339244, 0.09151322323339244, 0.09151322323339244, 0.09151322323339244, 0.09151322323339244, 0.09314474172088773, 0.09170947019328866, 0.09170947019328866, 0.09170947019328866, 0.09170947019328866, 0.09139888241107089, 0.09139888241107089, 0.09139888241107089, 0.09139888241107089, 0.09161000524833138, 0.09161000524833138, 0.09334647559172218, 0.09334647559172218, 0.09175190286426609, 0.09175190286426609, 0.09202086780352962, 0.09202086780352962, 0.09202086780352962, 0.09507983517531517, 0.09507983517531517, 0.08947346473967599, 0.08947346473967599, 0.08947346473967599, 0.08947346473967599, 0.08947346473967599, 0.08947346473967599, 0.09379486125611299, 0.09031106378348153, 0.09031106378348153, 0.09031106378348153, 0.09031106378348153, 0.09473544434465582, 0.09438305830466187, 0.09438305830466187, 0.09316365728392827, 0.09316365728392827, 0.09316365728392827, 0.09316365728392827, 0.09459123778169518, 0.09459123778169518, 0.09220623574796413, 0.09220623574796413, 0.09220623574796413, 0.09220623574796413, 0.09246919978785509, 0.09246919978785509, 0.09389693749248745, 0.09389693749248745, 0.08835029162485664, 0.08835029162485664, 0.08835029162485664, 0.08835029162485664, 0.08835029162485664, 0.08835029162485664, 0.09277993549140377, 0.09306342168241019, 0.09359934705864685, 0.09359934705864685, 0.09275436973556414, 0.09275436973556414, 0.0931267512314634, 0.0943276205848612, 0.0943276205848612, 0.0943276205848612, 0.0943276205848612, 0.093410856335981, 0.093410856335981, 0.093410856335981, 0.093410856335981, 0.09302665054568503, 0.09302665054568503, 0.09302665054568503, 0.09600482263184228, 0.09600482263184228, 0.09600482263184228, 0.09295032182181871, 0.09279208967693492, 0.09279208967693492, 0.09279208967693492, 0.09363078156315886, 0.09363078156315886, 0.09363078156315886, 0.09363078156315886, 0.09455835167649139, 0.09455835167649139, 0.09316450206479117, 0.09316450206479117, 0.09316450206479117, 0.09220400522021906, 0.09220400522021906, 0.09220400522021906, 0.09220400522021906, 0.09378483544048499, 0.09378483544048499, 0.09322987020730143, 0.09014993393770321, 0.09014993393770321, 0.09014993393770321, 0.09014993393770321, 0.09378177046381683, 0.09378177046381683, 0.09240840049040083, 0.09240840049040083, 0.09240840049040083, 0.09240840049040083, 0.09105459437327003, 0.09105459437327003, 0.09105459437327003, 0.09105459437327003, 0.09237674379341428, 0.09237674379341428, 0.09425507663343406, 0.09445036763484967, 0.09400757578452269, 0.09179892311972197, 0.09179892311972197, 0.0927342116213169, 0.0927342116213169, 0.09191849239243989, 0.09191849239243989, 0.09191849239243989, 0.0941241938103929, 0.09348627917643035, 0.09348627917643035, 0.09252820314806691, 0.09252820314806691, 0.09252820314806691, 0.09252820314806691, 0.09252820314806691, 0.09401121670734043, 0.09401121670734043, 0.08972265711004455, 0.08972265711004455, 0.08972265711004455, 0.08972265711004455, 0.08972265711004455, 0.08972265711004455, 0.09333274667816116, 0.09333274667816116, 0.09333274667816116, 0.09320921297277383, 0.0925896923614946, 0.0925896923614946, 0.0925896923614946, 0.0925896923614946, 0.09216203778967508, 0.09216203778967508, 0.09216203778967508, 0.09379671660660283, 0.09379671660660283, 0.09379671660660283, 0.09192140404370472, 0.09192140404370472, 0.09289819601748438, 0.09289819601748438, 0.09289819601748438, 0.09200233401363402, 0.09200233401363402, 0.09200233401363402, 0.09200233401363402, 0.09313845689301505, 0.09313845689301505, 0.09416829379151906, 0.08821487464937074, 0.08821487464937074, 0.08821487464937074, 0.08821487464937074, 0.08821487464937074, 0.08821487464937074, 0.09065979994293198, 0.09065979994293198, 0.09164658249644789, 0.09164658249644789, 0.09164658249644789, 0.09164658249644789, 0.09308663517916357, 0.09212240277003898, 0.09212240277003898, 0.09212240277003898, 0.08736821870252325, 0.08736821870252325, 0.08736821870252325, 0.08736821870252325, 0.08736821870252325, 0.08736821870252325, 0.08736821870252325, 0.08736821870252325, 0.09145308380414939, 0.09145308380414939, 0.09145308380414939, 0.0931428771127044, 0.09249932427129039, 0.09249932427129039, 0.09249932427129039, 0.09249932427129039, 0.09421297539763045, 0.09137019530738956, 0.09137019530738956, 0.09137019530738956, 0.09137019530738956, 0.09137019530738956, 0.0937464218043339], \"Term\": [\"abstract\", \"abstract\", \"abstract\", \"abstract\", \"academic\", \"academic\", \"academic\", \"academic\", \"academic\", \"academic\", \"academic_document\", \"accommodate\", \"accommodate\", \"accommodate\", \"account\", \"account\", \"account\", \"accurate\", \"accurate\", \"accurate\", \"add\", \"add\", \"add\", \"addition\", \"addition\", \"advantage\", \"agriculture\", \"agriculture\", \"agriculture\", \"agriculture\", \"alakangas\", \"alakangas\", \"alakangas\", \"alakangas\", \"allow\", \"allow\", \"allow\", \"alternative\", \"alternative\", \"amount\", \"analysis\", \"analysis\", \"analysis\", \"analysis\", \"analysis\", \"analytical\", \"analyze\", \"analyze\", \"analyze\", \"andor\", \"andor\", \"andor\", \"andor\", \"andor\", \"animal\", \"animal\", \"animal\", \"answer\", \"answer\", \"answer\", \"anticipate\", \"anticipate\", \"anticipate\", \"apply\", \"apply\", \"apply\", \"approach\", \"approach\", \"appropriate\", \"appropriate\", \"appropriate\", \"archambaultal\", \"archambaultal\", \"archambaultal\", \"archambaultal\", \"area\", \"area\", \"area\", \"area\", \"art\", \"art\", \"art\", \"art\", \"art\", \"art\", \"article\", \"article\", \"article\", \"article\", \"article\", \"article\", \"assessment\", \"assessment\", \"assessment\", \"assign\", \"author\", \"author\", \"author\", \"author\", \"author\", \"available\", \"available\", \"available\", \"balt\\u00e0\", \"basis\", \"bias\", \"bias\", \"bias\", \"bias\", \"bias\", \"bias\", \"bias\", \"bias\", \"biased\", \"biased\", \"biased\", \"biased\", \"bibliometric\", \"bibliometric\", \"bibliometric\", \"bibliometric\", \"bibliometric\", \"bibliometric\", \"bibliometric_analyse\", \"bibliometric_analyse\", \"bibliometric_analysis\", \"bibliometric_analysis\", \"bibliometric_analysis\", \"bibliometric_approach\", \"bibliometric_approach\", \"bibliometric_approach\", \"bibliometric_data\", \"bibliometric_data\", \"bibliometric_data\", \"bibliometric_feature\", \"bibliometric_indicator_takes\", \"bibliometric_indicator_takes\", \"bibliometric_indicator_takes\", \"bibliometric_method\", \"bibliometric_method\", \"biomedical_research\", \"biomedical_research\", \"biomedicine\", \"body\", \"body\", \"book\", \"book\", \"book\", \"book\", \"book\", \"book\", \"brazil\", \"brazil\", \"brazil\", \"britton\", \"broad\", \"broad\", \"broad\", \"broad\", \"broad\", \"calculation\", \"calculation\", \"carry\", \"carry\", \"carry\", \"carry\", \"case\", \"case\", \"case\", \"catalogue\", \"catalogue\", \"certain\", \"certain\", \"chadeganial\", \"chadeganial\", \"choice\", \"choice\", \"choice\", \"choose\", \"choose\", \"circular_economy\", \"circular_economy\", \"citable\", \"citation\", \"citation\", \"citation\", \"citation\", \"citation\", \"citation_analysis\", \"citation_analysis\", \"citation_analysis\", \"citation_count\", \"citation_count\", \"citation_database\", \"citation_database\", \"citation_indexe\", \"clarivate_analytic\", \"clarivate_analytic\", \"clarivate_analytic\", \"classification\", \"collaboration\", \"collaboration\", \"collaboration_pattern\", \"collaboration_pattern\", \"combination\", \"combination\", \"combination\", \"combination\", \"combine\", \"combine\", \"communication\", \"compare\", \"compare\", \"compare\", \"compare\", \"compare\", \"compare\", \"comparison\", \"comparison\", \"composition\", \"composition\", \"comprehensive\", \"comprehensive\", \"comprehensive_analysis\", \"comprehensiveness\", \"comprehensiveness\", \"conclude\", \"conduct\", \"conduct\", \"conduct\", \"conduct\", \"conduct\", \"conference\", \"conference\", \"consider\", \"consider\", \"consider\", \"consider\", \"consider\", \"considerable\", \"considerable\", \"contain\", \"contain\", \"contain\", \"context\", \"context\", \"context\", \"context\", \"contrast\", \"contrast\", \"contrast\", \"corporate\", \"corporate\", \"corporate\", \"corporate\", \"correct\", \"correct\", \"correlation\", \"correlation\", \"count\", \"count\", \"country\", \"country\", \"country\", \"country\", \"country\", \"cover\", \"cover\", \"cover\", \"cover\", \"coverage\", \"coverage\", \"coverage\", \"coverage\", \"coverage\", \"coverage\", \"create\", \"criterion\", \"criterion\", \"criterion\", \"criterion\", \"data_quality\", \"data_quality\", \"data_quality\", \"database\", \"database\", \"database\", \"database\", \"database\", \"datum\", \"datum\", \"datum\", \"datum\", \"datum\", \"datum\", \"dbs\", \"december\", \"define\", \"define\", \"define\", \"depend\", \"depend\", \"depend\", \"depend\", \"depend\", \"despite\", \"despite\", \"despite\", \"detail\", \"detail\", \"detail\", \"detail\", \"detriment\", \"detriment\", \"detriment\", \"detriment\", \"developing_countrie\", \"developing_countrie\", \"development\", \"development\", \"difference\", \"difference\", \"difference\", \"difference\", \"difference\", \"different\", \"different\", \"different\", \"different\", \"different\", \"different\", \"directory\", \"directory\", \"directory\", \"directory\", \"discipline\", \"discipline\", \"discipline\", \"disease\", \"dissemination\", \"dissemination\", \"dominate\", \"download\", \"download\", \"download\", \"early\", \"early\", \"easy\", \"ebscho\", \"ebsco\", \"ebsco\", \"ecology\", \"ecology\", \"ecology\", \"ecology\", \"education\", \"education\", \"education\", \"educational\", \"educational\", \"educational\", \"effectiveness\", \"effort\", \"effort\", \"effort\", \"elsevi\", \"elsevi\", \"elseviers_scopus\", \"elseviers_scopus\", \"emerge\", \"emerge\", \"emerge\", \"emergence\", \"employ\", \"employ\", \"employ\", \"end\", \"end\", \"engine\", \"engine\", \"engine\", \"engine\", \"engine\", \"engineer\", \"engineer\", \"engineer\", \"engineer\", \"english\", \"english\", \"english\", \"english\", \"english\", \"english\", \"english\", \"english_language\", \"english_language\", \"english_language\", \"english_language\", \"english_language\", \"englishlanguage\", \"englishlanguage\", \"englishlanguage\", \"englishlanguage\", \"englishlanguage\", \"ensure\", \"ensure\", \"ensure\", \"ensure\", \"ensure\", \"ensure\", \"enterprise\", \"environmental\", \"environmental\", \"environmental\", \"environmental\", \"erosion\", \"erosion\", \"estimate\", \"estimate\", \"estimate\", \"evaluate\", \"evaluate\", \"evaluation\", \"evaluation\", \"evaluation\", \"evolution\", \"evolution\", \"evolution\", \"examine\", \"example\", \"example\", \"example\", \"example\", \"example\", \"exclusion\", \"exclusion\", \"exclusion\", \"exclusion\", \"exclusive\", \"exclusive\", \"exclusive\", \"exist\", \"exist\", \"exist\", \"exist\", \"experience\", \"experience\", \"extant\", \"extant\", \"extant\", \"extant\", \"extant\", \"extensive\", \"extensive\", \"extent\", \"facilitate\", \"facilitate\", \"fact\", \"fact\", \"fact\", \"fact\", \"fact\", \"fact\", \"factor\", \"fair\", \"fair\", \"fair\", \"favor\", \"favor\", \"feedback\", \"feedback\", \"few\", \"few\", \"few\", \"few\", \"field\", \"field\", \"field\", \"field\", \"final\", \"final\", \"final\", \"find\", \"find\", \"find\", \"follow\", \"follow\", \"follow\", \"follow\", \"follow\", \"form\", \"form\", \"fraction\", \"free\", \"fund\", \"fund\", \"fund\", \"gather\", \"gather\", \"gavel\", \"gavel\", \"gavel\", \"generate\", \"generate\", \"generate\", \"generate\", \"give\", \"give\", \"give\", \"give\", \"give\", \"gm\\u00fcr\", \"good\", \"google\", \"google\", \"google_scholar\", \"google_scholar\", \"google_scholar\", \"google_scholar\", \"great\", \"great\", \"great\", \"guideline\", \"guideline\", \"guideline\", \"harze\", \"harze\", \"have\", \"have\", \"high\", \"high\", \"highquality\", \"highquality\", \"humanity\", \"humanity\", \"humanity\", \"humanity\", \"humanity\", \"humanity\", \"identical\", \"identical\", \"identify\", \"identify\", \"identify\", \"identify\", \"impact\", \"impact\", \"impact\", \"impact\", \"impact\", \"implement\", \"implement\", \"imply\", \"include\", \"include\", \"include\", \"include\", \"include\", \"include\", \"inclusion\", \"inclusion\", \"inclusion\", \"inclusion\", \"increase\", \"increase\", \"increase\", \"index\", \"index\", \"index\", \"index\", \"index\", \"index\", \"index\", \"index\", \"indexing\", \"indexing\", \"india\", \"individual\", \"individual\", \"individual\", \"industry\", \"industry\", \"influence\", \"influence\", \"influence\", \"influence\", \"influence\", \"instance\", \"instance\", \"institutional_addresse\", \"institutional_addresse\", \"integrity\", \"integrity\", \"integrity\", \"international_scene\", \"issue\", \"issue\", \"journal\", \"journal\", \"journal\", \"journal\", \"journal\", \"journal\", \"journal\", \"journal_coverage\", \"journal_coverage\", \"journal_title\", \"key\", \"key\", \"key\", \"keyword\", \"keyword\", \"keyword\", \"keyword\", \"knowledge\", \"knowledge\", \"knowledge\", \"knowledge\", \"knowledge\", \"knowledge_base\", \"lack_of_transparency\", \"lack_of_transparency\", \"language\", \"language\", \"language\", \"language\", \"language\", \"language\", \"language\", \"large\", \"large\", \"large\", \"large\", \"large\", \"late\", \"late\", \"level\", \"level\", \"level\", \"level\", \"life_sciences\", \"life_sciences\", \"life_sciences\", \"likely\", \"likely\", \"limit\", \"limit\", \"limit\", \"limit\", \"limit\", \"limitation\", \"limitation\", \"limitation\", \"limitation\", \"limitation\", \"limitation\", \"linguistic\", \"list\", \"literature\", \"literature\", \"literature\", \"literature\", \"literature_review\", \"literature_review\", \"literature_review\", \"literature_review\", \"localisedlocalized_scleroderma\", \"localisedlocalized_scleroderma\", \"low\", \"main\", \"main\", \"main\", \"main\", \"main\", \"management\", \"management\", \"management\", \"management\", \"manipulation\", \"manipulation\", \"mastrogiacomo\", \"match\", \"medline\", \"medline\", \"metadata\", \"microsoft\", \"multidisciplinary\", \"multidisciplinary\", \"national_publishing_systems\", \"natural_science\", \"natural_science\", \"natural_science\", \"netherland\", \"netherland\", \"new\", \"new\", \"new\", \"new\", \"nonenglish_language\", \"note\", \"note\", \"note\", \"number\", \"number\", \"number\", \"objective\", \"objective\", \"obtain\", \"october\", \"october\", \"offer\", \"offer\", \"offer\", \"offer\", \"oppose\", \"opt\", \"opt\", \"order\", \"order\", \"order\", \"order\", \"order\", \"overestimate\", \"overestimate\", \"overlap\", \"overlap\", \"overrepresentation\", \"overrepresentation\", \"overrepresentation\", \"overrepresente\", \"overrepresente\", \"paper\", \"paper\", \"paper\", \"paper\", \"paper\", \"particular\", \"particular\", \"particular\", \"particular\", \"pattern\", \"paulhu\", \"paulhu\", \"paulhu\", \"paulhu\", \"paulhu\", \"paulhu\", \"paulhu\", \"paulhu\", \"paulhu\", \"paulhu\", \"peerreviewe\", \"peerreviewe\", \"peerreviewe\", \"peerreviewe\", \"people\", \"people\", \"people\", \"people\", \"perform\", \"perform\", \"perform\", \"perform\", \"period\", \"period\", \"period\", \"period\", \"periodical\", \"periodical\", \"periodical\", \"phrase\", \"phrase\", \"phrase\", \"picture\", \"picture\", \"platform\", \"platform\", \"platform\", \"point\", \"point\", \"point\", \"potential\", \"potential\", \"potential\", \"potential\", \"practice\", \"practice\", \"practice\", \"preferred_reporting_items_for_systematic_reviews_and_metaanalyse\", \"preferred_reporting_items_for_systematic_reviews_and_metaanalyse\", \"preferred_reporting_items_for_systematic_reviews_and_metaanalyse\", \"preferred_reporting_items_for_systematic_reviews_and_metaanalyse\", \"preferred_reporting_items_for_systematic_reviews_and_metaanalyse\", \"present\", \"present\", \"present\", \"prestigious\", \"prestigious\", \"principal\", \"principle\", \"principle\", \"principle\", \"produce\", \"produce\", \"produce\", \"production\", \"professor\", \"proportion\", \"proportion\", \"propose\", \"propose\", \"propose\", \"propose\", \"provide\", \"provide\", \"provide\", \"public_administration\", \"public_administration\", \"publication\", \"publication\", \"publication\", \"publication\", \"publication\", \"publication\", \"publish\", \"publish\", \"publish\", \"publish\", \"publish\", \"publish\", \"publish\", \"publisher\", \"publisher\", \"publisher\", \"pubme\", \"pubmed\", \"purpose\", \"purpose\", \"purpose\", \"purpose\", \"purpose\", \"purpose\", \"qualitative\", \"qualitative\", \"qualitative\", \"quality\", \"quality\", \"quality\", \"quantitative\", \"question\", \"question\", \"question\", \"question\", \"question\", \"raan\", \"raan\", \"raanal\", \"raise\", \"range\", \"range\", \"range\", \"range\", \"rank\", \"rate\", \"rate\", \"rate\", \"receive\", \"recognize\", \"recognize\", \"recognize\", \"recommend\", \"recommend\", \"recommend\", \"recommend\", \"record\", \"record\", \"record\", \"reduce\", \"reduce\", \"reduce\", \"reference\", \"reference\", \"reference\", \"reflect\", \"reflect\", \"regard\", \"regard\", \"regard\", \"relevance\", \"relevance\", \"relevant\", \"relevant\", \"relevant\", \"relevant\", \"remain\", \"remain\", \"remain\", \"report\", \"repository\", \"repository\", \"represent\", \"represent\", \"represent\", \"represent\", \"represent\", \"require\", \"require\", \"require\", \"requirement\", \"requirement\", \"research\", \"research\", \"research\", \"research\", \"research\", \"research_area\", \"research_evaluation\", \"research_evaluation\", \"research_literature\", \"research_literature\", \"researcher\", \"researcher\", \"researcher\", \"researcher\", \"researcher\", \"result\", \"result\", \"result\", \"result\", \"result\", \"result\", \"retrieve\", \"retrieve\", \"retrieve\", \"retrieve\", \"return\", \"reveal\", \"reveal\", \"reveal\", \"review\", \"review\", \"review\", \"review\", \"sample\", \"sample\", \"sancho\", \"sancho\", \"satisfy\", \"scholarly_communication\", \"scholarly_database\", \"scholarly_database\", \"scholarly_journal\", \"scientific\", \"scientific\", \"scientific\", \"scientific\", \"scientific\", \"scientific_discipline\", \"scientific_production\", \"scientific_production\", \"scientometric\", \"scientometric\", \"scope\", \"scope\", \"scope\", \"scopus\", \"scopus\", \"scopus\", \"scopus\", \"scopus\", \"scopus\", \"scopus_cover\", \"scopus_cover\", \"scopus_coverage\", \"scopus_data\", \"scopus_database\", \"scopus_database\", \"scopus_database\", \"scopus_dbs\", \"scopus_index\", \"scopus_index\", \"scopus_index\", \"sdgs\", \"sdgs\", \"search\", \"search\", \"search\", \"search\", \"searching\", \"searching\", \"second\", \"second\", \"section\", \"section\", \"select\", \"select\", \"select\", \"select\", \"selection\", \"selection\", \"selection\", \"selection\", \"selection\", \"selective\", \"share\", \"share\", \"share\", \"share\", \"show\", \"show\", \"show\", \"show\", \"similar\", \"similar\", \"singhal\", \"singhal\", \"single\", \"single\", \"singular\", \"singular\", \"singular\", \"skill\", \"skill\", \"social_science\", \"social_science\", \"social_science\", \"social_science\", \"social_science\", \"social_science\", \"social_sciencetype_research\", \"source\", \"source\", \"source\", \"source\", \"source_title\", \"ssc\", \"ssc\", \"stage\", \"stage\", \"stage\", \"stage\", \"stakeholder\", \"stakeholder\", \"strategy\", \"strategy\", \"strategy\", \"strategy\", \"strength\", \"strength\", \"string\", \"string\", \"study\", \"study\", \"study\", \"study\", \"study\", \"study\", \"subject_areas\", \"subject_coverage\", \"sufficient\", \"sufficient\", \"suitability\", \"suitability\", \"summary\", \"superior\", \"superior\", \"superior\", \"superior\", \"supply_chain\", \"supply_chain\", \"supply_chain\", \"supply_chain\", \"sustainability\", \"sustainability\", \"sustainability\", \"sustainable\", \"sustainable\", \"sustainable\", \"system\", \"systematic_literature_review\", \"systematic_literature_review\", \"systematic_literature_review\", \"systematic_review\", \"systematic_review\", \"systematic_review\", \"systematic_review\", \"systemic_sclerosis\", \"systemic_sclerosis\", \"table\", \"table\", \"table\", \"take\", \"take\", \"take\", \"take\", \"technical_reports\", \"technical_reports\", \"technology\", \"term\", \"term\", \"term\", \"term\", \"thelwall\", \"thelwall\", \"time\", \"time\", \"time\", \"time\", \"title\", \"title\", \"title\", \"title\", \"trend\", \"trend\", \"ulrichs_web\", \"ulrichsweb\", \"underestimate\", \"underrepresent\", \"underrepresent\", \"underrepresentation\", \"underrepresentation\", \"underrepresented\", \"underrepresented\", \"underrepresented\", \"unique\", \"unit_of_analysis\", \"unit_of_analysis\", \"university\", \"university\", \"university\", \"university\", \"university\", \"urban\", \"urban\", \"use\", \"use\", \"use\", \"use\", \"use\", \"use\", \"user\", \"user\", \"user\", \"valid\", \"value\", \"value\", \"value\", \"value\", \"vary\", \"vary\", \"vary\", \"vast\", \"vast\", \"vast\", \"version\", \"version\", \"waltman\", \"waltman\", \"waltman\", \"wang\", \"wang\", \"wang\", \"wang\", \"weak\", \"weak\", \"weakness\", \"web_of_science\", \"web_of_science\", \"web_of_science\", \"web_of_science\", \"web_of_science\", \"web_of_science\", \"well\", \"well\", \"wide\", \"wide\", \"wide\", \"wide\", \"word\", \"work\", \"work\", \"work\", \"wos\", \"wos\", \"wos\", \"wos\", \"wos\", \"wos\", \"wos\", \"wos\", \"wos_database\", \"wos_database\", \"wos_database\", \"wos_journal_coverage\", \"write\", \"write\", \"write\", \"write\", \"yang\", \"year\", \"year\", \"year\", \"year\", \"year\", \"\\u0131nal\"]}, \"R\": 30, \"lambda.step\": 0.01, \"plot.opts\": {\"xlab\": \"PC1\", \"ylab\": \"PC2\"}, \"topic.order\": [2, 6, 12, 13, 1, 24, 22, 7, 10, 9, 25, 8, 21, 20, 23, 11, 5, 16, 3, 19, 17, 18, 15, 4, 14]};\n",
              "\n",
              "function LDAvis_load_lib(url, callback){\n",
              "  var s = document.createElement('script');\n",
              "  s.src = url;\n",
              "  s.async = true;\n",
              "  s.onreadystatechange = s.onload = callback;\n",
              "  s.onerror = function(){console.warn(\"failed to load library \" + url);};\n",
              "  document.getElementsByTagName(\"head\")[0].appendChild(s);\n",
              "}\n",
              "\n",
              "if(typeof(LDAvis) !== \"undefined\"){\n",
              "   // already loaded: just create the visualization\n",
              "   !function(LDAvis){\n",
              "       new LDAvis(\"#\" + \"ldavis_el272111397388307525925714025946\", ldavis_el272111397388307525925714025946_data);\n",
              "   }(LDAvis);\n",
              "}else if(typeof define === \"function\" && define.amd){\n",
              "   // require.js is available: use it to load d3/LDAvis\n",
              "   require.config({paths: {d3: \"https://d3js.org/d3.v5\"}});\n",
              "   require([\"d3\"], function(d3){\n",
              "      window.d3 = d3;\n",
              "      LDAvis_load_lib(\"https://cdn.jsdelivr.net/gh/bmabey/pyLDAvis@3.3.1/pyLDAvis/js/ldavis.v3.0.0.js\", function(){\n",
              "        new LDAvis(\"#\" + \"ldavis_el272111397388307525925714025946\", ldavis_el272111397388307525925714025946_data);\n",
              "      });\n",
              "    });\n",
              "}else{\n",
              "    // require.js not available: dynamically load d3 & LDAvis\n",
              "    LDAvis_load_lib(\"https://d3js.org/d3.v5.js\", function(){\n",
              "         LDAvis_load_lib(\"https://cdn.jsdelivr.net/gh/bmabey/pyLDAvis@3.3.1/pyLDAvis/js/ldavis.v3.0.0.js\", function(){\n",
              "                 new LDAvis(\"#\" + \"ldavis_el272111397388307525925714025946\", ldavis_el272111397388307525925714025946_data);\n",
              "            })\n",
              "         });\n",
              "}\n",
              "</script>"
            ]
          },
          "metadata": {},
          "execution_count": 15
        }
      ],
      "source": [
        "import pyLDAvis as vis\n",
        "\n",
        "ctm = results_df.sort_values(by='coherence', ascending=False).iloc[0]['model']\n",
        "tp = results_df.sort_values(by='coherence', ascending=False).iloc[0]['tp']\n",
        "training_dataset = results_df.sort_values(by='coherence', ascending=False).iloc[0]['training_dataset']\n",
        "lda_vis_data = ctm.get_ldavis_data_format(tp.vocab, training_dataset, n_samples=1)\n",
        "\n",
        "ctm_pd = vis.prepare(**lda_vis_data)\n",
        "vis.display(ctm_pd)"
      ]
    },
    {
      "cell_type": "markdown",
      "metadata": {
        "id": "7c1FU-XmMh6r"
      },
      "source": [
        "## Compute Topic Index"
      ]
    },
    {
      "cell_type": "code",
      "execution_count": 19,
      "metadata": {
        "colab": {
          "base_uri": "https://localhost:8080/"
        },
        "id": "LwK17HaJMh6r",
        "outputId": "ecf73b7a-fbaf-4cef-c201-cc3778b99c0b"
      },
      "outputs": [
        {
          "output_type": "stream",
          "name": "stderr",
          "text": [
            "Sampling: [5/5]: : 5it [00:03,  1.57it/s]\n",
            "Sampling: [5/5]: : 5it [00:02,  2.37it/s]\n",
            "Sampling: [5/5]: : 5it [00:02,  2.41it/s]\n",
            "Sampling: [5/5]: : 5it [00:02,  2.45it/s]\n",
            "Sampling: [5/5]: : 5it [00:02,  2.46it/s]\n",
            "Sampling: [5/5]: : 5it [00:02,  2.46it/s]\n",
            "Sampling: [5/5]: : 5it [00:02,  1.76it/s]\n",
            "Sampling: [5/5]: : 5it [00:02,  2.38it/s]\n",
            "Sampling: [5/5]: : 5it [00:02,  1.93it/s]\n",
            "Sampling: [5/5]: : 5it [00:02,  2.45it/s]\n",
            "Sampling: [5/5]: : 5it [00:02,  2.43it/s]\n",
            "Sampling: [5/5]: : 5it [00:02,  2.45it/s]\n",
            "Sampling: [5/5]: : 5it [00:02,  2.47it/s]\n",
            "Sampling: [5/5]: : 5it [00:02,  2.41it/s]\n",
            "Sampling: [5/5]: : 5it [00:02,  2.36it/s]\n",
            "Sampling: [5/5]: : 5it [00:02,  2.37it/s]\n",
            "Sampling: [5/5]: : 5it [00:02,  2.35it/s]\n",
            "Sampling: [5/5]: : 5it [00:02,  2.30it/s]\n",
            "Sampling: [5/5]: : 5it [00:02,  2.40it/s]\n",
            "Sampling: [5/5]: : 5it [00:02,  2.42it/s]\n",
            "Sampling: [5/5]: : 5it [00:02,  2.41it/s]\n",
            "Sampling: [5/5]: : 5it [00:02,  2.42it/s]\n",
            "Sampling: [5/5]: : 5it [00:02,  2.44it/s]\n",
            "Sampling: [5/5]: : 5it [00:02,  2.44it/s]\n",
            "Sampling: [5/5]: : 5it [00:02,  2.37it/s]\n",
            "Sampling: [5/5]: : 5it [00:02,  2.36it/s]\n",
            "Sampling: [5/5]: : 5it [00:02,  2.31it/s]\n",
            "Sampling: [5/5]: : 5it [00:02,  2.43it/s]\n",
            "Sampling: [5/5]: : 5it [00:02,  2.42it/s]\n",
            "Sampling: [5/5]: : 5it [00:02,  2.42it/s]\n",
            "Sampling: [5/5]: : 5it [00:02,  2.43it/s]\n",
            "Sampling: [5/5]: : 5it [00:02,  2.41it/s]\n",
            "Sampling: [5/5]: : 5it [00:02,  2.43it/s]\n",
            "Sampling: [5/5]: : 5it [00:02,  2.37it/s]\n",
            "Sampling: [5/5]: : 5it [00:02,  2.35it/s]\n",
            "Sampling: [5/5]: : 5it [00:02,  2.31it/s]\n"
          ]
        }
      ],
      "source": [
        "import numpy as np\n",
        "import json\n",
        "for i, result in results_df.iterrows():\n",
        "    documents = []\n",
        "    topic_predictions = result['model'].get_thetas(training_dataset, n_samples=5)\n",
        "    for topics, doi, cite_id in zip(topic_predictions, citations['source_doi'], citations['id']):\n",
        "        topic_number = np.argmax(topics)\n",
        "        keywords = [term for term in result['model'].get_topic_lists(10)[topic_number]]\n",
        "        documents.append({\n",
        "            \"doi\": doi,\n",
        "            \"cite_id\": cite_id,\n",
        "            \"keywords\": [word for word in set(keywords)]\n",
        "        })\n",
        "        with open(f'./ctm_{result[\"num_topics\"]}_{result[\"embedding_model\"].replace(\"/\", \"_\")}_topic_index.json', 'w+') as f:\n",
        "            json.dump({\n",
        "                \"embedding_model\": result[\"embedding_model\"],\n",
        "                \"topics\": result[\"num_topics\"],\n",
        "                \"diversity\": result[\"diversity\"],\n",
        "                \"coherence\": result[\"coherence\"],\n",
        "                \"documents\": documents\n",
        "            }, f)"
      ]
    },
    {
      "cell_type": "code",
      "source": [
        ""
      ],
      "metadata": {
        "id": "2mUUpT9LjmAz"
      },
      "execution_count": null,
      "outputs": []
    }
  ],
  "metadata": {
    "accelerator": "GPU",
    "colab": {
      "collapsed_sections": [
        "YSxaxusuf_rg"
      ],
      "name": "CTM.ipynb",
      "provenance": []
    },
    "kernelspec": {
      "display_name": "Python 3",
      "language": "python",
      "name": "python3"
    },
    "language_info": {
      "codemirror_mode": {
        "name": "ipython",
        "version": 3
      },
      "file_extension": ".py",
      "mimetype": "text/x-python",
      "name": "python",
      "nbconvert_exporter": "python",
      "pygments_lexer": "ipython3",
      "version": "3.10.4"
    },
    "widgets": {
      "application/vnd.jupyter.widget-state+json": {
        "3ec59eb891094cd28221a810fb28d09d": {
          "model_module": "@jupyter-widgets/controls",
          "model_name": "HBoxModel",
          "model_module_version": "1.5.0",
          "state": {
            "_dom_classes": [],
            "_model_module": "@jupyter-widgets/controls",
            "_model_module_version": "1.5.0",
            "_model_name": "HBoxModel",
            "_view_count": null,
            "_view_module": "@jupyter-widgets/controls",
            "_view_module_version": "1.5.0",
            "_view_name": "HBoxView",
            "box_style": "",
            "children": [
              "IPY_MODEL_faeee1570e25400fa6b3f98980bff717",
              "IPY_MODEL_b95744733d994a8094022d2c7ad37984",
              "IPY_MODEL_de1326729a73412d9210fb778a623671"
            ],
            "layout": "IPY_MODEL_4cbf3fd6453c492a920e36f9cad93555"
          }
        },
        "faeee1570e25400fa6b3f98980bff717": {
          "model_module": "@jupyter-widgets/controls",
          "model_name": "HTMLModel",
          "model_module_version": "1.5.0",
          "state": {
            "_dom_classes": [],
            "_model_module": "@jupyter-widgets/controls",
            "_model_module_version": "1.5.0",
            "_model_name": "HTMLModel",
            "_view_count": null,
            "_view_module": "@jupyter-widgets/controls",
            "_view_module_version": "1.5.0",
            "_view_name": "HTMLView",
            "description": "",
            "description_tooltip": null,
            "layout": "IPY_MODEL_b511fc45522c452e9a3e7fa56bee5089",
            "placeholder": "​",
            "style": "IPY_MODEL_1d98267f30b34f14b8553eb0062324db",
            "value": "Batches: 100%"
          }
        },
        "b95744733d994a8094022d2c7ad37984": {
          "model_module": "@jupyter-widgets/controls",
          "model_name": "FloatProgressModel",
          "model_module_version": "1.5.0",
          "state": {
            "_dom_classes": [],
            "_model_module": "@jupyter-widgets/controls",
            "_model_module_version": "1.5.0",
            "_model_name": "FloatProgressModel",
            "_view_count": null,
            "_view_module": "@jupyter-widgets/controls",
            "_view_module_version": "1.5.0",
            "_view_name": "ProgressView",
            "bar_style": "success",
            "description": "",
            "description_tooltip": null,
            "layout": "IPY_MODEL_99b6449031ff431cb396929389120009",
            "max": 4,
            "min": 0,
            "orientation": "horizontal",
            "style": "IPY_MODEL_8a37ee4d60db426b956683ffb09ffedf",
            "value": 4
          }
        },
        "de1326729a73412d9210fb778a623671": {
          "model_module": "@jupyter-widgets/controls",
          "model_name": "HTMLModel",
          "model_module_version": "1.5.0",
          "state": {
            "_dom_classes": [],
            "_model_module": "@jupyter-widgets/controls",
            "_model_module_version": "1.5.0",
            "_model_name": "HTMLModel",
            "_view_count": null,
            "_view_module": "@jupyter-widgets/controls",
            "_view_module_version": "1.5.0",
            "_view_name": "HTMLView",
            "description": "",
            "description_tooltip": null,
            "layout": "IPY_MODEL_20903af29b8543849041c0a489c8aab6",
            "placeholder": "​",
            "style": "IPY_MODEL_c89205fdefa6423aa0f1d21658c03fb3",
            "value": " 4/4 [00:02&lt;00:00,  1.53it/s]"
          }
        },
        "4cbf3fd6453c492a920e36f9cad93555": {
          "model_module": "@jupyter-widgets/base",
          "model_name": "LayoutModel",
          "model_module_version": "1.2.0",
          "state": {
            "_model_module": "@jupyter-widgets/base",
            "_model_module_version": "1.2.0",
            "_model_name": "LayoutModel",
            "_view_count": null,
            "_view_module": "@jupyter-widgets/base",
            "_view_module_version": "1.2.0",
            "_view_name": "LayoutView",
            "align_content": null,
            "align_items": null,
            "align_self": null,
            "border": null,
            "bottom": null,
            "display": null,
            "flex": null,
            "flex_flow": null,
            "grid_area": null,
            "grid_auto_columns": null,
            "grid_auto_flow": null,
            "grid_auto_rows": null,
            "grid_column": null,
            "grid_gap": null,
            "grid_row": null,
            "grid_template_areas": null,
            "grid_template_columns": null,
            "grid_template_rows": null,
            "height": null,
            "justify_content": null,
            "justify_items": null,
            "left": null,
            "margin": null,
            "max_height": null,
            "max_width": null,
            "min_height": null,
            "min_width": null,
            "object_fit": null,
            "object_position": null,
            "order": null,
            "overflow": null,
            "overflow_x": null,
            "overflow_y": null,
            "padding": null,
            "right": null,
            "top": null,
            "visibility": null,
            "width": null
          }
        },
        "b511fc45522c452e9a3e7fa56bee5089": {
          "model_module": "@jupyter-widgets/base",
          "model_name": "LayoutModel",
          "model_module_version": "1.2.0",
          "state": {
            "_model_module": "@jupyter-widgets/base",
            "_model_module_version": "1.2.0",
            "_model_name": "LayoutModel",
            "_view_count": null,
            "_view_module": "@jupyter-widgets/base",
            "_view_module_version": "1.2.0",
            "_view_name": "LayoutView",
            "align_content": null,
            "align_items": null,
            "align_self": null,
            "border": null,
            "bottom": null,
            "display": null,
            "flex": null,
            "flex_flow": null,
            "grid_area": null,
            "grid_auto_columns": null,
            "grid_auto_flow": null,
            "grid_auto_rows": null,
            "grid_column": null,
            "grid_gap": null,
            "grid_row": null,
            "grid_template_areas": null,
            "grid_template_columns": null,
            "grid_template_rows": null,
            "height": null,
            "justify_content": null,
            "justify_items": null,
            "left": null,
            "margin": null,
            "max_height": null,
            "max_width": null,
            "min_height": null,
            "min_width": null,
            "object_fit": null,
            "object_position": null,
            "order": null,
            "overflow": null,
            "overflow_x": null,
            "overflow_y": null,
            "padding": null,
            "right": null,
            "top": null,
            "visibility": null,
            "width": null
          }
        },
        "1d98267f30b34f14b8553eb0062324db": {
          "model_module": "@jupyter-widgets/controls",
          "model_name": "DescriptionStyleModel",
          "model_module_version": "1.5.0",
          "state": {
            "_model_module": "@jupyter-widgets/controls",
            "_model_module_version": "1.5.0",
            "_model_name": "DescriptionStyleModel",
            "_view_count": null,
            "_view_module": "@jupyter-widgets/base",
            "_view_module_version": "1.2.0",
            "_view_name": "StyleView",
            "description_width": ""
          }
        },
        "99b6449031ff431cb396929389120009": {
          "model_module": "@jupyter-widgets/base",
          "model_name": "LayoutModel",
          "model_module_version": "1.2.0",
          "state": {
            "_model_module": "@jupyter-widgets/base",
            "_model_module_version": "1.2.0",
            "_model_name": "LayoutModel",
            "_view_count": null,
            "_view_module": "@jupyter-widgets/base",
            "_view_module_version": "1.2.0",
            "_view_name": "LayoutView",
            "align_content": null,
            "align_items": null,
            "align_self": null,
            "border": null,
            "bottom": null,
            "display": null,
            "flex": null,
            "flex_flow": null,
            "grid_area": null,
            "grid_auto_columns": null,
            "grid_auto_flow": null,
            "grid_auto_rows": null,
            "grid_column": null,
            "grid_gap": null,
            "grid_row": null,
            "grid_template_areas": null,
            "grid_template_columns": null,
            "grid_template_rows": null,
            "height": null,
            "justify_content": null,
            "justify_items": null,
            "left": null,
            "margin": null,
            "max_height": null,
            "max_width": null,
            "min_height": null,
            "min_width": null,
            "object_fit": null,
            "object_position": null,
            "order": null,
            "overflow": null,
            "overflow_x": null,
            "overflow_y": null,
            "padding": null,
            "right": null,
            "top": null,
            "visibility": null,
            "width": null
          }
        },
        "8a37ee4d60db426b956683ffb09ffedf": {
          "model_module": "@jupyter-widgets/controls",
          "model_name": "ProgressStyleModel",
          "model_module_version": "1.5.0",
          "state": {
            "_model_module": "@jupyter-widgets/controls",
            "_model_module_version": "1.5.0",
            "_model_name": "ProgressStyleModel",
            "_view_count": null,
            "_view_module": "@jupyter-widgets/base",
            "_view_module_version": "1.2.0",
            "_view_name": "StyleView",
            "bar_color": null,
            "description_width": ""
          }
        },
        "20903af29b8543849041c0a489c8aab6": {
          "model_module": "@jupyter-widgets/base",
          "model_name": "LayoutModel",
          "model_module_version": "1.2.0",
          "state": {
            "_model_module": "@jupyter-widgets/base",
            "_model_module_version": "1.2.0",
            "_model_name": "LayoutModel",
            "_view_count": null,
            "_view_module": "@jupyter-widgets/base",
            "_view_module_version": "1.2.0",
            "_view_name": "LayoutView",
            "align_content": null,
            "align_items": null,
            "align_self": null,
            "border": null,
            "bottom": null,
            "display": null,
            "flex": null,
            "flex_flow": null,
            "grid_area": null,
            "grid_auto_columns": null,
            "grid_auto_flow": null,
            "grid_auto_rows": null,
            "grid_column": null,
            "grid_gap": null,
            "grid_row": null,
            "grid_template_areas": null,
            "grid_template_columns": null,
            "grid_template_rows": null,
            "height": null,
            "justify_content": null,
            "justify_items": null,
            "left": null,
            "margin": null,
            "max_height": null,
            "max_width": null,
            "min_height": null,
            "min_width": null,
            "object_fit": null,
            "object_position": null,
            "order": null,
            "overflow": null,
            "overflow_x": null,
            "overflow_y": null,
            "padding": null,
            "right": null,
            "top": null,
            "visibility": null,
            "width": null
          }
        },
        "c89205fdefa6423aa0f1d21658c03fb3": {
          "model_module": "@jupyter-widgets/controls",
          "model_name": "DescriptionStyleModel",
          "model_module_version": "1.5.0",
          "state": {
            "_model_module": "@jupyter-widgets/controls",
            "_model_module_version": "1.5.0",
            "_model_name": "DescriptionStyleModel",
            "_view_count": null,
            "_view_module": "@jupyter-widgets/base",
            "_view_module_version": "1.2.0",
            "_view_name": "StyleView",
            "description_width": ""
          }
        },
        "805f79f4a08c48e18ab771007955efc0": {
          "model_module": "@jupyter-widgets/controls",
          "model_name": "HBoxModel",
          "model_module_version": "1.5.0",
          "state": {
            "_dom_classes": [],
            "_model_module": "@jupyter-widgets/controls",
            "_model_module_version": "1.5.0",
            "_model_name": "HBoxModel",
            "_view_count": null,
            "_view_module": "@jupyter-widgets/controls",
            "_view_module_version": "1.5.0",
            "_view_name": "HBoxView",
            "box_style": "",
            "children": [
              "IPY_MODEL_16890d6cbd0a4deab49c3155be3fc772",
              "IPY_MODEL_e4ecc89fe77b47c38f336184f3bbd36c",
              "IPY_MODEL_0a82ce110bbd40ef840d36ffc2af382e"
            ],
            "layout": "IPY_MODEL_ff9002ffe46a4784806da6cca6060f89"
          }
        },
        "16890d6cbd0a4deab49c3155be3fc772": {
          "model_module": "@jupyter-widgets/controls",
          "model_name": "HTMLModel",
          "model_module_version": "1.5.0",
          "state": {
            "_dom_classes": [],
            "_model_module": "@jupyter-widgets/controls",
            "_model_module_version": "1.5.0",
            "_model_name": "HTMLModel",
            "_view_count": null,
            "_view_module": "@jupyter-widgets/controls",
            "_view_module_version": "1.5.0",
            "_view_name": "HTMLView",
            "description": "",
            "description_tooltip": null,
            "layout": "IPY_MODEL_1415cd6ddfc742cd8dcbdb439e526098",
            "placeholder": "​",
            "style": "IPY_MODEL_baf79755afa040db8995f1d6540ac443",
            "value": "Batches: 100%"
          }
        },
        "e4ecc89fe77b47c38f336184f3bbd36c": {
          "model_module": "@jupyter-widgets/controls",
          "model_name": "FloatProgressModel",
          "model_module_version": "1.5.0",
          "state": {
            "_dom_classes": [],
            "_model_module": "@jupyter-widgets/controls",
            "_model_module_version": "1.5.0",
            "_model_name": "FloatProgressModel",
            "_view_count": null,
            "_view_module": "@jupyter-widgets/controls",
            "_view_module_version": "1.5.0",
            "_view_name": "ProgressView",
            "bar_style": "success",
            "description": "",
            "description_tooltip": null,
            "layout": "IPY_MODEL_c3845c26f00b4f25b40035255bf99f01",
            "max": 4,
            "min": 0,
            "orientation": "horizontal",
            "style": "IPY_MODEL_598ba4eed50a411a9229f8f4350f6ac5",
            "value": 4
          }
        },
        "0a82ce110bbd40ef840d36ffc2af382e": {
          "model_module": "@jupyter-widgets/controls",
          "model_name": "HTMLModel",
          "model_module_version": "1.5.0",
          "state": {
            "_dom_classes": [],
            "_model_module": "@jupyter-widgets/controls",
            "_model_module_version": "1.5.0",
            "_model_name": "HTMLModel",
            "_view_count": null,
            "_view_module": "@jupyter-widgets/controls",
            "_view_module_version": "1.5.0",
            "_view_name": "HTMLView",
            "description": "",
            "description_tooltip": null,
            "layout": "IPY_MODEL_61577e70b95047caa5771465592122dd",
            "placeholder": "​",
            "style": "IPY_MODEL_75e0291d2f09431791f6e2d06e43664f",
            "value": " 4/4 [00:05&lt;00:00,  1.20s/it]"
          }
        },
        "ff9002ffe46a4784806da6cca6060f89": {
          "model_module": "@jupyter-widgets/base",
          "model_name": "LayoutModel",
          "model_module_version": "1.2.0",
          "state": {
            "_model_module": "@jupyter-widgets/base",
            "_model_module_version": "1.2.0",
            "_model_name": "LayoutModel",
            "_view_count": null,
            "_view_module": "@jupyter-widgets/base",
            "_view_module_version": "1.2.0",
            "_view_name": "LayoutView",
            "align_content": null,
            "align_items": null,
            "align_self": null,
            "border": null,
            "bottom": null,
            "display": null,
            "flex": null,
            "flex_flow": null,
            "grid_area": null,
            "grid_auto_columns": null,
            "grid_auto_flow": null,
            "grid_auto_rows": null,
            "grid_column": null,
            "grid_gap": null,
            "grid_row": null,
            "grid_template_areas": null,
            "grid_template_columns": null,
            "grid_template_rows": null,
            "height": null,
            "justify_content": null,
            "justify_items": null,
            "left": null,
            "margin": null,
            "max_height": null,
            "max_width": null,
            "min_height": null,
            "min_width": null,
            "object_fit": null,
            "object_position": null,
            "order": null,
            "overflow": null,
            "overflow_x": null,
            "overflow_y": null,
            "padding": null,
            "right": null,
            "top": null,
            "visibility": null,
            "width": null
          }
        },
        "1415cd6ddfc742cd8dcbdb439e526098": {
          "model_module": "@jupyter-widgets/base",
          "model_name": "LayoutModel",
          "model_module_version": "1.2.0",
          "state": {
            "_model_module": "@jupyter-widgets/base",
            "_model_module_version": "1.2.0",
            "_model_name": "LayoutModel",
            "_view_count": null,
            "_view_module": "@jupyter-widgets/base",
            "_view_module_version": "1.2.0",
            "_view_name": "LayoutView",
            "align_content": null,
            "align_items": null,
            "align_self": null,
            "border": null,
            "bottom": null,
            "display": null,
            "flex": null,
            "flex_flow": null,
            "grid_area": null,
            "grid_auto_columns": null,
            "grid_auto_flow": null,
            "grid_auto_rows": null,
            "grid_column": null,
            "grid_gap": null,
            "grid_row": null,
            "grid_template_areas": null,
            "grid_template_columns": null,
            "grid_template_rows": null,
            "height": null,
            "justify_content": null,
            "justify_items": null,
            "left": null,
            "margin": null,
            "max_height": null,
            "max_width": null,
            "min_height": null,
            "min_width": null,
            "object_fit": null,
            "object_position": null,
            "order": null,
            "overflow": null,
            "overflow_x": null,
            "overflow_y": null,
            "padding": null,
            "right": null,
            "top": null,
            "visibility": null,
            "width": null
          }
        },
        "baf79755afa040db8995f1d6540ac443": {
          "model_module": "@jupyter-widgets/controls",
          "model_name": "DescriptionStyleModel",
          "model_module_version": "1.5.0",
          "state": {
            "_model_module": "@jupyter-widgets/controls",
            "_model_module_version": "1.5.0",
            "_model_name": "DescriptionStyleModel",
            "_view_count": null,
            "_view_module": "@jupyter-widgets/base",
            "_view_module_version": "1.2.0",
            "_view_name": "StyleView",
            "description_width": ""
          }
        },
        "c3845c26f00b4f25b40035255bf99f01": {
          "model_module": "@jupyter-widgets/base",
          "model_name": "LayoutModel",
          "model_module_version": "1.2.0",
          "state": {
            "_model_module": "@jupyter-widgets/base",
            "_model_module_version": "1.2.0",
            "_model_name": "LayoutModel",
            "_view_count": null,
            "_view_module": "@jupyter-widgets/base",
            "_view_module_version": "1.2.0",
            "_view_name": "LayoutView",
            "align_content": null,
            "align_items": null,
            "align_self": null,
            "border": null,
            "bottom": null,
            "display": null,
            "flex": null,
            "flex_flow": null,
            "grid_area": null,
            "grid_auto_columns": null,
            "grid_auto_flow": null,
            "grid_auto_rows": null,
            "grid_column": null,
            "grid_gap": null,
            "grid_row": null,
            "grid_template_areas": null,
            "grid_template_columns": null,
            "grid_template_rows": null,
            "height": null,
            "justify_content": null,
            "justify_items": null,
            "left": null,
            "margin": null,
            "max_height": null,
            "max_width": null,
            "min_height": null,
            "min_width": null,
            "object_fit": null,
            "object_position": null,
            "order": null,
            "overflow": null,
            "overflow_x": null,
            "overflow_y": null,
            "padding": null,
            "right": null,
            "top": null,
            "visibility": null,
            "width": null
          }
        },
        "598ba4eed50a411a9229f8f4350f6ac5": {
          "model_module": "@jupyter-widgets/controls",
          "model_name": "ProgressStyleModel",
          "model_module_version": "1.5.0",
          "state": {
            "_model_module": "@jupyter-widgets/controls",
            "_model_module_version": "1.5.0",
            "_model_name": "ProgressStyleModel",
            "_view_count": null,
            "_view_module": "@jupyter-widgets/base",
            "_view_module_version": "1.2.0",
            "_view_name": "StyleView",
            "bar_color": null,
            "description_width": ""
          }
        },
        "61577e70b95047caa5771465592122dd": {
          "model_module": "@jupyter-widgets/base",
          "model_name": "LayoutModel",
          "model_module_version": "1.2.0",
          "state": {
            "_model_module": "@jupyter-widgets/base",
            "_model_module_version": "1.2.0",
            "_model_name": "LayoutModel",
            "_view_count": null,
            "_view_module": "@jupyter-widgets/base",
            "_view_module_version": "1.2.0",
            "_view_name": "LayoutView",
            "align_content": null,
            "align_items": null,
            "align_self": null,
            "border": null,
            "bottom": null,
            "display": null,
            "flex": null,
            "flex_flow": null,
            "grid_area": null,
            "grid_auto_columns": null,
            "grid_auto_flow": null,
            "grid_auto_rows": null,
            "grid_column": null,
            "grid_gap": null,
            "grid_row": null,
            "grid_template_areas": null,
            "grid_template_columns": null,
            "grid_template_rows": null,
            "height": null,
            "justify_content": null,
            "justify_items": null,
            "left": null,
            "margin": null,
            "max_height": null,
            "max_width": null,
            "min_height": null,
            "min_width": null,
            "object_fit": null,
            "object_position": null,
            "order": null,
            "overflow": null,
            "overflow_x": null,
            "overflow_y": null,
            "padding": null,
            "right": null,
            "top": null,
            "visibility": null,
            "width": null
          }
        },
        "75e0291d2f09431791f6e2d06e43664f": {
          "model_module": "@jupyter-widgets/controls",
          "model_name": "DescriptionStyleModel",
          "model_module_version": "1.5.0",
          "state": {
            "_model_module": "@jupyter-widgets/controls",
            "_model_module_version": "1.5.0",
            "_model_name": "DescriptionStyleModel",
            "_view_count": null,
            "_view_module": "@jupyter-widgets/base",
            "_view_module_version": "1.2.0",
            "_view_name": "StyleView",
            "description_width": ""
          }
        },
        "44f75c62b0ca47f595d738793335767a": {
          "model_module": "@jupyter-widgets/controls",
          "model_name": "HBoxModel",
          "model_module_version": "1.5.0",
          "state": {
            "_dom_classes": [],
            "_model_module": "@jupyter-widgets/controls",
            "_model_module_version": "1.5.0",
            "_model_name": "HBoxModel",
            "_view_count": null,
            "_view_module": "@jupyter-widgets/controls",
            "_view_module_version": "1.5.0",
            "_view_name": "HBoxView",
            "box_style": "",
            "children": [
              "IPY_MODEL_194aede679d74211b189d79c31bb6eaf",
              "IPY_MODEL_cb3c7f6491134fc58ea8f3c941fdff7f",
              "IPY_MODEL_490dc7a260684d82874a6a68b3e6f3c7"
            ],
            "layout": "IPY_MODEL_d06e3f887abf4d70a6a644d0bcdf4f04"
          }
        },
        "194aede679d74211b189d79c31bb6eaf": {
          "model_module": "@jupyter-widgets/controls",
          "model_name": "HTMLModel",
          "model_module_version": "1.5.0",
          "state": {
            "_dom_classes": [],
            "_model_module": "@jupyter-widgets/controls",
            "_model_module_version": "1.5.0",
            "_model_name": "HTMLModel",
            "_view_count": null,
            "_view_module": "@jupyter-widgets/controls",
            "_view_module_version": "1.5.0",
            "_view_name": "HTMLView",
            "description": "",
            "description_tooltip": null,
            "layout": "IPY_MODEL_ace8d8b992fe4ad9bb2a3e726bc28336",
            "placeholder": "​",
            "style": "IPY_MODEL_818f1f7b05734851b877f12453397e75",
            "value": "Batches: 100%"
          }
        },
        "cb3c7f6491134fc58ea8f3c941fdff7f": {
          "model_module": "@jupyter-widgets/controls",
          "model_name": "FloatProgressModel",
          "model_module_version": "1.5.0",
          "state": {
            "_dom_classes": [],
            "_model_module": "@jupyter-widgets/controls",
            "_model_module_version": "1.5.0",
            "_model_name": "FloatProgressModel",
            "_view_count": null,
            "_view_module": "@jupyter-widgets/controls",
            "_view_module_version": "1.5.0",
            "_view_name": "ProgressView",
            "bar_style": "success",
            "description": "",
            "description_tooltip": null,
            "layout": "IPY_MODEL_9940b287166542fb938d4cf1fdc2e199",
            "max": 4,
            "min": 0,
            "orientation": "horizontal",
            "style": "IPY_MODEL_0b179de866ac44a8bdccb6db9dd53561",
            "value": 4
          }
        },
        "490dc7a260684d82874a6a68b3e6f3c7": {
          "model_module": "@jupyter-widgets/controls",
          "model_name": "HTMLModel",
          "model_module_version": "1.5.0",
          "state": {
            "_dom_classes": [],
            "_model_module": "@jupyter-widgets/controls",
            "_model_module_version": "1.5.0",
            "_model_name": "HTMLModel",
            "_view_count": null,
            "_view_module": "@jupyter-widgets/controls",
            "_view_module_version": "1.5.0",
            "_view_name": "HTMLView",
            "description": "",
            "description_tooltip": null,
            "layout": "IPY_MODEL_9f2b707119aa463382b890f47d44b80d",
            "placeholder": "​",
            "style": "IPY_MODEL_25a1899407e74223ba78563beb50b7fb",
            "value": " 4/4 [00:04&lt;00:00,  1.17s/it]"
          }
        },
        "d06e3f887abf4d70a6a644d0bcdf4f04": {
          "model_module": "@jupyter-widgets/base",
          "model_name": "LayoutModel",
          "model_module_version": "1.2.0",
          "state": {
            "_model_module": "@jupyter-widgets/base",
            "_model_module_version": "1.2.0",
            "_model_name": "LayoutModel",
            "_view_count": null,
            "_view_module": "@jupyter-widgets/base",
            "_view_module_version": "1.2.0",
            "_view_name": "LayoutView",
            "align_content": null,
            "align_items": null,
            "align_self": null,
            "border": null,
            "bottom": null,
            "display": null,
            "flex": null,
            "flex_flow": null,
            "grid_area": null,
            "grid_auto_columns": null,
            "grid_auto_flow": null,
            "grid_auto_rows": null,
            "grid_column": null,
            "grid_gap": null,
            "grid_row": null,
            "grid_template_areas": null,
            "grid_template_columns": null,
            "grid_template_rows": null,
            "height": null,
            "justify_content": null,
            "justify_items": null,
            "left": null,
            "margin": null,
            "max_height": null,
            "max_width": null,
            "min_height": null,
            "min_width": null,
            "object_fit": null,
            "object_position": null,
            "order": null,
            "overflow": null,
            "overflow_x": null,
            "overflow_y": null,
            "padding": null,
            "right": null,
            "top": null,
            "visibility": null,
            "width": null
          }
        },
        "ace8d8b992fe4ad9bb2a3e726bc28336": {
          "model_module": "@jupyter-widgets/base",
          "model_name": "LayoutModel",
          "model_module_version": "1.2.0",
          "state": {
            "_model_module": "@jupyter-widgets/base",
            "_model_module_version": "1.2.0",
            "_model_name": "LayoutModel",
            "_view_count": null,
            "_view_module": "@jupyter-widgets/base",
            "_view_module_version": "1.2.0",
            "_view_name": "LayoutView",
            "align_content": null,
            "align_items": null,
            "align_self": null,
            "border": null,
            "bottom": null,
            "display": null,
            "flex": null,
            "flex_flow": null,
            "grid_area": null,
            "grid_auto_columns": null,
            "grid_auto_flow": null,
            "grid_auto_rows": null,
            "grid_column": null,
            "grid_gap": null,
            "grid_row": null,
            "grid_template_areas": null,
            "grid_template_columns": null,
            "grid_template_rows": null,
            "height": null,
            "justify_content": null,
            "justify_items": null,
            "left": null,
            "margin": null,
            "max_height": null,
            "max_width": null,
            "min_height": null,
            "min_width": null,
            "object_fit": null,
            "object_position": null,
            "order": null,
            "overflow": null,
            "overflow_x": null,
            "overflow_y": null,
            "padding": null,
            "right": null,
            "top": null,
            "visibility": null,
            "width": null
          }
        },
        "818f1f7b05734851b877f12453397e75": {
          "model_module": "@jupyter-widgets/controls",
          "model_name": "DescriptionStyleModel",
          "model_module_version": "1.5.0",
          "state": {
            "_model_module": "@jupyter-widgets/controls",
            "_model_module_version": "1.5.0",
            "_model_name": "DescriptionStyleModel",
            "_view_count": null,
            "_view_module": "@jupyter-widgets/base",
            "_view_module_version": "1.2.0",
            "_view_name": "StyleView",
            "description_width": ""
          }
        },
        "9940b287166542fb938d4cf1fdc2e199": {
          "model_module": "@jupyter-widgets/base",
          "model_name": "LayoutModel",
          "model_module_version": "1.2.0",
          "state": {
            "_model_module": "@jupyter-widgets/base",
            "_model_module_version": "1.2.0",
            "_model_name": "LayoutModel",
            "_view_count": null,
            "_view_module": "@jupyter-widgets/base",
            "_view_module_version": "1.2.0",
            "_view_name": "LayoutView",
            "align_content": null,
            "align_items": null,
            "align_self": null,
            "border": null,
            "bottom": null,
            "display": null,
            "flex": null,
            "flex_flow": null,
            "grid_area": null,
            "grid_auto_columns": null,
            "grid_auto_flow": null,
            "grid_auto_rows": null,
            "grid_column": null,
            "grid_gap": null,
            "grid_row": null,
            "grid_template_areas": null,
            "grid_template_columns": null,
            "grid_template_rows": null,
            "height": null,
            "justify_content": null,
            "justify_items": null,
            "left": null,
            "margin": null,
            "max_height": null,
            "max_width": null,
            "min_height": null,
            "min_width": null,
            "object_fit": null,
            "object_position": null,
            "order": null,
            "overflow": null,
            "overflow_x": null,
            "overflow_y": null,
            "padding": null,
            "right": null,
            "top": null,
            "visibility": null,
            "width": null
          }
        },
        "0b179de866ac44a8bdccb6db9dd53561": {
          "model_module": "@jupyter-widgets/controls",
          "model_name": "ProgressStyleModel",
          "model_module_version": "1.5.0",
          "state": {
            "_model_module": "@jupyter-widgets/controls",
            "_model_module_version": "1.5.0",
            "_model_name": "ProgressStyleModel",
            "_view_count": null,
            "_view_module": "@jupyter-widgets/base",
            "_view_module_version": "1.2.0",
            "_view_name": "StyleView",
            "bar_color": null,
            "description_width": ""
          }
        },
        "9f2b707119aa463382b890f47d44b80d": {
          "model_module": "@jupyter-widgets/base",
          "model_name": "LayoutModel",
          "model_module_version": "1.2.0",
          "state": {
            "_model_module": "@jupyter-widgets/base",
            "_model_module_version": "1.2.0",
            "_model_name": "LayoutModel",
            "_view_count": null,
            "_view_module": "@jupyter-widgets/base",
            "_view_module_version": "1.2.0",
            "_view_name": "LayoutView",
            "align_content": null,
            "align_items": null,
            "align_self": null,
            "border": null,
            "bottom": null,
            "display": null,
            "flex": null,
            "flex_flow": null,
            "grid_area": null,
            "grid_auto_columns": null,
            "grid_auto_flow": null,
            "grid_auto_rows": null,
            "grid_column": null,
            "grid_gap": null,
            "grid_row": null,
            "grid_template_areas": null,
            "grid_template_columns": null,
            "grid_template_rows": null,
            "height": null,
            "justify_content": null,
            "justify_items": null,
            "left": null,
            "margin": null,
            "max_height": null,
            "max_width": null,
            "min_height": null,
            "min_width": null,
            "object_fit": null,
            "object_position": null,
            "order": null,
            "overflow": null,
            "overflow_x": null,
            "overflow_y": null,
            "padding": null,
            "right": null,
            "top": null,
            "visibility": null,
            "width": null
          }
        },
        "25a1899407e74223ba78563beb50b7fb": {
          "model_module": "@jupyter-widgets/controls",
          "model_name": "DescriptionStyleModel",
          "model_module_version": "1.5.0",
          "state": {
            "_model_module": "@jupyter-widgets/controls",
            "_model_module_version": "1.5.0",
            "_model_name": "DescriptionStyleModel",
            "_view_count": null,
            "_view_module": "@jupyter-widgets/base",
            "_view_module_version": "1.2.0",
            "_view_name": "StyleView",
            "description_width": ""
          }
        },
        "a4a83ccffcbb4a9ba123f045c6e85d5a": {
          "model_module": "@jupyter-widgets/controls",
          "model_name": "HBoxModel",
          "model_module_version": "1.5.0",
          "state": {
            "_dom_classes": [],
            "_model_module": "@jupyter-widgets/controls",
            "_model_module_version": "1.5.0",
            "_model_name": "HBoxModel",
            "_view_count": null,
            "_view_module": "@jupyter-widgets/controls",
            "_view_module_version": "1.5.0",
            "_view_name": "HBoxView",
            "box_style": "",
            "children": [
              "IPY_MODEL_60d726f2e9044fd0b356ae2bea2449a8",
              "IPY_MODEL_b2cdf8a3b2f040f9a5af3a3b97741ecb",
              "IPY_MODEL_508c3bdf4ff74025bbf73eb5d2c08e5f"
            ],
            "layout": "IPY_MODEL_ba463e985f544b13b0cc7c96393c2715"
          }
        },
        "60d726f2e9044fd0b356ae2bea2449a8": {
          "model_module": "@jupyter-widgets/controls",
          "model_name": "HTMLModel",
          "model_module_version": "1.5.0",
          "state": {
            "_dom_classes": [],
            "_model_module": "@jupyter-widgets/controls",
            "_model_module_version": "1.5.0",
            "_model_name": "HTMLModel",
            "_view_count": null,
            "_view_module": "@jupyter-widgets/controls",
            "_view_module_version": "1.5.0",
            "_view_name": "HTMLView",
            "description": "",
            "description_tooltip": null,
            "layout": "IPY_MODEL_13f8b9a971424ad2a690db7a5e4672cd",
            "placeholder": "​",
            "style": "IPY_MODEL_7cefc61d5c5b4e26a9fe15495849cf77",
            "value": "Batches: 100%"
          }
        },
        "b2cdf8a3b2f040f9a5af3a3b97741ecb": {
          "model_module": "@jupyter-widgets/controls",
          "model_name": "FloatProgressModel",
          "model_module_version": "1.5.0",
          "state": {
            "_dom_classes": [],
            "_model_module": "@jupyter-widgets/controls",
            "_model_module_version": "1.5.0",
            "_model_name": "FloatProgressModel",
            "_view_count": null,
            "_view_module": "@jupyter-widgets/controls",
            "_view_module_version": "1.5.0",
            "_view_name": "ProgressView",
            "bar_style": "success",
            "description": "",
            "description_tooltip": null,
            "layout": "IPY_MODEL_6662b4323c6541a2bb7e711a4d303670",
            "max": 4,
            "min": 0,
            "orientation": "horizontal",
            "style": "IPY_MODEL_0afcb23058f54c10b0d82e6fbeee3f9e",
            "value": 4
          }
        },
        "508c3bdf4ff74025bbf73eb5d2c08e5f": {
          "model_module": "@jupyter-widgets/controls",
          "model_name": "HTMLModel",
          "model_module_version": "1.5.0",
          "state": {
            "_dom_classes": [],
            "_model_module": "@jupyter-widgets/controls",
            "_model_module_version": "1.5.0",
            "_model_name": "HTMLModel",
            "_view_count": null,
            "_view_module": "@jupyter-widgets/controls",
            "_view_module_version": "1.5.0",
            "_view_name": "HTMLView",
            "description": "",
            "description_tooltip": null,
            "layout": "IPY_MODEL_b2931f870d59444fb611bdce6f72ba3c",
            "placeholder": "​",
            "style": "IPY_MODEL_c5c663ca80f1466fb185ce4283c712e4",
            "value": " 4/4 [00:04&lt;00:00,  1.18s/it]"
          }
        },
        "ba463e985f544b13b0cc7c96393c2715": {
          "model_module": "@jupyter-widgets/base",
          "model_name": "LayoutModel",
          "model_module_version": "1.2.0",
          "state": {
            "_model_module": "@jupyter-widgets/base",
            "_model_module_version": "1.2.0",
            "_model_name": "LayoutModel",
            "_view_count": null,
            "_view_module": "@jupyter-widgets/base",
            "_view_module_version": "1.2.0",
            "_view_name": "LayoutView",
            "align_content": null,
            "align_items": null,
            "align_self": null,
            "border": null,
            "bottom": null,
            "display": null,
            "flex": null,
            "flex_flow": null,
            "grid_area": null,
            "grid_auto_columns": null,
            "grid_auto_flow": null,
            "grid_auto_rows": null,
            "grid_column": null,
            "grid_gap": null,
            "grid_row": null,
            "grid_template_areas": null,
            "grid_template_columns": null,
            "grid_template_rows": null,
            "height": null,
            "justify_content": null,
            "justify_items": null,
            "left": null,
            "margin": null,
            "max_height": null,
            "max_width": null,
            "min_height": null,
            "min_width": null,
            "object_fit": null,
            "object_position": null,
            "order": null,
            "overflow": null,
            "overflow_x": null,
            "overflow_y": null,
            "padding": null,
            "right": null,
            "top": null,
            "visibility": null,
            "width": null
          }
        },
        "13f8b9a971424ad2a690db7a5e4672cd": {
          "model_module": "@jupyter-widgets/base",
          "model_name": "LayoutModel",
          "model_module_version": "1.2.0",
          "state": {
            "_model_module": "@jupyter-widgets/base",
            "_model_module_version": "1.2.0",
            "_model_name": "LayoutModel",
            "_view_count": null,
            "_view_module": "@jupyter-widgets/base",
            "_view_module_version": "1.2.0",
            "_view_name": "LayoutView",
            "align_content": null,
            "align_items": null,
            "align_self": null,
            "border": null,
            "bottom": null,
            "display": null,
            "flex": null,
            "flex_flow": null,
            "grid_area": null,
            "grid_auto_columns": null,
            "grid_auto_flow": null,
            "grid_auto_rows": null,
            "grid_column": null,
            "grid_gap": null,
            "grid_row": null,
            "grid_template_areas": null,
            "grid_template_columns": null,
            "grid_template_rows": null,
            "height": null,
            "justify_content": null,
            "justify_items": null,
            "left": null,
            "margin": null,
            "max_height": null,
            "max_width": null,
            "min_height": null,
            "min_width": null,
            "object_fit": null,
            "object_position": null,
            "order": null,
            "overflow": null,
            "overflow_x": null,
            "overflow_y": null,
            "padding": null,
            "right": null,
            "top": null,
            "visibility": null,
            "width": null
          }
        },
        "7cefc61d5c5b4e26a9fe15495849cf77": {
          "model_module": "@jupyter-widgets/controls",
          "model_name": "DescriptionStyleModel",
          "model_module_version": "1.5.0",
          "state": {
            "_model_module": "@jupyter-widgets/controls",
            "_model_module_version": "1.5.0",
            "_model_name": "DescriptionStyleModel",
            "_view_count": null,
            "_view_module": "@jupyter-widgets/base",
            "_view_module_version": "1.2.0",
            "_view_name": "StyleView",
            "description_width": ""
          }
        },
        "6662b4323c6541a2bb7e711a4d303670": {
          "model_module": "@jupyter-widgets/base",
          "model_name": "LayoutModel",
          "model_module_version": "1.2.0",
          "state": {
            "_model_module": "@jupyter-widgets/base",
            "_model_module_version": "1.2.0",
            "_model_name": "LayoutModel",
            "_view_count": null,
            "_view_module": "@jupyter-widgets/base",
            "_view_module_version": "1.2.0",
            "_view_name": "LayoutView",
            "align_content": null,
            "align_items": null,
            "align_self": null,
            "border": null,
            "bottom": null,
            "display": null,
            "flex": null,
            "flex_flow": null,
            "grid_area": null,
            "grid_auto_columns": null,
            "grid_auto_flow": null,
            "grid_auto_rows": null,
            "grid_column": null,
            "grid_gap": null,
            "grid_row": null,
            "grid_template_areas": null,
            "grid_template_columns": null,
            "grid_template_rows": null,
            "height": null,
            "justify_content": null,
            "justify_items": null,
            "left": null,
            "margin": null,
            "max_height": null,
            "max_width": null,
            "min_height": null,
            "min_width": null,
            "object_fit": null,
            "object_position": null,
            "order": null,
            "overflow": null,
            "overflow_x": null,
            "overflow_y": null,
            "padding": null,
            "right": null,
            "top": null,
            "visibility": null,
            "width": null
          }
        },
        "0afcb23058f54c10b0d82e6fbeee3f9e": {
          "model_module": "@jupyter-widgets/controls",
          "model_name": "ProgressStyleModel",
          "model_module_version": "1.5.0",
          "state": {
            "_model_module": "@jupyter-widgets/controls",
            "_model_module_version": "1.5.0",
            "_model_name": "ProgressStyleModel",
            "_view_count": null,
            "_view_module": "@jupyter-widgets/base",
            "_view_module_version": "1.2.0",
            "_view_name": "StyleView",
            "bar_color": null,
            "description_width": ""
          }
        },
        "b2931f870d59444fb611bdce6f72ba3c": {
          "model_module": "@jupyter-widgets/base",
          "model_name": "LayoutModel",
          "model_module_version": "1.2.0",
          "state": {
            "_model_module": "@jupyter-widgets/base",
            "_model_module_version": "1.2.0",
            "_model_name": "LayoutModel",
            "_view_count": null,
            "_view_module": "@jupyter-widgets/base",
            "_view_module_version": "1.2.0",
            "_view_name": "LayoutView",
            "align_content": null,
            "align_items": null,
            "align_self": null,
            "border": null,
            "bottom": null,
            "display": null,
            "flex": null,
            "flex_flow": null,
            "grid_area": null,
            "grid_auto_columns": null,
            "grid_auto_flow": null,
            "grid_auto_rows": null,
            "grid_column": null,
            "grid_gap": null,
            "grid_row": null,
            "grid_template_areas": null,
            "grid_template_columns": null,
            "grid_template_rows": null,
            "height": null,
            "justify_content": null,
            "justify_items": null,
            "left": null,
            "margin": null,
            "max_height": null,
            "max_width": null,
            "min_height": null,
            "min_width": null,
            "object_fit": null,
            "object_position": null,
            "order": null,
            "overflow": null,
            "overflow_x": null,
            "overflow_y": null,
            "padding": null,
            "right": null,
            "top": null,
            "visibility": null,
            "width": null
          }
        },
        "c5c663ca80f1466fb185ce4283c712e4": {
          "model_module": "@jupyter-widgets/controls",
          "model_name": "DescriptionStyleModel",
          "model_module_version": "1.5.0",
          "state": {
            "_model_module": "@jupyter-widgets/controls",
            "_model_module_version": "1.5.0",
            "_model_name": "DescriptionStyleModel",
            "_view_count": null,
            "_view_module": "@jupyter-widgets/base",
            "_view_module_version": "1.2.0",
            "_view_name": "StyleView",
            "description_width": ""
          }
        }
      }
    },
    "gpuClass": "standard"
  },
  "nbformat": 4,
  "nbformat_minor": 0
}