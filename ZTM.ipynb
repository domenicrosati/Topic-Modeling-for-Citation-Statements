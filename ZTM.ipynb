{
  "cells": [
    {
      "cell_type": "markdown",
      "metadata": {
        "id": "d5NIzZuBTcVO"
      },
      "source": [
        "## Zeroshot Topic Models (ZTMs) \n",
        "\n",
        "*   List item\n",
        "*   List item\n",
        "\n",
        "\n",
        "\n",
        "Using ZTMs to produce topic models\n",
        " "
      ]
    },
    {
      "cell_type": "markdown",
      "metadata": {
        "id": "t9pXl7iGMh6j"
      },
      "source": [
        "## Preprocessing\n",
        "\n",
        "to ensure the citations are stripped of html and preprocessed according to a pipeline "
      ]
    },
    {
      "cell_type": "code",
      "source": [
        "!pip install contextualized_topic_models pyLDAvis scispacy\n",
        "!pip install https://s3-us-west-2.amazonaws.com/ai2-s2-scispacy/releases/v0.5.0/en_core_sci_sm-0.5.0.tar.gz\n"
      ],
      "metadata": {
        "colab": {
          "base_uri": "https://localhost:8080/"
        },
        "id": "HC_lJMuFN0P1",
        "outputId": "d631a2a6-3cf3-4542-a2f1-ae2e43385756"
      },
      "execution_count": 1,
      "outputs": [
        {
          "output_type": "stream",
          "name": "stdout",
          "text": [
            "Looking in indexes: https://pypi.org/simple, https://us-python.pkg.dev/colab-wheels/public/simple/\n",
            "Requirement already satisfied: contextualized_topic_models in /usr/local/lib/python3.7/dist-packages (2.3.0)\n",
            "Requirement already satisfied: pyLDAvis in /usr/local/lib/python3.7/dist-packages (3.3.1)\n",
            "Requirement already satisfied: scispacy in /usr/local/lib/python3.7/dist-packages (0.5.0)\n",
            "Requirement already satisfied: scipy>=1.4.1 in /usr/local/lib/python3.7/dist-packages (from contextualized_topic_models) (1.7.3)\n",
            "Requirement already satisfied: ipython==7.16.3 in /usr/local/lib/python3.7/dist-packages (from contextualized_topic_models) (7.16.3)\n",
            "Requirement already satisfied: torch>=1.6.0 in /usr/local/lib/python3.7/dist-packages (from contextualized_topic_models) (1.12.1+cu113)\n",
            "Requirement already satisfied: sentence-transformers>=1.1.1 in /usr/local/lib/python3.7/dist-packages (from contextualized_topic_models) (2.2.2)\n",
            "Requirement already satisfied: gensim>=3.8.3 in /usr/local/lib/python3.7/dist-packages (from contextualized_topic_models) (4.2.0)\n",
            "Requirement already satisfied: ipywidgets==7.5.1 in /usr/local/lib/python3.7/dist-packages (from contextualized_topic_models) (7.5.1)\n",
            "Requirement already satisfied: matplotlib>=3.1.3 in /usr/local/lib/python3.7/dist-packages (from contextualized_topic_models) (3.2.2)\n",
            "Requirement already satisfied: torchvision>=0.7.0 in /usr/local/lib/python3.7/dist-packages (from contextualized_topic_models) (0.13.1+cu113)\n",
            "Requirement already satisfied: tqdm>=4.56.0 in /usr/local/lib/python3.7/dist-packages (from contextualized_topic_models) (4.64.0)\n",
            "Requirement already satisfied: numpy>=1.19.1 in /usr/local/lib/python3.7/dist-packages (from contextualized_topic_models) (1.21.6)\n",
            "Requirement already satisfied: wordcloud>=1.8.1 in /usr/local/lib/python3.7/dist-packages (from contextualized_topic_models) (1.8.2.2)\n",
            "Requirement already satisfied: pickleshare in /usr/local/lib/python3.7/dist-packages (from ipython==7.16.3->contextualized_topic_models) (0.7.5)\n",
            "Requirement already satisfied: decorator in /usr/local/lib/python3.7/dist-packages (from ipython==7.16.3->contextualized_topic_models) (4.4.2)\n",
            "Requirement already satisfied: prompt-toolkit!=3.0.0,!=3.0.1,<3.1.0,>=2.0.0 in /usr/local/lib/python3.7/dist-packages (from ipython==7.16.3->contextualized_topic_models) (2.0.10)\n",
            "Requirement already satisfied: setuptools>=18.5 in /usr/local/lib/python3.7/dist-packages (from ipython==7.16.3->contextualized_topic_models) (57.4.0)\n",
            "Requirement already satisfied: pygments in /usr/local/lib/python3.7/dist-packages (from ipython==7.16.3->contextualized_topic_models) (2.6.1)\n",
            "Requirement already satisfied: backcall in /usr/local/lib/python3.7/dist-packages (from ipython==7.16.3->contextualized_topic_models) (0.2.0)\n",
            "Requirement already satisfied: pexpect in /usr/local/lib/python3.7/dist-packages (from ipython==7.16.3->contextualized_topic_models) (4.8.0)\n",
            "Requirement already satisfied: jedi<=0.17.2,>=0.10 in /usr/local/lib/python3.7/dist-packages (from ipython==7.16.3->contextualized_topic_models) (0.17.2)\n",
            "Requirement already satisfied: traitlets>=4.2 in /usr/local/lib/python3.7/dist-packages (from ipython==7.16.3->contextualized_topic_models) (5.1.1)\n",
            "Requirement already satisfied: nbformat>=4.2.0 in /usr/local/lib/python3.7/dist-packages (from ipywidgets==7.5.1->contextualized_topic_models) (5.4.0)\n",
            "Requirement already satisfied: ipykernel>=4.5.1 in /usr/local/lib/python3.7/dist-packages (from ipywidgets==7.5.1->contextualized_topic_models) (5.3.4)\n",
            "Requirement already satisfied: widgetsnbextension~=3.5.0 in /usr/local/lib/python3.7/dist-packages (from ipywidgets==7.5.1->contextualized_topic_models) (3.5.2)\n",
            "Requirement already satisfied: smart-open>=1.8.1 in /usr/local/lib/python3.7/dist-packages (from gensim>=3.8.3->contextualized_topic_models) (5.2.1)\n",
            "Requirement already satisfied: jupyter-client in /usr/local/lib/python3.7/dist-packages (from ipykernel>=4.5.1->ipywidgets==7.5.1->contextualized_topic_models) (6.1.12)\n",
            "Requirement already satisfied: tornado>=4.2 in /usr/local/lib/python3.7/dist-packages (from ipykernel>=4.5.1->ipywidgets==7.5.1->contextualized_topic_models) (5.1.1)\n",
            "Requirement already satisfied: parso<0.8.0,>=0.7.0 in /usr/local/lib/python3.7/dist-packages (from jedi<=0.17.2,>=0.10->ipython==7.16.3->contextualized_topic_models) (0.7.1)\n",
            "Requirement already satisfied: python-dateutil>=2.1 in /usr/local/lib/python3.7/dist-packages (from matplotlib>=3.1.3->contextualized_topic_models) (2.8.2)\n",
            "Requirement already satisfied: pyparsing!=2.0.4,!=2.1.2,!=2.1.6,>=2.0.1 in /usr/local/lib/python3.7/dist-packages (from matplotlib>=3.1.3->contextualized_topic_models) (3.0.9)\n",
            "Requirement already satisfied: kiwisolver>=1.0.1 in /usr/local/lib/python3.7/dist-packages (from matplotlib>=3.1.3->contextualized_topic_models) (1.4.4)\n",
            "Requirement already satisfied: cycler>=0.10 in /usr/local/lib/python3.7/dist-packages (from matplotlib>=3.1.3->contextualized_topic_models) (0.11.0)\n",
            "Requirement already satisfied: typing-extensions in /usr/local/lib/python3.7/dist-packages (from kiwisolver>=1.0.1->matplotlib>=3.1.3->contextualized_topic_models) (3.10.0.2)\n",
            "Requirement already satisfied: fastjsonschema in /usr/local/lib/python3.7/dist-packages (from nbformat>=4.2.0->ipywidgets==7.5.1->contextualized_topic_models) (2.16.1)\n",
            "Requirement already satisfied: jupyter-core in /usr/local/lib/python3.7/dist-packages (from nbformat>=4.2.0->ipywidgets==7.5.1->contextualized_topic_models) (4.11.1)\n",
            "Requirement already satisfied: jsonschema>=2.6 in /usr/local/lib/python3.7/dist-packages (from nbformat>=4.2.0->ipywidgets==7.5.1->contextualized_topic_models) (4.3.3)\n",
            "Requirement already satisfied: pyrsistent!=0.17.0,!=0.17.1,!=0.17.2,>=0.14.0 in /usr/local/lib/python3.7/dist-packages (from jsonschema>=2.6->nbformat>=4.2.0->ipywidgets==7.5.1->contextualized_topic_models) (0.18.1)\n",
            "Requirement already satisfied: attrs>=17.4.0 in /usr/local/lib/python3.7/dist-packages (from jsonschema>=2.6->nbformat>=4.2.0->ipywidgets==7.5.1->contextualized_topic_models) (22.1.0)\n",
            "Requirement already satisfied: importlib-resources>=1.4.0 in /usr/local/lib/python3.7/dist-packages (from jsonschema>=2.6->nbformat>=4.2.0->ipywidgets==7.5.1->contextualized_topic_models) (5.9.0)\n",
            "Requirement already satisfied: importlib-metadata in /usr/local/lib/python3.7/dist-packages (from jsonschema>=2.6->nbformat>=4.2.0->ipywidgets==7.5.1->contextualized_topic_models) (4.12.0)\n",
            "Requirement already satisfied: zipp>=3.1.0 in /usr/local/lib/python3.7/dist-packages (from importlib-resources>=1.4.0->jsonschema>=2.6->nbformat>=4.2.0->ipywidgets==7.5.1->contextualized_topic_models) (3.8.1)\n",
            "Requirement already satisfied: wcwidth in /usr/local/lib/python3.7/dist-packages (from prompt-toolkit!=3.0.0,!=3.0.1,<3.1.0,>=2.0.0->ipython==7.16.3->contextualized_topic_models) (0.2.5)\n",
            "Requirement already satisfied: six>=1.9.0 in /usr/local/lib/python3.7/dist-packages (from prompt-toolkit!=3.0.0,!=3.0.1,<3.1.0,>=2.0.0->ipython==7.16.3->contextualized_topic_models) (1.15.0)\n",
            "Requirement already satisfied: scikit-learn in /usr/local/lib/python3.7/dist-packages (from sentence-transformers>=1.1.1->contextualized_topic_models) (1.0.2)\n",
            "Requirement already satisfied: transformers<5.0.0,>=4.6.0 in /usr/local/lib/python3.7/dist-packages (from sentence-transformers>=1.1.1->contextualized_topic_models) (4.21.1)\n",
            "Requirement already satisfied: nltk in /usr/local/lib/python3.7/dist-packages (from sentence-transformers>=1.1.1->contextualized_topic_models) (3.7)\n",
            "Requirement already satisfied: sentencepiece in /usr/local/lib/python3.7/dist-packages (from sentence-transformers>=1.1.1->contextualized_topic_models) (0.1.97)\n",
            "Requirement already satisfied: huggingface-hub>=0.4.0 in /usr/local/lib/python3.7/dist-packages (from sentence-transformers>=1.1.1->contextualized_topic_models) (0.8.1)\n",
            "Requirement already satisfied: requests in /usr/local/lib/python3.7/dist-packages (from huggingface-hub>=0.4.0->sentence-transformers>=1.1.1->contextualized_topic_models) (2.23.0)\n",
            "Requirement already satisfied: pyyaml>=5.1 in /usr/local/lib/python3.7/dist-packages (from huggingface-hub>=0.4.0->sentence-transformers>=1.1.1->contextualized_topic_models) (6.0)\n",
            "Requirement already satisfied: packaging>=20.9 in /usr/local/lib/python3.7/dist-packages (from huggingface-hub>=0.4.0->sentence-transformers>=1.1.1->contextualized_topic_models) (21.3)\n",
            "Requirement already satisfied: filelock in /usr/local/lib/python3.7/dist-packages (from huggingface-hub>=0.4.0->sentence-transformers>=1.1.1->contextualized_topic_models) (3.8.0)\n",
            "Requirement already satisfied: pillow!=8.3.*,>=5.3.0 in /usr/local/lib/python3.7/dist-packages (from torchvision>=0.7.0->contextualized_topic_models) (7.1.2)\n",
            "Requirement already satisfied: regex!=2019.12.17 in /usr/local/lib/python3.7/dist-packages (from transformers<5.0.0,>=4.6.0->sentence-transformers>=1.1.1->contextualized_topic_models) (2022.6.2)\n",
            "Requirement already satisfied: tokenizers!=0.11.3,<0.13,>=0.11.1 in /usr/local/lib/python3.7/dist-packages (from transformers<5.0.0,>=4.6.0->sentence-transformers>=1.1.1->contextualized_topic_models) (0.12.1)\n",
            "Requirement already satisfied: notebook>=4.4.1 in /usr/local/lib/python3.7/dist-packages (from widgetsnbextension~=3.5.0->ipywidgets==7.5.1->contextualized_topic_models) (5.3.1)\n",
            "Requirement already satisfied: terminado>=0.8.1 in /usr/local/lib/python3.7/dist-packages (from notebook>=4.4.1->widgetsnbextension~=3.5.0->ipywidgets==7.5.1->contextualized_topic_models) (0.13.3)\n",
            "Requirement already satisfied: Send2Trash in /usr/local/lib/python3.7/dist-packages (from notebook>=4.4.1->widgetsnbextension~=3.5.0->ipywidgets==7.5.1->contextualized_topic_models) (1.8.0)\n",
            "Requirement already satisfied: ipython-genutils in /usr/local/lib/python3.7/dist-packages (from notebook>=4.4.1->widgetsnbextension~=3.5.0->ipywidgets==7.5.1->contextualized_topic_models) (0.2.0)\n",
            "Requirement already satisfied: nbconvert in /usr/local/lib/python3.7/dist-packages (from notebook>=4.4.1->widgetsnbextension~=3.5.0->ipywidgets==7.5.1->contextualized_topic_models) (5.6.1)\n",
            "Requirement already satisfied: jinja2 in /usr/local/lib/python3.7/dist-packages (from notebook>=4.4.1->widgetsnbextension~=3.5.0->ipywidgets==7.5.1->contextualized_topic_models) (2.11.3)\n",
            "Requirement already satisfied: pyzmq>=13 in /usr/local/lib/python3.7/dist-packages (from jupyter-client->ipykernel>=4.5.1->ipywidgets==7.5.1->contextualized_topic_models) (23.2.0)\n",
            "Requirement already satisfied: ptyprocess in /usr/local/lib/python3.7/dist-packages (from terminado>=0.8.1->notebook>=4.4.1->widgetsnbextension~=3.5.0->ipywidgets==7.5.1->contextualized_topic_models) (0.7.0)\n",
            "Requirement already satisfied: funcy in /usr/local/lib/python3.7/dist-packages (from pyLDAvis) (1.17)\n",
            "Requirement already satisfied: pandas>=1.2.0 in /usr/local/lib/python3.7/dist-packages (from pyLDAvis) (1.3.5)\n",
            "Requirement already satisfied: future in /usr/local/lib/python3.7/dist-packages (from pyLDAvis) (0.16.0)\n",
            "Requirement already satisfied: numexpr in /usr/local/lib/python3.7/dist-packages (from pyLDAvis) (2.8.3)\n",
            "Requirement already satisfied: sklearn in /usr/local/lib/python3.7/dist-packages (from pyLDAvis) (0.0)\n",
            "Requirement already satisfied: joblib in /usr/local/lib/python3.7/dist-packages (from pyLDAvis) (1.1.0)\n",
            "Requirement already satisfied: pytz>=2017.3 in /usr/local/lib/python3.7/dist-packages (from pandas>=1.2.0->pyLDAvis) (2022.1)\n",
            "Requirement already satisfied: nmslib>=1.7.3.6 in /usr/local/lib/python3.7/dist-packages (from scispacy) (2.1.1)\n",
            "Requirement already satisfied: spacy<3.3.0,>=3.2.0 in /usr/local/lib/python3.7/dist-packages (from scispacy) (3.2.4)\n",
            "Requirement already satisfied: pysbd in /usr/local/lib/python3.7/dist-packages (from scispacy) (0.3.4)\n",
            "Requirement already satisfied: conllu in /usr/local/lib/python3.7/dist-packages (from scispacy) (4.5.2)\n",
            "Requirement already satisfied: psutil in /usr/local/lib/python3.7/dist-packages (from nmslib>=1.7.3.6->scispacy) (5.4.8)\n",
            "Requirement already satisfied: pybind11<2.6.2 in /usr/local/lib/python3.7/dist-packages (from nmslib>=1.7.3.6->scispacy) (2.6.1)\n",
            "Requirement already satisfied: certifi>=2017.4.17 in /usr/local/lib/python3.7/dist-packages (from requests->huggingface-hub>=0.4.0->sentence-transformers>=1.1.1->contextualized_topic_models) (2022.6.15)\n",
            "Requirement already satisfied: chardet<4,>=3.0.2 in /usr/local/lib/python3.7/dist-packages (from requests->huggingface-hub>=0.4.0->sentence-transformers>=1.1.1->contextualized_topic_models) (3.0.4)\n",
            "Requirement already satisfied: idna<3,>=2.5 in /usr/local/lib/python3.7/dist-packages (from requests->huggingface-hub>=0.4.0->sentence-transformers>=1.1.1->contextualized_topic_models) (2.10)\n",
            "Requirement already satisfied: urllib3!=1.25.0,!=1.25.1,<1.26,>=1.21.1 in /usr/local/lib/python3.7/dist-packages (from requests->huggingface-hub>=0.4.0->sentence-transformers>=1.1.1->contextualized_topic_models) (1.24.3)\n",
            "Requirement already satisfied: threadpoolctl>=2.0.0 in /usr/local/lib/python3.7/dist-packages (from scikit-learn->sentence-transformers>=1.1.1->contextualized_topic_models) (3.1.0)\n",
            "Requirement already satisfied: spacy-legacy<3.1.0,>=3.0.8 in /usr/local/lib/python3.7/dist-packages (from spacy<3.3.0,>=3.2.0->scispacy) (3.0.9)\n",
            "Requirement already satisfied: typer<0.5.0,>=0.3.0 in /usr/local/lib/python3.7/dist-packages (from spacy<3.3.0,>=3.2.0->scispacy) (0.4.2)\n",
            "Requirement already satisfied: preshed<3.1.0,>=3.0.2 in /usr/local/lib/python3.7/dist-packages (from spacy<3.3.0,>=3.2.0->scispacy) (3.0.6)\n",
            "Requirement already satisfied: langcodes<4.0.0,>=3.2.0 in /usr/local/lib/python3.7/dist-packages (from spacy<3.3.0,>=3.2.0->scispacy) (3.3.0)\n",
            "Requirement already satisfied: cymem<2.1.0,>=2.0.2 in /usr/local/lib/python3.7/dist-packages (from spacy<3.3.0,>=3.2.0->scispacy) (2.0.6)\n",
            "Requirement already satisfied: wasabi<1.1.0,>=0.8.1 in /usr/local/lib/python3.7/dist-packages (from spacy<3.3.0,>=3.2.0->scispacy) (0.10.1)\n",
            "Requirement already satisfied: thinc<8.1.0,>=8.0.12 in /usr/local/lib/python3.7/dist-packages (from spacy<3.3.0,>=3.2.0->scispacy) (8.0.17)\n",
            "Requirement already satisfied: spacy-loggers<2.0.0,>=1.0.0 in /usr/local/lib/python3.7/dist-packages (from spacy<3.3.0,>=3.2.0->scispacy) (1.0.3)\n",
            "Requirement already satisfied: catalogue<2.1.0,>=2.0.6 in /usr/local/lib/python3.7/dist-packages (from spacy<3.3.0,>=3.2.0->scispacy) (2.0.8)\n",
            "Requirement already satisfied: pathy>=0.3.5 in /usr/local/lib/python3.7/dist-packages (from spacy<3.3.0,>=3.2.0->scispacy) (0.6.2)\n",
            "Requirement already satisfied: murmurhash<1.1.0,>=0.28.0 in /usr/local/lib/python3.7/dist-packages (from spacy<3.3.0,>=3.2.0->scispacy) (1.0.7)\n",
            "Requirement already satisfied: click<8.1.0 in /usr/local/lib/python3.7/dist-packages (from spacy<3.3.0,>=3.2.0->scispacy) (7.1.2)\n",
            "Requirement already satisfied: pydantic!=1.8,!=1.8.1,<1.9.0,>=1.7.4 in /usr/local/lib/python3.7/dist-packages (from spacy<3.3.0,>=3.2.0->scispacy) (1.8.2)\n",
            "Requirement already satisfied: srsly<3.0.0,>=2.4.1 in /usr/local/lib/python3.7/dist-packages (from spacy<3.3.0,>=3.2.0->scispacy) (2.4.4)\n",
            "Requirement already satisfied: blis<0.8.0,>=0.4.0 in /usr/local/lib/python3.7/dist-packages (from spacy<3.3.0,>=3.2.0->scispacy) (0.7.8)\n",
            "Requirement already satisfied: MarkupSafe>=0.23 in /usr/local/lib/python3.7/dist-packages (from jinja2->notebook>=4.4.1->widgetsnbextension~=3.5.0->ipywidgets==7.5.1->contextualized_topic_models) (2.0.1)\n",
            "Requirement already satisfied: entrypoints>=0.2.2 in /usr/local/lib/python3.7/dist-packages (from nbconvert->notebook>=4.4.1->widgetsnbextension~=3.5.0->ipywidgets==7.5.1->contextualized_topic_models) (0.4)\n",
            "Requirement already satisfied: testpath in /usr/local/lib/python3.7/dist-packages (from nbconvert->notebook>=4.4.1->widgetsnbextension~=3.5.0->ipywidgets==7.5.1->contextualized_topic_models) (0.6.0)\n",
            "Requirement already satisfied: mistune<2,>=0.8.1 in /usr/local/lib/python3.7/dist-packages (from nbconvert->notebook>=4.4.1->widgetsnbextension~=3.5.0->ipywidgets==7.5.1->contextualized_topic_models) (0.8.4)\n",
            "Requirement already satisfied: pandocfilters>=1.4.1 in /usr/local/lib/python3.7/dist-packages (from nbconvert->notebook>=4.4.1->widgetsnbextension~=3.5.0->ipywidgets==7.5.1->contextualized_topic_models) (1.5.0)\n",
            "Requirement already satisfied: defusedxml in /usr/local/lib/python3.7/dist-packages (from nbconvert->notebook>=4.4.1->widgetsnbextension~=3.5.0->ipywidgets==7.5.1->contextualized_topic_models) (0.7.1)\n",
            "Requirement already satisfied: bleach in /usr/local/lib/python3.7/dist-packages (from nbconvert->notebook>=4.4.1->widgetsnbextension~=3.5.0->ipywidgets==7.5.1->contextualized_topic_models) (5.0.1)\n",
            "Requirement already satisfied: webencodings in /usr/local/lib/python3.7/dist-packages (from bleach->nbconvert->notebook>=4.4.1->widgetsnbextension~=3.5.0->ipywidgets==7.5.1->contextualized_topic_models) (0.5.1)\n",
            "Looking in indexes: https://pypi.org/simple, https://us-python.pkg.dev/colab-wheels/public/simple/\n",
            "Collecting https://s3-us-west-2.amazonaws.com/ai2-s2-scispacy/releases/v0.5.0/en_core_sci_sm-0.5.0.tar.gz\n",
            "  Using cached https://s3-us-west-2.amazonaws.com/ai2-s2-scispacy/releases/v0.5.0/en_core_sci_sm-0.5.0.tar.gz (15.9 MB)\n",
            "Requirement already satisfied: spacy<3.3.0,>=3.2.3 in /usr/local/lib/python3.7/dist-packages (from en-core-sci-sm==0.5.0) (3.2.4)\n",
            "Requirement already satisfied: cymem<2.1.0,>=2.0.2 in /usr/local/lib/python3.7/dist-packages (from spacy<3.3.0,>=3.2.3->en-core-sci-sm==0.5.0) (2.0.6)\n",
            "Requirement already satisfied: typing-extensions<4.0.0.0,>=3.7.4 in /usr/local/lib/python3.7/dist-packages (from spacy<3.3.0,>=3.2.3->en-core-sci-sm==0.5.0) (3.10.0.2)\n",
            "Requirement already satisfied: tqdm<5.0.0,>=4.38.0 in /usr/local/lib/python3.7/dist-packages (from spacy<3.3.0,>=3.2.3->en-core-sci-sm==0.5.0) (4.64.0)\n",
            "Requirement already satisfied: spacy-loggers<2.0.0,>=1.0.0 in /usr/local/lib/python3.7/dist-packages (from spacy<3.3.0,>=3.2.3->en-core-sci-sm==0.5.0) (1.0.3)\n",
            "Requirement already satisfied: jinja2 in /usr/local/lib/python3.7/dist-packages (from spacy<3.3.0,>=3.2.3->en-core-sci-sm==0.5.0) (2.11.3)\n",
            "Requirement already satisfied: typer<0.5.0,>=0.3.0 in /usr/local/lib/python3.7/dist-packages (from spacy<3.3.0,>=3.2.3->en-core-sci-sm==0.5.0) (0.4.2)\n",
            "Requirement already satisfied: srsly<3.0.0,>=2.4.1 in /usr/local/lib/python3.7/dist-packages (from spacy<3.3.0,>=3.2.3->en-core-sci-sm==0.5.0) (2.4.4)\n",
            "Requirement already satisfied: wasabi<1.1.0,>=0.8.1 in /usr/local/lib/python3.7/dist-packages (from spacy<3.3.0,>=3.2.3->en-core-sci-sm==0.5.0) (0.10.1)\n",
            "Requirement already satisfied: pydantic!=1.8,!=1.8.1,<1.9.0,>=1.7.4 in /usr/local/lib/python3.7/dist-packages (from spacy<3.3.0,>=3.2.3->en-core-sci-sm==0.5.0) (1.8.2)\n",
            "Requirement already satisfied: blis<0.8.0,>=0.4.0 in /usr/local/lib/python3.7/dist-packages (from spacy<3.3.0,>=3.2.3->en-core-sci-sm==0.5.0) (0.7.8)\n",
            "Requirement already satisfied: click<8.1.0 in /usr/local/lib/python3.7/dist-packages (from spacy<3.3.0,>=3.2.3->en-core-sci-sm==0.5.0) (7.1.2)\n",
            "Requirement already satisfied: packaging>=20.0 in /usr/local/lib/python3.7/dist-packages (from spacy<3.3.0,>=3.2.3->en-core-sci-sm==0.5.0) (21.3)\n",
            "Requirement already satisfied: murmurhash<1.1.0,>=0.28.0 in /usr/local/lib/python3.7/dist-packages (from spacy<3.3.0,>=3.2.3->en-core-sci-sm==0.5.0) (1.0.7)\n",
            "Requirement already satisfied: pathy>=0.3.5 in /usr/local/lib/python3.7/dist-packages (from spacy<3.3.0,>=3.2.3->en-core-sci-sm==0.5.0) (0.6.2)\n",
            "Requirement already satisfied: requests<3.0.0,>=2.13.0 in /usr/local/lib/python3.7/dist-packages (from spacy<3.3.0,>=3.2.3->en-core-sci-sm==0.5.0) (2.23.0)\n",
            "Requirement already satisfied: numpy>=1.15.0 in /usr/local/lib/python3.7/dist-packages (from spacy<3.3.0,>=3.2.3->en-core-sci-sm==0.5.0) (1.21.6)\n",
            "Requirement already satisfied: spacy-legacy<3.1.0,>=3.0.8 in /usr/local/lib/python3.7/dist-packages (from spacy<3.3.0,>=3.2.3->en-core-sci-sm==0.5.0) (3.0.9)\n",
            "Requirement already satisfied: catalogue<2.1.0,>=2.0.6 in /usr/local/lib/python3.7/dist-packages (from spacy<3.3.0,>=3.2.3->en-core-sci-sm==0.5.0) (2.0.8)\n",
            "Requirement already satisfied: thinc<8.1.0,>=8.0.12 in /usr/local/lib/python3.7/dist-packages (from spacy<3.3.0,>=3.2.3->en-core-sci-sm==0.5.0) (8.0.17)\n",
            "Requirement already satisfied: setuptools in /usr/local/lib/python3.7/dist-packages (from spacy<3.3.0,>=3.2.3->en-core-sci-sm==0.5.0) (57.4.0)\n",
            "Requirement already satisfied: langcodes<4.0.0,>=3.2.0 in /usr/local/lib/python3.7/dist-packages (from spacy<3.3.0,>=3.2.3->en-core-sci-sm==0.5.0) (3.3.0)\n",
            "Requirement already satisfied: preshed<3.1.0,>=3.0.2 in /usr/local/lib/python3.7/dist-packages (from spacy<3.3.0,>=3.2.3->en-core-sci-sm==0.5.0) (3.0.6)\n",
            "Requirement already satisfied: zipp>=0.5 in /usr/local/lib/python3.7/dist-packages (from catalogue<2.1.0,>=2.0.6->spacy<3.3.0,>=3.2.3->en-core-sci-sm==0.5.0) (3.8.1)\n",
            "Requirement already satisfied: pyparsing!=3.0.5,>=2.0.2 in /usr/local/lib/python3.7/dist-packages (from packaging>=20.0->spacy<3.3.0,>=3.2.3->en-core-sci-sm==0.5.0) (3.0.9)\n",
            "Requirement already satisfied: smart-open<6.0.0,>=5.2.1 in /usr/local/lib/python3.7/dist-packages (from pathy>=0.3.5->spacy<3.3.0,>=3.2.3->en-core-sci-sm==0.5.0) (5.2.1)\n",
            "Requirement already satisfied: idna<3,>=2.5 in /usr/local/lib/python3.7/dist-packages (from requests<3.0.0,>=2.13.0->spacy<3.3.0,>=3.2.3->en-core-sci-sm==0.5.0) (2.10)\n",
            "Requirement already satisfied: urllib3!=1.25.0,!=1.25.1,<1.26,>=1.21.1 in /usr/local/lib/python3.7/dist-packages (from requests<3.0.0,>=2.13.0->spacy<3.3.0,>=3.2.3->en-core-sci-sm==0.5.0) (1.24.3)\n",
            "Requirement already satisfied: chardet<4,>=3.0.2 in /usr/local/lib/python3.7/dist-packages (from requests<3.0.0,>=2.13.0->spacy<3.3.0,>=3.2.3->en-core-sci-sm==0.5.0) (3.0.4)\n",
            "Requirement already satisfied: certifi>=2017.4.17 in /usr/local/lib/python3.7/dist-packages (from requests<3.0.0,>=2.13.0->spacy<3.3.0,>=3.2.3->en-core-sci-sm==0.5.0) (2022.6.15)\n",
            "Requirement already satisfied: MarkupSafe>=0.23 in /usr/local/lib/python3.7/dist-packages (from jinja2->spacy<3.3.0,>=3.2.3->en-core-sci-sm==0.5.0) (2.0.1)\n"
          ]
        }
      ]
    },
    {
      "cell_type": "code",
      "execution_count": 2,
      "metadata": {
        "id": "zG3-sZWnMh6j"
      },
      "outputs": [],
      "source": [
        "from bs4 import BeautifulSoup\n",
        "import string\n",
        "import re\n",
        "\n",
        "def remove_html(x):\n",
        "    soup = BeautifulSoup(x, 'html.parser')\n",
        "    tags = soup.find_all('cite')\n",
        "    text = soup.get_text()\n",
        "    text = text.replace('  ', '')\n",
        "    text = text.replace(' et ', '')\n",
        "    text = text.replace(' al ', '')\n",
        "    text = text.replace(' et. ', '')\n",
        "    text = text.replace(' al. ', '')\n",
        "    return text"
      ]
    },
    {
      "cell_type": "code",
      "execution_count": 3,
      "metadata": {
        "id": "l5_4ho81Mh6k"
      },
      "outputs": [],
      "source": [
        "import scispacy\n",
        "import spacy\n",
        "import string\n",
        "\n",
        "nlp = spacy.load(\"en_core_sci_sm\")\n",
        "nlp.add_pipe(\"merge_entities\")\n",
        "\n",
        "def merge_entities(x):\n",
        "    doc = nlp(x)\n",
        "    return \" \".join([re.sub(r'\\W+', '', t.text.strip().translate(str.maketrans('', '', string.punctuation)).replace(\" \", \"_\").lower()) for t in doc])\n"
      ]
    },
    {
      "cell_type": "code",
      "execution_count": 4,
      "metadata": {
        "id": "4vM7jLHCMh6l"
      },
      "outputs": [],
      "source": [
        "import pandas as pd\n",
        "\n",
        "citations = pd.read_csv('./example_doc_citations.csv')\n",
        "citations['text'] = citations['text'].apply(\n",
        "    lambda x : remove_html(x)\n",
        ")\n",
        "citations['ner_merged_text'] = citations['text'].apply(\n",
        "    lambda x: merge_entities(x)\n",
        ")"
      ]
    },
    {
      "cell_type": "code",
      "execution_count": 5,
      "metadata": {
        "id": "DlMQbDnfMh6l"
      },
      "outputs": [],
      "source": [
        "from gensim.corpora.dictionary import Dictionary\n",
        "\n",
        "removal = ['ADV','PRON','CCONJ','PUNCT','PART','DET','ADP','SPACE', 'NUM', 'SYM']\n",
        "remove_text = ['al', 'et', 'al.']\n",
        "authors = [\n",
        "    'mongeon',\n",
        "    'hus'\n",
        "]\n",
        "\n",
        "\n",
        "unpreprocessed_corpus = citations['text']\n",
        "\n",
        "preprocessed_documents = []\n",
        "for doc in nlp.pipe(citations['ner_merged_text']):\n",
        "    proj_tok = [token.lemma_.lower() for token in doc if \"_\" in token.text or (len(token.text) > 2 and token.text not in remove_text and token.pos_ not in removal and not token.is_stop and token.is_alpha)]\n",
        "    proj_tok = [\n",
        "        tok for tok in proj_tok\n",
        "        if all([author not in tok for author in authors])\n",
        "    ]\n",
        "    preprocessed_documents.append(' '.join(proj_tok))\n",
        "    \n",
        "    \n",
        "texts = [doc.split(' ') for doc in preprocessed_documents]\n",
        "dictionary = Dictionary(texts)\n",
        "dictionary.filter_extremes(no_below=2, no_above=0.9)\n"
      ]
    },
    {
      "cell_type": "code",
      "execution_count": 6,
      "metadata": {
        "id": "QOq_Jn-YMh6m"
      },
      "outputs": [],
      "source": [
        "preprocessed_documents = [' '.join([dictionary[token[0]].replace(\"-\", \"_\").replace(\"®\", \"_\") for token in dictionary.doc2bow(text)]) for text in texts]"
      ]
    },
    {
      "cell_type": "code",
      "execution_count": 7,
      "metadata": {
        "id": "5LRErjJYMh6m"
      },
      "outputs": [],
      "source": [
        "from contextualized_topic_models.models.ctm import ZeroShotTM, CombinedTM\n",
        "from contextualized_topic_models.utils.data_preparation import TopicModelDataPreparation\n",
        "from contextualized_topic_models.utils.preprocessing import WhiteSpacePreprocessingStopwords\n",
        "import nltk\n",
        "import torch\n",
        "import random\n",
        "import numpy as np"
      ]
    },
    {
      "cell_type": "code",
      "execution_count": 8,
      "metadata": {
        "id": "wzvklXPYMh6m"
      },
      "outputs": [],
      "source": [
        "def fix_seeds():\n",
        "    torch.manual_seed(10)\n",
        "    torch.cuda.manual_seed(10)\n",
        "    np.random.seed(10)\n",
        "    random.seed(10)\n",
        "    torch.backends.cudnn.enabled = False\n",
        "    torch.backends.cudnn.deterministic = True"
      ]
    },
    {
      "cell_type": "code",
      "execution_count": 9,
      "metadata": {
        "colab": {
          "base_uri": "https://localhost:8080/",
          "height": 1000,
          "referenced_widgets": [
            "f02c7e85248b42988a1e964ea95deb87",
            "939d982d950d45b6a5e7f6f042e225aa",
            "d3e1b1f58fec4c6d9129bb76bf110a97",
            "2fe8bb9643694b17b97ade5ca9815312",
            "25c0b14a35bd4b3999a2704a42bf9590",
            "6fbd2a44c1be4c94aa69926f4565c067",
            "08fd7309a00743bcb3674dd8061f57cb",
            "7e07cb386e16473b93b25551e8229e5c",
            "798846dd7134425bb541ab94908fafd4",
            "e8932b500f494e17a2e980c2d95df8e2",
            "65d5c768107149b4876ab4f1f1f6046d",
            "9082905a9420488180b27ba3b0cd9040",
            "03159fddb0384c199f27c369efd9d904",
            "de91459ae9e5458e8d7f25801e413624",
            "d15b7cb5c65e468cbd84493e806fd023",
            "80e6948feb794af18bd482f264847b95",
            "d7e5f5e80d61450fb64275a029a2f401",
            "423f618f6ccb4f44a7338830911c5fc7",
            "62cf4a1ef4204a818500f9a715e1d5a1",
            "666156e792354ee5acd6484fe89a33eb",
            "4831c8787a344cf8ac607775937703f0",
            "24727ab4f9f94d029772d16a24e0e613",
            "d4e9f7af2e384e04a27709af8148c9df",
            "4f588712b9ac4899926db2725de74182",
            "2aecd2f14a1b4a6ebc47c23f34696a66",
            "c4fbea97057d46c29e236f8f0fd1bc5a",
            "85af7cdbf5b0403fb220d81f2a60ed0f",
            "ceea3fdca90943deb2711e22850ec38f",
            "d4159768fe964c238ae4b5310c10cd21",
            "2945c966108744beb7ab2f35be24d4bf",
            "11193ab31956486cb35db9d783ffcf6d",
            "c87e40c09f9f420f87da08d2a303197e",
            "4b9df1b13071403a9e283f515f1204f3",
            "413cac38e3864a15856a6814872df5f5",
            "2dfe3de904f4431db68b4320ce47b50b",
            "a57e25db31454a1ab55ee46849fabdfd",
            "0914c4f7381441058d7c671461766bc1",
            "0d1a23cc0b3b41178bc7326188549be2",
            "9ed915ea8a164df3bc2b18906a984395",
            "8b4799b281294eea8355dbd3cfa75eea",
            "78e053e101914a9e92a0115dfbf3fe44",
            "8c02d71b1a5343fb96740ae37dbd7c57",
            "a628d20f76d7470cb704bf222845884e",
            "d6bbf508feff46ba9510bea3cde058a5"
          ]
        },
        "id": "6v6dCnv5Mh6n",
        "outputId": "79a7f0cc-6e86-4f9a-eb9f-79ad9a6fc0d5"
      },
      "outputs": [
        {
          "output_type": "stream",
          "name": "stderr",
          "text": [
            "/usr/local/lib/python3.7/dist-packages/contextualized_topic_models/utils/data_preparation.py:57: UserWarning: the longest document in your collection has 178 words, the model instead truncates to 128 tokens.\n",
            "  warnings.warn(f\"the longest document in your collection has {max_local_length} words, the model instead \"\n"
          ]
        },
        {
          "output_type": "display_data",
          "data": {
            "text/plain": [
              "Batches:   0%|          | 0/4 [00:00<?, ?it/s]"
            ],
            "application/vnd.jupyter.widget-view+json": {
              "version_major": 2,
              "version_minor": 0,
              "model_id": "f02c7e85248b42988a1e964ea95deb87"
            }
          },
          "metadata": {}
        },
        {
          "output_type": "stream",
          "name": "stderr",
          "text": [
            "/usr/local/lib/python3.7/dist-packages/sklearn/utils/deprecation.py:87: FutureWarning: Function get_feature_names is deprecated; get_feature_names is deprecated in 1.0 and will be removed in 1.2. Please use get_feature_names_out instead.\n",
            "  warnings.warn(msg, category=FutureWarning)\n"
          ]
        },
        {
          "output_type": "stream",
          "name": "stdout",
          "text": [
            "num topics: 3\n"
          ]
        },
        {
          "output_type": "stream",
          "name": "stderr",
          "text": [
            "Epoch: [50/50]\t Seen Samples: [39550/39550]\tTrain Loss: 173.12433085097976\tTime: 0:00:00.353339: : 50it [00:17,  2.79it/s]\n",
            "Sampling: [20/20]: : 20it [00:06,  3.12it/s]\n"
          ]
        },
        {
          "output_type": "stream",
          "name": "stdout",
          "text": [
            "coherence score: -0.294257671477365\n",
            "diversity score LDA: 1.0\n",
            "num topics: 5\n"
          ]
        },
        {
          "output_type": "stream",
          "name": "stderr",
          "text": [
            "Epoch: [50/50]\t Seen Samples: [39550/39550]\tTrain Loss: 172.4755294549028\tTime: 0:00:00.359181: : 50it [00:18,  2.77it/s]\n",
            "Sampling: [20/20]: : 20it [00:06,  3.12it/s]\n"
          ]
        },
        {
          "output_type": "stream",
          "name": "stdout",
          "text": [
            "coherence score: -0.1189763516683188\n",
            "diversity score LDA: 0.9652398526257143\n",
            "num topics: 10\n"
          ]
        },
        {
          "output_type": "stream",
          "name": "stderr",
          "text": [
            "Epoch: [50/50]\t Seen Samples: [39550/39550]\tTrain Loss: 171.97549087389382\tTime: 0:00:00.450055: : 50it [00:19,  2.55it/s]\n",
            "Sampling: [20/20]: : 20it [00:07,  2.82it/s]\n"
          ]
        },
        {
          "output_type": "stream",
          "name": "stdout",
          "text": [
            "coherence score: -0.10610156642756122\n",
            "diversity score LDA: 0.9613596490592063\n",
            "num topics: 15\n"
          ]
        },
        {
          "output_type": "stream",
          "name": "stderr",
          "text": [
            "Epoch: [50/50]\t Seen Samples: [39550/39550]\tTrain Loss: 173.50566554401075\tTime: 0:00:00.351447: : 50it [00:18,  2.73it/s]\n",
            "Sampling: [20/20]: : 20it [00:06,  3.03it/s]\n"
          ]
        },
        {
          "output_type": "stream",
          "name": "stdout",
          "text": [
            "coherence score: -0.07570320683168348\n",
            "diversity score LDA: 0.9529943432771428\n",
            "num topics: 20\n"
          ]
        },
        {
          "output_type": "stream",
          "name": "stderr",
          "text": [
            "Epoch: [50/50]\t Seen Samples: [39550/39550]\tTrain Loss: 174.41088898052308\tTime: 0:00:00.359962: : 50it [00:18,  2.70it/s]\n",
            "Sampling: [20/20]: : 20it [00:06,  3.07it/s]\n"
          ]
        },
        {
          "output_type": "stream",
          "name": "stdout",
          "text": [
            "coherence score: -0.06209996452827473\n",
            "diversity score LDA: 0.9415406893859398\n",
            "num topics: 25\n"
          ]
        },
        {
          "output_type": "stream",
          "name": "stderr",
          "text": [
            "Epoch: [50/50]\t Seen Samples: [39550/39550]\tTrain Loss: 176.7942456270741\tTime: 0:00:00.353641: : 50it [00:18,  2.69it/s]\n",
            "Sampling: [20/20]: : 20it [00:06,  3.03it/s]\n"
          ]
        },
        {
          "output_type": "stream",
          "name": "stdout",
          "text": [
            "coherence score: -0.07404288070831037\n",
            "diversity score LDA: 0.9530382753302857\n",
            "num topics: 50\n"
          ]
        },
        {
          "output_type": "stream",
          "name": "stderr",
          "text": [
            "Epoch: [50/50]\t Seen Samples: [39550/39550]\tTrain Loss: 187.4638474340234\tTime: 0:00:00.354440: : 50it [00:19,  2.55it/s]\n",
            "Sampling: [20/20]: : 20it [00:06,  2.95it/s]\n"
          ]
        },
        {
          "output_type": "stream",
          "name": "stdout",
          "text": [
            "coherence score: -0.04459871110348148\n",
            "diversity score LDA: 0.9253880469338017\n",
            "num topics: 100\n"
          ]
        },
        {
          "output_type": "stream",
          "name": "stderr",
          "text": [
            "Epoch: [50/50]\t Seen Samples: [39550/39550]\tTrain Loss: 208.3258681652971\tTime: 0:00:00.370891: : 50it [00:18,  2.65it/s]\n",
            "Sampling: [20/20]: : 20it [00:06,  2.88it/s]\n"
          ]
        },
        {
          "output_type": "stream",
          "name": "stdout",
          "text": [
            "coherence score: -0.08529750729723469\n",
            "diversity score LDA: 0.9316158575508168\n",
            "num topics: 250\n"
          ]
        },
        {
          "output_type": "stream",
          "name": "stderr",
          "text": [
            "Epoch: [50/50]\t Seen Samples: [39550/39550]\tTrain Loss: 275.80222263649654\tTime: 0:00:00.374240: : 50it [00:18,  2.66it/s]\n",
            "Sampling: [20/20]: : 20it [00:07,  2.82it/s]\n"
          ]
        },
        {
          "output_type": "stream",
          "name": "stdout",
          "text": [
            "coherence score: -0.18723874414914435\n",
            "diversity score LDA: 0.9533949223157451\n"
          ]
        },
        {
          "output_type": "stream",
          "name": "stderr",
          "text": [
            "/usr/local/lib/python3.7/dist-packages/contextualized_topic_models/utils/data_preparation.py:57: UserWarning: the longest document in your collection has 178 words, the model instead truncates to 128 tokens.\n",
            "  warnings.warn(f\"the longest document in your collection has {max_local_length} words, the model instead \"\n"
          ]
        },
        {
          "output_type": "display_data",
          "data": {
            "text/plain": [
              "Batches:   0%|          | 0/4 [00:00<?, ?it/s]"
            ],
            "application/vnd.jupyter.widget-view+json": {
              "version_major": 2,
              "version_minor": 0,
              "model_id": "9082905a9420488180b27ba3b0cd9040"
            }
          },
          "metadata": {}
        },
        {
          "output_type": "stream",
          "name": "stderr",
          "text": [
            "/usr/local/lib/python3.7/dist-packages/sklearn/utils/deprecation.py:87: FutureWarning: Function get_feature_names is deprecated; get_feature_names is deprecated in 1.0 and will be removed in 1.2. Please use get_feature_names_out instead.\n",
            "  warnings.warn(msg, category=FutureWarning)\n"
          ]
        },
        {
          "output_type": "stream",
          "name": "stdout",
          "text": [
            "num topics: 3\n"
          ]
        },
        {
          "output_type": "stream",
          "name": "stderr",
          "text": [
            "Epoch: [50/50]\t Seen Samples: [39550/39550]\tTrain Loss: 173.12694633474243\tTime: 0:00:00.385194: : 50it [00:19,  2.54it/s]\n",
            "Sampling: [20/20]: : 20it [00:07,  2.58it/s]\n"
          ]
        },
        {
          "output_type": "stream",
          "name": "stdout",
          "text": [
            "coherence score: -0.18193505555408676\n",
            "diversity score LDA: 0.9809680855214286\n",
            "num topics: 5\n"
          ]
        },
        {
          "output_type": "stream",
          "name": "stderr",
          "text": [
            "Epoch: [50/50]\t Seen Samples: [39550/39550]\tTrain Loss: 173.35869751748183\tTime: 0:00:00.402600: : 50it [00:19,  2.53it/s]\n",
            "Sampling: [20/20]: : 20it [00:07,  2.80it/s]\n"
          ]
        },
        {
          "output_type": "stream",
          "name": "stdout",
          "text": [
            "coherence score: -0.1503836781094218\n",
            "diversity score LDA: 0.9769944960614285\n",
            "num topics: 10\n"
          ]
        },
        {
          "output_type": "stream",
          "name": "stderr",
          "text": [
            "Epoch: [50/50]\t Seen Samples: [39550/39550]\tTrain Loss: 173.79831021353507\tTime: 0:00:00.373762: : 50it [00:19,  2.56it/s]\n",
            "Sampling: [20/20]: : 20it [00:07,  2.81it/s]\n"
          ]
        },
        {
          "output_type": "stream",
          "name": "stdout",
          "text": [
            "coherence score: -0.07818394294015443\n",
            "diversity score LDA: 0.9617767256963492\n",
            "num topics: 15\n"
          ]
        },
        {
          "output_type": "stream",
          "name": "stderr",
          "text": [
            "Epoch: [50/50]\t Seen Samples: [39550/39550]\tTrain Loss: 175.2343805556653\tTime: 0:00:00.378905: : 50it [00:24,  2.00it/s]\n",
            "Sampling: [20/20]: : 20it [00:07,  2.82it/s]\n"
          ]
        },
        {
          "output_type": "stream",
          "name": "stdout",
          "text": [
            "coherence score: -0.0419062886703115\n",
            "diversity score LDA: 0.9355484757591837\n",
            "num topics: 20\n"
          ]
        },
        {
          "output_type": "stream",
          "name": "stderr",
          "text": [
            "Epoch: [50/50]\t Seen Samples: [39550/39550]\tTrain Loss: 177.5326883000158\tTime: 0:00:00.393716: : 50it [00:20,  2.41it/s]\n",
            "Sampling: [20/20]: : 20it [00:07,  2.79it/s]\n"
          ]
        },
        {
          "output_type": "stream",
          "name": "stdout",
          "text": [
            "coherence score: -0.10302318631832794\n",
            "diversity score LDA: 0.9504746185034586\n",
            "num topics: 25\n"
          ]
        },
        {
          "output_type": "stream",
          "name": "stderr",
          "text": [
            "Epoch: [50/50]\t Seen Samples: [39550/39550]\tTrain Loss: 179.29714722759957\tTime: 0:00:00.405937: : 50it [00:19,  2.51it/s]\n",
            "Sampling: [20/20]: : 20it [00:07,  2.77it/s]\n"
          ]
        },
        {
          "output_type": "stream",
          "name": "stdout",
          "text": [
            "coherence score: -0.0718614175363379\n",
            "diversity score LDA: 0.9252747233331905\n",
            "num topics: 50\n"
          ]
        },
        {
          "output_type": "stream",
          "name": "stderr",
          "text": [
            "Epoch: [50/50]\t Seen Samples: [39550/39550]\tTrain Loss: 189.29381907543853\tTime: 0:00:00.394177: : 50it [00:20,  2.47it/s]\n",
            "Sampling: [20/20]: : 20it [00:07,  2.67it/s]\n"
          ]
        },
        {
          "output_type": "stream",
          "name": "stdout",
          "text": [
            "coherence score: -0.06589169292764963\n",
            "diversity score LDA: 0.922158011268\n",
            "num topics: 100\n"
          ]
        },
        {
          "output_type": "stream",
          "name": "stderr",
          "text": [
            "Epoch: [50/50]\t Seen Samples: [39550/39550]\tTrain Loss: 214.1371872777734\tTime: 0:00:00.404369: : 50it [00:20,  2.44it/s]\n",
            "Sampling: [20/20]: : 20it [00:08,  2.42it/s]\n"
          ]
        },
        {
          "output_type": "stream",
          "name": "stdout",
          "text": [
            "coherence score: -0.13470085053145056\n",
            "diversity score LDA: 0.9323748521276811\n",
            "num topics: 250\n"
          ]
        },
        {
          "output_type": "stream",
          "name": "stderr",
          "text": [
            "Epoch: [50/50]\t Seen Samples: [39550/39550]\tTrain Loss: 280.3263033590787\tTime: 0:00:00.387842: : 50it [00:20,  2.47it/s]\n",
            "Sampling: [20/20]: : 20it [00:07,  2.57it/s]\n"
          ]
        },
        {
          "output_type": "stream",
          "name": "stdout",
          "text": [
            "coherence score: -0.24930272252006086\n",
            "diversity score LDA: 0.9593711264361051\n"
          ]
        },
        {
          "output_type": "stream",
          "name": "stderr",
          "text": [
            "WARNING:sentence_transformers.SentenceTransformer:No sentence-transformers model found with name /root/.cache/torch/sentence_transformers/allenai_aspire-sentence-embedder. Creating a new one with MEAN pooling.\n",
            "/usr/local/lib/python3.7/dist-packages/contextualized_topic_models/utils/data_preparation.py:57: UserWarning: the longest document in your collection has 178 words, the model instead truncates to 128 tokens.\n",
            "  warnings.warn(f\"the longest document in your collection has {max_local_length} words, the model instead \"\n"
          ]
        },
        {
          "output_type": "display_data",
          "data": {
            "text/plain": [
              "Batches:   0%|          | 0/4 [00:00<?, ?it/s]"
            ],
            "application/vnd.jupyter.widget-view+json": {
              "version_major": 2,
              "version_minor": 0,
              "model_id": "d4e9f7af2e384e04a27709af8148c9df"
            }
          },
          "metadata": {}
        },
        {
          "output_type": "stream",
          "name": "stderr",
          "text": [
            "/usr/local/lib/python3.7/dist-packages/sklearn/utils/deprecation.py:87: FutureWarning: Function get_feature_names is deprecated; get_feature_names is deprecated in 1.0 and will be removed in 1.2. Please use get_feature_names_out instead.\n",
            "  warnings.warn(msg, category=FutureWarning)\n"
          ]
        },
        {
          "output_type": "stream",
          "name": "stdout",
          "text": [
            "num topics: 3\n"
          ]
        },
        {
          "output_type": "stream",
          "name": "stderr",
          "text": [
            "Epoch: [50/50]\t Seen Samples: [39550/39550]\tTrain Loss: 173.08108462636298\tTime: 0:00:00.389857: : 50it [00:20,  2.47it/s]\n",
            "Sampling: [20/20]: : 20it [00:07,  2.73it/s]\n"
          ]
        },
        {
          "output_type": "stream",
          "name": "stdout",
          "text": [
            "coherence score: -0.1627809977022958\n",
            "diversity score LDA: 0.98349875695\n",
            "num topics: 5\n"
          ]
        },
        {
          "output_type": "stream",
          "name": "stderr",
          "text": [
            "Epoch: [50/50]\t Seen Samples: [39550/39550]\tTrain Loss: 172.99024178255374\tTime: 0:00:00.409851: : 50it [00:20,  2.45it/s]\n",
            "Sampling: [20/20]: : 20it [00:08,  2.48it/s]\n"
          ]
        },
        {
          "output_type": "stream",
          "name": "stdout",
          "text": [
            "coherence score: -0.13890030815135618\n",
            "diversity score LDA: 1.0\n",
            "num topics: 10\n"
          ]
        },
        {
          "output_type": "stream",
          "name": "stderr",
          "text": [
            "Epoch: [50/50]\t Seen Samples: [39550/39550]\tTrain Loss: 173.95297931810998\tTime: 0:00:00.401288: : 50it [00:20,  2.43it/s]\n",
            "Sampling: [20/20]: : 20it [00:07,  2.71it/s]\n"
          ]
        },
        {
          "output_type": "stream",
          "name": "stdout",
          "text": [
            "coherence score: -0.111088199058282\n",
            "diversity score LDA: 0.942522478520635\n",
            "num topics: 15\n"
          ]
        },
        {
          "output_type": "stream",
          "name": "stderr",
          "text": [
            "Epoch: [50/50]\t Seen Samples: [39550/39550]\tTrain Loss: 175.21124491347976\tTime: 0:00:00.407747: : 50it [00:20,  2.44it/s]\n",
            "Sampling: [20/20]: : 20it [00:07,  2.68it/s]\n"
          ]
        },
        {
          "output_type": "stream",
          "name": "stdout",
          "text": [
            "coherence score: -0.05922428433731063\n",
            "diversity score LDA: 0.9350169084543537\n",
            "num topics: 20\n"
          ]
        },
        {
          "output_type": "stream",
          "name": "stderr",
          "text": [
            "Epoch: [50/50]\t Seen Samples: [39550/39550]\tTrain Loss: 177.37505555665297\tTime: 0:00:00.398551: : 50it [00:20,  2.41it/s]\n",
            "Sampling: [20/20]: : 20it [00:07,  2.66it/s]\n"
          ]
        },
        {
          "output_type": "stream",
          "name": "stdout",
          "text": [
            "coherence score: -0.0673740795600226\n",
            "diversity score LDA: 0.9352903108659398\n",
            "num topics: 25\n"
          ]
        },
        {
          "output_type": "stream",
          "name": "stderr",
          "text": [
            "Epoch: [50/50]\t Seen Samples: [39550/39550]\tTrain Loss: 179.26368483821904\tTime: 0:00:00.404892: : 50it [00:21,  2.32it/s]\n",
            "Sampling: [20/20]: : 20it [00:07,  2.66it/s]\n"
          ]
        },
        {
          "output_type": "stream",
          "name": "stdout",
          "text": [
            "coherence score: -0.04455256281043065\n",
            "diversity score LDA: 0.9285885143857857\n",
            "num topics: 50\n"
          ]
        },
        {
          "output_type": "stream",
          "name": "stderr",
          "text": [
            "Epoch: [50/50]\t Seen Samples: [39550/39550]\tTrain Loss: 193.72675694828538\tTime: 0:00:00.418129: : 50it [00:20,  2.39it/s]\n",
            "Sampling: [20/20]: : 20it [00:07,  2.62it/s]\n"
          ]
        },
        {
          "output_type": "stream",
          "name": "stdout",
          "text": [
            "coherence score: -0.08943558002425787\n",
            "diversity score LDA: 0.9261430645305656\n",
            "num topics: 100\n"
          ]
        },
        {
          "output_type": "stream",
          "name": "stderr",
          "text": [
            "Epoch: [50/50]\t Seen Samples: [39550/39550]\tTrain Loss: 219.9129303788717\tTime: 0:00:00.429765: : 50it [00:21,  2.38it/s]\n",
            "Sampling: [20/20]: : 20it [00:07,  2.56it/s]\n"
          ]
        },
        {
          "output_type": "stream",
          "name": "stdout",
          "text": [
            "coherence score: -0.23336915523817126\n",
            "diversity score LDA: 0.9596211491970462\n",
            "num topics: 250\n"
          ]
        },
        {
          "output_type": "stream",
          "name": "stderr",
          "text": [
            "Epoch: [50/50]\t Seen Samples: [39550/39550]\tTrain Loss: 286.12413331621366\tTime: 0:00:00.628262: : 50it [00:21,  2.33it/s]\n",
            "Sampling: [20/20]: : 20it [00:08,  2.36it/s]\n"
          ]
        },
        {
          "output_type": "stream",
          "name": "stdout",
          "text": [
            "coherence score: -0.2869954160328756\n",
            "diversity score LDA: 0.9715869265794804\n"
          ]
        },
        {
          "output_type": "stream",
          "name": "stderr",
          "text": [
            "WARNING:sentence_transformers.SentenceTransformer:No sentence-transformers model found with name /root/.cache/torch/sentence_transformers/allenai_aspire-contextualsentence-multim-compsci. Creating a new one with MEAN pooling.\n",
            "/usr/local/lib/python3.7/dist-packages/contextualized_topic_models/utils/data_preparation.py:57: UserWarning: the longest document in your collection has 178 words, the model instead truncates to 128 tokens.\n",
            "  warnings.warn(f\"the longest document in your collection has {max_local_length} words, the model instead \"\n"
          ]
        },
        {
          "output_type": "display_data",
          "data": {
            "text/plain": [
              "Batches:   0%|          | 0/4 [00:00<?, ?it/s]"
            ],
            "application/vnd.jupyter.widget-view+json": {
              "version_major": 2,
              "version_minor": 0,
              "model_id": "413cac38e3864a15856a6814872df5f5"
            }
          },
          "metadata": {}
        },
        {
          "output_type": "stream",
          "name": "stderr",
          "text": [
            "/usr/local/lib/python3.7/dist-packages/sklearn/utils/deprecation.py:87: FutureWarning: Function get_feature_names is deprecated; get_feature_names is deprecated in 1.0 and will be removed in 1.2. Please use get_feature_names_out instead.\n",
            "  warnings.warn(msg, category=FutureWarning)\n"
          ]
        },
        {
          "output_type": "stream",
          "name": "stdout",
          "text": [
            "num topics: 3\n"
          ]
        },
        {
          "output_type": "stream",
          "name": "stderr",
          "text": [
            "Epoch: [50/50]\t Seen Samples: [39550/39550]\tTrain Loss: 173.43208446092763\tTime: 0:00:00.412713: : 50it [00:21,  2.34it/s]\n",
            "Sampling: [20/20]: : 20it [00:07,  2.58it/s]\n"
          ]
        },
        {
          "output_type": "stream",
          "name": "stdout",
          "text": [
            "coherence score: -0.10421348292576112\n",
            "diversity score LDA: 1.0\n",
            "num topics: 5\n"
          ]
        },
        {
          "output_type": "stream",
          "name": "stderr",
          "text": [
            "Epoch: [50/50]\t Seen Samples: [39550/39550]\tTrain Loss: 174.5867801092367\tTime: 0:00:00.408312: : 50it [00:21,  2.34it/s]\n",
            "Sampling: [20/20]: : 20it [00:07,  2.59it/s]\n"
          ]
        },
        {
          "output_type": "stream",
          "name": "stdout",
          "text": [
            "coherence score: -0.09157956584780594\n",
            "diversity score LDA: 0.995049627085\n",
            "num topics: 10\n"
          ]
        },
        {
          "output_type": "stream",
          "name": "stderr",
          "text": [
            "Epoch: [50/50]\t Seen Samples: [39550/39550]\tTrain Loss: 173.88796630550726\tTime: 0:00:00.421214: : 50it [00:22,  2.25it/s]\n",
            "Sampling: [20/20]: : 20it [00:07,  2.57it/s]\n"
          ]
        },
        {
          "output_type": "stream",
          "name": "stdout",
          "text": [
            "coherence score: -0.10836200217803393\n",
            "diversity score LDA: 0.9566104916220635\n",
            "num topics: 15\n"
          ]
        },
        {
          "output_type": "stream",
          "name": "stderr",
          "text": [
            "Epoch: [50/50]\t Seen Samples: [39550/39550]\tTrain Loss: 176.3305719619153\tTime: 0:00:00.426301: : 50it [00:21,  2.33it/s]\n",
            "Sampling: [20/20]: : 20it [00:07,  2.54it/s]\n"
          ]
        },
        {
          "output_type": "stream",
          "name": "stdout",
          "text": [
            "coherence score: -0.0893630676267676\n",
            "diversity score LDA: 0.9171393575982313\n",
            "num topics: 20\n"
          ]
        },
        {
          "output_type": "stream",
          "name": "stderr",
          "text": [
            "Epoch: [50/50]\t Seen Samples: [39550/39550]\tTrain Loss: 177.9860762681732\tTime: 0:00:00.440010: : 50it [00:21,  2.30it/s]\n",
            "Sampling: [20/20]: : 20it [00:07,  2.55it/s]\n"
          ]
        },
        {
          "output_type": "stream",
          "name": "stdout",
          "text": [
            "coherence score: -0.05580319966025936\n",
            "diversity score LDA: 0.9254114872051504\n",
            "num topics: 25\n"
          ]
        },
        {
          "output_type": "stream",
          "name": "stderr",
          "text": [
            "Epoch: [50/50]\t Seen Samples: [39550/39550]\tTrain Loss: 180.07477308193742\tTime: 0:00:00.424527: : 50it [00:21,  2.30it/s]\n",
            "Sampling: [20/20]: : 20it [00:08,  2.32it/s]\n"
          ]
        },
        {
          "output_type": "stream",
          "name": "stdout",
          "text": [
            "coherence score: -0.07689032434216966\n",
            "diversity score LDA: 0.9132932877954761\n",
            "num topics: 50\n"
          ]
        },
        {
          "output_type": "stream",
          "name": "stderr",
          "text": [
            "Epoch: [50/50]\t Seen Samples: [39550/39550]\tTrain Loss: 193.82512987910872\tTime: 0:00:00.428583: : 50it [00:21,  2.28it/s]\n",
            "Sampling: [20/20]: : 20it [00:07,  2.54it/s]\n"
          ]
        },
        {
          "output_type": "stream",
          "name": "stdout",
          "text": [
            "coherence score: -0.09411504321138661\n",
            "diversity score LDA: 0.9381236065526647\n",
            "num topics: 100\n"
          ]
        },
        {
          "output_type": "stream",
          "name": "stderr",
          "text": [
            "Epoch: [50/50]\t Seen Samples: [39550/39550]\tTrain Loss: 217.62912971120417\tTime: 0:00:00.429246: : 50it [00:21,  2.29it/s]\n",
            "Sampling: [20/20]: : 20it [00:08,  2.47it/s]\n"
          ]
        },
        {
          "output_type": "stream",
          "name": "stdout",
          "text": [
            "coherence score: -0.17887581623239343\n",
            "diversity score LDA: 0.9499786003006969\n",
            "num topics: 250\n"
          ]
        },
        {
          "output_type": "stream",
          "name": "stderr",
          "text": [
            "Epoch: [50/50]\t Seen Samples: [39550/39550]\tTrain Loss: 282.9947782919169\tTime: 0:00:00.439273: : 50it [00:21,  2.28it/s]\n",
            "Sampling: [20/20]: : 20it [00:08,  2.29it/s]\n"
          ]
        },
        {
          "output_type": "stream",
          "name": "stdout",
          "text": [
            "coherence score: -0.31226021816547955\n",
            "diversity score LDA: 0.9776125841885076\n"
          ]
        }
      ],
      "source": [
        "from contextualized_topic_models.evaluation.measures import CoherenceNPMI, InvertedRBO\n",
        "\n",
        "fix_seeds()\n",
        "\n",
        "num_topics = [3, 5, 10, 15, 20, 25, 50, 100, 250]\n",
        "\n",
        "corpus = [doc.split(' ') for doc in preprocessed_documents]\n",
        "model_results = []\n",
        "embedding_models = [\n",
        "    \"paraphrase-distilroberta-base-v2\",\n",
        "    \"sentence-transformers/allenai-specter\",\n",
        "    \"allenai/aspire-sentence-embedder\",\n",
        "    \"allenai/aspire-contextualsentence-multim-compsci\", \n",
        "]\n",
        "for embedding_model in embedding_models:\n",
        "    tp = TopicModelDataPreparation(embedding_model)\n",
        "    training_dataset = tp.fit(text_for_contextual=unpreprocessed_corpus, text_for_bow=preprocessed_documents)\n",
        "    for n_components in num_topics:\n",
        "        print(\"num topics:\", n_components)\n",
        "        ztm = ZeroShotTM(bow_size=len(tp.vocab), contextual_size=768, \n",
        "                     n_components=n_components, num_epochs=50)\n",
        "        ztm.fit(training_dataset, n_samples=20)\n",
        "        coh = CoherenceNPMI(ztm.get_topic_lists(10), [doc.split(' ') for doc in preprocessed_documents])\n",
        "        coh_score = coh.score()\n",
        "        print(\"coherence score:\", coh_score)\n",
        "        diversity_score = InvertedRBO(ztm.get_topic_lists(10)).score()\n",
        "        print(\"diversity score LDA:\", diversity_score)\n",
        "        model_results.append({\n",
        "            \"coherence\": coh_score,\n",
        "            \"diversity\": diversity_score,\n",
        "            \"num_topics\": n_components,\n",
        "            \"model\": ztm,\n",
        "            \"embedding_model\": embedding_model,\n",
        "            \"tp\": tp,\n",
        "            \"training_dataset\": training_dataset\n",
        "        })"
      ]
    },
    {
      "cell_type": "markdown",
      "metadata": {
        "id": "i_HJh0VFMh6p"
      },
      "source": [
        "## Select Top Topic Model"
      ]
    },
    {
      "cell_type": "markdown",
      "source": [
        ""
      ],
      "metadata": {
        "id": "NcEPaL2CapkF"
      }
    },
    {
      "cell_type": "code",
      "execution_count": 10,
      "metadata": {
        "id": "N2pp9m7jMh6p"
      },
      "outputs": [],
      "source": [
        "results_df = pd.DataFrame(model_results)"
      ]
    },
    {
      "cell_type": "code",
      "execution_count": 11,
      "metadata": {
        "colab": {
          "base_uri": "https://localhost:8080/",
          "height": 1000
        },
        "id": "n-HG15wdMh6p",
        "outputId": "990e959d-063c-4b60-ee26-ef7f1e593f18"
      },
      "outputs": [
        {
          "output_type": "execute_result",
          "data": {
            "text/plain": [
              "    coherence  diversity  num_topics  \\\n",
              "12  -0.041906   0.935548          15   \n",
              "23  -0.044553   0.928589          25   \n",
              "6   -0.044599   0.925388          50   \n",
              "31  -0.055803   0.925411          20   \n",
              "21  -0.059224   0.935017          15   \n",
              "4   -0.062100   0.941541          20   \n",
              "15  -0.065892   0.922158          50   \n",
              "22  -0.067374   0.935290          20   \n",
              "14  -0.071861   0.925275          25   \n",
              "5   -0.074043   0.953038          25   \n",
              "3   -0.075703   0.952994          15   \n",
              "32  -0.076890   0.913293          25   \n",
              "11  -0.078184   0.961777          10   \n",
              "7   -0.085298   0.931616         100   \n",
              "30  -0.089363   0.917139          15   \n",
              "24  -0.089436   0.926143          50   \n",
              "28  -0.091580   0.995050           5   \n",
              "33  -0.094115   0.938124          50   \n",
              "13  -0.103023   0.950475          20   \n",
              "27  -0.104213   1.000000           3   \n",
              "2   -0.106102   0.961360          10   \n",
              "29  -0.108362   0.956610          10   \n",
              "20  -0.111088   0.942522          10   \n",
              "1   -0.118976   0.965240           5   \n",
              "16  -0.134701   0.932375         100   \n",
              "19  -0.138900   1.000000           5   \n",
              "10  -0.150384   0.976994           5   \n",
              "18  -0.162781   0.983499           3   \n",
              "34  -0.178876   0.949979         100   \n",
              "9   -0.181935   0.980968           3   \n",
              "8   -0.187239   0.953395         250   \n",
              "25  -0.233369   0.959621         100   \n",
              "17  -0.249303   0.959371         250   \n",
              "26  -0.286995   0.971587         250   \n",
              "0   -0.294258   1.000000           3   \n",
              "35  -0.312260   0.977613         250   \n",
              "\n",
              "                                     embedding_model  \n",
              "12             sentence-transformers/allenai-specter  \n",
              "23                  allenai/aspire-sentence-embedder  \n",
              "6                   paraphrase-distilroberta-base-v2  \n",
              "31  allenai/aspire-contextualsentence-multim-compsci  \n",
              "21                  allenai/aspire-sentence-embedder  \n",
              "4                   paraphrase-distilroberta-base-v2  \n",
              "15             sentence-transformers/allenai-specter  \n",
              "22                  allenai/aspire-sentence-embedder  \n",
              "14             sentence-transformers/allenai-specter  \n",
              "5                   paraphrase-distilroberta-base-v2  \n",
              "3                   paraphrase-distilroberta-base-v2  \n",
              "32  allenai/aspire-contextualsentence-multim-compsci  \n",
              "11             sentence-transformers/allenai-specter  \n",
              "7                   paraphrase-distilroberta-base-v2  \n",
              "30  allenai/aspire-contextualsentence-multim-compsci  \n",
              "24                  allenai/aspire-sentence-embedder  \n",
              "28  allenai/aspire-contextualsentence-multim-compsci  \n",
              "33  allenai/aspire-contextualsentence-multim-compsci  \n",
              "13             sentence-transformers/allenai-specter  \n",
              "27  allenai/aspire-contextualsentence-multim-compsci  \n",
              "2                   paraphrase-distilroberta-base-v2  \n",
              "29  allenai/aspire-contextualsentence-multim-compsci  \n",
              "20                  allenai/aspire-sentence-embedder  \n",
              "1                   paraphrase-distilroberta-base-v2  \n",
              "16             sentence-transformers/allenai-specter  \n",
              "19                  allenai/aspire-sentence-embedder  \n",
              "10             sentence-transformers/allenai-specter  \n",
              "18                  allenai/aspire-sentence-embedder  \n",
              "34  allenai/aspire-contextualsentence-multim-compsci  \n",
              "9              sentence-transformers/allenai-specter  \n",
              "8                   paraphrase-distilroberta-base-v2  \n",
              "25                  allenai/aspire-sentence-embedder  \n",
              "17             sentence-transformers/allenai-specter  \n",
              "26                  allenai/aspire-sentence-embedder  \n",
              "0                   paraphrase-distilroberta-base-v2  \n",
              "35  allenai/aspire-contextualsentence-multim-compsci  "
            ],
            "text/html": [
              "\n",
              "  <div id=\"df-9bad379d-e186-4332-8983-4dd31fb59dfb\">\n",
              "    <div class=\"colab-df-container\">\n",
              "      <div>\n",
              "<style scoped>\n",
              "    .dataframe tbody tr th:only-of-type {\n",
              "        vertical-align: middle;\n",
              "    }\n",
              "\n",
              "    .dataframe tbody tr th {\n",
              "        vertical-align: top;\n",
              "    }\n",
              "\n",
              "    .dataframe thead th {\n",
              "        text-align: right;\n",
              "    }\n",
              "</style>\n",
              "<table border=\"1\" class=\"dataframe\">\n",
              "  <thead>\n",
              "    <tr style=\"text-align: right;\">\n",
              "      <th></th>\n",
              "      <th>coherence</th>\n",
              "      <th>diversity</th>\n",
              "      <th>num_topics</th>\n",
              "      <th>embedding_model</th>\n",
              "    </tr>\n",
              "  </thead>\n",
              "  <tbody>\n",
              "    <tr>\n",
              "      <th>12</th>\n",
              "      <td>-0.041906</td>\n",
              "      <td>0.935548</td>\n",
              "      <td>15</td>\n",
              "      <td>sentence-transformers/allenai-specter</td>\n",
              "    </tr>\n",
              "    <tr>\n",
              "      <th>23</th>\n",
              "      <td>-0.044553</td>\n",
              "      <td>0.928589</td>\n",
              "      <td>25</td>\n",
              "      <td>allenai/aspire-sentence-embedder</td>\n",
              "    </tr>\n",
              "    <tr>\n",
              "      <th>6</th>\n",
              "      <td>-0.044599</td>\n",
              "      <td>0.925388</td>\n",
              "      <td>50</td>\n",
              "      <td>paraphrase-distilroberta-base-v2</td>\n",
              "    </tr>\n",
              "    <tr>\n",
              "      <th>31</th>\n",
              "      <td>-0.055803</td>\n",
              "      <td>0.925411</td>\n",
              "      <td>20</td>\n",
              "      <td>allenai/aspire-contextualsentence-multim-compsci</td>\n",
              "    </tr>\n",
              "    <tr>\n",
              "      <th>21</th>\n",
              "      <td>-0.059224</td>\n",
              "      <td>0.935017</td>\n",
              "      <td>15</td>\n",
              "      <td>allenai/aspire-sentence-embedder</td>\n",
              "    </tr>\n",
              "    <tr>\n",
              "      <th>4</th>\n",
              "      <td>-0.062100</td>\n",
              "      <td>0.941541</td>\n",
              "      <td>20</td>\n",
              "      <td>paraphrase-distilroberta-base-v2</td>\n",
              "    </tr>\n",
              "    <tr>\n",
              "      <th>15</th>\n",
              "      <td>-0.065892</td>\n",
              "      <td>0.922158</td>\n",
              "      <td>50</td>\n",
              "      <td>sentence-transformers/allenai-specter</td>\n",
              "    </tr>\n",
              "    <tr>\n",
              "      <th>22</th>\n",
              "      <td>-0.067374</td>\n",
              "      <td>0.935290</td>\n",
              "      <td>20</td>\n",
              "      <td>allenai/aspire-sentence-embedder</td>\n",
              "    </tr>\n",
              "    <tr>\n",
              "      <th>14</th>\n",
              "      <td>-0.071861</td>\n",
              "      <td>0.925275</td>\n",
              "      <td>25</td>\n",
              "      <td>sentence-transformers/allenai-specter</td>\n",
              "    </tr>\n",
              "    <tr>\n",
              "      <th>5</th>\n",
              "      <td>-0.074043</td>\n",
              "      <td>0.953038</td>\n",
              "      <td>25</td>\n",
              "      <td>paraphrase-distilroberta-base-v2</td>\n",
              "    </tr>\n",
              "    <tr>\n",
              "      <th>3</th>\n",
              "      <td>-0.075703</td>\n",
              "      <td>0.952994</td>\n",
              "      <td>15</td>\n",
              "      <td>paraphrase-distilroberta-base-v2</td>\n",
              "    </tr>\n",
              "    <tr>\n",
              "      <th>32</th>\n",
              "      <td>-0.076890</td>\n",
              "      <td>0.913293</td>\n",
              "      <td>25</td>\n",
              "      <td>allenai/aspire-contextualsentence-multim-compsci</td>\n",
              "    </tr>\n",
              "    <tr>\n",
              "      <th>11</th>\n",
              "      <td>-0.078184</td>\n",
              "      <td>0.961777</td>\n",
              "      <td>10</td>\n",
              "      <td>sentence-transformers/allenai-specter</td>\n",
              "    </tr>\n",
              "    <tr>\n",
              "      <th>7</th>\n",
              "      <td>-0.085298</td>\n",
              "      <td>0.931616</td>\n",
              "      <td>100</td>\n",
              "      <td>paraphrase-distilroberta-base-v2</td>\n",
              "    </tr>\n",
              "    <tr>\n",
              "      <th>30</th>\n",
              "      <td>-0.089363</td>\n",
              "      <td>0.917139</td>\n",
              "      <td>15</td>\n",
              "      <td>allenai/aspire-contextualsentence-multim-compsci</td>\n",
              "    </tr>\n",
              "    <tr>\n",
              "      <th>24</th>\n",
              "      <td>-0.089436</td>\n",
              "      <td>0.926143</td>\n",
              "      <td>50</td>\n",
              "      <td>allenai/aspire-sentence-embedder</td>\n",
              "    </tr>\n",
              "    <tr>\n",
              "      <th>28</th>\n",
              "      <td>-0.091580</td>\n",
              "      <td>0.995050</td>\n",
              "      <td>5</td>\n",
              "      <td>allenai/aspire-contextualsentence-multim-compsci</td>\n",
              "    </tr>\n",
              "    <tr>\n",
              "      <th>33</th>\n",
              "      <td>-0.094115</td>\n",
              "      <td>0.938124</td>\n",
              "      <td>50</td>\n",
              "      <td>allenai/aspire-contextualsentence-multim-compsci</td>\n",
              "    </tr>\n",
              "    <tr>\n",
              "      <th>13</th>\n",
              "      <td>-0.103023</td>\n",
              "      <td>0.950475</td>\n",
              "      <td>20</td>\n",
              "      <td>sentence-transformers/allenai-specter</td>\n",
              "    </tr>\n",
              "    <tr>\n",
              "      <th>27</th>\n",
              "      <td>-0.104213</td>\n",
              "      <td>1.000000</td>\n",
              "      <td>3</td>\n",
              "      <td>allenai/aspire-contextualsentence-multim-compsci</td>\n",
              "    </tr>\n",
              "    <tr>\n",
              "      <th>2</th>\n",
              "      <td>-0.106102</td>\n",
              "      <td>0.961360</td>\n",
              "      <td>10</td>\n",
              "      <td>paraphrase-distilroberta-base-v2</td>\n",
              "    </tr>\n",
              "    <tr>\n",
              "      <th>29</th>\n",
              "      <td>-0.108362</td>\n",
              "      <td>0.956610</td>\n",
              "      <td>10</td>\n",
              "      <td>allenai/aspire-contextualsentence-multim-compsci</td>\n",
              "    </tr>\n",
              "    <tr>\n",
              "      <th>20</th>\n",
              "      <td>-0.111088</td>\n",
              "      <td>0.942522</td>\n",
              "      <td>10</td>\n",
              "      <td>allenai/aspire-sentence-embedder</td>\n",
              "    </tr>\n",
              "    <tr>\n",
              "      <th>1</th>\n",
              "      <td>-0.118976</td>\n",
              "      <td>0.965240</td>\n",
              "      <td>5</td>\n",
              "      <td>paraphrase-distilroberta-base-v2</td>\n",
              "    </tr>\n",
              "    <tr>\n",
              "      <th>16</th>\n",
              "      <td>-0.134701</td>\n",
              "      <td>0.932375</td>\n",
              "      <td>100</td>\n",
              "      <td>sentence-transformers/allenai-specter</td>\n",
              "    </tr>\n",
              "    <tr>\n",
              "      <th>19</th>\n",
              "      <td>-0.138900</td>\n",
              "      <td>1.000000</td>\n",
              "      <td>5</td>\n",
              "      <td>allenai/aspire-sentence-embedder</td>\n",
              "    </tr>\n",
              "    <tr>\n",
              "      <th>10</th>\n",
              "      <td>-0.150384</td>\n",
              "      <td>0.976994</td>\n",
              "      <td>5</td>\n",
              "      <td>sentence-transformers/allenai-specter</td>\n",
              "    </tr>\n",
              "    <tr>\n",
              "      <th>18</th>\n",
              "      <td>-0.162781</td>\n",
              "      <td>0.983499</td>\n",
              "      <td>3</td>\n",
              "      <td>allenai/aspire-sentence-embedder</td>\n",
              "    </tr>\n",
              "    <tr>\n",
              "      <th>34</th>\n",
              "      <td>-0.178876</td>\n",
              "      <td>0.949979</td>\n",
              "      <td>100</td>\n",
              "      <td>allenai/aspire-contextualsentence-multim-compsci</td>\n",
              "    </tr>\n",
              "    <tr>\n",
              "      <th>9</th>\n",
              "      <td>-0.181935</td>\n",
              "      <td>0.980968</td>\n",
              "      <td>3</td>\n",
              "      <td>sentence-transformers/allenai-specter</td>\n",
              "    </tr>\n",
              "    <tr>\n",
              "      <th>8</th>\n",
              "      <td>-0.187239</td>\n",
              "      <td>0.953395</td>\n",
              "      <td>250</td>\n",
              "      <td>paraphrase-distilroberta-base-v2</td>\n",
              "    </tr>\n",
              "    <tr>\n",
              "      <th>25</th>\n",
              "      <td>-0.233369</td>\n",
              "      <td>0.959621</td>\n",
              "      <td>100</td>\n",
              "      <td>allenai/aspire-sentence-embedder</td>\n",
              "    </tr>\n",
              "    <tr>\n",
              "      <th>17</th>\n",
              "      <td>-0.249303</td>\n",
              "      <td>0.959371</td>\n",
              "      <td>250</td>\n",
              "      <td>sentence-transformers/allenai-specter</td>\n",
              "    </tr>\n",
              "    <tr>\n",
              "      <th>26</th>\n",
              "      <td>-0.286995</td>\n",
              "      <td>0.971587</td>\n",
              "      <td>250</td>\n",
              "      <td>allenai/aspire-sentence-embedder</td>\n",
              "    </tr>\n",
              "    <tr>\n",
              "      <th>0</th>\n",
              "      <td>-0.294258</td>\n",
              "      <td>1.000000</td>\n",
              "      <td>3</td>\n",
              "      <td>paraphrase-distilroberta-base-v2</td>\n",
              "    </tr>\n",
              "    <tr>\n",
              "      <th>35</th>\n",
              "      <td>-0.312260</td>\n",
              "      <td>0.977613</td>\n",
              "      <td>250</td>\n",
              "      <td>allenai/aspire-contextualsentence-multim-compsci</td>\n",
              "    </tr>\n",
              "  </tbody>\n",
              "</table>\n",
              "</div>\n",
              "      <button class=\"colab-df-convert\" onclick=\"convertToInteractive('df-9bad379d-e186-4332-8983-4dd31fb59dfb')\"\n",
              "              title=\"Convert this dataframe to an interactive table.\"\n",
              "              style=\"display:none;\">\n",
              "        \n",
              "  <svg xmlns=\"http://www.w3.org/2000/svg\" height=\"24px\"viewBox=\"0 0 24 24\"\n",
              "       width=\"24px\">\n",
              "    <path d=\"M0 0h24v24H0V0z\" fill=\"none\"/>\n",
              "    <path d=\"M18.56 5.44l.94 2.06.94-2.06 2.06-.94-2.06-.94-.94-2.06-.94 2.06-2.06.94zm-11 1L8.5 8.5l.94-2.06 2.06-.94-2.06-.94L8.5 2.5l-.94 2.06-2.06.94zm10 10l.94 2.06.94-2.06 2.06-.94-2.06-.94-.94-2.06-.94 2.06-2.06.94z\"/><path d=\"M17.41 7.96l-1.37-1.37c-.4-.4-.92-.59-1.43-.59-.52 0-1.04.2-1.43.59L10.3 9.45l-7.72 7.72c-.78.78-.78 2.05 0 2.83L4 21.41c.39.39.9.59 1.41.59.51 0 1.02-.2 1.41-.59l7.78-7.78 2.81-2.81c.8-.78.8-2.07 0-2.86zM5.41 20L4 18.59l7.72-7.72 1.47 1.35L5.41 20z\"/>\n",
              "  </svg>\n",
              "      </button>\n",
              "      \n",
              "  <style>\n",
              "    .colab-df-container {\n",
              "      display:flex;\n",
              "      flex-wrap:wrap;\n",
              "      gap: 12px;\n",
              "    }\n",
              "\n",
              "    .colab-df-convert {\n",
              "      background-color: #E8F0FE;\n",
              "      border: none;\n",
              "      border-radius: 50%;\n",
              "      cursor: pointer;\n",
              "      display: none;\n",
              "      fill: #1967D2;\n",
              "      height: 32px;\n",
              "      padding: 0 0 0 0;\n",
              "      width: 32px;\n",
              "    }\n",
              "\n",
              "    .colab-df-convert:hover {\n",
              "      background-color: #E2EBFA;\n",
              "      box-shadow: 0px 1px 2px rgba(60, 64, 67, 0.3), 0px 1px 3px 1px rgba(60, 64, 67, 0.15);\n",
              "      fill: #174EA6;\n",
              "    }\n",
              "\n",
              "    [theme=dark] .colab-df-convert {\n",
              "      background-color: #3B4455;\n",
              "      fill: #D2E3FC;\n",
              "    }\n",
              "\n",
              "    [theme=dark] .colab-df-convert:hover {\n",
              "      background-color: #434B5C;\n",
              "      box-shadow: 0px 1px 3px 1px rgba(0, 0, 0, 0.15);\n",
              "      filter: drop-shadow(0px 1px 2px rgba(0, 0, 0, 0.3));\n",
              "      fill: #FFFFFF;\n",
              "    }\n",
              "  </style>\n",
              "\n",
              "      <script>\n",
              "        const buttonEl =\n",
              "          document.querySelector('#df-9bad379d-e186-4332-8983-4dd31fb59dfb button.colab-df-convert');\n",
              "        buttonEl.style.display =\n",
              "          google.colab.kernel.accessAllowed ? 'block' : 'none';\n",
              "\n",
              "        async function convertToInteractive(key) {\n",
              "          const element = document.querySelector('#df-9bad379d-e186-4332-8983-4dd31fb59dfb');\n",
              "          const dataTable =\n",
              "            await google.colab.kernel.invokeFunction('convertToInteractive',\n",
              "                                                     [key], {});\n",
              "          if (!dataTable) return;\n",
              "\n",
              "          const docLinkHtml = 'Like what you see? Visit the ' +\n",
              "            '<a target=\"_blank\" href=https://colab.research.google.com/notebooks/data_table.ipynb>data table notebook</a>'\n",
              "            + ' to learn more about interactive tables.';\n",
              "          element.innerHTML = '';\n",
              "          dataTable['output_type'] = 'display_data';\n",
              "          await google.colab.output.renderOutput(dataTable, element);\n",
              "          const docLink = document.createElement('div');\n",
              "          docLink.innerHTML = docLinkHtml;\n",
              "          element.appendChild(docLink);\n",
              "        }\n",
              "      </script>\n",
              "    </div>\n",
              "  </div>\n",
              "  "
            ]
          },
          "metadata": {},
          "execution_count": 11
        }
      ],
      "source": [
        "results_df.sort_values(by='coherence', ascending=False)[\n",
        "    ['coherence','diversity','num_topics', 'embedding_model']\n",
        "]"
      ]
    },
    {
      "cell_type": "code",
      "execution_count": 12,
      "metadata": {
        "colab": {
          "base_uri": "https://localhost:8080/",
          "height": 1000
        },
        "id": "-MYyNkbIMh6q",
        "outputId": "258d6c18-8769-45ef-98ad-07c922f16fd8"
      },
      "outputs": [
        {
          "output_type": "execute_result",
          "data": {
            "text/plain": [
              "    coherence  diversity  num_topics  \\\n",
              "0   -0.294258   1.000000           3   \n",
              "19  -0.138900   1.000000           5   \n",
              "27  -0.104213   1.000000           3   \n",
              "28  -0.091580   0.995050           5   \n",
              "18  -0.162781   0.983499           3   \n",
              "9   -0.181935   0.980968           3   \n",
              "35  -0.312260   0.977613         250   \n",
              "10  -0.150384   0.976994           5   \n",
              "26  -0.286995   0.971587         250   \n",
              "1   -0.118976   0.965240           5   \n",
              "11  -0.078184   0.961777          10   \n",
              "2   -0.106102   0.961360          10   \n",
              "25  -0.233369   0.959621         100   \n",
              "17  -0.249303   0.959371         250   \n",
              "29  -0.108362   0.956610          10   \n",
              "8   -0.187239   0.953395         250   \n",
              "5   -0.074043   0.953038          25   \n",
              "3   -0.075703   0.952994          15   \n",
              "13  -0.103023   0.950475          20   \n",
              "34  -0.178876   0.949979         100   \n",
              "20  -0.111088   0.942522          10   \n",
              "4   -0.062100   0.941541          20   \n",
              "33  -0.094115   0.938124          50   \n",
              "12  -0.041906   0.935548          15   \n",
              "22  -0.067374   0.935290          20   \n",
              "21  -0.059224   0.935017          15   \n",
              "16  -0.134701   0.932375         100   \n",
              "7   -0.085298   0.931616         100   \n",
              "23  -0.044553   0.928589          25   \n",
              "24  -0.089436   0.926143          50   \n",
              "31  -0.055803   0.925411          20   \n",
              "6   -0.044599   0.925388          50   \n",
              "14  -0.071861   0.925275          25   \n",
              "15  -0.065892   0.922158          50   \n",
              "30  -0.089363   0.917139          15   \n",
              "32  -0.076890   0.913293          25   \n",
              "\n",
              "                                     embedding_model  \n",
              "0                   paraphrase-distilroberta-base-v2  \n",
              "19                  allenai/aspire-sentence-embedder  \n",
              "27  allenai/aspire-contextualsentence-multim-compsci  \n",
              "28  allenai/aspire-contextualsentence-multim-compsci  \n",
              "18                  allenai/aspire-sentence-embedder  \n",
              "9              sentence-transformers/allenai-specter  \n",
              "35  allenai/aspire-contextualsentence-multim-compsci  \n",
              "10             sentence-transformers/allenai-specter  \n",
              "26                  allenai/aspire-sentence-embedder  \n",
              "1                   paraphrase-distilroberta-base-v2  \n",
              "11             sentence-transformers/allenai-specter  \n",
              "2                   paraphrase-distilroberta-base-v2  \n",
              "25                  allenai/aspire-sentence-embedder  \n",
              "17             sentence-transformers/allenai-specter  \n",
              "29  allenai/aspire-contextualsentence-multim-compsci  \n",
              "8                   paraphrase-distilroberta-base-v2  \n",
              "5                   paraphrase-distilroberta-base-v2  \n",
              "3                   paraphrase-distilroberta-base-v2  \n",
              "13             sentence-transformers/allenai-specter  \n",
              "34  allenai/aspire-contextualsentence-multim-compsci  \n",
              "20                  allenai/aspire-sentence-embedder  \n",
              "4                   paraphrase-distilroberta-base-v2  \n",
              "33  allenai/aspire-contextualsentence-multim-compsci  \n",
              "12             sentence-transformers/allenai-specter  \n",
              "22                  allenai/aspire-sentence-embedder  \n",
              "21                  allenai/aspire-sentence-embedder  \n",
              "16             sentence-transformers/allenai-specter  \n",
              "7                   paraphrase-distilroberta-base-v2  \n",
              "23                  allenai/aspire-sentence-embedder  \n",
              "24                  allenai/aspire-sentence-embedder  \n",
              "31  allenai/aspire-contextualsentence-multim-compsci  \n",
              "6                   paraphrase-distilroberta-base-v2  \n",
              "14             sentence-transformers/allenai-specter  \n",
              "15             sentence-transformers/allenai-specter  \n",
              "30  allenai/aspire-contextualsentence-multim-compsci  \n",
              "32  allenai/aspire-contextualsentence-multim-compsci  "
            ],
            "text/html": [
              "\n",
              "  <div id=\"df-d9789dd2-094b-40e1-ada5-87542c5072c1\">\n",
              "    <div class=\"colab-df-container\">\n",
              "      <div>\n",
              "<style scoped>\n",
              "    .dataframe tbody tr th:only-of-type {\n",
              "        vertical-align: middle;\n",
              "    }\n",
              "\n",
              "    .dataframe tbody tr th {\n",
              "        vertical-align: top;\n",
              "    }\n",
              "\n",
              "    .dataframe thead th {\n",
              "        text-align: right;\n",
              "    }\n",
              "</style>\n",
              "<table border=\"1\" class=\"dataframe\">\n",
              "  <thead>\n",
              "    <tr style=\"text-align: right;\">\n",
              "      <th></th>\n",
              "      <th>coherence</th>\n",
              "      <th>diversity</th>\n",
              "      <th>num_topics</th>\n",
              "      <th>embedding_model</th>\n",
              "    </tr>\n",
              "  </thead>\n",
              "  <tbody>\n",
              "    <tr>\n",
              "      <th>0</th>\n",
              "      <td>-0.294258</td>\n",
              "      <td>1.000000</td>\n",
              "      <td>3</td>\n",
              "      <td>paraphrase-distilroberta-base-v2</td>\n",
              "    </tr>\n",
              "    <tr>\n",
              "      <th>19</th>\n",
              "      <td>-0.138900</td>\n",
              "      <td>1.000000</td>\n",
              "      <td>5</td>\n",
              "      <td>allenai/aspire-sentence-embedder</td>\n",
              "    </tr>\n",
              "    <tr>\n",
              "      <th>27</th>\n",
              "      <td>-0.104213</td>\n",
              "      <td>1.000000</td>\n",
              "      <td>3</td>\n",
              "      <td>allenai/aspire-contextualsentence-multim-compsci</td>\n",
              "    </tr>\n",
              "    <tr>\n",
              "      <th>28</th>\n",
              "      <td>-0.091580</td>\n",
              "      <td>0.995050</td>\n",
              "      <td>5</td>\n",
              "      <td>allenai/aspire-contextualsentence-multim-compsci</td>\n",
              "    </tr>\n",
              "    <tr>\n",
              "      <th>18</th>\n",
              "      <td>-0.162781</td>\n",
              "      <td>0.983499</td>\n",
              "      <td>3</td>\n",
              "      <td>allenai/aspire-sentence-embedder</td>\n",
              "    </tr>\n",
              "    <tr>\n",
              "      <th>9</th>\n",
              "      <td>-0.181935</td>\n",
              "      <td>0.980968</td>\n",
              "      <td>3</td>\n",
              "      <td>sentence-transformers/allenai-specter</td>\n",
              "    </tr>\n",
              "    <tr>\n",
              "      <th>35</th>\n",
              "      <td>-0.312260</td>\n",
              "      <td>0.977613</td>\n",
              "      <td>250</td>\n",
              "      <td>allenai/aspire-contextualsentence-multim-compsci</td>\n",
              "    </tr>\n",
              "    <tr>\n",
              "      <th>10</th>\n",
              "      <td>-0.150384</td>\n",
              "      <td>0.976994</td>\n",
              "      <td>5</td>\n",
              "      <td>sentence-transformers/allenai-specter</td>\n",
              "    </tr>\n",
              "    <tr>\n",
              "      <th>26</th>\n",
              "      <td>-0.286995</td>\n",
              "      <td>0.971587</td>\n",
              "      <td>250</td>\n",
              "      <td>allenai/aspire-sentence-embedder</td>\n",
              "    </tr>\n",
              "    <tr>\n",
              "      <th>1</th>\n",
              "      <td>-0.118976</td>\n",
              "      <td>0.965240</td>\n",
              "      <td>5</td>\n",
              "      <td>paraphrase-distilroberta-base-v2</td>\n",
              "    </tr>\n",
              "    <tr>\n",
              "      <th>11</th>\n",
              "      <td>-0.078184</td>\n",
              "      <td>0.961777</td>\n",
              "      <td>10</td>\n",
              "      <td>sentence-transformers/allenai-specter</td>\n",
              "    </tr>\n",
              "    <tr>\n",
              "      <th>2</th>\n",
              "      <td>-0.106102</td>\n",
              "      <td>0.961360</td>\n",
              "      <td>10</td>\n",
              "      <td>paraphrase-distilroberta-base-v2</td>\n",
              "    </tr>\n",
              "    <tr>\n",
              "      <th>25</th>\n",
              "      <td>-0.233369</td>\n",
              "      <td>0.959621</td>\n",
              "      <td>100</td>\n",
              "      <td>allenai/aspire-sentence-embedder</td>\n",
              "    </tr>\n",
              "    <tr>\n",
              "      <th>17</th>\n",
              "      <td>-0.249303</td>\n",
              "      <td>0.959371</td>\n",
              "      <td>250</td>\n",
              "      <td>sentence-transformers/allenai-specter</td>\n",
              "    </tr>\n",
              "    <tr>\n",
              "      <th>29</th>\n",
              "      <td>-0.108362</td>\n",
              "      <td>0.956610</td>\n",
              "      <td>10</td>\n",
              "      <td>allenai/aspire-contextualsentence-multim-compsci</td>\n",
              "    </tr>\n",
              "    <tr>\n",
              "      <th>8</th>\n",
              "      <td>-0.187239</td>\n",
              "      <td>0.953395</td>\n",
              "      <td>250</td>\n",
              "      <td>paraphrase-distilroberta-base-v2</td>\n",
              "    </tr>\n",
              "    <tr>\n",
              "      <th>5</th>\n",
              "      <td>-0.074043</td>\n",
              "      <td>0.953038</td>\n",
              "      <td>25</td>\n",
              "      <td>paraphrase-distilroberta-base-v2</td>\n",
              "    </tr>\n",
              "    <tr>\n",
              "      <th>3</th>\n",
              "      <td>-0.075703</td>\n",
              "      <td>0.952994</td>\n",
              "      <td>15</td>\n",
              "      <td>paraphrase-distilroberta-base-v2</td>\n",
              "    </tr>\n",
              "    <tr>\n",
              "      <th>13</th>\n",
              "      <td>-0.103023</td>\n",
              "      <td>0.950475</td>\n",
              "      <td>20</td>\n",
              "      <td>sentence-transformers/allenai-specter</td>\n",
              "    </tr>\n",
              "    <tr>\n",
              "      <th>34</th>\n",
              "      <td>-0.178876</td>\n",
              "      <td>0.949979</td>\n",
              "      <td>100</td>\n",
              "      <td>allenai/aspire-contextualsentence-multim-compsci</td>\n",
              "    </tr>\n",
              "    <tr>\n",
              "      <th>20</th>\n",
              "      <td>-0.111088</td>\n",
              "      <td>0.942522</td>\n",
              "      <td>10</td>\n",
              "      <td>allenai/aspire-sentence-embedder</td>\n",
              "    </tr>\n",
              "    <tr>\n",
              "      <th>4</th>\n",
              "      <td>-0.062100</td>\n",
              "      <td>0.941541</td>\n",
              "      <td>20</td>\n",
              "      <td>paraphrase-distilroberta-base-v2</td>\n",
              "    </tr>\n",
              "    <tr>\n",
              "      <th>33</th>\n",
              "      <td>-0.094115</td>\n",
              "      <td>0.938124</td>\n",
              "      <td>50</td>\n",
              "      <td>allenai/aspire-contextualsentence-multim-compsci</td>\n",
              "    </tr>\n",
              "    <tr>\n",
              "      <th>12</th>\n",
              "      <td>-0.041906</td>\n",
              "      <td>0.935548</td>\n",
              "      <td>15</td>\n",
              "      <td>sentence-transformers/allenai-specter</td>\n",
              "    </tr>\n",
              "    <tr>\n",
              "      <th>22</th>\n",
              "      <td>-0.067374</td>\n",
              "      <td>0.935290</td>\n",
              "      <td>20</td>\n",
              "      <td>allenai/aspire-sentence-embedder</td>\n",
              "    </tr>\n",
              "    <tr>\n",
              "      <th>21</th>\n",
              "      <td>-0.059224</td>\n",
              "      <td>0.935017</td>\n",
              "      <td>15</td>\n",
              "      <td>allenai/aspire-sentence-embedder</td>\n",
              "    </tr>\n",
              "    <tr>\n",
              "      <th>16</th>\n",
              "      <td>-0.134701</td>\n",
              "      <td>0.932375</td>\n",
              "      <td>100</td>\n",
              "      <td>sentence-transformers/allenai-specter</td>\n",
              "    </tr>\n",
              "    <tr>\n",
              "      <th>7</th>\n",
              "      <td>-0.085298</td>\n",
              "      <td>0.931616</td>\n",
              "      <td>100</td>\n",
              "      <td>paraphrase-distilroberta-base-v2</td>\n",
              "    </tr>\n",
              "    <tr>\n",
              "      <th>23</th>\n",
              "      <td>-0.044553</td>\n",
              "      <td>0.928589</td>\n",
              "      <td>25</td>\n",
              "      <td>allenai/aspire-sentence-embedder</td>\n",
              "    </tr>\n",
              "    <tr>\n",
              "      <th>24</th>\n",
              "      <td>-0.089436</td>\n",
              "      <td>0.926143</td>\n",
              "      <td>50</td>\n",
              "      <td>allenai/aspire-sentence-embedder</td>\n",
              "    </tr>\n",
              "    <tr>\n",
              "      <th>31</th>\n",
              "      <td>-0.055803</td>\n",
              "      <td>0.925411</td>\n",
              "      <td>20</td>\n",
              "      <td>allenai/aspire-contextualsentence-multim-compsci</td>\n",
              "    </tr>\n",
              "    <tr>\n",
              "      <th>6</th>\n",
              "      <td>-0.044599</td>\n",
              "      <td>0.925388</td>\n",
              "      <td>50</td>\n",
              "      <td>paraphrase-distilroberta-base-v2</td>\n",
              "    </tr>\n",
              "    <tr>\n",
              "      <th>14</th>\n",
              "      <td>-0.071861</td>\n",
              "      <td>0.925275</td>\n",
              "      <td>25</td>\n",
              "      <td>sentence-transformers/allenai-specter</td>\n",
              "    </tr>\n",
              "    <tr>\n",
              "      <th>15</th>\n",
              "      <td>-0.065892</td>\n",
              "      <td>0.922158</td>\n",
              "      <td>50</td>\n",
              "      <td>sentence-transformers/allenai-specter</td>\n",
              "    </tr>\n",
              "    <tr>\n",
              "      <th>30</th>\n",
              "      <td>-0.089363</td>\n",
              "      <td>0.917139</td>\n",
              "      <td>15</td>\n",
              "      <td>allenai/aspire-contextualsentence-multim-compsci</td>\n",
              "    </tr>\n",
              "    <tr>\n",
              "      <th>32</th>\n",
              "      <td>-0.076890</td>\n",
              "      <td>0.913293</td>\n",
              "      <td>25</td>\n",
              "      <td>allenai/aspire-contextualsentence-multim-compsci</td>\n",
              "    </tr>\n",
              "  </tbody>\n",
              "</table>\n",
              "</div>\n",
              "      <button class=\"colab-df-convert\" onclick=\"convertToInteractive('df-d9789dd2-094b-40e1-ada5-87542c5072c1')\"\n",
              "              title=\"Convert this dataframe to an interactive table.\"\n",
              "              style=\"display:none;\">\n",
              "        \n",
              "  <svg xmlns=\"http://www.w3.org/2000/svg\" height=\"24px\"viewBox=\"0 0 24 24\"\n",
              "       width=\"24px\">\n",
              "    <path d=\"M0 0h24v24H0V0z\" fill=\"none\"/>\n",
              "    <path d=\"M18.56 5.44l.94 2.06.94-2.06 2.06-.94-2.06-.94-.94-2.06-.94 2.06-2.06.94zm-11 1L8.5 8.5l.94-2.06 2.06-.94-2.06-.94L8.5 2.5l-.94 2.06-2.06.94zm10 10l.94 2.06.94-2.06 2.06-.94-2.06-.94-.94-2.06-.94 2.06-2.06.94z\"/><path d=\"M17.41 7.96l-1.37-1.37c-.4-.4-.92-.59-1.43-.59-.52 0-1.04.2-1.43.59L10.3 9.45l-7.72 7.72c-.78.78-.78 2.05 0 2.83L4 21.41c.39.39.9.59 1.41.59.51 0 1.02-.2 1.41-.59l7.78-7.78 2.81-2.81c.8-.78.8-2.07 0-2.86zM5.41 20L4 18.59l7.72-7.72 1.47 1.35L5.41 20z\"/>\n",
              "  </svg>\n",
              "      </button>\n",
              "      \n",
              "  <style>\n",
              "    .colab-df-container {\n",
              "      display:flex;\n",
              "      flex-wrap:wrap;\n",
              "      gap: 12px;\n",
              "    }\n",
              "\n",
              "    .colab-df-convert {\n",
              "      background-color: #E8F0FE;\n",
              "      border: none;\n",
              "      border-radius: 50%;\n",
              "      cursor: pointer;\n",
              "      display: none;\n",
              "      fill: #1967D2;\n",
              "      height: 32px;\n",
              "      padding: 0 0 0 0;\n",
              "      width: 32px;\n",
              "    }\n",
              "\n",
              "    .colab-df-convert:hover {\n",
              "      background-color: #E2EBFA;\n",
              "      box-shadow: 0px 1px 2px rgba(60, 64, 67, 0.3), 0px 1px 3px 1px rgba(60, 64, 67, 0.15);\n",
              "      fill: #174EA6;\n",
              "    }\n",
              "\n",
              "    [theme=dark] .colab-df-convert {\n",
              "      background-color: #3B4455;\n",
              "      fill: #D2E3FC;\n",
              "    }\n",
              "\n",
              "    [theme=dark] .colab-df-convert:hover {\n",
              "      background-color: #434B5C;\n",
              "      box-shadow: 0px 1px 3px 1px rgba(0, 0, 0, 0.15);\n",
              "      filter: drop-shadow(0px 1px 2px rgba(0, 0, 0, 0.3));\n",
              "      fill: #FFFFFF;\n",
              "    }\n",
              "  </style>\n",
              "\n",
              "      <script>\n",
              "        const buttonEl =\n",
              "          document.querySelector('#df-d9789dd2-094b-40e1-ada5-87542c5072c1 button.colab-df-convert');\n",
              "        buttonEl.style.display =\n",
              "          google.colab.kernel.accessAllowed ? 'block' : 'none';\n",
              "\n",
              "        async function convertToInteractive(key) {\n",
              "          const element = document.querySelector('#df-d9789dd2-094b-40e1-ada5-87542c5072c1');\n",
              "          const dataTable =\n",
              "            await google.colab.kernel.invokeFunction('convertToInteractive',\n",
              "                                                     [key], {});\n",
              "          if (!dataTable) return;\n",
              "\n",
              "          const docLinkHtml = 'Like what you see? Visit the ' +\n",
              "            '<a target=\"_blank\" href=https://colab.research.google.com/notebooks/data_table.ipynb>data table notebook</a>'\n",
              "            + ' to learn more about interactive tables.';\n",
              "          element.innerHTML = '';\n",
              "          dataTable['output_type'] = 'display_data';\n",
              "          await google.colab.output.renderOutput(dataTable, element);\n",
              "          const docLink = document.createElement('div');\n",
              "          docLink.innerHTML = docLinkHtml;\n",
              "          element.appendChild(docLink);\n",
              "        }\n",
              "      </script>\n",
              "    </div>\n",
              "  </div>\n",
              "  "
            ]
          },
          "metadata": {},
          "execution_count": 12
        }
      ],
      "source": [
        "results_df.sort_values(by='diversity', ascending=False)[\n",
        "    ['coherence','diversity','num_topics', 'embedding_model']\n",
        "]"
      ]
    },
    {
      "cell_type": "code",
      "execution_count": 17,
      "metadata": {
        "id": "ajiQpog4Mh6q"
      },
      "outputs": [],
      "source": [
        "ztm_model = results_df.iloc[27]['model']"
      ]
    },
    {
      "cell_type": "code",
      "execution_count": 18,
      "metadata": {
        "colab": {
          "base_uri": "https://localhost:8080/"
        },
        "id": "0TCK_GvsMh6q",
        "outputId": "b96f9396-491d-4aa7-cde3-f1873c186148"
      },
      "outputs": [
        {
          "output_type": "execute_result",
          "data": {
            "text/plain": [
              "[['datum', 'observe', 'pubme', 'issue', 'english_language'],\n",
              " ['literature', 'scopus_index', 'conduct', 'obtain', 'abstract'],\n",
              " ['scopus', 'large', 'database', 'journal', 'wos']]"
            ]
          },
          "metadata": {},
          "execution_count": 18
        }
      ],
      "source": [
        "ztm_model.get_topic_lists(5)"
      ]
    },
    {
      "cell_type": "markdown",
      "metadata": {
        "id": "Tw-9cscsMh6q"
      },
      "source": [
        "## Visualize topics"
      ]
    },
    {
      "cell_type": "code",
      "execution_count": 15,
      "metadata": {
        "colab": {
          "base_uri": "https://localhost:8080/",
          "height": 970
        },
        "id": "m5vnhSQJMh6r",
        "outputId": "fb40871a-e3d9-424a-a4d4-39b5d9bc4773"
      },
      "outputs": [
        {
          "output_type": "stream",
          "name": "stderr",
          "text": [
            "/usr/local/lib/python3.7/dist-packages/past/types/oldstr.py:5: DeprecationWarning: Using or importing the ABCs from 'collections' instead of from 'collections.abc' is deprecated since Python 3.3,and in 3.9 it will stop working\n",
            "  from collections import Iterable\n",
            "Sampling: [1/1]: : 1it [00:00,  2.37it/s]\n",
            "/usr/local/lib/python3.7/dist-packages/pyLDAvis/_prepare.py:247: FutureWarning: In a future version of pandas all arguments of DataFrame.drop except for the argument 'labels' will be keyword-only\n",
            "  by='saliency', ascending=False).head(R).drop('saliency', 1)\n"
          ]
        },
        {
          "output_type": "execute_result",
          "data": {
            "text/plain": [
              "<IPython.core.display.HTML object>"
            ],
            "text/html": [
              "\n",
              "<link rel=\"stylesheet\" type=\"text/css\" href=\"https://cdn.jsdelivr.net/gh/bmabey/pyLDAvis@3.3.1/pyLDAvis/js/ldavis.v1.0.0.css\">\n",
              "\n",
              "\n",
              "<div id=\"ldavis_el567141401255816302885714025946\"></div>\n",
              "<script type=\"text/javascript\">\n",
              "\n",
              "var ldavis_el567141401255816302885714025946_data = {\"mdsDat\": {\"x\": [-5.3317649183813766e-05, 0.0001848877436418233, -8.117658618145319e-05, -1.5907765333468643e-05, 0.0005096249385795258, 0.0005776233890214454, 0.00010520194403456176, 0.00013068627120396497, 0.0002124594664224354, 0.00053434569087574, 0.00029809879982148325, 0.00033581105231936795, 0.00012885946088863538, -0.0024044330289577994, -0.0004627637271524505], \"y\": [0.0002415422173195264, -0.0001627412450230104, -0.0008299767932709205, 0.00031435309231142783, 0.00011615122451786287, 0.00046355366844741104, -0.0003236232821605658, 0.00022678658199080636, 0.00029997594017001374, 0.00019392744561527034, -0.00026146646983870805, 0.00026159720252514734, 0.0003579036969777506, 0.0005051769519394546, -0.001403160231521466], \"topics\": [1, 2, 3, 4, 5, 6, 7, 8, 9, 10, 11, 12, 13, 14, 15], \"cluster\": [1, 1, 1, 1, 1, 1, 1, 1, 1, 1, 1, 1, 1, 1, 1], \"Freq\": [8.55639357780628, 7.630392016937079, 7.543053459267051, 7.163164365539297, 7.120296794715802, 6.746952481279685, 6.658757547194785, 6.485432472986613, 6.400320644623026, 6.188223871618368, 6.147363341723993, 6.0555967836843045, 5.945478161666818, 5.8351598728701815, 5.523414608086717]}, \"tinfo\": {\"Term\": [\"art\", \"english\", \"country\", \"humanity\", \"wos\", \"scopus\", \"journal\", \"social_science\", \"find\", \"overrepresent\", \"show\", \"natural_science\", \"biomedical_research\", \"gavel\", \"compare\", \"netherland\", \"engineering\", \"natural\", \"fig\", \"index\", \"language\", \"cent\", \"periodical\", \"scopus_journal\", \"scopus_database\", \"overlap\", \"underrepresented\", \"general\", \"decision\", \"comparable\", \"evaluate\", \"microsoft\", \"require\", \"bibliometric_database\", \"research_evaluation\", \"development\", \"unit_of_analysis\", \"bibliometric_analyse\", \"bibliometric_indicator_takes\", \"thelwall\", \"alakangas\", \"evaluation\", \"examine\", \"google_scholar\", \"datum\", \"matter\", \"bibliometric_research\", \"citation\", \"library\", \"measure\", \"bibliometric\", \"information\", \"rely\", \"clarivate_analytic\", \"quantitative\", \"bibliometric_analysis\", \"metric\", \"emergence\", \"raan\", \"document\", \"give\", \"analyze\", \"access\", \"value\", \"allow\", \"paulhu\", \"author\", \"purpose\", \"scopus_database\", \"select\", \"review\", \"search\", \"relevant\", \"include\", \"well\", \"paulhu\", \"management\", \"type\", \"domain\", \"superior\", \"article\", \"scopus_index\", \"consider\", \"broad\", \"book\", \"wide\", \"business\", \"generate\", \"choose\", \"early\", \"criterion\", \"conduct\", \"literature\", \"research\", \"focus\", \"trend\", \"field\", \"literature_reviews\", \"follow\", \"publish\", \"web_of_science\", \"study\", \"alakangas\", \"quality\", \"review\", \"keyword\", \"appropriate\", \"search\", \"combination\", \"exist\", \"identify\", \"synthesise\", \"carry\", \"renewable\", \"december\", \"literature\", \"systematic_literature_review\", \"scientific\", \"paper\", \"abstract\", \"expert\", \"solid\", \"academic_institution\", \"consist\", \"engineer\", \"management\", \"stakeholder\", \"ensure\", \"industry\", \"range\", \"perform\", \"boolean_searche\", \"boundary\", \"circular_economy\", \"peerreviewed_journal\", \"step\", \"relevant\", \"retrieve\", \"impact\", \"order\", \"sustainability\", \"conduct\", \"research\", \"limitation\", \"datum\", \"researcher\", \"second\", \"note\", \"extent\", \"harze\", \"reflect\", \"come\", \"book\", \"ssci\", \"require\", \"individual\", \"issue\", \"biased\", \"region\", \"van\", \"recommend\", \"address\", \"teaching\", \"gender\", \"bias\", \"document_type\", \"clarivate_analytic\", \"esci\", \"constraint\", \"vary\", \"real\", \"funding\", \"publication\", \"analysis\", \"source\", \"information\", \"bibliometric_analyse\", \"author\", \"englishlanguage\", \"account\", \"citation\", \"bibliometric\", \"different\", \"research\", \"example\", \"journal\", \"compare\", \"humanity\", \"art\", \"social_science\", \"biomedical_research\", \"cover\", \"wos\", \"engineering\", \"find\", \"number\", \"include\", \"quality\", \"field\", \"broad\", \"article\", \"high\", \"great\", \"index\", \"engineer\", \"show\", \"natural_science\", \"pubme\", \"wos_database\", \"tend\", \"pubmed\", \"criterion\", \"cite\", \"subject\", \"natural\", \"scopus\", \"document\", \"study\", \"paulhu\", \"coverage\", \"discipline\", \"year\", \"database\", \"humanity\", \"natural_science\", \"social_science\", \"art\", \"underrepresented\", \"wos\", \"index\", \"country\", \"certain\", \"english\", \"likely\", \"representation\", \"language\", \"author\", \"instance\", \"journal\", \"singhal\", \"biomedical_research\", \"overrepresente\", \"netherland\", \"united_kingdom\", \"discipline\", \"grow\", \"publish\", \"scopus_journal_coverage\", \"gavel\", \"overrepresent\", \"usa\", \"engineering\", \"bias\", \"coverage\", \"publication\", \"scopus\", \"researcher\", \"difference\", \"limitation\", \"include\", \"compare\", \"choose\", \"scopus_database\", \"select\", \"systemic_sclerosis\", \"search\", \"ssc\", \"medicine\", \"wide\", \"field\", \"database\", \"table\", \"medline\", \"data_bia\", \"localisedlocalized_scleroderma\", \"technology\", \"general\", \"large\", \"category\", \"carry\", \"string\", \"identi\", \"subject\", \"scleroderma\", \"avoid\", \"web_of_science\", \"have\", \"word\", \"display\", \"narrow\", \"domain\", \"scopus\", \"identification\", \"well\", \"present\", \"reliable\", \"engine\", \"strategy\", \"overlap\", \"title\", \"database\", \"bibliometric_analyse\", \"choose\", \"bibliometric_analysis\", \"multidisciplinary\", \"tool\", \"source\", \"wos_database\", \"accurate\", \"indexed_journal\", \"recommend\", \"contain\", \"collection\", \"gather\", \"reference\", \"reuter\", \"depend\", \"exclusive\", \"subset\", \"specific\", \"citation\", \"ssci\", \"science\", \"scientific_production\", \"choice\", \"consistent\", \"obtain\", \"issue\", \"document\", \"datum\", \"hand\", \"reliable\", \"google_scholar\", \"author\", \"different\", \"wos\", \"scopus\", \"good\", \"english\", \"researcher\", \"language\", \"country\", \"biased\", \"publication\", \"publish\", \"portuguese\", \"write\", \"englishlanguage\", \"scholarly_journal\", \"discipline\", \"instance\", \"favor\", \"archambaultal\", \"teaching\", \"tend\", \"developing_countrie\", \"come\", \"overrepresente\", \"underrepresented\", \"observe\", \"netherland\", \"likely\", \"influence\", \"inequality\", \"limit\", \"english_language\", \"migration\", \"mean\", \"bias\", \"paulhu\", \"limitation\", \"produce\", \"author\", \"index\", \"datum\", \"fact\", \"wos\", \"show\", \"journal\", \"engineering\", \"biomedical_research\", \"number\", \"art\", \"natural_science\", \"compare\", \"humanity\", \"high\", \"social_science\", \"great\", \"overlap\", \"find\", \"cover\", \"comparison\", \"report\", \"natural\", \"similar\", \"scopus_cover\", \"proportion\", \"field\", \"paper\", \"citation\", \"exclusive\", \"scopus\", \"list\", \"engineer\", \"database\", \"index\", \"title\", \"coverage\", \"result\", \"quality\", \"study\", \"search\", \"scopus_database\", \"select\", \"choose\", \"table\", \"scopus\", \"technology\", \"web_of_science\", \"string\", \"extensive\", \"database\", \"word\", \"field\", \"wide\", \"google_scholar\", \"main\", \"december\", \"focus\", \"citation_database\", \"well\", \"conduct\", \"relevant\", \"electronic_database\", \"regard\", \"comprehensiveness\", \"return\", \"comparison\", \"perform\", \"question\", \"abstract\", \"data_quality\", \"compare\", \"large\", \"include\", \"management\", \"keyword\", \"number\", \"show\", \"scopus\", \"citation\", \"compare\", \"great\", \"journal\", \"correlation\", \"scopus_data\", \"receive\", \"citation_analysis\", \"comparison\", \"low\", \"comparative_analysis\", \"find\", \"high\", \"onward\", \"overlap\", \"number\", \"classification\", \"gavel\", \"system\", \"wos\", \"coverage\", \"comparative_study\", \"variation\", \"country\", \"respect\", \"biomedical_research\", \"note\", \"google_scholar\", \"index\", \"data_quality\", \"conclude\", \"art\", \"social_science\", \"humanity\", \"web_of_science\", \"english\", \"country\", \"language\", \"overrepresente\", \"englishlanguage\", \"english_language\", \"weak\", \"influence\", \"fact\", \"researcher\", \"publication\", \"contrast\", \"ecology\", \"underrepresented\", \"bias\", \"publish\", \"netherland\", \"observe\", \"limit\", \"united_kingdom\", \"mean\", \"favor\", \"motivation\", \"produce\", \"nonenglish_language\", \"western_europe\", \"usa\", \"packer\", \"biorxiv\", \"underestimate\", \"probability\", \"archambaultal\", \"accept\", \"detriment\", \"overrepresentation\", \"limitation\", \"period\", \"discipline\", \"author\", \"paulhu\", \"despite\", \"second\", \"analysis\", \"huangal\", \"costaal\", \"life_science\", \"compelling_reputation\", \"field_of_study\", \"funding\", \"compelling_reason\", \"scopus_result\", \"keep\", \"cent\", \"wos_journal_coverage\", \"helpful\", \"pritchard\", \"brockeal\", \"vosviewer\", \"part\", \"crosschecke\", \"award\", \"researched_article\", \"periodical\", \"minor\", \"india\", \"starting\", \"capacity\", \"datasource\", \"centre\", \"data_source\", \"scientific_evaluation\", \"birkleal\", \"sciexpande\", \"bosmanal\", \"field_coverage\", \"scopus_dbs\", \"whilst\", \"pose\", \"bibliometric_record\", \"lead\", \"indexed_article\", \"rensleigh\", \"emergent\", \"develop\", \"leverage\", \"display\", \"accommodate\", \"cost\", \"synthesise\", \"mobility\", \"order\", \"singular\", \"evolution\", \"scientific_studie\", \"objective\", \"case_studie\", \"add\", \"complement\", \"data_bia\", \"identi\", \"preference\", \"allude\", \"notwithstanding\", \"sustainability\", \"teaching\", \"stakeholder\", \"industrial\", \"literature_review\", \"refer\", \"purpose\", \"appropriate\", \"worth\", \"risk\", \"ndou\", \"call\", \"centobelli\", \"reputable\", \"crowdsourced\", \"follow\", \"requirement\", \"propose\", \"erosion\", \"agriculture\", \"web_of_science_database\", \"keyword\"], \"Freq\": [11.0, 10.0, 10.0, 11.0, 11.0, 11.0, 11.0, 11.0, 11.0, 10.0, 10.0, 10.0, 10.0, 10.0, 11.0, 10.0, 10.0, 10.0, 10.0, 11.0, 11.0, 10.0, 10.0, 10.0, 11.0, 10.0, 10.0, 10.0, 10.0, 10.0, 1.100900833523518, 1.0942390339773036, 1.0762079282807229, 1.0698638676446708, 1.0708147745546417, 1.063861568052146, 1.0597775282016362, 1.080931880806948, 1.0520800975289288, 1.061587318772226, 1.1003208837883949, 1.069753827795295, 1.0623864242778944, 1.1058949426572784, 1.10986275233943, 1.0267495894309344, 1.0460492485548278, 1.1070731359060104, 1.0466045294068416, 1.0575212031289192, 1.075181628829114, 1.0755149821259635, 1.0310783778633053, 1.0486012306535752, 1.0384049437539855, 1.0698699655708326, 1.0451049939279426, 0.9666737448122831, 1.0387683247175412, 1.0717526540769033, 1.048594763156131, 1.0503947600877337, 1.0560043901925615, 1.0538690073220554, 1.0460851893620546, 1.0667164138169336, 1.0582086981072611, 1.0492304257620968, 1.04040174779333, 1.0174689277174467, 1.0012776474983849, 1.0130128259822384, 0.9860344722784364, 0.9960204312323364, 0.9767334526534343, 1.0039113640445443, 0.9589064915060336, 0.9575777273345989, 0.9233258996578482, 0.9276679684288804, 0.9584790326778942, 0.9278232806669381, 0.973542754288034, 0.9496244224458873, 0.945301716208512, 0.9401156057575529, 0.9315336364781893, 0.9236002708794565, 0.9329855793211869, 0.9066233661564801, 0.925793839958399, 0.939729343809535, 0.9463381473186054, 0.9426636327930599, 0.921720704420799, 0.9238579161677355, 0.9398059700065607, 0.9057107728680315, 0.9296513510254438, 0.9293583588140206, 0.9283281896297055, 0.9278139701720306, 0.9261837272318677, 0.9239038094921908, 1.0377303996548215, 1.014976014824502, 0.9655917408590439, 1.008689244900216, 0.9422910663884809, 0.9549085895985753, 0.9757009907023133, 0.8988189707183422, 0.9511666643917136, 0.910937771479173, 0.9198039212047453, 0.9710947109908649, 0.9378426380744966, 0.9427251984568419, 0.9561350737796972, 0.9593955440792264, 0.9077822910926113, 0.9041676732821564, 0.8930898120773582, 0.9050149231461511, 0.9421903933609961, 0.9405964852098222, 0.9019023672624086, 0.9396110950103792, 0.917673090240319, 0.9282817955888772, 0.9396527977531561, 0.9156566974665207, 0.8952533047602483, 0.9114751015457729, 0.9239452804947669, 0.9291830472467412, 0.9358488071361459, 0.9235038993168216, 0.9280078769873954, 0.92583412152015, 0.919794310025746, 0.9200947815454802, 0.9161143687783632, 0.925723755945949, 0.9380148332995364, 0.9318506922873628, 0.8962896016710251, 0.8735280006762659, 0.8741884029193981, 0.8842403933516699, 0.8731864293122846, 0.8659303582853186, 0.8790816292844756, 0.8596202604878569, 0.8597461839888899, 0.8568101089423852, 0.8631567152733159, 0.8587406523467349, 0.8467100850370535, 0.8590867872773997, 0.8525480470542296, 0.8520847290129597, 0.8270139632762855, 0.8425375928136375, 0.8776734208939315, 0.8437880100849512, 0.854469463325212, 0.8502339320026917, 0.8386044171210545, 0.8504573920730136, 0.8490052496845661, 0.8261823886082234, 0.8874325695725727, 0.8782026399320565, 0.8841823045621885, 0.8689316381913876, 0.8615739311199762, 0.8824242485087623, 0.8625531642422594, 0.8600729817725902, 0.8761657422194019, 0.8600491584075299, 0.8636298565852438, 0.8608171525363728, 0.8613230123009645, 0.959297258827411, 0.9581735743305985, 0.9510924783010436, 0.9400664539206877, 0.9454975828409986, 0.8977867002747595, 0.906004166941529, 0.9363108950475225, 0.8944277178391284, 0.9120569936272335, 0.9368789265947309, 0.9264789824646347, 0.907083565275484, 0.9082071728865971, 0.8985301849880115, 0.9031362534680012, 0.9040488867199455, 0.9014586843926709, 0.9240391685653973, 0.8810213122051755, 0.8818542918725357, 0.8725167543368257, 0.8664152590033974, 0.8798927839093005, 0.8563366970968165, 0.8567521105307049, 0.863594784006403, 0.8788846586186945, 0.8501581622925838, 0.8581512764884877, 0.9113136626853803, 0.8852504869866791, 0.8949084841175116, 0.9015261900367489, 0.8958080468005568, 0.8796095369926903, 0.8787305027913862, 0.8806365761653501, 0.9361008979599414, 0.9042310078039713, 0.933479017807756, 0.9197345462096999, 0.8956865839368917, 0.9224756159786736, 0.9240120400791914, 0.8925520281530811, 0.8710986256740869, 0.8786515026680075, 0.8531648138962176, 0.8372537285978768, 0.8834293597942849, 0.897280635780001, 0.8499009417494491, 0.8942594412698593, 0.8463724628250675, 0.8488229168352586, 0.8454893959882152, 0.8361150889152463, 0.8444676145851252, 0.8722786465928639, 0.8417520438172982, 0.8682587654892423, 0.8422775418037858, 0.8359567765452702, 0.8290124514272862, 0.8343794083343398, 0.8393094580703181, 0.8563561960254408, 0.8734215118242559, 0.8628183714588865, 0.8683075050085769, 0.8585137029396015, 0.8478529348316407, 0.8471351015222186, 0.8493018609310812, 0.8434494758964849, 0.8889530123168421, 0.89014198297846, 0.8719674706298965, 0.813446976030464, 0.8756177888779021, 0.8213200239583294, 0.8337008928017411, 0.8473834745659276, 0.8543501264995768, 0.8602283986010472, 0.8265966205338915, 0.8108481519137781, 0.7902743433625339, 0.807324165393667, 0.810144231813558, 0.7862689732805256, 0.836027999445625, 0.8027162569623385, 0.8150170989342952, 0.8047305901194035, 0.7908447415397603, 0.79980149567299, 0.8001794842293594, 0.7993756204172592, 0.8371218438260793, 0.7918933595930401, 0.7873070936489605, 0.7697577687642799, 0.7934907333362975, 0.7883958329908943, 0.84337019526931, 0.8039366487765404, 0.8161558101321691, 0.8092863696362622, 0.812360465649011, 0.806769945155414, 0.8028510012184992, 0.7997290185063891, 0.8013762203016845, 0.8638196989864302, 0.8269328128356352, 0.8194270279209526, 0.8276408898961821, 0.8063030566565147, 0.8048245755070471, 0.8307431652107076, 0.8070847356348377, 0.7804608700853887, 0.7899099977386903, 0.7850374947576131, 0.8051796294776705, 0.7922830468212433, 0.7897220362284038, 0.7825946954275769, 0.761546227672449, 0.7592853672409687, 0.7819937648315376, 0.7683184444722836, 0.792433051871554, 0.8149024358128648, 0.7758689787927312, 0.7898941708753056, 0.7807381203160983, 0.7774859099816311, 0.7694003436423349, 0.7797481009901215, 0.7795711342477615, 0.7982823384388746, 0.8101442924242981, 0.7841598741738159, 0.7905769669726582, 0.7959641231352169, 0.7981160163125964, 0.7846423133855761, 0.786836714996914, 0.7881635103672158, 0.78147077803615, 0.9052044158702294, 0.8857616730241981, 0.8682861839775528, 0.8562205910457271, 0.8096714198957294, 0.8425692388155733, 0.8266981691243732, 0.7766588761802776, 0.7872982878577863, 0.8094313271608246, 0.7834820988434004, 0.817188796683603, 0.7833487831019981, 0.7824259396105805, 0.7946776493343171, 0.7616048405455098, 0.7817729758341322, 0.7830925874289144, 0.787963415227022, 0.7808992704931226, 0.7944515170865886, 0.78449817350908, 0.7707596027897351, 0.7738459762368801, 0.778405457526425, 0.777027032196063, 0.794989548733461, 0.7867064876018881, 0.7599134100348414, 0.774211022243146, 0.7984409681868717, 0.8170889999336886, 0.7955026311928546, 0.7798230689767326, 0.7981223649894303, 0.7949876827277492, 0.7901264614034907, 0.7810757808111845, 0.8554807499928496, 0.81805272630194, 0.8415839032020159, 0.806522147589622, 0.7985756511355032, 0.844247124159243, 0.8238274040198134, 0.8057329238158913, 0.8318310993182564, 0.8229444302710981, 0.8092730378035703, 0.8197969569484298, 0.8040074030717506, 0.7868929208244396, 0.7971729430279634, 0.7898240274906572, 0.8009924359503615, 0.786918847403409, 0.7703454822604644, 0.7660301769258167, 0.755543744406735, 0.7651247512942825, 0.7871793159725397, 0.7814669155010566, 0.7998783280865556, 0.7637982860388148, 0.8092552633963387, 0.7740216439666529, 0.7708477763174565, 0.790927844908171, 0.7988700648131815, 0.7769162663232898, 0.7917663826388074, 0.7712011261875342, 0.7720223572584977, 0.7724874987951109, 0.8882536481482697, 0.8415022438345361, 0.82183920063878, 0.7898020215497904, 0.7824598112167966, 0.8300724942607475, 0.7754577976847559, 0.8112584495204426, 0.769630176699536, 0.7675064193435, 0.8052408493655979, 0.7576616217729019, 0.7902680081922663, 0.7787293956421728, 0.7924652480573082, 0.7639963185361662, 0.7402078331974994, 0.7620748870043846, 0.7602437320870997, 0.7731484422300926, 0.7681690895218243, 0.7727592570898025, 0.7459415266757244, 0.7495723724549476, 0.7382230752758429, 0.7442234166661513, 0.7711193425595508, 0.7601847203883588, 0.7478180854197121, 0.7663299690209073, 0.7544232137472852, 0.76798999664983, 0.7575767219273567, 0.7634115119378454, 0.7518142859681927, 0.7550076220664245, 0.7631621891701617, 0.8047046447261333, 0.8379786664878689, 0.8110202373156068, 0.8056291138262004, 0.7846735218532844, 0.7994828132511614, 0.7613593501350425, 0.7439349581063139, 0.7568560779287533, 0.7547190359759741, 0.7732425510138291, 0.7570528333059001, 0.7333053289574315, 0.7661009650963002, 0.7667017588501138, 0.7358420282266351, 0.7492189744811418, 0.7809262767890928, 0.7350186504569334, 0.7354624453205743, 0.7378152708375224, 0.7704740478855409, 0.7749429908884395, 0.7307851077058554, 0.719499627299817, 0.7462500541940118, 0.7204629374414344, 0.7256359233641536, 0.7286389112988387, 0.7569994759154874, 0.7617388676521446, 0.7333763413667308, 0.733069013260187, 0.74159991838617, 0.7368101117622479, 0.7341744136093619, 0.7334207404697826, 0.8485324049530271, 0.8066195089879336, 0.8118085290220527, 0.7666654799626991, 0.7817884694494623, 0.7700538857774216, 0.7476498587518774, 0.751054378738136, 0.7632670589656673, 0.7781648994501335, 0.7780382972737635, 0.7509569233102812, 0.7386625808269981, 0.7505326904596458, 0.7591137757020235, 0.7555148584591481, 0.7219489749498983, 0.7324687683677436, 0.7452231030384968, 0.7298887675250549, 0.7265967899400015, 0.7243603868903822, 0.7099116888125511, 0.730514459619833, 0.7081418905387213, 0.7063379379252218, 0.7261406497457272, 0.7149271765531975, 0.7042672989827968, 0.7209461727212474, 0.7070078637418654, 0.7293372904991835, 0.7235315021545236, 0.7333221774602824, 0.7217854578387348, 0.7376984269300787, 0.7253238987884355, 0.7321733204896224, 0.7349948413056903, 0.7355422095388194, 0.7267138905331552, 0.7270646787135232, 0.7273240462553766, 0.7605577930296491, 0.750883821681124, 0.7483456438974889, 0.7440243840916834, 0.7310384886351918, 0.7247047322822248, 0.7501749112662175, 0.7300209618117695, 0.7250417655956489, 0.7302632931117188, 0.7294315158130626, 0.713908198676836, 0.7141094483315521, 0.7189665967764812, 0.7261492057745128, 0.7271422852385019, 0.7277496887048336, 0.7105270280533613, 0.7289350075853972, 0.7225908548038052, 0.7229348190696461, 0.7200562685136951, 0.7280276829053995, 0.7163962215684379, 0.6781836755924113, 0.7083947520467085, 0.7192374709986555, 0.7292836975006131, 0.7168264446875368, 0.7232431204348703, 0.724388554834709, 0.7261253254930045, 0.7237433461733773, 0.7231227738974539, 0.7240166777332265, 0.7247600538842414, 0.72591834205038, 0.721923782138032, 0.7233827476217366, 0.7221578593037397, 0.6960264594887575, 0.6836927688575953, 0.6721623420804159, 0.6772991034917696, 0.6793834861149495, 0.6520485984768177, 0.6672321223030347, 0.6978386341946834, 0.6546671384415679, 0.6713237102827585, 0.6643468615219043, 0.669969708499783, 0.6572682628252843, 0.6723848082354023, 0.678432666961386, 0.653466715840654, 0.6604826900164333, 0.6623298151692284, 0.6742594285349663, 0.6746826510110474, 0.6845086172581469, 0.654226500384453, 0.6567360736829404, 0.6679002364768033, 0.6743395282792415, 0.6697959701862508, 0.6875930836579515, 0.6636690256368053, 0.645716841923023, 0.6522812038399401, 0.664609586297431, 0.6696104823197608, 0.6679821254931025, 0.6776916697738392, 0.6646134034110822, 0.6738728264929768, 0.6665254791383491, 0.6670437716013065, 0.6649338620305839, 0.6652652352094321, 0.6657294916572641, 0.6647823106901496], \"Total\": [11.0, 10.0, 10.0, 11.0, 11.0, 11.0, 11.0, 11.0, 11.0, 10.0, 10.0, 10.0, 10.0, 10.0, 11.0, 10.0, 10.0, 10.0, 10.0, 11.0, 11.0, 10.0, 10.0, 10.0, 11.0, 10.0, 10.0, 10.0, 10.0, 10.0, 10.686105562827098, 10.75776852950012, 10.764073833600035, 10.756937145957533, 10.77838305128075, 10.736827518149639, 10.698221581284896, 10.926956696960232, 10.637047709913267, 10.735288551844198, 11.133083653291445, 10.835175958116503, 10.766956684239153, 11.21175001842252, 11.257040801046685, 10.435851316347446, 10.645100110896177, 11.269299919697032, 10.671038496077752, 10.79294158362682, 10.980476075653636, 11.02603786748296, 10.586948484814894, 10.782249943746924, 10.68702783452601, 11.02183595819557, 10.8003356691086, 9.990739156390916, 10.743844638341393, 11.089827786697494, 10.859730925111766, 10.887709668415942, 10.993668242484997, 11.010587609187366, 10.867576853114523, 11.377658615528011, 11.263261805366476, 10.970122321985365, 11.005014367950636, 10.908889567265362, 11.025972664725327, 11.216712879115093, 11.08046349426648, 11.21804726892917, 11.031078179754978, 11.377658615528011, 10.888629274209473, 10.973924105695112, 10.602419558467579, 10.687824832082843, 11.048902196505317, 10.713633681599553, 11.262118140998561, 10.986757992090137, 10.962932799574311, 10.915353254584671, 10.81937305883876, 10.732980546190875, 10.843170975170807, 10.564275044179443, 10.797202189851491, 11.007637174432988, 11.095945520199407, 11.057592936930645, 10.838791175688845, 10.874076916527718, 11.065476848869519, 10.699308371933128, 11.007507080603233, 11.058159980552777, 11.184672632008537, 11.235561032846777, 11.133083653291445, 11.023958104576865, 11.025972664725327, 11.008140546944528, 10.595713851157102, 11.216712879115093, 10.602097848446249, 10.76005184361455, 11.003300367823542, 10.177486184860555, 10.788227714699843, 10.381059978117587, 10.507763954610192, 11.095945520199407, 10.72830479025296, 10.792143037568954, 10.986151366709576, 11.046982396190959, 10.464631159260778, 10.426089643377018, 10.317725630854566, 10.458382940147374, 10.895354401409424, 10.888629274209473, 10.458862324664858, 10.90460957720593, 10.656280095711171, 10.788447355227959, 10.945653637546599, 10.67320465440674, 10.43880730765827, 10.630262852035619, 10.811053223928802, 10.957853929778953, 11.08046349426648, 10.893357085300876, 11.021118915989886, 10.970176100424489, 10.876955955628741, 11.007637174432988, 11.057592936930645, 11.072075556299332, 11.257040801046685, 11.221767270577732, 10.988867179832065, 10.767634936385551, 10.808015746561743, 10.989984780133787, 10.85991730476485, 10.78071596773574, 10.962932799574311, 10.738761558489767, 10.764073833600035, 10.729741490689346, 10.820642656961606, 10.778542616827316, 10.629457069666744, 10.795754292840924, 10.720792699588296, 10.717738865488382, 10.406059446695654, 10.618743579790664, 11.064106270337822, 10.639586152495244, 10.782249943746924, 10.73748229069768, 10.592278548817806, 10.742968087621605, 10.747500841600958, 10.46263906616511, 11.247170586327307, 11.140383890298134, 11.232478037586962, 11.02603786748296, 10.926956696960232, 11.263261805366476, 10.950129680220684, 10.916256757187842, 11.269299919697032, 10.980476075653636, 11.10568435050464, 11.057592936930645, 11.130683791114112, 11.262950262611827, 11.25046937408585, 11.171122310932883, 11.091393700508112, 11.228860484256343, 10.713922934317717, 10.935022578981792, 11.3049292502726, 10.803480707611458, 11.025176259841508, 11.334779773216043, 11.21804726892917, 11.023958104576865, 11.065476848869519, 10.986757992090137, 11.048902196505317, 11.061601249652238, 11.04259151041572, 11.371100396620605, 10.895354401409424, 10.918747180510875, 10.847814185692394, 10.77734569483933, 10.945295174109443, 10.684807428992103, 10.70925180770423, 10.797202189851491, 10.992254360767847, 10.638374729217016, 10.744300052546425, 11.419386983162244, 11.089827786697494, 11.235561032846777, 11.377658615528011, 11.374541117742185, 11.09745792378605, 11.092083971527657, 11.182306902772895, 11.171122310932883, 10.847814185692394, 11.228860484256343, 11.091393700508112, 10.888312263970983, 11.3049292502726, 11.371100396620605, 10.990294472313854, 10.772043834141892, 10.93705083784316, 10.628512879364804, 10.49290771381, 11.087671782133905, 11.263261805366476, 10.673128801422578, 11.262950262611827, 10.668905838950304, 10.713922934317717, 10.684613866874878, 10.568587085069714, 10.728093856057939, 11.09745792378605, 10.71106358952638, 11.058159980552777, 10.73277458792984, 10.693241716031043, 10.61354955921256, 10.739597891152242, 10.803480707611458, 11.064106270337822, 11.374541117742185, 11.247170586327307, 11.419386983162244, 11.221767270577732, 11.03857240070211, 11.072075556299332, 11.21804726892917, 11.25046937408585, 10.843170975170807, 11.005014367950636, 10.908889567265362, 10.378072400036542, 11.216712879115093, 10.543329578625425, 10.707759398524711, 10.915353254584671, 11.065476848869519, 11.182306902772895, 10.751794489429987, 10.607422833731391, 10.3701867677183, 10.610446127616276, 10.672718186717383, 10.360255772318798, 11.044155188489706, 10.612628405104534, 10.788227714699843, 10.65389860626257, 10.486121983175948, 10.638374729217016, 10.6758650336387, 10.671621319619657, 11.184672632008537, 10.588363778396827, 10.54278071399675, 10.325839607168653, 10.651599758482387, 10.602419558467579, 11.419386983162244, 10.832710808477719, 11.031078179754978, 10.962686268583788, 11.074321672665132, 10.96950441484308, 10.963385542001388, 10.869484490576578, 11.00357697494005, 11.182306902772895, 10.926956696960232, 10.843170975170807, 11.02183595819557, 10.783219262305407, 10.876894553906354, 11.232478037586962, 10.945295174109443, 10.600607193902082, 10.769070618123692, 10.720792699588296, 11.00645984148896, 10.855322786228633, 10.825325040859173, 10.749361695903536, 10.48463781710384, 10.458731696298997, 10.773294424145089, 10.62191464341658, 10.956741554115561, 11.269299919697032, 10.738761558489767, 10.937220599811013, 10.812612350615208, 10.76955731218915, 10.678087219484185, 10.822580823411723, 10.820642656961606, 11.089827786697494, 11.257040801046685, 10.925269841454973, 11.074321672665132, 11.21175001842252, 11.263261805366476, 11.10568435050464, 11.3049292502726, 11.419386983162244, 11.01041259044775, 10.93705083784316, 11.221767270577732, 11.087671782133905, 10.990294472313854, 10.778542616827316, 11.247170586327307, 11.058159980552777, 10.451491817974464, 10.631024494036094, 10.950129680220684, 10.61519953788596, 11.09745792378605, 10.673128801422578, 10.668906636999301, 10.843496584188305, 10.406059446695654, 10.684807428992103, 10.7091683731734, 10.78071596773574, 10.684613866874878, 10.888312263970983, 10.75296570896056, 10.568587085069714, 10.628512879364804, 10.706220211914685, 10.695878832499282, 10.953303713198931, 10.850090280961094, 10.49048490309694, 10.691002571451309, 11.064106270337822, 11.377658615528011, 11.072075556299332, 10.792247520804933, 11.263261805366476, 11.371100396620605, 11.257040801046685, 10.968320128337764, 11.3049292502726, 10.918747180510875, 11.262950262611827, 10.803480707611458, 10.713922934317717, 11.334779773216043, 11.091393700508112, 10.847814185692394, 11.25046937408585, 11.171122310932883, 11.061601249652238, 11.228860484256343, 11.04259151041572, 10.869484490576578, 11.025176259841508, 10.935022578981792, 11.100964684841266, 10.949587494897859, 10.744300052546425, 10.72625512021799, 10.599708775124652, 10.740390964004188, 11.065476848869519, 10.986151366709576, 11.269299919697032, 10.773294424145089, 11.419386983162244, 10.939078592360614, 10.895354401409424, 11.182306902772895, 11.371100396620605, 11.00357697494005, 11.374541117742185, 10.94151848896049, 11.023958104576865, 11.235561032846777, 11.216712879115093, 11.005014367950636, 10.908889567265362, 10.843170975170807, 10.751794489429987, 11.419386983162244, 10.672718186717383, 11.184672632008537, 10.65389860626257, 10.636160405847223, 11.182306902772895, 10.54278071399675, 11.065476848869519, 10.915353254584671, 11.21175001842252, 10.826618836044599, 10.507763954610192, 10.838791175688845, 10.834543937994379, 11.031078179754978, 11.007637174432988, 11.08046349426648, 10.696000996070161, 10.763754687837787, 10.611060867105644, 10.707720256142002, 11.100964684841266, 10.945653637546599, 10.77031947158802, 11.046982396190959, 10.881017072979278, 11.25046937408585, 11.044155188489706, 11.21804726892917, 10.888629274209473, 11.008140546944528, 11.334779773216043, 10.918747180510875, 11.419386983162244, 11.269299919697032, 11.25046937408585, 11.04259151041572, 11.262950262611827, 10.805850046206368, 10.622076698574475, 10.808038542479583, 10.778388140998887, 11.100964684841266, 10.877345899503919, 10.541150275788496, 11.025176259841508, 11.061601249652238, 10.618551393969838, 10.869484490576578, 11.334779773216043, 10.676214136774531, 10.693241716031043, 10.728347277530817, 11.3049292502726, 11.374541117742185, 10.74290517890881, 10.581407941846383, 10.990294472313854, 10.636811656707705, 10.713922934317717, 10.767634936385551, 11.21175001842252, 11.371100396620605, 10.881017072979278, 10.87529738046212, 11.091393700508112, 11.228860484256343, 11.171122310932883, 11.184672632008537, 10.93705083784316, 10.990294472313854, 11.087671782133905, 10.684613866874878, 10.950129680220684, 10.850090280961094, 10.625456086114093, 10.706220211914685, 10.968320128337764, 11.221767270577732, 11.247170586327307, 10.880979572811995, 10.715934289517195, 10.888312263970983, 11.064106270337822, 11.058159980552777, 10.568587085069714, 10.75296570896056, 10.953303713198931, 10.728093856057939, 10.691002571451309, 10.668906636999301, 10.463093681837826, 10.792247520804933, 10.465399101794493, 10.44084601257288, 10.739597891152242, 10.594288275571774, 10.443887695699141, 10.692658572656022, 10.486735748885442, 10.843496584188305, 10.752152161837278, 10.945462182709425, 10.736003211951294, 11.072075556299332, 10.82582355797962, 11.09745792378605, 11.263261805366476, 11.377658615528011, 10.929648021168488, 10.988867179832065, 11.140383890298134, 10.650758433360139, 10.564263446106727, 10.737258346972718, 10.695536985130756, 10.516185381725636, 10.46263906616511, 10.846621401496058, 10.572375985307279, 10.574505061093143, 10.66800277047312, 10.692473592578708, 10.471720632750003, 10.479287573825099, 10.565998525210551, 10.704796648596894, 10.71973789072035, 10.732283411966861, 10.49607630674993, 10.774978284867501, 10.7079027396549, 10.722582191111137, 10.680099449972166, 10.800186261022235, 10.634017177395217, 10.073567783641156, 10.530058783811004, 10.694100290728393, 10.845301202036143, 10.660311090022525, 10.76100380955005, 10.779576163179613, 10.815879181283018, 10.786948730301756, 10.789569861586068, 10.824024099842067, 10.842978077660694, 10.922527734140678, 10.777503159862064, 10.899070945700506, 10.956642118213352, 10.529404196103423, 10.43152893222951, 10.325839607168653, 10.408868892607037, 10.480447710741561, 10.177486184860555, 10.466316393123343, 10.970176100424489, 10.307752941172549, 10.591020154186209, 10.490200223890989, 10.598348356891757, 10.406376141248499, 10.652242328478607, 10.74885764122823, 10.3701867677183, 10.486121983175948, 10.517022746773632, 10.710285296566985, 10.718825392451638, 10.876955955628741, 10.406059446695654, 10.458862324664858, 10.636988097837074, 10.740347464572679, 10.67355452718936, 10.970122321985365, 10.595713851157102, 10.323545618146337, 10.440771202162379, 10.64931430933237, 10.753342869341566, 10.73585484931196, 10.98775896740039, 10.699224717204281, 11.007507080603233, 10.76882887099534, 10.793527470653876, 10.715566552533447, 10.751249143826692, 10.847439390449534, 11.008140546944528], \"Category\": [\"Default\", \"Default\", \"Default\", \"Default\", \"Default\", \"Default\", \"Default\", \"Default\", \"Default\", \"Default\", \"Default\", \"Default\", \"Default\", \"Default\", \"Default\", \"Default\", \"Default\", \"Default\", \"Default\", \"Default\", \"Default\", \"Default\", \"Default\", \"Default\", \"Default\", \"Default\", \"Default\", \"Default\", \"Default\", \"Default\", \"Topic1\", \"Topic1\", \"Topic1\", \"Topic1\", \"Topic1\", \"Topic1\", \"Topic1\", \"Topic1\", \"Topic1\", \"Topic1\", \"Topic1\", \"Topic1\", \"Topic1\", \"Topic1\", \"Topic1\", \"Topic1\", \"Topic1\", \"Topic1\", \"Topic1\", \"Topic1\", \"Topic1\", \"Topic1\", \"Topic1\", \"Topic1\", \"Topic1\", \"Topic1\", \"Topic1\", \"Topic1\", \"Topic1\", \"Topic1\", \"Topic1\", \"Topic1\", \"Topic1\", \"Topic1\", \"Topic1\", \"Topic1\", \"Topic1\", \"Topic1\", \"Topic2\", \"Topic2\", \"Topic2\", \"Topic2\", \"Topic2\", \"Topic2\", \"Topic2\", \"Topic2\", \"Topic2\", \"Topic2\", \"Topic2\", \"Topic2\", \"Topic2\", \"Topic2\", \"Topic2\", \"Topic2\", \"Topic2\", \"Topic2\", \"Topic2\", \"Topic2\", \"Topic2\", \"Topic2\", \"Topic2\", \"Topic2\", \"Topic2\", \"Topic2\", \"Topic2\", \"Topic2\", \"Topic2\", \"Topic2\", \"Topic2\", \"Topic2\", \"Topic2\", \"Topic2\", \"Topic2\", \"Topic2\", \"Topic3\", \"Topic3\", \"Topic3\", \"Topic3\", \"Topic3\", \"Topic3\", \"Topic3\", \"Topic3\", \"Topic3\", \"Topic3\", \"Topic3\", \"Topic3\", \"Topic3\", \"Topic3\", \"Topic3\", \"Topic3\", \"Topic3\", \"Topic3\", \"Topic3\", \"Topic3\", \"Topic3\", \"Topic3\", \"Topic3\", \"Topic3\", \"Topic3\", \"Topic3\", \"Topic3\", \"Topic3\", \"Topic3\", \"Topic3\", \"Topic3\", \"Topic3\", \"Topic3\", \"Topic3\", \"Topic3\", \"Topic3\", \"Topic3\", \"Topic3\", \"Topic3\", \"Topic4\", \"Topic4\", \"Topic4\", \"Topic4\", \"Topic4\", \"Topic4\", \"Topic4\", \"Topic4\", \"Topic4\", \"Topic4\", \"Topic4\", \"Topic4\", \"Topic4\", \"Topic4\", \"Topic4\", \"Topic4\", \"Topic4\", \"Topic4\", \"Topic4\", \"Topic4\", \"Topic4\", \"Topic4\", \"Topic4\", \"Topic4\", \"Topic4\", \"Topic4\", \"Topic4\", \"Topic4\", \"Topic4\", \"Topic4\", \"Topic4\", \"Topic4\", \"Topic4\", \"Topic4\", \"Topic4\", \"Topic4\", \"Topic4\", \"Topic4\", \"Topic4\", \"Topic4\", \"Topic4\", \"Topic4\", \"Topic5\", \"Topic5\", \"Topic5\", \"Topic5\", \"Topic5\", \"Topic5\", \"Topic5\", \"Topic5\", \"Topic5\", \"Topic5\", \"Topic5\", \"Topic5\", \"Topic5\", \"Topic5\", \"Topic5\", \"Topic5\", \"Topic5\", \"Topic5\", \"Topic5\", \"Topic5\", \"Topic5\", \"Topic5\", \"Topic5\", \"Topic5\", \"Topic5\", \"Topic5\", \"Topic5\", \"Topic5\", \"Topic5\", \"Topic5\", \"Topic5\", \"Topic5\", \"Topic5\", \"Topic5\", \"Topic5\", \"Topic5\", \"Topic5\", \"Topic5\", \"Topic6\", \"Topic6\", \"Topic6\", \"Topic6\", \"Topic6\", \"Topic6\", \"Topic6\", \"Topic6\", \"Topic6\", \"Topic6\", \"Topic6\", \"Topic6\", \"Topic6\", \"Topic6\", \"Topic6\", \"Topic6\", \"Topic6\", \"Topic6\", \"Topic6\", \"Topic6\", \"Topic6\", \"Topic6\", \"Topic6\", \"Topic6\", \"Topic6\", \"Topic6\", \"Topic6\", \"Topic6\", \"Topic6\", \"Topic6\", \"Topic6\", \"Topic6\", \"Topic6\", \"Topic6\", \"Topic6\", \"Topic6\", \"Topic6\", \"Topic6\", \"Topic7\", \"Topic7\", \"Topic7\", \"Topic7\", \"Topic7\", \"Topic7\", \"Topic7\", \"Topic7\", \"Topic7\", \"Topic7\", \"Topic7\", \"Topic7\", \"Topic7\", \"Topic7\", \"Topic7\", \"Topic7\", \"Topic7\", \"Topic7\", \"Topic7\", \"Topic7\", \"Topic7\", \"Topic7\", \"Topic7\", \"Topic7\", \"Topic7\", \"Topic7\", \"Topic7\", \"Topic7\", \"Topic7\", \"Topic7\", \"Topic7\", \"Topic7\", \"Topic7\", \"Topic7\", \"Topic7\", \"Topic7\", \"Topic7\", \"Topic7\", \"Topic7\", \"Topic8\", \"Topic8\", \"Topic8\", \"Topic8\", \"Topic8\", \"Topic8\", \"Topic8\", \"Topic8\", \"Topic8\", \"Topic8\", \"Topic8\", \"Topic8\", \"Topic8\", \"Topic8\", \"Topic8\", \"Topic8\", \"Topic8\", \"Topic8\", \"Topic8\", \"Topic8\", \"Topic8\", \"Topic8\", \"Topic8\", \"Topic8\", \"Topic8\", \"Topic8\", \"Topic8\", \"Topic8\", \"Topic8\", \"Topic8\", \"Topic8\", \"Topic8\", \"Topic8\", \"Topic8\", \"Topic8\", \"Topic8\", \"Topic8\", \"Topic8\", \"Topic9\", \"Topic9\", \"Topic9\", \"Topic9\", \"Topic9\", \"Topic9\", \"Topic9\", \"Topic9\", \"Topic9\", \"Topic9\", \"Topic9\", \"Topic9\", \"Topic9\", \"Topic9\", \"Topic9\", \"Topic9\", \"Topic9\", \"Topic9\", \"Topic9\", \"Topic9\", \"Topic9\", \"Topic9\", \"Topic9\", \"Topic9\", \"Topic9\", \"Topic9\", \"Topic9\", \"Topic9\", \"Topic9\", \"Topic9\", \"Topic9\", \"Topic9\", \"Topic9\", \"Topic9\", \"Topic9\", \"Topic9\", \"Topic9\", \"Topic9\", \"Topic10\", \"Topic10\", \"Topic10\", \"Topic10\", \"Topic10\", \"Topic10\", \"Topic10\", \"Topic10\", \"Topic10\", \"Topic10\", \"Topic10\", \"Topic10\", \"Topic10\", \"Topic10\", \"Topic10\", \"Topic10\", \"Topic10\", \"Topic10\", \"Topic10\", \"Topic10\", \"Topic10\", \"Topic10\", \"Topic10\", \"Topic10\", \"Topic10\", \"Topic10\", \"Topic10\", \"Topic10\", \"Topic10\", \"Topic10\", \"Topic10\", \"Topic10\", \"Topic10\", \"Topic10\", \"Topic10\", \"Topic10\", \"Topic11\", \"Topic11\", \"Topic11\", \"Topic11\", \"Topic11\", \"Topic11\", \"Topic11\", \"Topic11\", \"Topic11\", \"Topic11\", \"Topic11\", \"Topic11\", \"Topic11\", \"Topic11\", \"Topic11\", \"Topic11\", \"Topic11\", \"Topic11\", \"Topic11\", \"Topic11\", \"Topic11\", \"Topic11\", \"Topic11\", \"Topic11\", \"Topic11\", \"Topic11\", \"Topic11\", \"Topic11\", \"Topic11\", \"Topic11\", \"Topic11\", \"Topic11\", \"Topic11\", \"Topic11\", \"Topic11\", \"Topic11\", \"Topic11\", \"Topic12\", \"Topic12\", \"Topic12\", \"Topic12\", \"Topic12\", \"Topic12\", \"Topic12\", \"Topic12\", \"Topic12\", \"Topic12\", \"Topic12\", \"Topic12\", \"Topic12\", \"Topic12\", \"Topic12\", \"Topic12\", \"Topic12\", \"Topic12\", \"Topic12\", \"Topic12\", \"Topic12\", \"Topic12\", \"Topic12\", \"Topic12\", \"Topic12\", \"Topic12\", \"Topic12\", \"Topic12\", \"Topic12\", \"Topic12\", \"Topic12\", \"Topic12\", \"Topic12\", \"Topic12\", \"Topic12\", \"Topic12\", \"Topic12\", \"Topic13\", \"Topic13\", \"Topic13\", \"Topic13\", \"Topic13\", \"Topic13\", \"Topic13\", \"Topic13\", \"Topic13\", \"Topic13\", \"Topic13\", \"Topic13\", \"Topic13\", \"Topic13\", \"Topic13\", \"Topic13\", \"Topic13\", \"Topic13\", \"Topic13\", \"Topic13\", \"Topic13\", \"Topic13\", \"Topic13\", \"Topic13\", \"Topic13\", \"Topic13\", \"Topic13\", \"Topic13\", \"Topic13\", \"Topic13\", \"Topic13\", \"Topic13\", \"Topic13\", \"Topic13\", \"Topic13\", \"Topic13\", \"Topic13\", \"Topic13\", \"Topic13\", \"Topic13\", \"Topic13\", \"Topic13\", \"Topic13\", \"Topic14\", \"Topic14\", \"Topic14\", \"Topic14\", \"Topic14\", \"Topic14\", \"Topic14\", \"Topic14\", \"Topic14\", \"Topic14\", \"Topic14\", \"Topic14\", \"Topic14\", \"Topic14\", \"Topic14\", \"Topic14\", \"Topic14\", \"Topic14\", \"Topic14\", \"Topic14\", \"Topic14\", \"Topic14\", \"Topic14\", \"Topic14\", \"Topic14\", \"Topic14\", \"Topic14\", \"Topic14\", \"Topic14\", \"Topic14\", \"Topic14\", \"Topic14\", \"Topic14\", \"Topic14\", \"Topic14\", \"Topic14\", \"Topic14\", \"Topic14\", \"Topic14\", \"Topic14\", \"Topic15\", \"Topic15\", \"Topic15\", \"Topic15\", \"Topic15\", \"Topic15\", \"Topic15\", \"Topic15\", \"Topic15\", \"Topic15\", \"Topic15\", \"Topic15\", \"Topic15\", \"Topic15\", \"Topic15\", \"Topic15\", \"Topic15\", \"Topic15\", \"Topic15\", \"Topic15\", \"Topic15\", \"Topic15\", \"Topic15\", \"Topic15\", \"Topic15\", \"Topic15\", \"Topic15\", \"Topic15\", \"Topic15\", \"Topic15\", \"Topic15\", \"Topic15\", \"Topic15\", \"Topic15\", \"Topic15\", \"Topic15\", \"Topic15\", \"Topic15\", \"Topic15\", \"Topic15\", \"Topic15\", \"Topic15\"], \"logprob\": [30.0, 29.0, 28.0, 27.0, 26.0, 25.0, 24.0, 23.0, 22.0, 21.0, 20.0, 19.0, 18.0, 17.0, 16.0, 15.0, 14.0, 13.0, 12.0, 11.0, 10.0, 9.0, 8.0, 7.0, 6.0, 5.0, 4.0, 3.0, 2.0, 1.0, -7.2737, -7.2797, -7.2963, -7.3023, -7.3014, -7.3079, -7.3117, -7.292, -7.319, -7.31, -7.2742, -7.3024, -7.3093, -7.2691, -7.2656, -7.3434, -7.3248, -7.2681, -7.3242, -7.3139, -7.2973, -7.297, -7.3392, -7.3223, -7.3321, -7.3023, -7.3257, -7.4037, -7.3318, -7.3005, -7.3223, -7.3206, -7.3153, -7.3173, -7.3247, -7.3052, -7.3132, -7.3217, -7.2156, -7.2379, -7.254, -7.2423, -7.2693, -7.2592, -7.2788, -7.2513, -7.2972, -7.2986, -7.335, -7.3303, -7.2977, -7.3302, -7.2821, -7.3069, -7.3115, -7.317, -7.3262, -7.3347, -7.3246, -7.3533, -7.3324, -7.3174, -7.3104, -7.3143, -7.3368, -7.3344, -7.3173, -7.3543, -7.3282, -7.3285, -7.3296, -7.3302, -7.3319, -7.3344, -7.2067, -7.2289, -7.2788, -7.2351, -7.3032, -7.2899, -7.2683, -7.3504, -7.2938, -7.337, -7.3273, -7.2731, -7.3079, -7.3027, -7.2886, -7.2852, -7.3405, -7.3445, -7.3568, -7.3435, -7.3033, -7.305, -7.347, -7.306, -7.3296, -7.3182, -7.306, -7.3318, -7.3544, -7.3364, -7.3228, -7.3172, -7.31, -7.3233, -7.3185, -7.3208, -7.3273, -7.327, -7.3313, -7.2692, -7.2561, -7.2626, -7.3016, -7.3273, -7.3265, -7.3151, -7.3277, -7.336, -7.3209, -7.3433, -7.3432, -7.3466, -7.3392, -7.3443, -7.3585, -7.3439, -7.3516, -7.3521, -7.382, -7.3634, -7.3225, -7.3619, -7.3493, -7.3543, -7.3681, -7.354, -7.3558, -7.383, -7.3115, -7.3219, -7.3152, -7.3326, -7.3411, -7.3171, -7.3399, -7.3428, -7.3243, -7.3428, -7.3387, -7.3419, -7.3413, -7.2276, -7.2288, -7.2362, -7.2479, -7.2421, -7.2939, -7.2848, -7.2519, -7.2976, -7.2781, -7.2513, -7.2624, -7.2836, -7.2823, -7.2931, -7.2879, -7.2869, -7.2898, -7.2651, -7.3127, -7.3118, -7.3224, -7.3294, -7.314, -7.3411, -7.3407, -7.3327, -7.3152, -7.3484, -7.339, -7.2789, -7.3079, -7.2971, -7.2897, -7.2961, -7.3143, -7.3153, -7.3132, -7.1982, -7.2329, -7.201, -7.2159, -7.2424, -7.2129, -7.2112, -7.2459, -7.2702, -7.2616, -7.291, -7.3098, -7.2561, -7.2406, -7.2948, -7.244, -7.299, -7.2961, -7.3, -7.3112, -7.3012, -7.2688, -7.3045, -7.2735, -7.3038, -7.3114, -7.3197, -7.3133, -7.3074, -7.2873, -7.2675, -7.2798, -7.2734, -7.2848, -7.2972, -7.2981, -7.2955, -7.3025, -7.2368, -7.2354, -7.256, -7.3255, -7.2519, -7.3159, -7.3009, -7.2846, -7.2765, -7.2696, -7.3095, -7.3287, -7.3544, -7.3331, -7.3296, -7.3595, -7.2981, -7.3388, -7.3236, -7.3363, -7.3537, -7.3424, -7.342, -7.343, -7.2968, -7.3524, -7.3582, -7.3807, -7.3504, -7.3568, -7.2894, -7.3373, -7.3222, -7.3306, -7.3269, -7.3338, -7.3386, -7.3425, -7.3405, -7.2391, -7.2827, -7.2918, -7.2818, -7.308, -7.3098, -7.2781, -7.307, -7.3405, -7.3285, -7.3347, -7.3094, -7.3255, -7.3287, -7.3378, -7.3651, -7.368, -7.3386, -7.3562, -7.3253, -7.2974, -7.3464, -7.3285, -7.3402, -7.3444, -7.3548, -7.3415, -7.3417, -7.318, -7.3032, -7.3358, -7.3277, -7.3209, -7.3182, -7.3352, -7.3324, -7.3307, -7.3392, -7.1791, -7.2008, -7.2207, -7.2347, -7.2906, -7.2508, -7.2698, -7.3322, -7.3186, -7.2909, -7.3235, -7.2813, -7.3236, -7.3248, -7.3093, -7.3518, -7.3256, -7.324, -7.3178, -7.3268, -7.3096, -7.3222, -7.3398, -7.3358, -7.33, -7.3317, -7.3089, -7.3194, -7.354, -7.3354, -7.3046, -7.2815, -7.3082, -7.3281, -7.305, -7.3089, -7.315, -7.3265, -7.2018, -7.2466, -7.2182, -7.2608, -7.2707, -7.2151, -7.2396, -7.2618, -7.2299, -7.2406, -7.2574, -7.2445, -7.2639, -7.2854, -7.2724, -7.2817, -7.2677, -7.2854, -7.3067, -7.3123, -7.3261, -7.3135, -7.2851, -7.2923, -7.2691, -7.3152, -7.2574, -7.3019, -7.306, -7.2803, -7.2703, -7.2982, -7.2792, -7.3056, -7.3045, -7.3039, -7.1576, -7.2117, -7.2353, -7.2751, -7.2844, -7.2254, -7.2934, -7.2483, -7.301, -7.3037, -7.2557, -7.3167, -7.2745, -7.2892, -7.2717, -7.3083, -7.34, -7.3108, -7.3132, -7.2964, -7.3029, -7.2969, -7.3322, -7.3274, -7.3426, -7.3345, -7.299, -7.3133, -7.3297, -7.3053, -7.3209, -7.3031, -7.3168, -7.3091, -7.3244, -7.3202, -7.3094, -7.2414, -7.2009, -7.2336, -7.2402, -7.2666, -7.2479, -7.2967, -7.3199, -7.3027, -7.3055, -7.2813, -7.3024, -7.3343, -7.2905, -7.2897, -7.3308, -7.3128, -7.2714, -7.332, -7.3313, -7.3282, -7.2848, -7.2791, -7.3377, -7.3533, -7.3168, -7.352, -7.3448, -7.3407, -7.3025, -7.2962, -7.3342, -7.3346, -7.323, -7.3295, -7.3331, -7.3341, -7.17, -7.2206, -7.2142, -7.2714, -7.2519, -7.267, -7.2966, -7.292, -7.2759, -7.2566, -7.2567, -7.2921, -7.3087, -7.2927, -7.2813, -7.2861, -7.3315, -7.3171, -7.2998, -7.3206, -7.3251, -7.3282, -7.3484, -7.3197, -7.3509, -7.3534, -7.3258, -7.3413, -7.3563, -7.3329, -7.3525, -7.3214, -7.3294, -7.3159, -7.3318, -7.31, -7.3269, -7.3175, -7.3136, -7.3129, -7.325, -7.3245, -7.3241, -7.2607, -7.2735, -7.2769, -7.2827, -7.3003, -7.309, -7.2745, -7.3017, -7.3085, -7.3014, -7.3025, -7.324, -7.3237, -7.317, -7.307, -7.3056, -7.3048, -7.3288, -7.3032, -7.3119, -7.3114, -7.3154, -7.3044, -7.3205, -7.3753, -7.3318, -7.3166, -7.3027, -7.3199, -7.311, -7.3094, -7.307, -7.3103, -7.3112, -7.31, -7.3089, -7.3073, -7.3128, -7.3108, -7.3125, -7.2945, -7.3124, -7.3294, -7.3217, -7.3187, -7.3597, -7.3367, -7.2919, -7.3557, -7.3306, -7.3411, -7.3326, -7.3518, -7.329, -7.3201, -7.3576, -7.3469, -7.3441, -7.3262, -7.3256, -7.3112, -7.3564, -7.3526, -7.3357, -7.3261, -7.3329, -7.3067, -7.3421, -7.3695, -7.3594, -7.3407, -7.3332, -7.3356, -7.3212, -7.3407, -7.3268, -7.3378, -7.337, -7.3402, -7.3397, -7.339, -7.3404], \"loglift\": [30.0, 29.0, 28.0, 27.0, 26.0, 25.0, 24.0, 23.0, 22.0, 21.0, 20.0, 19.0, 18.0, 17.0, 16.0, 15.0, 14.0, 13.0, 12.0, 11.0, 10.0, 9.0, 8.0, 7.0, 6.0, 5.0, 4.0, 3.0, 2.0, 1.0, 0.1857, 0.1729, 0.1557, 0.1505, 0.1494, 0.1467, 0.1465, 0.1451, 0.1449, 0.1447, 0.1442, 0.1431, 0.1425, 0.1422, 0.1417, 0.1396, 0.1384, 0.1381, 0.1365, 0.1355, 0.1349, 0.131, 0.1295, 0.128, 0.1271, 0.1262, 0.123, 0.1229, 0.1222, 0.1218, 0.1209, 0.12, 0.1157, 0.1121, 0.1178, 0.0914, 0.0935, 0.1114, 0.2143, 0.2008, 0.1741, 0.1686, 0.1538, 0.1515, 0.1488, 0.1453, 0.1434, 0.1342, 0.1322, 0.1288, 0.1283, 0.1266, 0.1248, 0.1247, 0.1223, 0.1211, 0.1208, 0.1202, 0.1201, 0.1175, 0.1166, 0.1123, 0.1113, 0.1109, 0.1084, 0.1075, 0.1071, 0.1038, 0.1015, 0.0966, 0.0841, 0.079, 0.0864, 0.0938, 0.2213, 0.2008, 0.1891, 0.1758, 0.1641, 0.1626, 0.1617, 0.1577, 0.156, 0.1513, 0.1488, 0.1486, 0.1475, 0.1467, 0.1431, 0.1409, 0.1398, 0.1395, 0.1376, 0.1373, 0.1367, 0.1356, 0.1338, 0.1331, 0.1325, 0.1316, 0.1294, 0.1287, 0.1284, 0.1281, 0.1249, 0.117, 0.1131, 0.1168, 0.11, 0.1123, 0.1143, 0.1027, 0.0938, 0.1546, 0.1512, 0.1478, 0.1298, 0.1245, 0.1215, 0.1162, 0.1155, 0.1145, 0.1128, 0.1111, 0.1089, 0.1087, 0.1076, 0.1064, 0.1062, 0.1052, 0.1045, 0.1042, 0.1039, 0.1023, 0.102, 0.1018, 0.101, 0.1002, 0.1001, 0.1, 0.0979, 0.0975, 0.0967, 0.0958, 0.0943, 0.0955, 0.096, 0.0896, 0.095, 0.0952, 0.0819, 0.0893, 0.0822, 0.0832, 0.0772, 0.1791, 0.1791, 0.1787, 0.1742, 0.1677, 0.1629, 0.1515, 0.1512, 0.1508, 0.15, 0.1491, 0.1483, 0.1446, 0.1421, 0.1385, 0.138, 0.1379, 0.1367, 0.1321, 0.1272, 0.126, 0.1219, 0.1214, 0.1214, 0.1183, 0.1165, 0.1163, 0.1159, 0.1154, 0.1149, 0.114, 0.1143, 0.1121, 0.1069, 0.1008, 0.1072, 0.1067, 0.1008, 0.2167, 0.2114, 0.2088, 0.2062, 0.1982, 0.1901, 0.186, 0.1854, 0.1811, 0.1746, 0.1737, 0.1678, 0.1663, 0.1661, 0.1657, 0.1628, 0.1619, 0.1606, 0.1594, 0.1592, 0.1542, 0.1527, 0.1525, 0.1516, 0.1511, 0.1473, 0.1464, 0.1411, 0.141, 0.1373, 0.1294, 0.1284, 0.1196, 0.1257, 0.1296, 0.1258, 0.1152, 0.1054, 0.208, 0.1945, 0.1827, 0.1631, 0.159, 0.1569, 0.1564, 0.1535, 0.148, 0.1443, 0.1437, 0.138, 0.1349, 0.1334, 0.131, 0.1308, 0.1282, 0.1274, 0.1262, 0.1261, 0.1245, 0.1214, 0.1183, 0.1177, 0.1169, 0.1162, 0.1147, 0.1129, 0.1122, 0.1104, 0.1036, 0.1084, 0.1054, 0.1031, 0.0968, 0.0994, 0.0951, 0.0998, 0.0896, 0.1749, 0.1543, 0.1529, 0.1466, 0.1423, 0.1318, 0.1314, 0.1284, 0.1268, 0.1231, 0.1214, 0.1204, 0.1181, 0.1176, 0.1156, 0.1133, 0.1128, 0.1126, 0.1091, 0.109, 0.1088, 0.108, 0.1076, 0.1074, 0.1072, 0.1053, 0.1052, 0.1051, 0.1043, 0.1041, 0.1014, 0.096, 0.0904, 0.0886, 0.0856, 0.0706, 0.0622, 0.0902, 0.2571, 0.2097, 0.2018, 0.1966, 0.1601, 0.1574, 0.1553, 0.1493, 0.1459, 0.144, 0.1425, 0.1402, 0.1369, 0.1361, 0.1354, 0.1341, 0.1338, 0.1332, 0.1328, 0.1327, 0.131, 0.1309, 0.1306, 0.1289, 0.1275, 0.1267, 0.1258, 0.1247, 0.1238, 0.1235, 0.12, 0.1152, 0.1156, 0.1213, 0.1018, 0.0883, 0.0923, 0.1067, 0.2012, 0.1912, 0.1885, 0.1876, 0.1861, 0.1853, 0.1826, 0.1826, 0.178, 0.1743, 0.1674, 0.1653, 0.1626, 0.1569, 0.1557, 0.1546, 0.1536, 0.1496, 0.1472, 0.1433, 0.1414, 0.1408, 0.1394, 0.1393, 0.1371, 0.136, 0.1356, 0.134, 0.1339, 0.1336, 0.1269, 0.1319, 0.1177, 0.1302, 0.1237, 0.1053, 0.2532, 0.2182, 0.2034, 0.1696, 0.1688, 0.1676, 0.1672, 0.1654, 0.1614, 0.1603, 0.1582, 0.1562, 0.1499, 0.1489, 0.1396, 0.1379, 0.1362, 0.1343, 0.1323, 0.1311, 0.1268, 0.1262, 0.1262, 0.1247, 0.1237, 0.1228, 0.1222, 0.122, 0.1218, 0.1208, 0.1203, 0.1048, 0.1096, 0.1017, 0.1162, 0.1095, 0.091, 0.1964, 0.1921, 0.1726, 0.1676, 0.1599, 0.1589, 0.1514, 0.1455, 0.1453, 0.1452, 0.14, 0.1392, 0.1387, 0.1376, 0.1351, 0.1348, 0.1295, 0.129, 0.1283, 0.1273, 0.1272, 0.1182, 0.1178, 0.1163, 0.1159, 0.1145, 0.112, 0.1119, 0.1111, 0.1088, 0.101, 0.1071, 0.1072, 0.0991, 0.0803, 0.0818, 0.0796, 0.2661, 0.2106, 0.2082, 0.188, 0.183, 0.1771, 0.1685, 0.1654, 0.1574, 0.1539, 0.1514, 0.1491, 0.1479, 0.1479, 0.1432, 0.139, 0.1389, 0.136, 0.1348, 0.1348, 0.1338, 0.1327, 0.1321, 0.1297, 0.1294, 0.1292, 0.1286, 0.1266, 0.1259, 0.1258, 0.1257, 0.1234, 0.1238, 0.1194, 0.1229, 0.1139, 0.1195, 0.1041, 0.0931, 0.0837, 0.1118, 0.1069, 0.0936, 0.2019, 0.1973, 0.1777, 0.1758, 0.1751, 0.1715, 0.17, 0.1683, 0.1613, 0.1597, 0.1562, 0.1556, 0.1551, 0.1537, 0.1506, 0.1505, 0.1502, 0.1485, 0.1479, 0.1454, 0.1445, 0.1445, 0.1443, 0.1437, 0.143, 0.1423, 0.142, 0.1418, 0.1418, 0.1413, 0.1412, 0.1402, 0.1396, 0.1385, 0.1366, 0.1358, 0.1301, 0.138, 0.1288, 0.1218, 0.1796, 0.1711, 0.1643, 0.1639, 0.1601, 0.1484, 0.1434, 0.1412, 0.1396, 0.1377, 0.1368, 0.135, 0.1341, 0.1335, 0.1334, 0.1318, 0.1313, 0.1312, 0.1308, 0.1307, 0.1305, 0.1295, 0.1283, 0.1282, 0.1281, 0.1276, 0.1264, 0.1258, 0.1244, 0.1232, 0.1221, 0.1199, 0.1191, 0.1103, 0.1175, 0.1029, 0.1138, 0.1123, 0.1164, 0.1136, 0.1054, 0.0892]}, \"token.table\": {\"Topic\": [1, 2, 3, 4, 5, 6, 7, 8, 9, 10, 11, 12, 13, 14, 15, 1, 2, 3, 4, 5, 6, 7, 8, 9, 10, 11, 12, 13, 14, 15, 1, 2, 3, 4, 5, 6, 7, 8, 9, 10, 11, 12, 13, 14, 1, 2, 3, 4, 5, 6, 7, 8, 9, 10, 11, 12, 13, 14, 15, 1, 2, 3, 4, 5, 6, 7, 8, 9, 10, 11, 12, 13, 14, 15, 1, 2, 3, 4, 5, 6, 7, 8, 9, 10, 11, 12, 13, 14, 15, 1, 2, 3, 4, 5, 6, 7, 8, 9, 10, 11, 12, 13, 14, 1, 2, 3, 4, 5, 6, 7, 8, 9, 10, 11, 12, 13, 14, 15, 1, 2, 3, 4, 5, 6, 7, 8, 9, 10, 11, 12, 13, 14, 15, 1, 2, 3, 4, 5, 6, 7, 8, 9, 10, 11, 12, 13, 14, 15, 1, 2, 3, 4, 5, 6, 7, 8, 9, 10, 11, 12, 13, 1, 2, 3, 4, 5, 6, 7, 8, 9, 10, 11, 12, 13, 14, 15, 1, 2, 3, 4, 5, 6, 7, 8, 9, 10, 11, 12, 13, 15, 1, 2, 3, 4, 5, 6, 7, 8, 9, 10, 11, 12, 13, 1, 2, 3, 4, 5, 6, 7, 8, 9, 10, 11, 12, 13, 14, 15, 1, 2, 3, 4, 5, 6, 7, 8, 9, 10, 11, 12, 13, 14, 15, 1, 2, 3, 4, 5, 6, 7, 8, 9, 10, 11, 12, 13, 14, 1, 2, 3, 4, 5, 6, 7, 8, 9, 10, 11, 12, 13, 1, 2, 3, 4, 5, 6, 7, 8, 9, 10, 11, 12, 13, 15, 1, 2, 3, 4, 5, 6, 7, 8, 9, 10, 11, 12, 13, 1, 2, 3, 4, 5, 6, 7, 8, 9, 10, 11, 12, 13, 14, 15, 1, 2, 3, 4, 5, 6, 7, 8, 9, 10, 11, 12, 13, 14, 15, 1, 2, 3, 4, 5, 6, 7, 8, 9, 10, 11, 12, 13, 14, 15, 1, 2, 3, 4, 5, 6, 7, 8, 9, 10, 11, 12, 13, 14, 15, 1, 2, 3, 4, 5, 6, 7, 8, 9, 10, 11, 12, 13, 14, 15, 1, 2, 3, 4, 5, 6, 7, 8, 9, 10, 11, 12, 13, 14, 15, 1, 2, 3, 4, 5, 6, 7, 8, 9, 10, 11, 12, 13, 14, 15, 1, 2, 3, 4, 5, 6, 7, 8, 9, 10, 11, 12, 13, 14, 1, 2, 3, 4, 5, 6, 7, 8, 9, 10, 11, 12, 13, 14, 15, 1, 2, 3, 4, 5, 6, 7, 8, 9, 10, 11, 12, 13, 14, 1, 2, 3, 4, 5, 6, 7, 8, 9, 10, 11, 12, 13, 14, 15, 1, 2, 3, 4, 5, 6, 7, 8, 9, 10, 11, 12, 13, 14, 15, 1, 2, 3, 4, 5, 6, 7, 8, 9, 10, 11, 12, 13, 15, 1, 2, 3, 4, 5, 6, 7, 8, 9, 10, 11, 12, 13, 14, 15, 1, 2, 3, 4, 5, 6, 7, 8, 9, 10, 11, 12, 13, 14, 1, 2, 3, 4, 5, 6, 7, 8, 9, 10, 11, 12, 13, 14, 15, 1, 2, 3, 4, 5, 6, 7, 8, 9, 10, 11, 12, 13, 14, 15, 1, 2, 3, 4, 5, 6, 7, 8, 9, 10, 11, 12, 13, 14, 15, 1, 2, 3, 4, 5, 6, 7, 8, 9, 10, 11, 12, 13, 14, 15, 1, 2, 3, 4, 5, 6, 7, 8, 9, 10, 11, 12, 13, 14, 15, 1, 2, 3, 4, 5, 6, 7, 8, 9, 10, 11, 12, 13, 14, 15, 1, 2, 3, 4, 5, 6, 7, 8, 9, 10, 11, 12, 13, 15, 1, 2, 3, 4, 5, 6, 7, 8, 9, 10, 11, 12, 13, 14, 15, 1, 2, 3, 4, 5, 6, 7, 8, 9, 10, 11, 12, 13, 14, 15, 1, 2, 3, 4, 5, 6, 7, 8, 9, 10, 11, 12, 13, 14, 15, 1, 2, 3, 4, 5, 6, 7, 8, 9, 10, 11, 12, 13, 14, 15, 1, 2, 3, 4, 5, 6, 7, 8, 9, 10, 11, 12, 13, 14, 15, 1, 2, 3, 4, 5, 6, 7, 8, 9, 10, 11, 12, 13, 15, 1, 2, 3, 4, 5, 6, 7, 8, 9, 10, 11, 12, 13, 14, 15, 1, 2, 3, 4, 5, 6, 7, 8, 9, 10, 11, 12, 13, 14, 15, 1, 2, 3, 4, 5, 6, 7, 8, 9, 10, 11, 12, 13, 14, 15, 1, 2, 3, 4, 5, 6, 7, 8, 9, 10, 11, 12, 13, 15, 1, 2, 3, 4, 5, 6, 7, 8, 9, 10, 11, 12, 13, 14, 15, 1, 2, 3, 4, 5, 6, 7, 8, 9, 10, 11, 12, 13, 14, 1, 2, 3, 4, 5, 6, 7, 8, 9, 10, 11, 12, 13, 1, 2, 3, 4, 5, 6, 7, 8, 9, 10, 11, 12, 13, 14, 15, 1, 2, 3, 4, 5, 6, 7, 8, 9, 10, 11, 12, 13, 14, 1, 2, 3, 4, 5, 6, 7, 8, 9, 10, 11, 12, 13, 14, 1, 2, 3, 4, 5, 6, 7, 8, 9, 10, 11, 12, 13, 14, 15, 1, 2, 3, 4, 5, 6, 7, 8, 9, 10, 11, 12, 13, 15, 1, 2, 3, 4, 5, 6, 7, 8, 9, 10, 11, 12, 13, 14, 15, 1, 2, 3, 4, 5, 6, 7, 8, 9, 10, 11, 12, 13, 14, 15, 1, 2, 3, 4, 5, 6, 7, 8, 9, 10, 11, 12, 13, 14, 15, 1, 2, 3, 4, 5, 6, 7, 8, 9, 10, 11, 12, 13, 14, 15, 1, 2, 3, 4, 5, 6, 7, 8, 9, 10, 11, 12, 13, 1, 2, 3, 4, 5, 6, 7, 8, 9, 10, 11, 12, 13, 14, 1, 2, 3, 4, 5, 6, 7, 8, 9, 10, 11, 12, 13, 1, 2, 3, 4, 5, 6, 7, 8, 9, 10, 11, 12, 13, 14, 15, 1, 2, 3, 4, 5, 6, 7, 8, 9, 10, 11, 12, 13, 14, 15, 1, 2, 3, 4, 5, 6, 7, 8, 9, 10, 11, 12, 13, 14, 15, 1, 2, 3, 4, 5, 6, 7, 8, 9, 10, 11, 12, 13, 14, 15, 1, 2, 3, 4, 5, 6, 7, 8, 9, 10, 11, 12, 13, 14, 1, 2, 3, 4, 5, 6, 7, 8, 9, 10, 11, 12, 13, 14, 15, 1, 2, 3, 4, 5, 6, 7, 8, 9, 10, 11, 12, 13, 15, 1, 2, 3, 4, 5, 6, 7, 8, 9, 10, 11, 12, 13, 14, 15, 1, 2, 3, 4, 5, 6, 7, 8, 9, 10, 11, 12, 13, 15, 1, 2, 3, 4, 5, 6, 7, 8, 9, 10, 11, 12, 13, 14, 15, 1, 2, 3, 4, 5, 6, 7, 8, 9, 10, 11, 12, 13, 14, 15, 1, 2, 3, 4, 5, 6, 7, 8, 9, 10, 11, 12, 13, 15, 1, 2, 3, 4, 5, 6, 7, 8, 9, 10, 11, 12, 13, 14, 15, 1, 2, 3, 4, 5, 6, 7, 8, 9, 10, 11, 12, 13, 14, 15, 1, 2, 3, 4, 5, 6, 7, 8, 9, 10, 11, 12, 13, 14, 1, 2, 3, 4, 5, 6, 7, 8, 9, 10, 11, 12, 13, 14, 15, 1, 2, 3, 4, 5, 6, 7, 8, 9, 10, 11, 12, 13, 1, 2, 3, 4, 5, 6, 7, 8, 9, 10, 11, 12, 13, 1, 2, 3, 4, 5, 6, 7, 8, 9, 10, 11, 12, 14, 15, 1, 2, 3, 4, 5, 6, 7, 8, 9, 10, 11, 12, 13, 14, 1, 2, 3, 4, 5, 6, 7, 8, 9, 10, 11, 12, 13, 14, 15, 1, 2, 3, 4, 5, 6, 7, 8, 9, 10, 11, 12, 13, 14, 15, 1, 2, 3, 4, 5, 6, 7, 8, 9, 10, 11, 12, 13, 14, 1, 2, 3, 4, 5, 6, 7, 8, 9, 10, 11, 12, 13, 14, 15, 1, 2, 3, 4, 5, 6, 7, 8, 9, 10, 11, 12, 13, 14, 15, 1, 2, 3, 4, 5, 6, 7, 8, 9, 10, 11, 12, 13, 14, 15, 1, 2, 3, 4, 5, 6, 7, 8, 9, 10, 11, 12, 13, 14, 15, 1, 2, 3, 4, 5, 6, 7, 8, 9, 10, 11, 12, 13, 14, 15, 1, 2, 3, 4, 5, 6, 7, 8, 9, 10, 11, 12, 13, 15, 1, 2, 3, 4, 5, 6, 7, 8, 9, 10, 11, 12, 13, 14, 15, 1, 2, 3, 4, 5, 6, 7, 8, 9, 10, 11, 12, 13, 14, 15, 1, 2, 3, 4, 5, 6, 7, 8, 9, 10, 11, 12, 13, 14, 1, 2, 3, 4, 5, 6, 7, 8, 9, 10, 11, 12, 13, 14, 15, 1, 2, 3, 4, 5, 6, 7, 8, 9, 10, 11, 12, 13, 15, 1, 2, 3, 4, 5, 6, 7, 8, 9, 10, 11, 12, 13, 14, 15, 1, 2, 3, 4, 5, 6, 7, 8, 9, 10, 11, 12, 13, 14, 1, 2, 3, 4, 5, 6, 7, 8, 9, 10, 11, 12, 13, 14, 1, 2, 3, 4, 5, 6, 7, 8, 9, 10, 11, 12, 13, 14, 1, 2, 3, 4, 5, 6, 7, 8, 9, 10, 11, 12, 14, 15, 1, 2, 3, 4, 5, 6, 7, 8, 9, 10, 11, 12, 13, 1, 2, 3, 4, 5, 6, 7, 8, 9, 10, 11, 12, 13, 14, 15, 1, 2, 3, 4, 5, 6, 7, 8, 9, 10, 11, 12, 13, 14, 15, 1, 2, 3, 4, 5, 6, 7, 8, 9, 10, 11, 12, 13, 14, 15, 1, 2, 3, 4, 5, 6, 7, 8, 9, 10, 11, 12, 13, 14, 15, 1, 2, 3, 4, 5, 6, 7, 8, 9, 10, 11, 12, 13, 14, 15, 1, 2, 3, 4, 5, 6, 7, 8, 9, 10, 11, 12, 13, 14, 15, 1, 2, 3, 4, 5, 6, 7, 8, 9, 10, 11, 12, 13, 14, 15, 1, 2, 3, 4, 5, 6, 7, 8, 9, 10, 11, 12, 13, 14, 15, 1, 2, 3, 4, 5, 6, 7, 8, 9, 10, 11, 12, 13, 15, 1, 2, 3, 4, 5, 6, 7, 8, 9, 10, 11, 12, 13, 15, 1, 2, 3, 4, 5, 6, 7, 8, 9, 10, 11, 12, 13, 14, 15, 1, 2, 3, 4, 5, 6, 7, 8, 9, 10, 11, 12, 13, 14, 15, 1, 2, 3, 4, 5, 6, 7, 8, 9, 10, 11, 12, 13, 14, 15, 1, 2, 3, 4, 5, 6, 7, 8, 9, 10, 11, 12, 13, 15, 1, 2, 3, 4, 5, 6, 7, 8, 9, 10, 11, 12, 13, 14, 15, 1, 2, 3, 4, 5, 6, 7, 8, 9, 10, 11, 12, 13, 14, 1, 2, 3, 4, 5, 6, 7, 8, 9, 10, 11, 12, 13, 14, 15, 1, 2, 3, 4, 5, 6, 7, 8, 9, 10, 11, 12, 13, 14, 1, 2, 3, 4, 5, 6, 7, 8, 9, 10, 11, 12, 13, 14, 15, 1, 2, 3, 4, 5, 6, 7, 8, 9, 10, 11, 12, 13, 14, 15, 1, 2, 3, 4, 5, 6, 7, 8, 9, 10, 11, 12, 13, 14, 15, 1, 2, 3, 4, 5, 6, 7, 8, 9, 10, 11, 12, 13, 14, 15, 1, 2, 3, 4, 5, 6, 7, 8, 9, 10, 11, 12, 13, 14, 15, 1, 2, 3, 4, 5, 6, 7, 8, 9, 10, 11, 12, 13, 14, 15, 1, 2, 3, 4, 5, 6, 7, 8, 9, 10, 11, 12, 13, 14, 15, 1, 2, 3, 4, 5, 6, 7, 8, 9, 10, 11, 12, 13, 1, 2, 3, 4, 5, 6, 7, 8, 9, 10, 11, 12, 13, 15, 1, 2, 3, 4, 5, 6, 7, 8, 9, 10, 11, 12, 13, 1, 2, 3, 4, 5, 6, 7, 8, 9, 10, 11, 12, 13, 15, 1, 2, 3, 4, 5, 6, 7, 8, 9, 10, 11, 12, 13, 14, 15, 1, 2, 3, 4, 5, 6, 7, 8, 9, 10, 11, 12, 13, 14, 15, 1, 2, 3, 4, 5, 6, 7, 8, 9, 10, 11, 12, 13, 14, 15, 1, 2, 3, 4, 5, 6, 7, 8, 9, 10, 11, 12, 13, 14, 15, 1, 2, 3, 4, 5, 6, 7, 8, 9, 10, 11, 12, 13, 14, 1, 2, 3, 4, 5, 6, 7, 8, 9, 10, 11, 12, 13, 14, 15, 1, 2, 3, 4, 5, 6, 7, 8, 9, 10, 11, 12, 13, 14, 15, 1, 2, 3, 4, 5, 6, 7, 8, 9, 10, 11, 12, 13, 14, 15, 1, 2, 3, 4, 5, 6, 7, 8, 9, 10, 11, 12, 13, 14, 1, 2, 3, 4, 5, 6, 7, 8, 9, 10, 11, 12, 13, 14, 15, 1, 2, 3, 4, 5, 6, 7, 8, 9, 10, 11, 12, 13, 14, 15, 1, 2, 3, 4, 5, 6, 7, 8, 9, 10, 11, 12, 13, 14, 15, 1, 2, 3, 4, 5, 6, 7, 8, 9, 10, 11, 12, 13, 14, 15, 1, 2, 3, 4, 5, 6, 7, 8, 9, 10, 11, 12, 13, 14, 1, 2, 3, 4, 5, 6, 7, 8, 9, 10, 11, 12, 13, 1, 2, 3, 4, 5, 6, 7, 8, 9, 10, 11, 12, 13, 1, 2, 3, 4, 5, 6, 7, 8, 9, 10, 11, 12, 13, 14, 1, 2, 3, 4, 5, 6, 7, 8, 9, 10, 11, 12, 13, 14, 1, 2, 3, 4, 5, 6, 7, 8, 9, 10, 11, 12, 13, 14, 1, 2, 3, 4, 5, 6, 7, 8, 9, 10, 11, 12, 13, 14, 15, 1, 2, 3, 4, 5, 6, 7, 8, 9, 10, 11, 12, 13, 14, 15, 1, 2, 3, 4, 5, 6, 7, 8, 9, 10, 11, 12, 13, 15, 1, 2, 3, 4, 5, 6, 7, 8, 9, 10, 11, 12, 13, 14, 1, 2, 3, 4, 5, 6, 7, 8, 9, 10, 11, 12, 13, 14, 1, 2, 3, 4, 5, 6, 7, 8, 9, 10, 11, 12, 13, 14, 15, 1, 2, 3, 4, 5, 6, 7, 8, 9, 10, 11, 12, 13, 14, 15, 1, 2, 3, 4, 5, 6, 7, 8, 9, 10, 11, 12, 13, 14, 15, 1, 2, 3, 4, 5, 6, 7, 8, 9, 10, 11, 12, 13, 14, 15, 1, 2, 3, 4, 5, 6, 7, 8, 9, 10, 11, 12, 13, 15, 1, 2, 3, 4, 5, 6, 7, 8, 9, 10, 11, 12, 13, 1, 2, 3, 4, 5, 6, 7, 8, 9, 10, 11, 12, 13, 14, 15, 1, 2, 3, 4, 5, 6, 7, 8, 9, 10, 11, 12, 13, 14, 15, 1, 2, 3, 4, 5, 6, 7, 8, 9, 10, 11, 12, 13, 14, 15, 1, 2, 3, 4, 5, 6, 7, 8, 9, 10, 11, 12, 13, 14, 15, 1, 2, 3, 4, 5, 6, 7, 8, 9, 10, 11, 12, 13, 14, 15, 1, 2, 3, 4, 5, 6, 7, 8, 9, 10, 11, 12, 13, 14, 15, 1, 2, 3, 4, 5, 6, 7, 8, 9, 10, 11, 12, 13, 14, 15, 1, 2, 3, 4, 5, 6, 7, 8, 9, 10, 11, 12, 13, 14, 15, 1, 2, 3, 4, 5, 6, 7, 8, 9, 10, 11, 12, 13, 14, 15, 1, 2, 3, 4, 5, 6, 7, 8, 9, 10, 11, 12, 13, 1, 2, 3, 4, 5, 6, 7, 8, 9, 10, 11, 12, 13, 14, 15, 1, 2, 3, 4, 5, 6, 7, 8, 9, 10, 11, 12, 13, 14, 1, 2, 3, 4, 5, 6, 7, 8, 9, 10, 11, 12, 13, 14, 15, 1, 2, 3, 4, 5, 6, 7, 8, 9, 10, 11, 12, 13, 14, 15, 1, 2, 3, 4, 5, 6, 7, 8, 9, 10, 11, 12, 13, 14, 15, 1, 2, 3, 4, 5, 6, 7, 8, 9, 10, 11, 12, 13, 15, 1, 2, 3, 4, 5, 6, 7, 8, 9, 10, 11, 12, 13, 14, 15, 1, 2, 3, 4, 5, 6, 7, 8, 9, 10, 11, 12, 13, 14, 15, 1, 2, 3, 4, 5, 6, 7, 8, 9, 10, 11, 12, 13, 14, 15, 1, 2, 3, 4, 5, 6, 7, 8, 9, 10, 11, 12, 13, 14, 15, 1, 2, 3, 4, 5, 6, 7, 8, 9, 10, 11, 12, 13, 14, 15, 1, 2, 3, 4, 5, 6, 7, 8, 9, 10, 11, 12, 13, 15, 1, 2, 3, 4, 5, 6, 7, 8, 9, 10, 11, 12, 13, 14, 15, 1, 2, 3, 4, 5, 6, 7, 8, 9, 10, 11, 12, 13, 14, 15, 1, 2, 3, 4, 5, 6, 7, 8, 9, 10, 11, 12, 13, 14, 15, 1, 2, 3, 4, 5, 6, 7, 8, 9, 10, 11, 12, 13, 14, 15, 1, 2, 3, 4, 5, 6, 7, 8, 9, 10, 11, 12, 13, 14, 15, 1, 2, 3, 4, 5, 6, 7, 8, 9, 10, 11, 12, 13, 14, 15, 1, 2, 3, 4, 5, 6, 7, 8, 9, 10, 11, 12, 13, 14, 1, 2, 3, 4, 5, 6, 7, 8, 9, 10, 11, 12, 13, 15, 1, 2, 3, 4, 5, 6, 7, 8, 9, 10, 11, 12, 13, 14, 15, 1, 2, 3, 4, 5, 6, 7, 8, 9, 10, 11, 12, 13, 14, 15, 1, 2, 3, 4, 5, 6, 7, 8, 9, 10, 11, 12, 13, 14, 15, 1, 2, 3, 4, 5, 6, 7, 8, 9, 10, 11, 12, 13, 14, 15, 1, 2, 3, 4, 5, 6, 7, 8, 9, 10, 11, 12, 13, 14, 15, 1, 2, 3, 4, 5, 6, 7, 8, 9, 10, 11, 12, 13, 14, 15, 1, 2, 3, 4, 5, 6, 7, 8, 9, 10, 11, 12, 13, 14, 15, 1, 2, 3, 4, 5, 6, 7, 8, 9, 10, 11, 12, 13, 14, 1, 2, 3, 4, 5, 6, 7, 8, 9, 10, 11, 12, 13, 14, 15, 1, 2, 3, 4, 5, 6, 7, 8, 9, 10, 11, 12, 13, 14, 15, 1, 2, 3, 4, 5, 6, 7, 8, 9, 10, 11, 12, 13, 14, 15, 1, 2, 3, 4, 5, 6, 7, 8, 9, 10, 11, 12, 13, 14, 15, 1, 2, 3, 4, 5, 6, 7, 8, 9, 10, 11, 12, 13, 14, 15, 1, 2, 3, 4, 5, 6, 7, 8, 9, 10, 11, 12, 13, 14, 15, 1, 2, 3, 4, 5, 6, 7, 8, 9, 10, 11, 12, 13, 14, 15, 1, 2, 3, 4, 5, 6, 7, 8, 9, 10, 11, 12, 13, 15, 1, 2, 3, 4, 5, 6, 7, 8, 9, 10, 11, 12, 13, 15, 1, 2, 3, 4, 5, 6, 7, 8, 9, 10, 11, 12, 13, 14, 15, 1, 2, 3, 4, 5, 6, 7, 8, 9, 10, 11, 12, 13, 15, 1, 2, 3, 4, 5, 6, 7, 8, 9, 10, 11, 12, 13, 1, 2, 3, 4, 5, 6, 7, 8, 9, 10, 11, 12, 13, 15, 1, 2, 3, 4, 5, 6, 7, 8, 9, 10, 11, 12, 13, 14, 1, 2, 3, 4, 5, 6, 7, 8, 9, 10, 11, 12, 13, 14, 15, 1, 2, 3, 4, 5, 6, 7, 8, 9, 10, 11, 12, 13, 14, 15, 1, 2, 3, 4, 5, 6, 7, 8, 9, 10, 11, 12, 13, 14, 15, 1, 2, 3, 4, 5, 6, 7, 8, 9, 10, 11, 12, 13, 15, 1, 2, 3, 4, 5, 6, 7, 8, 9, 10, 11, 12, 13, 14, 15, 1, 2, 3, 4, 5, 6, 7, 8, 9, 10, 11, 12, 13, 14, 1, 2, 3, 4, 5, 6, 7, 8, 9, 10, 11, 12, 13, 14, 15, 1, 2, 3, 4, 5, 6, 7, 8, 9, 10, 11, 12, 13, 15, 1, 2, 3, 4, 5, 6, 7, 8, 9, 10, 11, 12, 13, 14, 15, 1, 2, 3, 4, 5, 6, 7, 8, 9, 10, 11, 12, 13, 14, 15, 1, 2, 3, 4, 5, 6, 7, 8, 9, 10, 11, 12, 13, 14, 15, 1, 2, 3, 4, 5, 6, 7, 8, 9, 10, 11, 12, 13, 14, 15, 1, 2, 3, 4, 5, 6, 7, 8, 9, 10, 11, 12, 13, 14, 15, 1, 2, 3, 4, 5, 6, 7, 8, 9, 10, 11, 12, 13, 14, 15, 1, 2, 3, 4, 5, 6, 7, 8, 9, 10, 11, 12, 13, 15, 1, 2, 3, 4, 5, 6, 7, 8, 9, 10, 11, 12, 13, 15, 1, 2, 3, 4, 5, 6, 7, 8, 9, 10, 11, 12, 13, 14, 15, 1, 2, 3, 4, 5, 6, 7, 8, 9, 10, 11, 12, 13, 14, 15, 1, 2, 3, 4, 5, 6, 7, 8, 9, 10, 11, 12, 13, 14, 15, 1, 2, 3, 4, 5, 6, 7, 8, 9, 10, 11, 12, 13, 15, 1, 2, 3, 4, 5, 6, 7, 8, 9, 10, 11, 12, 13, 14, 15, 1, 2, 3, 4, 5, 6, 7, 8, 9, 10, 11, 12, 13, 14, 15, 1, 2, 3, 4, 5, 6, 7, 8, 9, 10, 11, 12, 13, 14, 15, 1, 2, 3, 4, 5, 6, 7, 8, 9, 10, 11, 12, 13, 1, 2, 3, 4, 5, 6, 7, 8, 9, 10, 11, 12, 13, 15, 1, 2, 3, 4, 5, 6, 7, 8, 9, 10, 11, 12, 13, 14, 15, 1, 2, 3, 4, 5, 6, 7, 8, 9, 10, 11, 12, 13, 14, 15, 1, 2, 3, 4, 5, 6, 7, 8, 9, 10, 11, 12, 13, 14, 15, 1, 2, 3, 4, 5, 6, 7, 8, 9, 10, 11, 12, 13, 14, 15, 1, 2, 3, 4, 5, 6, 7, 8, 9, 10, 11, 12, 13, 14, 15, 1, 2, 3, 4, 5, 6, 7, 8, 9, 10, 11, 12, 13, 14, 15, 1, 2, 3, 4, 5, 6, 7, 8, 9, 10, 11, 12, 13, 14, 1, 2, 3, 4, 5, 6, 7, 8, 9, 10, 11, 12, 13, 14, 15, 1, 2, 3, 4, 5, 6, 7, 8, 9, 10, 11, 12, 13, 15, 1, 2, 3, 4, 5, 6, 7, 8, 9, 10, 11, 12, 13, 14, 15, 1, 2, 3, 4, 5, 6, 7, 8, 9, 10, 11, 12, 13, 14, 15, 1, 2, 3, 4, 5, 6, 7, 8, 9, 10, 11, 12, 13, 14, 15, 1, 2, 3, 4, 5, 6, 7, 8, 9, 10, 11, 12, 13, 15, 1, 2, 3, 4, 5, 6, 7, 8, 9, 10, 11, 12, 13, 14, 15, 1, 2, 3, 4, 5, 6, 7, 8, 9, 10, 11, 12, 13, 14, 15, 1, 2, 3, 4, 5, 6, 7, 8, 9, 10, 11, 12, 13, 14, 1, 2, 3, 4, 5, 6, 7, 8, 9, 10, 11, 12, 13, 14, 15, 1, 2, 3, 4, 5, 6, 7, 8, 9, 10, 11, 12, 13, 14, 15, 1, 2, 3, 4, 5, 6, 7, 8, 9, 10, 11, 12, 13, 14, 15, 1, 2, 3, 4, 5, 6, 7, 8, 9, 10, 11, 12, 13, 14, 15, 1, 2, 3, 4, 5, 6, 7, 8, 9, 10, 11, 12, 13, 14, 15, 1, 2, 3, 4, 5, 6, 7, 8, 9, 10, 11, 12, 13, 14, 15, 1, 2, 3, 4, 5, 6, 7, 8, 9, 10, 11, 12, 13, 14, 15, 1, 2, 3, 4, 5, 6, 7, 8, 9, 10, 11, 12, 13, 14, 15, 1, 2, 3, 4, 5, 6, 7, 8, 9, 10, 11, 12, 13, 14, 15, 1, 2, 3, 4, 5, 6, 7, 8, 9, 10, 11, 12, 13, 14, 15, 1, 2, 3, 4, 5, 6, 7, 8, 9, 10, 11, 12, 13, 15, 1, 2, 3, 4, 5, 6, 7, 8, 9, 10, 11, 12, 13, 14, 15, 1, 2, 3, 4, 5, 6, 7, 8, 9, 10, 11, 12, 13, 14, 15, 1, 2, 3, 4, 5, 6, 7, 8, 9, 10, 11, 12, 13, 15, 1, 2, 3, 4, 5, 6, 7, 8, 9, 10, 11, 12, 13, 14, 15, 1, 2, 3, 4, 5, 6, 7, 8, 9, 10, 11, 12, 13, 14, 15, 1, 2, 3, 4, 5, 6, 7, 8, 9, 10, 11, 12, 13, 14, 15, 1, 2, 3, 4, 5, 6, 7, 8, 9, 10, 11, 12, 13, 14, 1, 2, 3, 4, 5, 6, 7, 8, 9, 10, 11, 12, 13, 14, 15, 1, 2, 3, 4, 5, 6, 7, 8, 9, 10, 11, 12, 13, 15, 1, 2, 3, 4, 5, 6, 7, 8, 9, 10, 11, 12, 13, 14, 15, 1, 2, 3, 4, 5, 6, 7, 8, 9, 10, 11, 12, 13, 14, 15, 1, 2, 3, 4, 5, 6, 7, 8, 9, 10, 11, 12, 13, 14, 15, 1, 2, 3, 4, 5, 6, 7, 8, 9, 10, 11, 12, 13, 14, 15, 1, 2, 3, 4, 5, 6, 7, 8, 9, 10, 11, 12, 13, 15, 1, 2, 3, 4, 5, 6, 7, 8, 9, 10, 11, 12, 13, 1, 2, 3, 4, 5, 6, 7, 8, 9, 10, 11, 12, 13, 14, 15, 1, 2, 3, 4, 5, 6, 7, 8, 9, 10, 11, 12, 13, 14, 15, 1, 2, 3, 4, 5, 6, 7, 8, 9, 10, 11, 12, 13, 14, 1, 2, 3, 4, 5, 6, 7, 8, 9, 10, 11, 12, 13, 14, 15, 1, 2, 3, 4, 5, 6, 7, 8, 9, 10, 11, 12, 13, 14, 1, 2, 3, 4, 5, 6, 7, 8, 9, 10, 11, 12, 13, 14, 15, 1, 2, 3, 4, 5, 6, 7, 8, 9, 10, 11, 12, 13, 15, 1, 2, 3, 4, 5, 6, 7, 8, 9, 10, 11, 12, 13, 15, 1, 2, 3, 4, 5, 6, 7, 8, 9, 10, 11, 12, 13, 14, 1, 2, 3, 4, 5, 6, 7, 8, 9, 10, 11, 12, 13, 15, 1, 2, 3, 4, 5, 6, 7, 8, 9, 10, 11, 12, 13, 14, 15, 1, 2, 3, 4, 5, 6, 7, 8, 9, 10, 11, 12, 13, 14, 15, 1, 2, 3, 4, 5, 6, 7, 8, 9, 10, 11, 12, 13, 14, 15, 1, 2, 3, 4, 5, 6, 7, 8, 9, 10, 11, 12, 13, 14, 1, 2, 3, 4, 5, 6, 7, 8, 9, 10, 11, 12, 13, 14, 15, 1, 2, 3, 4, 5, 6, 7, 8, 9, 10, 11, 12, 13, 15, 1, 2, 3, 4, 5, 6, 7, 8, 9, 10, 11, 12, 13, 14, 15, 1, 2, 3, 4, 5, 6, 7, 8, 9, 10, 11, 12, 13, 14, 15, 1, 2, 3, 4, 5, 6, 7, 8, 9, 10, 11, 12, 13, 14, 1, 2, 3, 4, 5, 6, 7, 8, 9, 10, 11, 12, 13, 14, 15, 1, 2, 3, 4, 5, 6, 7, 8, 9, 10, 11, 12, 13, 14, 1, 2, 3, 4, 5, 6, 7, 8, 9, 10, 11, 12, 13, 14, 15, 1, 2, 3, 4, 5, 6, 7, 8, 9, 10, 11, 12, 13, 1, 2, 3, 4, 5, 6, 7, 8, 9, 10, 11, 12, 13, 14, 15, 1, 2, 3, 4, 5, 6, 7, 8, 9, 10, 11, 12, 13, 14, 1, 2, 3, 4, 5, 6, 7, 8, 9, 10, 11, 12, 13, 1, 2, 3, 4, 5, 6, 7, 8, 9, 10, 11, 12, 13, 14, 15, 1, 2, 3, 4, 5, 6, 7, 8, 9, 10, 11, 12, 13, 14, 15, 1, 2, 3, 4, 5, 6, 7, 8, 9, 10, 11, 12, 13, 14, 15, 1, 2, 3, 4, 5, 6, 7, 8, 9, 10, 11, 12, 13, 14, 15, 1, 2, 3, 4, 5, 6, 7, 8, 9, 10, 11, 12, 13, 14, 15, 1, 2, 3, 4, 5, 6, 7, 8, 9, 10, 11, 12, 13, 14, 15, 1, 2, 3, 4, 5, 6, 7, 8, 9, 10, 11, 12, 13, 14, 15, 1, 2, 3, 4, 5, 6, 7, 8, 9, 10, 11, 12, 13, 15, 1, 2, 3, 4, 5, 6, 7, 8, 9, 10, 11, 12, 13, 14, 1, 2, 3, 4, 5, 6, 7, 8, 9, 10, 11, 12, 13, 15, 1, 2, 3, 4, 5, 6, 7, 8, 9, 10, 11, 12, 13, 14, 15, 1, 2, 3, 4, 5, 6, 7, 8, 9, 10, 11, 12, 13, 14, 15, 1, 2, 3, 4, 5, 6, 7, 8, 9, 10, 11, 12, 13, 14, 15, 1, 2, 3, 4, 5, 6, 7, 8, 9, 10, 11, 12, 13, 1, 2, 3, 4, 5, 6, 7, 8, 9, 10, 11, 12, 13, 14, 15, 1, 2, 3, 4, 5, 6, 7, 8, 9, 10, 11, 12, 13, 14, 15, 1, 2, 3, 4, 5, 6, 7, 8, 9, 10, 11, 12, 13, 14, 1, 2, 3, 4, 5, 6, 7, 8, 9, 10, 11, 12, 13, 15, 1, 2, 3, 4, 5, 6, 7, 8, 9, 10, 11, 12, 13, 14, 15, 1, 2, 3, 4, 5, 6, 7, 8, 9, 10, 11, 12, 13, 1, 2, 3, 4, 5, 6, 7, 8, 9, 10, 11, 12, 13, 14, 15, 1, 2, 3, 4, 5, 6, 7, 8, 9, 10, 11, 12, 13, 14, 15, 1, 2, 3, 4, 5, 6, 7, 8, 9, 10, 11, 12, 13, 14, 1, 2, 3, 4, 5, 6, 7, 8, 9, 10, 11, 12, 13, 14, 15, 1, 2, 3, 4, 5, 6, 7, 8, 9, 10, 11, 12, 13, 14, 1, 2, 3, 4, 5, 6, 7, 8, 9, 10, 11, 12, 13, 14, 15, 1, 2, 3, 4, 5, 6, 7, 8, 9, 10, 11, 12, 13, 14, 15, 1, 2, 3, 4, 5, 6, 7, 8, 9, 10, 11, 12, 13, 14, 15, 1, 2, 3, 4, 5, 6, 7, 8, 9, 10, 11, 12, 13, 15, 1, 2, 3, 4, 5, 6, 7, 8, 9, 10, 11, 12, 13, 15, 1, 2, 3, 4, 5, 6, 7, 8, 9, 10, 11, 12, 13, 14, 15, 1, 2, 3, 4, 5, 6, 7, 8, 9, 10, 11, 12, 13, 14, 15, 1, 2, 3, 4, 5, 6, 7, 8, 9, 10, 11, 12, 13, 1, 2, 3, 4, 5, 6, 7, 8, 9, 10, 11, 12, 13, 14, 15, 1, 2, 3, 4, 5, 6, 7, 8, 9, 10, 11, 12, 13, 14, 15, 1, 2, 3, 4, 5, 6, 7, 8, 9, 10, 11, 12, 13, 14, 15, 1, 2, 3, 4, 5, 6, 7, 8, 9, 10, 11, 12, 13, 15, 1, 2, 3, 4, 5, 6, 7, 8, 9, 10, 11, 12, 13, 14, 15, 1, 2, 3, 4, 5, 6, 7, 8, 9, 10, 11, 12, 13, 15, 1, 2, 3, 4, 5, 6, 7, 8, 9, 10, 11, 12, 13, 14, 15, 1, 2, 3, 4, 5, 6, 7, 8, 9, 10, 11, 12, 13, 14, 15, 1, 2, 3, 4, 5, 6, 7, 8, 9, 10, 11, 12, 13, 15, 1, 2, 3, 4, 5, 6, 7, 8, 9, 10, 11, 12, 13, 14, 15, 1, 2, 3, 4, 5, 6, 7, 8, 9, 10, 11, 12, 13, 14, 15, 1, 2, 3, 4, 5, 6, 7, 8, 9, 10, 11, 12, 13, 1, 2, 3, 4, 5, 6, 7, 8, 9, 10, 11, 12, 13, 14, 1, 2, 3, 4, 5, 6, 7, 8, 9, 10, 11, 12, 13, 14, 15, 1, 2, 3, 4, 5, 6, 7, 8, 9, 10, 11, 12, 13, 14, 15, 1, 2, 3, 4, 5, 6, 7, 8, 9, 10, 11, 12, 13, 14, 15], \"Freq\": [0.09052245800127316, 0.09052245800127316, 0.09052245800127316, 0.09052245800127316, 0.09052245800127316, 0.09052245800127316, 0.09052245800127316, 0.09052245800127316, 0.09052245800127316, 0.09052245800127316, 0.09052245800127316, 0.09052245800127316, 0.09052245800127316, 0.09052245800127316, 0.09052245800127316, 0.0969205846111625, 0.0969205846111625, 0.0969205846111625, 0.0969205846111625, 0.0969205846111625, 0.0969205846111625, 0.0969205846111625, 0.0969205846111625, 0.0969205846111625, 0.0969205846111625, 0.0969205846111625, 0.0969205846111625, 0.0969205846111625, 0.0969205846111625, 0.0969205846111625, 0.09300463618337824, 0.09300463618337824, 0.09300463618337824, 0.09300463618337824, 0.09300463618337824, 0.09300463618337824, 0.09300463618337824, 0.09300463618337824, 0.09300463618337824, 0.09300463618337824, 0.09300463618337824, 0.09300463618337824, 0.09300463618337824, 0.09300463618337824, 0.09096144962201998, 0.09096144962201998, 0.09096144962201998, 0.09096144962201998, 0.09096144962201998, 0.09096144962201998, 0.09096144962201998, 0.09096144962201998, 0.09096144962201998, 0.09096144962201998, 0.09096144962201998, 0.09096144962201998, 0.09096144962201998, 0.09096144962201998, 0.09096144962201998, 0.09607191812265559, 0.09607191812265559, 0.09607191812265559, 0.09607191812265559, 0.09607191812265559, 0.09607191812265559, 0.09607191812265559, 0.09607191812265559, 0.09607191812265559, 0.09607191812265559, 0.09607191812265559, 0.09607191812265559, 0.09607191812265559, 0.09607191812265559, 0.09607191812265559, 0.09160649316365219, 0.09160649316365219, 0.09160649316365219, 0.09160649316365219, 0.09160649316365219, 0.09160649316365219, 0.09160649316365219, 0.09160649316365219, 0.09160649316365219, 0.09160649316365219, 0.09160649316365219, 0.09160649316365219, 0.09160649316365219, 0.09160649316365219, 0.09160649316365219, 0.09433421894693375, 0.09433421894693375, 0.09433421894693375, 0.09433421894693375, 0.09433421894693375, 0.09433421894693375, 0.09433421894693375, 0.09433421894693375, 0.09433421894693375, 0.09433421894693375, 0.09433421894693375, 0.09433421894693375, 0.09433421894693375, 0.09433421894693375, 0.09387694807942129, 0.09387694807942129, 0.09387694807942129, 0.09387694807942129, 0.09387694807942129, 0.09387694807942129, 0.09387694807942129, 0.09387694807942129, 0.09387694807942129, 0.09387694807942129, 0.09387694807942129, 0.09387694807942129, 0.09387694807942129, 0.09387694807942129, 0.09387694807942129, 0.09330326224125936, 0.09330326224125936, 0.09330326224125936, 0.09330326224125936, 0.09330326224125936, 0.09330326224125936, 0.09330326224125936, 0.09330326224125936, 0.09330326224125936, 0.09330326224125936, 0.09330326224125936, 0.09330326224125936, 0.09330326224125936, 0.09330326224125936, 0.09330326224125936, 0.09301244782093013, 0.09301244782093013, 0.09301244782093013, 0.09301244782093013, 0.09301244782093013, 0.09301244782093013, 0.09301244782093013, 0.09301244782093013, 0.09301244782093013, 0.09301244782093013, 0.09301244782093013, 0.09301244782093013, 0.09301244782093013, 0.09301244782093013, 0.09301244782093013, 0.08982237366952278, 0.08982237366952278, 0.08982237366952278, 0.08982237366952278, 0.08982237366952278, 0.08982237366952278, 0.08982237366952278, 0.08982237366952278, 0.08982237366952278, 0.08982237366952278, 0.08982237366952278, 0.08982237366952278, 0.08982237366952278, 0.09201683259441698, 0.09201683259441698, 0.09201683259441698, 0.09201683259441698, 0.09201683259441698, 0.09201683259441698, 0.09201683259441698, 0.09201683259441698, 0.09201683259441698, 0.09201683259441698, 0.09201683259441698, 0.09201683259441698, 0.09201683259441698, 0.09201683259441698, 0.09201683259441698, 0.09336819443274162, 0.09336819443274162, 0.09336819443274162, 0.09336819443274162, 0.09336819443274162, 0.09336819443274162, 0.09336819443274162, 0.09336819443274162, 0.09336819443274162, 0.09336819443274162, 0.09336819443274162, 0.09336819443274162, 0.09336819443274162, 0.09336819443274162, 0.0897635135240603, 0.0897635135240603, 0.0897635135240603, 0.0897635135240603, 0.0897635135240603, 0.0897635135240603, 0.0897635135240603, 0.0897635135240603, 0.0897635135240603, 0.0897635135240603, 0.0897635135240603, 0.0897635135240603, 0.0897635135240603, 0.09184668129982294, 0.09184668129982294, 0.09184668129982294, 0.09184668129982294, 0.09184668129982294, 0.09184668129982294, 0.09184668129982294, 0.09184668129982294, 0.09184668129982294, 0.09184668129982294, 0.09184668129982294, 0.09184668129982294, 0.09184668129982294, 0.09184668129982294, 0.09184668129982294, 0.09437778464457072, 0.09437778464457072, 0.09437778464457072, 0.09437778464457072, 0.09437778464457072, 0.09437778464457072, 0.09437778464457072, 0.09437778464457072, 0.09437778464457072, 0.09437778464457072, 0.09437778464457072, 0.09437778464457072, 0.09437778464457072, 0.09437778464457072, 0.09437778464457072, 0.09222117535944753, 0.09222117535944753, 0.09222117535944753, 0.09222117535944753, 0.09222117535944753, 0.09222117535944753, 0.09222117535944753, 0.09222117535944753, 0.09222117535944753, 0.09222117535944753, 0.09222117535944753, 0.09222117535944753, 0.09222117535944753, 0.09222117535944753, 0.0901599949476312, 0.0901599949476312, 0.0901599949476312, 0.0901599949476312, 0.0901599949476312, 0.0901599949476312, 0.0901599949476312, 0.0901599949476312, 0.0901599949476312, 0.0901599949476312, 0.0901599949476312, 0.0901599949476312, 0.0901599949476312, 0.09050672928540288, 0.09050672928540288, 0.09050672928540288, 0.09050672928540288, 0.09050672928540288, 0.09050672928540288, 0.09050672928540288, 0.09050672928540288, 0.09050672928540288, 0.09050672928540288, 0.09050672928540288, 0.09050672928540288, 0.09050672928540288, 0.09050672928540288, 0.0887842276314257, 0.0887842276314257, 0.0887842276314257, 0.0887842276314257, 0.0887842276314257, 0.0887842276314257, 0.0887842276314257, 0.0887842276314257, 0.0887842276314257, 0.0887842276314257, 0.0887842276314257, 0.0887842276314257, 0.0887842276314257, 0.09370647346355059, 0.09370647346355059, 0.09370647346355059, 0.09370647346355059, 0.09370647346355059, 0.09370647346355059, 0.09370647346355059, 0.09370647346355059, 0.09370647346355059, 0.09370647346355059, 0.09370647346355059, 0.09370647346355059, 0.09370647346355059, 0.09370647346355059, 0.09370647346355059, 0.0952736975965875, 0.0952736975965875, 0.0952736975965875, 0.0952736975965875, 0.0952736975965875, 0.0952736975965875, 0.0952736975965875, 0.0952736975965875, 0.0952736975965875, 0.0952736975965875, 0.0952736975965875, 0.0952736975965875, 0.0952736975965875, 0.0952736975965875, 0.0952736975965875, 0.09038235674587992, 0.09038235674587992, 0.09038235674587992, 0.09038235674587992, 0.09038235674587992, 0.09038235674587992, 0.09038235674587992, 0.09038235674587992, 0.09038235674587992, 0.09038235674587992, 0.09038235674587992, 0.09038235674587992, 0.09038235674587992, 0.09038235674587992, 0.09038235674587992, 0.09277692129164229, 0.09277692129164229, 0.09277692129164229, 0.09277692129164229, 0.09277692129164229, 0.09277692129164229, 0.09277692129164229, 0.09277692129164229, 0.09277692129164229, 0.09277692129164229, 0.09277692129164229, 0.09277692129164229, 0.09277692129164229, 0.09277692129164229, 0.09277692129164229, 0.09107073255386816, 0.09107073255386816, 0.09107073255386816, 0.09107073255386816, 0.09107073255386816, 0.09107073255386816, 0.09107073255386816, 0.09107073255386816, 0.09107073255386816, 0.09107073255386816, 0.09107073255386816, 0.09107073255386816, 0.09107073255386816, 0.09107073255386816, 0.09107073255386816, 0.09151678987418242, 0.09151678987418242, 0.09151678987418242, 0.09151678987418242, 0.09151678987418242, 0.09151678987418242, 0.09151678987418242, 0.09151678987418242, 0.09151678987418242, 0.09151678987418242, 0.09151678987418242, 0.09151678987418242, 0.09151678987418242, 0.09151678987418242, 0.09151678987418242, 0.09072898596866016, 0.09072898596866016, 0.09072898596866016, 0.09072898596866016, 0.09072898596866016, 0.09072898596866016, 0.09072898596866016, 0.09072898596866016, 0.09072898596866016, 0.09072898596866016, 0.09072898596866016, 0.09072898596866016, 0.09072898596866016, 0.09072898596866016, 0.09072898596866016, 0.09296326514056104, 0.09296326514056104, 0.09296326514056104, 0.09296326514056104, 0.09296326514056104, 0.09296326514056104, 0.09296326514056104, 0.09296326514056104, 0.09296326514056104, 0.09296326514056104, 0.09296326514056104, 0.09296326514056104, 0.09296326514056104, 0.09296326514056104, 0.09401104773348373, 0.09401104773348373, 0.09401104773348373, 0.09401104773348373, 0.09401104773348373, 0.09401104773348373, 0.09401104773348373, 0.09401104773348373, 0.09401104773348373, 0.09401104773348373, 0.09401104773348373, 0.09401104773348373, 0.09401104773348373, 0.09401104773348373, 0.09401104773348373, 0.09222558533621456, 0.09222558533621456, 0.09222558533621456, 0.09222558533621456, 0.09222558533621456, 0.09222558533621456, 0.09222558533621456, 0.09222558533621456, 0.09222558533621456, 0.09222558533621456, 0.09222558533621456, 0.09222558533621456, 0.09222558533621456, 0.09222558533621456, 0.09393993382705851, 0.09393993382705851, 0.09393993382705851, 0.09393993382705851, 0.09393993382705851, 0.09393993382705851, 0.09393993382705851, 0.09393993382705851, 0.09393993382705851, 0.09393993382705851, 0.09393993382705851, 0.09393993382705851, 0.09393993382705851, 0.09393993382705851, 0.09393993382705851, 0.0933364936569503, 0.0933364936569503, 0.0933364936569503, 0.0933364936569503, 0.0933364936569503, 0.0933364936569503, 0.0933364936569503, 0.0933364936569503, 0.0933364936569503, 0.0933364936569503, 0.0933364936569503, 0.0933364936569503, 0.0933364936569503, 0.0933364936569503, 0.0933364936569503, 0.09574978486333267, 0.09574978486333267, 0.09574978486333267, 0.09574978486333267, 0.09574978486333267, 0.09574978486333267, 0.09574978486333267, 0.09574978486333267, 0.09574978486333267, 0.09574978486333267, 0.09574978486333267, 0.09574978486333267, 0.09574978486333267, 0.09574978486333267, 0.09380589286329045, 0.09380589286329045, 0.09380589286329045, 0.09380589286329045, 0.09380589286329045, 0.09380589286329045, 0.09380589286329045, 0.09380589286329045, 0.09380589286329045, 0.09380589286329045, 0.09380589286329045, 0.09380589286329045, 0.09380589286329045, 0.09380589286329045, 0.09380589286329045, 0.09121646718830839, 0.09121646718830839, 0.09121646718830839, 0.09121646718830839, 0.09121646718830839, 0.09121646718830839, 0.09121646718830839, 0.09121646718830839, 0.09121646718830839, 0.09121646718830839, 0.09121646718830839, 0.09121646718830839, 0.09121646718830839, 0.09121646718830839, 0.09369257241658166, 0.09369257241658166, 0.09369257241658166, 0.09369257241658166, 0.09369257241658166, 0.09369257241658166, 0.09369257241658166, 0.09369257241658166, 0.09369257241658166, 0.09369257241658166, 0.09369257241658166, 0.09369257241658166, 0.09369257241658166, 0.09369257241658166, 0.09369257241658166, 0.09276802583535285, 0.09276802583535285, 0.09276802583535285, 0.09276802583535285, 0.09276802583535285, 0.09276802583535285, 0.09276802583535285, 0.09276802583535285, 0.09276802583535285, 0.09276802583535285, 0.09276802583535285, 0.09276802583535285, 0.09276802583535285, 0.09276802583535285, 0.09276802583535285, 0.09579638463738721, 0.09579638463738721, 0.09579638463738721, 0.09579638463738721, 0.09579638463738721, 0.09579638463738721, 0.09579638463738721, 0.09579638463738721, 0.09579638463738721, 0.09579638463738721, 0.09579638463738721, 0.09579638463738721, 0.09579638463738721, 0.09579638463738721, 0.09579638463738721, 0.0910186608934087, 0.0910186608934087, 0.0910186608934087, 0.0910186608934087, 0.0910186608934087, 0.0910186608934087, 0.0910186608934087, 0.0910186608934087, 0.0910186608934087, 0.0910186608934087, 0.0910186608934087, 0.0910186608934087, 0.0910186608934087, 0.0910186608934087, 0.0910186608934087, 0.0946432083644525, 0.0946432083644525, 0.0946432083644525, 0.0946432083644525, 0.0946432083644525, 0.0946432083644525, 0.0946432083644525, 0.0946432083644525, 0.0946432083644525, 0.0946432083644525, 0.0946432083644525, 0.0946432083644525, 0.0946432083644525, 0.0946432083644525, 0.0946432083644525, 0.09242679724247624, 0.09242679724247624, 0.09242679724247624, 0.09242679724247624, 0.09242679724247624, 0.09242679724247624, 0.09242679724247624, 0.09242679724247624, 0.09242679724247624, 0.09242679724247624, 0.09242679724247624, 0.09242679724247624, 0.09242679724247624, 0.09242679724247624, 0.09242679724247624, 0.09299433786781418, 0.09299433786781418, 0.09299433786781418, 0.09299433786781418, 0.09299433786781418, 0.09299433786781418, 0.09299433786781418, 0.09299433786781418, 0.09299433786781418, 0.09299433786781418, 0.09299433786781418, 0.09299433786781418, 0.09299433786781418, 0.09299433786781418, 0.09403783944657386, 0.09403783944657386, 0.09403783944657386, 0.09403783944657386, 0.09403783944657386, 0.09403783944657386, 0.09403783944657386, 0.09403783944657386, 0.09403783944657386, 0.09403783944657386, 0.09403783944657386, 0.09403783944657386, 0.09403783944657386, 0.09403783944657386, 0.09403783944657386, 0.09269363109914877, 0.09269363109914877, 0.09269363109914877, 0.09269363109914877, 0.09269363109914877, 0.09269363109914877, 0.09269363109914877, 0.09269363109914877, 0.09269363109914877, 0.09269363109914877, 0.09269363109914877, 0.09269363109914877, 0.09269363109914877, 0.09269363109914877, 0.09269363109914877, 0.09609493126394195, 0.09609493126394195, 0.09609493126394195, 0.09609493126394195, 0.09609493126394195, 0.09609493126394195, 0.09609493126394195, 0.09609493126394195, 0.09609493126394195, 0.09609493126394195, 0.09609493126394195, 0.09609493126394195, 0.09609493126394195, 0.09609493126394195, 0.09609493126394195, 0.09422736402595734, 0.09422736402595734, 0.09422736402595734, 0.09422736402595734, 0.09422736402595734, 0.09422736402595734, 0.09422736402595734, 0.09422736402595734, 0.09422736402595734, 0.09422736402595734, 0.09422736402595734, 0.09422736402595734, 0.09422736402595734, 0.09422736402595734, 0.09422736402595734, 0.0937382583708919, 0.0937382583708919, 0.0937382583708919, 0.0937382583708919, 0.0937382583708919, 0.0937382583708919, 0.0937382583708919, 0.0937382583708919, 0.0937382583708919, 0.0937382583708919, 0.0937382583708919, 0.0937382583708919, 0.0937382583708919, 0.0937382583708919, 0.0937382583708919, 0.09314581968888003, 0.09314581968888003, 0.09314581968888003, 0.09314581968888003, 0.09314581968888003, 0.09314581968888003, 0.09314581968888003, 0.09314581968888003, 0.09314581968888003, 0.09314581968888003, 0.09314581968888003, 0.09314581968888003, 0.09314581968888003, 0.09314581968888003, 0.0949662314836654, 0.0949662314836654, 0.0949662314836654, 0.0949662314836654, 0.0949662314836654, 0.0949662314836654, 0.0949662314836654, 0.0949662314836654, 0.0949662314836654, 0.0949662314836654, 0.0949662314836654, 0.0949662314836654, 0.0949662314836654, 0.0949662314836654, 0.0949662314836654, 0.09283289368267417, 0.09283289368267417, 0.09283289368267417, 0.09283289368267417, 0.09283289368267417, 0.09283289368267417, 0.09283289368267417, 0.09283289368267417, 0.09283289368267417, 0.09283289368267417, 0.09283289368267417, 0.09283289368267417, 0.09283289368267417, 0.09283289368267417, 0.09283289368267417, 0.09285432734251618, 0.09285432734251618, 0.09285432734251618, 0.09285432734251618, 0.09285432734251618, 0.09285432734251618, 0.09285432734251618, 0.09285432734251618, 0.09285432734251618, 0.09285432734251618, 0.09285432734251618, 0.09285432734251618, 0.09285432734251618, 0.09285432734251618, 0.09285432734251618, 0.092223944664328, 0.092223944664328, 0.092223944664328, 0.092223944664328, 0.092223944664328, 0.092223944664328, 0.092223944664328, 0.092223944664328, 0.092223944664328, 0.092223944664328, 0.092223944664328, 0.092223944664328, 0.092223944664328, 0.092223944664328, 0.09407105110373702, 0.09407105110373702, 0.09407105110373702, 0.09407105110373702, 0.09407105110373702, 0.09407105110373702, 0.09407105110373702, 0.09407105110373702, 0.09407105110373702, 0.09407105110373702, 0.09407105110373702, 0.09407105110373702, 0.09407105110373702, 0.09407105110373702, 0.09407105110373702, 0.08873665685764129, 0.08873665685764129, 0.08873665685764129, 0.08873665685764129, 0.08873665685764129, 0.08873665685764129, 0.08873665685764129, 0.08873665685764129, 0.08873665685764129, 0.08873665685764129, 0.08873665685764129, 0.08873665685764129, 0.08873665685764129, 0.08873665685764129, 0.0927782509702165, 0.0927782509702165, 0.0927782509702165, 0.0927782509702165, 0.0927782509702165, 0.0927782509702165, 0.0927782509702165, 0.0927782509702165, 0.0927782509702165, 0.0927782509702165, 0.0927782509702165, 0.0927782509702165, 0.0927782509702165, 0.09229737824895595, 0.09229737824895595, 0.09229737824895595, 0.09229737824895595, 0.09229737824895595, 0.09229737824895595, 0.09229737824895595, 0.09229737824895595, 0.09229737824895595, 0.09229737824895595, 0.09229737824895595, 0.09229737824895595, 0.09229737824895595, 0.09229737824895595, 0.09229737824895595, 0.09097314956330273, 0.09097314956330273, 0.09097314956330273, 0.09097314956330273, 0.09097314956330273, 0.09097314956330273, 0.09097314956330273, 0.09097314956330273, 0.09097314956330273, 0.09097314956330273, 0.09097314956330273, 0.09097314956330273, 0.09097314956330273, 0.09097314956330273, 0.09274502123556704, 0.09274502123556704, 0.09274502123556704, 0.09274502123556704, 0.09274502123556704, 0.09274502123556704, 0.09274502123556704, 0.09274502123556704, 0.09274502123556704, 0.09274502123556704, 0.09274502123556704, 0.09274502123556704, 0.09274502123556704, 0.09274502123556704, 0.0936661617300716, 0.0936661617300716, 0.0936661617300716, 0.0936661617300716, 0.0936661617300716, 0.0936661617300716, 0.0936661617300716, 0.0936661617300716, 0.0936661617300716, 0.0936661617300716, 0.0936661617300716, 0.0936661617300716, 0.0936661617300716, 0.0936661617300716, 0.0936661617300716, 0.092120706099005, 0.092120706099005, 0.092120706099005, 0.092120706099005, 0.092120706099005, 0.092120706099005, 0.092120706099005, 0.092120706099005, 0.092120706099005, 0.092120706099005, 0.092120706099005, 0.092120706099005, 0.092120706099005, 0.092120706099005, 0.09432095555942745, 0.09432095555942745, 0.09432095555942745, 0.09432095555942745, 0.09432095555942745, 0.09432095555942745, 0.09432095555942745, 0.09432095555942745, 0.09432095555942745, 0.09432095555942745, 0.09432095555942745, 0.09432095555942745, 0.09432095555942745, 0.09432095555942745, 0.09432095555942745, 0.09275821782085487, 0.09275821782085487, 0.09275821782085487, 0.09275821782085487, 0.09275821782085487, 0.09275821782085487, 0.09275821782085487, 0.09275821782085487, 0.09275821782085487, 0.09275821782085487, 0.09275821782085487, 0.09275821782085487, 0.09275821782085487, 0.09275821782085487, 0.09275821782085487, 0.09477231167281405, 0.09477231167281405, 0.09477231167281405, 0.09477231167281405, 0.09477231167281405, 0.09477231167281405, 0.09477231167281405, 0.09477231167281405, 0.09477231167281405, 0.09477231167281405, 0.09477231167281405, 0.09477231167281405, 0.09477231167281405, 0.09477231167281405, 0.09477231167281405, 0.09486630717113065, 0.09486630717113065, 0.09486630717113065, 0.09486630717113065, 0.09486630717113065, 0.09486630717113065, 0.09486630717113065, 0.09486630717113065, 0.09486630717113065, 0.09486630717113065, 0.09486630717113065, 0.09486630717113065, 0.09486630717113065, 0.09486630717113065, 0.09486630717113065, 0.09308469016028056, 0.09308469016028056, 0.09308469016028056, 0.09308469016028056, 0.09308469016028056, 0.09308469016028056, 0.09308469016028056, 0.09308469016028056, 0.09308469016028056, 0.09308469016028056, 0.09308469016028056, 0.09308469016028056, 0.09308469016028056, 0.08888518040886223, 0.08888518040886223, 0.08888518040886223, 0.08888518040886223, 0.08888518040886223, 0.08888518040886223, 0.08888518040886223, 0.08888518040886223, 0.08888518040886223, 0.08888518040886223, 0.08888518040886223, 0.08888518040886223, 0.08888518040886223, 0.08888518040886223, 0.09008226117190815, 0.09008226117190815, 0.09008226117190815, 0.09008226117190815, 0.09008226117190815, 0.09008226117190815, 0.09008226117190815, 0.09008226117190815, 0.09008226117190815, 0.09008226117190815, 0.09008226117190815, 0.09008226117190815, 0.09008226117190815, 0.09219460724074609, 0.09219460724074609, 0.09219460724074609, 0.09219460724074609, 0.09219460724074609, 0.09219460724074609, 0.09219460724074609, 0.09219460724074609, 0.09219460724074609, 0.09219460724074609, 0.09219460724074609, 0.09219460724074609, 0.09219460724074609, 0.09219460724074609, 0.09219460724074609, 0.09349694189176559, 0.09349694189176559, 0.09349694189176559, 0.09349694189176559, 0.09349694189176559, 0.09349694189176559, 0.09349694189176559, 0.09349694189176559, 0.09349694189176559, 0.09349694189176559, 0.09349694189176559, 0.09349694189176559, 0.09349694189176559, 0.09349694189176559, 0.09349694189176559, 0.09303314206752615, 0.09303314206752615, 0.09303314206752615, 0.09303314206752615, 0.09303314206752615, 0.09303314206752615, 0.09303314206752615, 0.09303314206752615, 0.09303314206752615, 0.09303314206752615, 0.09303314206752615, 0.09303314206752615, 0.09303314206752615, 0.09303314206752615, 0.09303314206752615, 0.09424128393231691, 0.09424128393231691, 0.09424128393231691, 0.09424128393231691, 0.09424128393231691, 0.09424128393231691, 0.09424128393231691, 0.09424128393231691, 0.09424128393231691, 0.09424128393231691, 0.09424128393231691, 0.09424128393231691, 0.09424128393231691, 0.09424128393231691, 0.09424128393231691, 0.09195150854417439, 0.09195150854417439, 0.09195150854417439, 0.09195150854417439, 0.09195150854417439, 0.09195150854417439, 0.09195150854417439, 0.09195150854417439, 0.09195150854417439, 0.09195150854417439, 0.09195150854417439, 0.09195150854417439, 0.09195150854417439, 0.09195150854417439, 0.0908460175561256, 0.0908460175561256, 0.0908460175561256, 0.0908460175561256, 0.0908460175561256, 0.0908460175561256, 0.0908460175561256, 0.0908460175561256, 0.0908460175561256, 0.0908460175561256, 0.0908460175561256, 0.0908460175561256, 0.0908460175561256, 0.0908460175561256, 0.0908460175561256, 0.08879324364034193, 0.08879324364034193, 0.08879324364034193, 0.08879324364034193, 0.08879324364034193, 0.08879324364034193, 0.08879324364034193, 0.08879324364034193, 0.08879324364034193, 0.08879324364034193, 0.08879324364034193, 0.08879324364034193, 0.08879324364034193, 0.08879324364034193, 0.09561707634181432, 0.09561707634181432, 0.09561707634181432, 0.09561707634181432, 0.09561707634181432, 0.09561707634181432, 0.09561707634181432, 0.09561707634181432, 0.09561707634181432, 0.09561707634181432, 0.09561707634181432, 0.09561707634181432, 0.09561707634181432, 0.09561707634181432, 0.09561707634181432, 0.09364973140276578, 0.09364973140276578, 0.09364973140276578, 0.09364973140276578, 0.09364973140276578, 0.09364973140276578, 0.09364973140276578, 0.09364973140276578, 0.09364973140276578, 0.09364973140276578, 0.09364973140276578, 0.09364973140276578, 0.09364973140276578, 0.09364973140276578, 0.0944083933774201, 0.0944083933774201, 0.0944083933774201, 0.0944083933774201, 0.0944083933774201, 0.0944083933774201, 0.0944083933774201, 0.0944083933774201, 0.0944083933774201, 0.0944083933774201, 0.0944083933774201, 0.0944083933774201, 0.0944083933774201, 0.0944083933774201, 0.0944083933774201, 0.09085573512297661, 0.09085573512297661, 0.09085573512297661, 0.09085573512297661, 0.09085573512297661, 0.09085573512297661, 0.09085573512297661, 0.09085573512297661, 0.09085573512297661, 0.09085573512297661, 0.09085573512297661, 0.09085573512297661, 0.09085573512297661, 0.09085573512297661, 0.09085573512297661, 0.09190349024261313, 0.09190349024261313, 0.09190349024261313, 0.09190349024261313, 0.09190349024261313, 0.09190349024261313, 0.09190349024261313, 0.09190349024261313, 0.09190349024261313, 0.09190349024261313, 0.09190349024261313, 0.09190349024261313, 0.09190349024261313, 0.09190349024261313, 0.09254246502810504, 0.09254246502810504, 0.09254246502810504, 0.09254246502810504, 0.09254246502810504, 0.09254246502810504, 0.09254246502810504, 0.09254246502810504, 0.09254246502810504, 0.09254246502810504, 0.09254246502810504, 0.09254246502810504, 0.09254246502810504, 0.09254246502810504, 0.09254246502810504, 0.09541577111969039, 0.09541577111969039, 0.09541577111969039, 0.09541577111969039, 0.09541577111969039, 0.09541577111969039, 0.09541577111969039, 0.09541577111969039, 0.09541577111969039, 0.09541577111969039, 0.09541577111969039, 0.09541577111969039, 0.09541577111969039, 0.09541577111969039, 0.09541577111969039, 0.09465875260508884, 0.09465875260508884, 0.09465875260508884, 0.09465875260508884, 0.09465875260508884, 0.09465875260508884, 0.09465875260508884, 0.09465875260508884, 0.09465875260508884, 0.09465875260508884, 0.09465875260508884, 0.09465875260508884, 0.09465875260508884, 0.09465875260508884, 0.09098937271600366, 0.09098937271600366, 0.09098937271600366, 0.09098937271600366, 0.09098937271600366, 0.09098937271600366, 0.09098937271600366, 0.09098937271600366, 0.09098937271600366, 0.09098937271600366, 0.09098937271600366, 0.09098937271600366, 0.09098937271600366, 0.09098937271600366, 0.09098937271600366, 0.0914492853377459, 0.0914492853377459, 0.0914492853377459, 0.0914492853377459, 0.0914492853377459, 0.0914492853377459, 0.0914492853377459, 0.0914492853377459, 0.0914492853377459, 0.0914492853377459, 0.0914492853377459, 0.0914492853377459, 0.0914492853377459, 0.08791563454284626, 0.08791563454284626, 0.08791563454284626, 0.08791563454284626, 0.08791563454284626, 0.08791563454284626, 0.08791563454284626, 0.08791563454284626, 0.08791563454284626, 0.08791563454284626, 0.08791563454284626, 0.08791563454284626, 0.08791563454284626, 0.09261658552063795, 0.09261658552063795, 0.09261658552063795, 0.09261658552063795, 0.09261658552063795, 0.09261658552063795, 0.09261658552063795, 0.09261658552063795, 0.09261658552063795, 0.09261658552063795, 0.09261658552063795, 0.09261658552063795, 0.09261658552063795, 0.09261658552063795, 0.09317681630406498, 0.09317681630406498, 0.09317681630406498, 0.09317681630406498, 0.09317681630406498, 0.09317681630406498, 0.09317681630406498, 0.09317681630406498, 0.09317681630406498, 0.09317681630406498, 0.09317681630406498, 0.09317681630406498, 0.09317681630406498, 0.09317681630406498, 0.09346471603610744, 0.09346471603610744, 0.09346471603610744, 0.09346471603610744, 0.09346471603610744, 0.09346471603610744, 0.09346471603610744, 0.09346471603610744, 0.09346471603610744, 0.09346471603610744, 0.09346471603610744, 0.09346471603610744, 0.09346471603610744, 0.09346471603610744, 0.09346471603610744, 0.09643027868243736, 0.09643027868243736, 0.09643027868243736, 0.09643027868243736, 0.09643027868243736, 0.09643027868243736, 0.09643027868243736, 0.09643027868243736, 0.09643027868243736, 0.09643027868243736, 0.09643027868243736, 0.09643027868243736, 0.09643027868243736, 0.09643027868243736, 0.09643027868243736, 0.09190317350785986, 0.09190317350785986, 0.09190317350785986, 0.09190317350785986, 0.09190317350785986, 0.09190317350785986, 0.09190317350785986, 0.09190317350785986, 0.09190317350785986, 0.09190317350785986, 0.09190317350785986, 0.09190317350785986, 0.09190317350785986, 0.09190317350785986, 0.09350950269907075, 0.09350950269907075, 0.09350950269907075, 0.09350950269907075, 0.09350950269907075, 0.09350950269907075, 0.09350950269907075, 0.09350950269907075, 0.09350950269907075, 0.09350950269907075, 0.09350950269907075, 0.09350950269907075, 0.09350950269907075, 0.09350950269907075, 0.09350950269907075, 0.08942698574585074, 0.08942698574585074, 0.08942698574585074, 0.08942698574585074, 0.08942698574585074, 0.08942698574585074, 0.08942698574585074, 0.08942698574585074, 0.08942698574585074, 0.08942698574585074, 0.08942698574585074, 0.08942698574585074, 0.08942698574585074, 0.08942698574585074, 0.08942698574585074, 0.09926969485666612, 0.09926969485666612, 0.09926969485666612, 0.09926969485666612, 0.09926969485666612, 0.09926969485666612, 0.09926969485666612, 0.09926969485666612, 0.09926969485666612, 0.09926969485666612, 0.09926969485666612, 0.09926969485666612, 0.09926969485666612, 0.09926969485666612, 0.09926969485666612, 0.0888332926631144, 0.0888332926631144, 0.0888332926631144, 0.0888332926631144, 0.0888332926631144, 0.0888332926631144, 0.0888332926631144, 0.0888332926631144, 0.0888332926631144, 0.0888332926631144, 0.0888332926631144, 0.0888332926631144, 0.0888332926631144, 0.0888332926631144, 0.0888332926631144, 0.09516772591387138, 0.09516772591387138, 0.09516772591387138, 0.09516772591387138, 0.09516772591387138, 0.09516772591387138, 0.09516772591387138, 0.09516772591387138, 0.09516772591387138, 0.09516772591387138, 0.09516772591387138, 0.09516772591387138, 0.09516772591387138, 0.09516772591387138, 0.09516772591387138, 0.09299137594381708, 0.09299137594381708, 0.09299137594381708, 0.09299137594381708, 0.09299137594381708, 0.09299137594381708, 0.09299137594381708, 0.09299137594381708, 0.09299137594381708, 0.09299137594381708, 0.09299137594381708, 0.09299137594381708, 0.09299137594381708, 0.09299137594381708, 0.09561388790132816, 0.09561388790132816, 0.09561388790132816, 0.09561388790132816, 0.09561388790132816, 0.09561388790132816, 0.09561388790132816, 0.09561388790132816, 0.09561388790132816, 0.09561388790132816, 0.09561388790132816, 0.09561388790132816, 0.09561388790132816, 0.09561388790132816, 0.09561388790132816, 0.09149425471554117, 0.09149425471554117, 0.09149425471554117, 0.09149425471554117, 0.09149425471554117, 0.09149425471554117, 0.09149425471554117, 0.09149425471554117, 0.09149425471554117, 0.09149425471554117, 0.09149425471554117, 0.09149425471554117, 0.09149425471554117, 0.09149425471554117, 0.09149425471554117, 0.0913620624974341, 0.0913620624974341, 0.0913620624974341, 0.0913620624974341, 0.0913620624974341, 0.0913620624974341, 0.0913620624974341, 0.0913620624974341, 0.0913620624974341, 0.0913620624974341, 0.0913620624974341, 0.0913620624974341, 0.0913620624974341, 0.0913620624974341, 0.09497213530562976, 0.09497213530562976, 0.09497213530562976, 0.09497213530562976, 0.09497213530562976, 0.09497213530562976, 0.09497213530562976, 0.09497213530562976, 0.09497213530562976, 0.09497213530562976, 0.09497213530562976, 0.09497213530562976, 0.09497213530562976, 0.09497213530562976, 0.09497213530562976, 0.09337793236167735, 0.09337793236167735, 0.09337793236167735, 0.09337793236167735, 0.09337793236167735, 0.09337793236167735, 0.09337793236167735, 0.09337793236167735, 0.09337793236167735, 0.09337793236167735, 0.09337793236167735, 0.09337793236167735, 0.09337793236167735, 0.09337793236167735, 0.09313738143875276, 0.09313738143875276, 0.09313738143875276, 0.09313738143875276, 0.09313738143875276, 0.09313738143875276, 0.09313738143875276, 0.09313738143875276, 0.09313738143875276, 0.09313738143875276, 0.09313738143875276, 0.09313738143875276, 0.09313738143875276, 0.09313738143875276, 0.09313738143875276, 0.09059142466071018, 0.09059142466071018, 0.09059142466071018, 0.09059142466071018, 0.09059142466071018, 0.09059142466071018, 0.09059142466071018, 0.09059142466071018, 0.09059142466071018, 0.09059142466071018, 0.09059142466071018, 0.09059142466071018, 0.09059142466071018, 0.09059142466071018, 0.09004397824025677, 0.09004397824025677, 0.09004397824025677, 0.09004397824025677, 0.09004397824025677, 0.09004397824025677, 0.09004397824025677, 0.09004397824025677, 0.09004397824025677, 0.09004397824025677, 0.09004397824025677, 0.09004397824025677, 0.09004397824025677, 0.09004397824025677, 0.09011072687706449, 0.09011072687706449, 0.09011072687706449, 0.09011072687706449, 0.09011072687706449, 0.09011072687706449, 0.09011072687706449, 0.09011072687706449, 0.09011072687706449, 0.09011072687706449, 0.09011072687706449, 0.09011072687706449, 0.09011072687706449, 0.09011072687706449, 0.09684442505825443, 0.09684442505825443, 0.09684442505825443, 0.09684442505825443, 0.09684442505825443, 0.09684442505825443, 0.09684442505825443, 0.09684442505825443, 0.09684442505825443, 0.09684442505825443, 0.09684442505825443, 0.09684442505825443, 0.09684442505825443, 0.09684442505825443, 0.0901727257838506, 0.0901727257838506, 0.0901727257838506, 0.0901727257838506, 0.0901727257838506, 0.0901727257838506, 0.0901727257838506, 0.0901727257838506, 0.0901727257838506, 0.0901727257838506, 0.0901727257838506, 0.0901727257838506, 0.0901727257838506, 0.09398861813487693, 0.09398861813487693, 0.09398861813487693, 0.09398861813487693, 0.09398861813487693, 0.09398861813487693, 0.09398861813487693, 0.09398861813487693, 0.09398861813487693, 0.09398861813487693, 0.09398861813487693, 0.09398861813487693, 0.09398861813487693, 0.09398861813487693, 0.09398861813487693, 0.09431809357151445, 0.09431809357151445, 0.09431809357151445, 0.09431809357151445, 0.09431809357151445, 0.09431809357151445, 0.09431809357151445, 0.09431809357151445, 0.09431809357151445, 0.09431809357151445, 0.09431809357151445, 0.09431809357151445, 0.09431809357151445, 0.09431809357151445, 0.09431809357151445, 0.09465864868323039, 0.09465864868323039, 0.09465864868323039, 0.09465864868323039, 0.09465864868323039, 0.09465864868323039, 0.09465864868323039, 0.09465864868323039, 0.09465864868323039, 0.09465864868323039, 0.09465864868323039, 0.09465864868323039, 0.09465864868323039, 0.09465864868323039, 0.09465864868323039, 0.09331897462064924, 0.09331897462064924, 0.09331897462064924, 0.09331897462064924, 0.09331897462064924, 0.09331897462064924, 0.09331897462064924, 0.09331897462064924, 0.09331897462064924, 0.09331897462064924, 0.09331897462064924, 0.09331897462064924, 0.09331897462064924, 0.09331897462064924, 0.09331897462064924, 0.09349288583344485, 0.09349288583344485, 0.09349288583344485, 0.09349288583344485, 0.09349288583344485, 0.09349288583344485, 0.09349288583344485, 0.09349288583344485, 0.09349288583344485, 0.09349288583344485, 0.09349288583344485, 0.09349288583344485, 0.09349288583344485, 0.09349288583344485, 0.09349288583344485, 0.1000926942788128, 0.1000926942788128, 0.1000926942788128, 0.1000926942788128, 0.1000926942788128, 0.1000926942788128, 0.1000926942788128, 0.1000926942788128, 0.1000926942788128, 0.1000926942788128, 0.1000926942788128, 0.1000926942788128, 0.1000926942788128, 0.1000926942788128, 0.1000926942788128, 0.0912688385009572, 0.0912688385009572, 0.0912688385009572, 0.0912688385009572, 0.0912688385009572, 0.0912688385009572, 0.0912688385009572, 0.0912688385009572, 0.0912688385009572, 0.0912688385009572, 0.0912688385009572, 0.0912688385009572, 0.0912688385009572, 0.0912688385009572, 0.0912688385009572, 0.0911618211891941, 0.0911618211891941, 0.0911618211891941, 0.0911618211891941, 0.0911618211891941, 0.0911618211891941, 0.0911618211891941, 0.0911618211891941, 0.0911618211891941, 0.0911618211891941, 0.0911618211891941, 0.0911618211891941, 0.0911618211891941, 0.0911618211891941, 0.0911618211891941, 0.09178223701200944, 0.09178223701200944, 0.09178223701200944, 0.09178223701200944, 0.09178223701200944, 0.09178223701200944, 0.09178223701200944, 0.09178223701200944, 0.09178223701200944, 0.09178223701200944, 0.09178223701200944, 0.09178223701200944, 0.09178223701200944, 0.09178223701200944, 0.09256276074945573, 0.09256276074945573, 0.09256276074945573, 0.09256276074945573, 0.09256276074945573, 0.09256276074945573, 0.09256276074945573, 0.09256276074945573, 0.09256276074945573, 0.09256276074945573, 0.09256276074945573, 0.09256276074945573, 0.09256276074945573, 0.09256276074945573, 0.09143232621173451, 0.09143232621173451, 0.09143232621173451, 0.09143232621173451, 0.09143232621173451, 0.09143232621173451, 0.09143232621173451, 0.09143232621173451, 0.09143232621173451, 0.09143232621173451, 0.09143232621173451, 0.09143232621173451, 0.09143232621173451, 0.09143232621173451, 0.09143232621173451, 0.0921651317274957, 0.0921651317274957, 0.0921651317274957, 0.0921651317274957, 0.0921651317274957, 0.0921651317274957, 0.0921651317274957, 0.0921651317274957, 0.0921651317274957, 0.0921651317274957, 0.0921651317274957, 0.0921651317274957, 0.0921651317274957, 0.0921651317274957, 0.0921651317274957, 0.0913231193787877, 0.0913231193787877, 0.0913231193787877, 0.0913231193787877, 0.0913231193787877, 0.0913231193787877, 0.0913231193787877, 0.0913231193787877, 0.0913231193787877, 0.0913231193787877, 0.0913231193787877, 0.0913231193787877, 0.0913231193787877, 0.0913231193787877, 0.0913231193787877, 0.09170433777751338, 0.09170433777751338, 0.09170433777751338, 0.09170433777751338, 0.09170433777751338, 0.09170433777751338, 0.09170433777751338, 0.09170433777751338, 0.09170433777751338, 0.09170433777751338, 0.09170433777751338, 0.09170433777751338, 0.09170433777751338, 0.09170433777751338, 0.0933221771427077, 0.0933221771427077, 0.0933221771427077, 0.0933221771427077, 0.0933221771427077, 0.0933221771427077, 0.0933221771427077, 0.0933221771427077, 0.0933221771427077, 0.0933221771427077, 0.0933221771427077, 0.0933221771427077, 0.0933221771427077, 0.0933221771427077, 0.0933221771427077, 0.09313170191361722, 0.09313170191361722, 0.09313170191361722, 0.09313170191361722, 0.09313170191361722, 0.09313170191361722, 0.09313170191361722, 0.09313170191361722, 0.09313170191361722, 0.09313170191361722, 0.09313170191361722, 0.09313170191361722, 0.09313170191361722, 0.09313170191361722, 0.09357946111618251, 0.09357946111618251, 0.09357946111618251, 0.09357946111618251, 0.09357946111618251, 0.09357946111618251, 0.09357946111618251, 0.09357946111618251, 0.09357946111618251, 0.09357946111618251, 0.09357946111618251, 0.09357946111618251, 0.09357946111618251, 0.09357946111618251, 0.09357946111618251, 0.09229199450618167, 0.09229199450618167, 0.09229199450618167, 0.09229199450618167, 0.09229199450618167, 0.09229199450618167, 0.09229199450618167, 0.09229199450618167, 0.09229199450618167, 0.09229199450618167, 0.09229199450618167, 0.09229199450618167, 0.09229199450618167, 0.09229199450618167, 0.09441961071188594, 0.09441961071188594, 0.09441961071188594, 0.09441961071188594, 0.09441961071188594, 0.09441961071188594, 0.09441961071188594, 0.09441961071188594, 0.09441961071188594, 0.09441961071188594, 0.09441961071188594, 0.09441961071188594, 0.09441961071188594, 0.09441961071188594, 0.09441961071188594, 0.09287675518039525, 0.09287675518039525, 0.09287675518039525, 0.09287675518039525, 0.09287675518039525, 0.09287675518039525, 0.09287675518039525, 0.09287675518039525, 0.09287675518039525, 0.09287675518039525, 0.09287675518039525, 0.09287675518039525, 0.09287675518039525, 0.09287675518039525, 0.09287675518039525, 0.08984174007335682, 0.08984174007335682, 0.08984174007335682, 0.08984174007335682, 0.08984174007335682, 0.08984174007335682, 0.08984174007335682, 0.08984174007335682, 0.08984174007335682, 0.08984174007335682, 0.08984174007335682, 0.08984174007335682, 0.08984174007335682, 0.08984174007335682, 0.08984174007335682, 0.09282211741645172, 0.09282211741645172, 0.09282211741645172, 0.09282211741645172, 0.09282211741645172, 0.09282211741645172, 0.09282211741645172, 0.09282211741645172, 0.09282211741645172, 0.09282211741645172, 0.09282211741645172, 0.09282211741645172, 0.09282211741645172, 0.09282211741645172, 0.09282211741645172, 0.09293635518990928, 0.09293635518990928, 0.09293635518990928, 0.09293635518990928, 0.09293635518990928, 0.09293635518990928, 0.09293635518990928, 0.09293635518990928, 0.09293635518990928, 0.09293635518990928, 0.09293635518990928, 0.09293635518990928, 0.09293635518990928, 0.09293635518990928, 0.09293635518990928, 0.09555998532399684, 0.09555998532399684, 0.09555998532399684, 0.09555998532399684, 0.09555998532399684, 0.09555998532399684, 0.09555998532399684, 0.09555998532399684, 0.09555998532399684, 0.09555998532399684, 0.09555998532399684, 0.09555998532399684, 0.09555998532399684, 0.09555998532399684, 0.09555998532399684, 0.094018890449438, 0.094018890449438, 0.094018890449438, 0.094018890449438, 0.094018890449438, 0.094018890449438, 0.094018890449438, 0.094018890449438, 0.094018890449438, 0.094018890449438, 0.094018890449438, 0.094018890449438, 0.094018890449438, 0.094018890449438, 0.094018890449438, 0.09252392145321596, 0.09252392145321596, 0.09252392145321596, 0.09252392145321596, 0.09252392145321596, 0.09252392145321596, 0.09252392145321596, 0.09252392145321596, 0.09252392145321596, 0.09252392145321596, 0.09252392145321596, 0.09252392145321596, 0.09252392145321596, 0.09117166423839133, 0.09117166423839133, 0.09117166423839133, 0.09117166423839133, 0.09117166423839133, 0.09117166423839133, 0.09117166423839133, 0.09117166423839133, 0.09117166423839133, 0.09117166423839133, 0.09117166423839133, 0.09117166423839133, 0.09117166423839133, 0.09117166423839133, 0.09373031689414582, 0.09373031689414582, 0.09373031689414582, 0.09373031689414582, 0.09373031689414582, 0.09373031689414582, 0.09373031689414582, 0.09373031689414582, 0.09373031689414582, 0.09373031689414582, 0.09373031689414582, 0.09373031689414582, 0.09373031689414582, 0.09037116191718055, 0.09037116191718055, 0.09037116191718055, 0.09037116191718055, 0.09037116191718055, 0.09037116191718055, 0.09037116191718055, 0.09037116191718055, 0.09037116191718055, 0.09037116191718055, 0.09037116191718055, 0.09037116191718055, 0.09037116191718055, 0.09037116191718055, 0.09245665407676794, 0.09245665407676794, 0.09245665407676794, 0.09245665407676794, 0.09245665407676794, 0.09245665407676794, 0.09245665407676794, 0.09245665407676794, 0.09245665407676794, 0.09245665407676794, 0.09245665407676794, 0.09245665407676794, 0.09245665407676794, 0.09245665407676794, 0.09245665407676794, 0.09509151500293414, 0.09509151500293414, 0.09509151500293414, 0.09509151500293414, 0.09509151500293414, 0.09509151500293414, 0.09509151500293414, 0.09509151500293414, 0.09509151500293414, 0.09509151500293414, 0.09509151500293414, 0.09509151500293414, 0.09509151500293414, 0.09509151500293414, 0.09509151500293414, 0.09345929005578117, 0.09345929005578117, 0.09345929005578117, 0.09345929005578117, 0.09345929005578117, 0.09345929005578117, 0.09345929005578117, 0.09345929005578117, 0.09345929005578117, 0.09345929005578117, 0.09345929005578117, 0.09345929005578117, 0.09345929005578117, 0.09345929005578117, 0.09345929005578117, 0.09070149777490953, 0.09070149777490953, 0.09070149777490953, 0.09070149777490953, 0.09070149777490953, 0.09070149777490953, 0.09070149777490953, 0.09070149777490953, 0.09070149777490953, 0.09070149777490953, 0.09070149777490953, 0.09070149777490953, 0.09070149777490953, 0.09070149777490953, 0.09070149777490953, 0.09226121103273735, 0.09226121103273735, 0.09226121103273735, 0.09226121103273735, 0.09226121103273735, 0.09226121103273735, 0.09226121103273735, 0.09226121103273735, 0.09226121103273735, 0.09226121103273735, 0.09226121103273735, 0.09226121103273735, 0.09226121103273735, 0.09226121103273735, 0.09084709123304947, 0.09084709123304947, 0.09084709123304947, 0.09084709123304947, 0.09084709123304947, 0.09084709123304947, 0.09084709123304947, 0.09084709123304947, 0.09084709123304947, 0.09084709123304947, 0.09084709123304947, 0.09084709123304947, 0.09084709123304947, 0.09084709123304947, 0.09084709123304947, 0.09557818000564286, 0.09557818000564286, 0.09557818000564286, 0.09557818000564286, 0.09557818000564286, 0.09557818000564286, 0.09557818000564286, 0.09557818000564286, 0.09557818000564286, 0.09557818000564286, 0.09557818000564286, 0.09557818000564286, 0.09557818000564286, 0.09557818000564286, 0.09557818000564286, 0.0923759791253929, 0.0923759791253929, 0.0923759791253929, 0.0923759791253929, 0.0923759791253929, 0.0923759791253929, 0.0923759791253929, 0.0923759791253929, 0.0923759791253929, 0.0923759791253929, 0.0923759791253929, 0.0923759791253929, 0.0923759791253929, 0.0923759791253929, 0.0923759791253929, 0.09351701070226671, 0.09351701070226671, 0.09351701070226671, 0.09351701070226671, 0.09351701070226671, 0.09351701070226671, 0.09351701070226671, 0.09351701070226671, 0.09351701070226671, 0.09351701070226671, 0.09351701070226671, 0.09351701070226671, 0.09351701070226671, 0.09351701070226671, 0.09417309990450996, 0.09417309990450996, 0.09417309990450996, 0.09417309990450996, 0.09417309990450996, 0.09417309990450996, 0.09417309990450996, 0.09417309990450996, 0.09417309990450996, 0.09417309990450996, 0.09417309990450996, 0.09417309990450996, 0.09417309990450996, 0.09417309990450996, 0.09417309990450996, 0.09652271352912586, 0.09652271352912586, 0.09652271352912586, 0.09652271352912586, 0.09652271352912586, 0.09652271352912586, 0.09652271352912586, 0.09652271352912586, 0.09652271352912586, 0.09652271352912586, 0.09652271352912586, 0.09652271352912586, 0.09652271352912586, 0.09652271352912586, 0.09652271352912586, 0.09317076423425542, 0.09317076423425542, 0.09317076423425542, 0.09317076423425542, 0.09317076423425542, 0.09317076423425542, 0.09317076423425542, 0.09317076423425542, 0.09317076423425542, 0.09317076423425542, 0.09317076423425542, 0.09317076423425542, 0.09317076423425542, 0.09317076423425542, 0.09317076423425542, 0.0920833128275421, 0.0920833128275421, 0.0920833128275421, 0.0920833128275421, 0.0920833128275421, 0.0920833128275421, 0.0920833128275421, 0.0920833128275421, 0.0920833128275421, 0.0920833128275421, 0.0920833128275421, 0.0920833128275421, 0.0920833128275421, 0.0920833128275421, 0.0920833128275421, 0.09082311782462768, 0.09082311782462768, 0.09082311782462768, 0.09082311782462768, 0.09082311782462768, 0.09082311782462768, 0.09082311782462768, 0.09082311782462768, 0.09082311782462768, 0.09082311782462768, 0.09082311782462768, 0.09082311782462768, 0.09082311782462768, 0.09082311782462768, 0.08919214202571908, 0.08919214202571908, 0.08919214202571908, 0.08919214202571908, 0.08919214202571908, 0.08919214202571908, 0.08919214202571908, 0.08919214202571908, 0.08919214202571908, 0.08919214202571908, 0.08919214202571908, 0.08919214202571908, 0.08919214202571908, 0.0905584526111256, 0.0905584526111256, 0.0905584526111256, 0.0905584526111256, 0.0905584526111256, 0.0905584526111256, 0.0905584526111256, 0.0905584526111256, 0.0905584526111256, 0.0905584526111256, 0.0905584526111256, 0.0905584526111256, 0.0905584526111256, 0.09336141006368703, 0.09336141006368703, 0.09336141006368703, 0.09336141006368703, 0.09336141006368703, 0.09336141006368703, 0.09336141006368703, 0.09336141006368703, 0.09336141006368703, 0.09336141006368703, 0.09336141006368703, 0.09336141006368703, 0.09336141006368703, 0.09336141006368703, 0.09153092001495361, 0.09153092001495361, 0.09153092001495361, 0.09153092001495361, 0.09153092001495361, 0.09153092001495361, 0.09153092001495361, 0.09153092001495361, 0.09153092001495361, 0.09153092001495361, 0.09153092001495361, 0.09153092001495361, 0.09153092001495361, 0.09153092001495361, 0.09099193675023692, 0.09099193675023692, 0.09099193675023692, 0.09099193675023692, 0.09099193675023692, 0.09099193675023692, 0.09099193675023692, 0.09099193675023692, 0.09099193675023692, 0.09099193675023692, 0.09099193675023692, 0.09099193675023692, 0.09099193675023692, 0.09099193675023692, 0.09444329841030537, 0.09444329841030537, 0.09444329841030537, 0.09444329841030537, 0.09444329841030537, 0.09444329841030537, 0.09444329841030537, 0.09444329841030537, 0.09444329841030537, 0.09444329841030537, 0.09444329841030537, 0.09444329841030537, 0.09444329841030537, 0.09444329841030537, 0.09444329841030537, 0.09549529013145451, 0.09549529013145451, 0.09549529013145451, 0.09549529013145451, 0.09549529013145451, 0.09549529013145451, 0.09549529013145451, 0.09549529013145451, 0.09549529013145451, 0.09549529013145451, 0.09549529013145451, 0.09549529013145451, 0.09549529013145451, 0.09549529013145451, 0.09549529013145451, 0.0904028248199092, 0.0904028248199092, 0.0904028248199092, 0.0904028248199092, 0.0904028248199092, 0.0904028248199092, 0.0904028248199092, 0.0904028248199092, 0.0904028248199092, 0.0904028248199092, 0.0904028248199092, 0.0904028248199092, 0.0904028248199092, 0.0904028248199092, 0.09389002729306259, 0.09389002729306259, 0.09389002729306259, 0.09389002729306259, 0.09389002729306259, 0.09389002729306259, 0.09389002729306259, 0.09389002729306259, 0.09389002729306259, 0.09389002729306259, 0.09389002729306259, 0.09389002729306259, 0.09389002729306259, 0.09389002729306259, 0.0895165205577712, 0.0895165205577712, 0.0895165205577712, 0.0895165205577712, 0.0895165205577712, 0.0895165205577712, 0.0895165205577712, 0.0895165205577712, 0.0895165205577712, 0.0895165205577712, 0.0895165205577712, 0.0895165205577712, 0.0895165205577712, 0.0895165205577712, 0.0953641395364665, 0.0953641395364665, 0.0953641395364665, 0.0953641395364665, 0.0953641395364665, 0.0953641395364665, 0.0953641395364665, 0.0953641395364665, 0.0953641395364665, 0.0953641395364665, 0.0953641395364665, 0.0953641395364665, 0.0953641395364665, 0.0953641395364665, 0.0953641395364665, 0.09231299696631765, 0.09231299696631765, 0.09231299696631765, 0.09231299696631765, 0.09231299696631765, 0.09231299696631765, 0.09231299696631765, 0.09231299696631765, 0.09231299696631765, 0.09231299696631765, 0.09231299696631765, 0.09231299696631765, 0.09231299696631765, 0.09231299696631765, 0.09231299696631765, 0.09088182332314178, 0.09088182332314178, 0.09088182332314178, 0.09088182332314178, 0.09088182332314178, 0.09088182332314178, 0.09088182332314178, 0.09088182332314178, 0.09088182332314178, 0.09088182332314178, 0.09088182332314178, 0.09088182332314178, 0.09088182332314178, 0.09088182332314178, 0.09088182332314178, 0.0907348888640662, 0.0907348888640662, 0.0907348888640662, 0.0907348888640662, 0.0907348888640662, 0.0907348888640662, 0.0907348888640662, 0.0907348888640662, 0.0907348888640662, 0.0907348888640662, 0.0907348888640662, 0.0907348888640662, 0.0907348888640662, 0.0907348888640662, 0.0907348888640662, 0.08914207401939891, 0.08914207401939891, 0.08914207401939891, 0.08914207401939891, 0.08914207401939891, 0.08914207401939891, 0.08914207401939891, 0.08914207401939891, 0.08914207401939891, 0.08914207401939891, 0.08914207401939891, 0.08914207401939891, 0.08914207401939891, 0.08914207401939891, 0.08794223646967285, 0.08794223646967285, 0.08794223646967285, 0.08794223646967285, 0.08794223646967285, 0.08794223646967285, 0.08794223646967285, 0.08794223646967285, 0.08794223646967285, 0.08794223646967285, 0.08794223646967285, 0.08794223646967285, 0.08794223646967285, 0.09278586933977744, 0.09278586933977744, 0.09278586933977744, 0.09278586933977744, 0.09278586933977744, 0.09278586933977744, 0.09278586933977744, 0.09278586933977744, 0.09278586933977744, 0.09278586933977744, 0.09278586933977744, 0.09278586933977744, 0.09278586933977744, 0.09278586933977744, 0.09278586933977744, 0.0928585237724285, 0.0928585237724285, 0.0928585237724285, 0.0928585237724285, 0.0928585237724285, 0.0928585237724285, 0.0928585237724285, 0.0928585237724285, 0.0928585237724285, 0.0928585237724285, 0.0928585237724285, 0.0928585237724285, 0.0928585237724285, 0.0928585237724285, 0.0928585237724285, 0.09363208691868559, 0.09363208691868559, 0.09363208691868559, 0.09363208691868559, 0.09363208691868559, 0.09363208691868559, 0.09363208691868559, 0.09363208691868559, 0.09363208691868559, 0.09363208691868559, 0.09363208691868559, 0.09363208691868559, 0.09363208691868559, 0.09363208691868559, 0.09363208691868559, 0.09319889028712786, 0.09319889028712786, 0.09319889028712786, 0.09319889028712786, 0.09319889028712786, 0.09319889028712786, 0.09319889028712786, 0.09319889028712786, 0.09319889028712786, 0.09319889028712786, 0.09319889028712786, 0.09319889028712786, 0.09319889028712786, 0.09319889028712786, 0.09319889028712786, 0.0940115745925616, 0.0940115745925616, 0.0940115745925616, 0.0940115745925616, 0.0940115745925616, 0.0940115745925616, 0.0940115745925616, 0.0940115745925616, 0.0940115745925616, 0.0940115745925616, 0.0940115745925616, 0.0940115745925616, 0.0940115745925616, 0.0940115745925616, 0.0940115745925616, 0.09384137719901615, 0.09384137719901615, 0.09384137719901615, 0.09384137719901615, 0.09384137719901615, 0.09384137719901615, 0.09384137719901615, 0.09384137719901615, 0.09384137719901615, 0.09384137719901615, 0.09384137719901615, 0.09384137719901615, 0.09384137719901615, 0.09384137719901615, 0.09384137719901615, 0.09349395366760453, 0.09349395366760453, 0.09349395366760453, 0.09349395366760453, 0.09349395366760453, 0.09349395366760453, 0.09349395366760453, 0.09349395366760453, 0.09349395366760453, 0.09349395366760453, 0.09349395366760453, 0.09349395366760453, 0.09349395366760453, 0.09349395366760453, 0.09349395366760453, 0.09340364575045122, 0.09340364575045122, 0.09340364575045122, 0.09340364575045122, 0.09340364575045122, 0.09340364575045122, 0.09340364575045122, 0.09340364575045122, 0.09340364575045122, 0.09340364575045122, 0.09340364575045122, 0.09340364575045122, 0.09340364575045122, 0.09340364575045122, 0.09340364575045122, 0.09069441008806198, 0.09069441008806198, 0.09069441008806198, 0.09069441008806198, 0.09069441008806198, 0.09069441008806198, 0.09069441008806198, 0.09069441008806198, 0.09069441008806198, 0.09069441008806198, 0.09069441008806198, 0.09069441008806198, 0.09069441008806198, 0.09069441008806198, 0.09069441008806198, 0.09369323828142259, 0.09369323828142259, 0.09369323828142259, 0.09369323828142259, 0.09369323828142259, 0.09369323828142259, 0.09369323828142259, 0.09369323828142259, 0.09369323828142259, 0.09369323828142259, 0.09369323828142259, 0.09369323828142259, 0.09369323828142259, 0.09241595270283105, 0.09241595270283105, 0.09241595270283105, 0.09241595270283105, 0.09241595270283105, 0.09241595270283105, 0.09241595270283105, 0.09241595270283105, 0.09241595270283105, 0.09241595270283105, 0.09241595270283105, 0.09241595270283105, 0.09241595270283105, 0.09241595270283105, 0.09241595270283105, 0.0887866834784463, 0.0887866834784463, 0.0887866834784463, 0.0887866834784463, 0.0887866834784463, 0.0887866834784463, 0.0887866834784463, 0.0887866834784463, 0.0887866834784463, 0.0887866834784463, 0.0887866834784463, 0.0887866834784463, 0.0887866834784463, 0.0887866834784463, 0.09456707375168863, 0.09456707375168863, 0.09456707375168863, 0.09456707375168863, 0.09456707375168863, 0.09456707375168863, 0.09456707375168863, 0.09456707375168863, 0.09456707375168863, 0.09456707375168863, 0.09456707375168863, 0.09456707375168863, 0.09456707375168863, 0.09456707375168863, 0.09456707375168863, 0.09084186341330505, 0.09084186341330505, 0.09084186341330505, 0.09084186341330505, 0.09084186341330505, 0.09084186341330505, 0.09084186341330505, 0.09084186341330505, 0.09084186341330505, 0.09084186341330505, 0.09084186341330505, 0.09084186341330505, 0.09084186341330505, 0.09084186341330505, 0.09084186341330505, 0.09019025992556416, 0.09019025992556416, 0.09019025992556416, 0.09019025992556416, 0.09019025992556416, 0.09019025992556416, 0.09019025992556416, 0.09019025992556416, 0.09019025992556416, 0.09019025992556416, 0.09019025992556416, 0.09019025992556416, 0.09019025992556416, 0.09019025992556416, 0.09019025992556416, 0.09054563096344452, 0.09054563096344452, 0.09054563096344452, 0.09054563096344452, 0.09054563096344452, 0.09054563096344452, 0.09054563096344452, 0.09054563096344452, 0.09054563096344452, 0.09054563096344452, 0.09054563096344452, 0.09054563096344452, 0.09054563096344452, 0.09054563096344452, 0.09155389890879269, 0.09155389890879269, 0.09155389890879269, 0.09155389890879269, 0.09155389890879269, 0.09155389890879269, 0.09155389890879269, 0.09155389890879269, 0.09155389890879269, 0.09155389890879269, 0.09155389890879269, 0.09155389890879269, 0.09155389890879269, 0.09155389890879269, 0.09155389890879269, 0.09586322450876547, 0.09586322450876547, 0.09586322450876547, 0.09586322450876547, 0.09586322450876547, 0.09586322450876547, 0.09586322450876547, 0.09586322450876547, 0.09586322450876547, 0.09586322450876547, 0.09586322450876547, 0.09586322450876547, 0.09586322450876547, 0.09586322450876547, 0.09586322450876547, 0.09371159146015265, 0.09371159146015265, 0.09371159146015265, 0.09371159146015265, 0.09371159146015265, 0.09371159146015265, 0.09371159146015265, 0.09371159146015265, 0.09371159146015265, 0.09371159146015265, 0.09371159146015265, 0.09371159146015265, 0.09371159146015265, 0.09371159146015265, 0.09371159146015265, 0.09313364433314039, 0.09313364433314039, 0.09313364433314039, 0.09313364433314039, 0.09313364433314039, 0.09313364433314039, 0.09313364433314039, 0.09313364433314039, 0.09313364433314039, 0.09313364433314039, 0.09313364433314039, 0.09313364433314039, 0.09313364433314039, 0.09313364433314039, 0.09313364433314039, 0.0940865397963147, 0.0940865397963147, 0.0940865397963147, 0.0940865397963147, 0.0940865397963147, 0.0940865397963147, 0.0940865397963147, 0.0940865397963147, 0.0940865397963147, 0.0940865397963147, 0.0940865397963147, 0.0940865397963147, 0.0940865397963147, 0.0940865397963147, 0.0940865397963147, 0.09129665589341614, 0.09129665589341614, 0.09129665589341614, 0.09129665589341614, 0.09129665589341614, 0.09129665589341614, 0.09129665589341614, 0.09129665589341614, 0.09129665589341614, 0.09129665589341614, 0.09129665589341614, 0.09129665589341614, 0.09129665589341614, 0.09129665589341614, 0.09031730274194719, 0.09031730274194719, 0.09031730274194719, 0.09031730274194719, 0.09031730274194719, 0.09031730274194719, 0.09031730274194719, 0.09031730274194719, 0.09031730274194719, 0.09031730274194719, 0.09031730274194719, 0.09031730274194719, 0.09031730274194719, 0.09031730274194719, 0.09031730274194719, 0.09141537758932981, 0.09141537758932981, 0.09141537758932981, 0.09141537758932981, 0.09141537758932981, 0.09141537758932981, 0.09141537758932981, 0.09141537758932981, 0.09141537758932981, 0.09141537758932981, 0.09141537758932981, 0.09141537758932981, 0.09141537758932981, 0.09141537758932981, 0.09141537758932981, 0.09012300918200875, 0.09012300918200875, 0.09012300918200875, 0.09012300918200875, 0.09012300918200875, 0.09012300918200875, 0.09012300918200875, 0.09012300918200875, 0.09012300918200875, 0.09012300918200875, 0.09012300918200875, 0.09012300918200875, 0.09012300918200875, 0.09012300918200875, 0.09012300918200875, 0.0931068574176512, 0.0931068574176512, 0.0931068574176512, 0.0931068574176512, 0.0931068574176512, 0.0931068574176512, 0.0931068574176512, 0.0931068574176512, 0.0931068574176512, 0.0931068574176512, 0.0931068574176512, 0.0931068574176512, 0.0931068574176512, 0.0931068574176512, 0.0931068574176512, 0.09346398526312613, 0.09346398526312613, 0.09346398526312613, 0.09346398526312613, 0.09346398526312613, 0.09346398526312613, 0.09346398526312613, 0.09346398526312613, 0.09346398526312613, 0.09346398526312613, 0.09346398526312613, 0.09346398526312613, 0.09346398526312613, 0.09346398526312613, 0.09346398526312613, 0.09424674400798812, 0.09424674400798812, 0.09424674400798812, 0.09424674400798812, 0.09424674400798812, 0.09424674400798812, 0.09424674400798812, 0.09424674400798812, 0.09424674400798812, 0.09424674400798812, 0.09424674400798812, 0.09424674400798812, 0.09424674400798812, 0.09424674400798812, 0.09424674400798812, 0.0919341914138822, 0.0919341914138822, 0.0919341914138822, 0.0919341914138822, 0.0919341914138822, 0.0919341914138822, 0.0919341914138822, 0.0919341914138822, 0.0919341914138822, 0.0919341914138822, 0.0919341914138822, 0.0919341914138822, 0.0919341914138822, 0.0919341914138822, 0.0923649400744342, 0.0923649400744342, 0.0923649400744342, 0.0923649400744342, 0.0923649400744342, 0.0923649400744342, 0.0923649400744342, 0.0923649400744342, 0.0923649400744342, 0.0923649400744342, 0.0923649400744342, 0.0923649400744342, 0.0923649400744342, 0.0923649400744342, 0.09183892433261313, 0.09183892433261313, 0.09183892433261313, 0.09183892433261313, 0.09183892433261313, 0.09183892433261313, 0.09183892433261313, 0.09183892433261313, 0.09183892433261313, 0.09183892433261313, 0.09183892433261313, 0.09183892433261313, 0.09183892433261313, 0.09183892433261313, 0.09183892433261313, 0.09582351929770504, 0.09582351929770504, 0.09582351929770504, 0.09582351929770504, 0.09582351929770504, 0.09582351929770504, 0.09582351929770504, 0.09582351929770504, 0.09582351929770504, 0.09582351929770504, 0.09582351929770504, 0.09582351929770504, 0.09582351929770504, 0.09582351929770504, 0.09582351929770504, 0.09353659708869096, 0.09353659708869096, 0.09353659708869096, 0.09353659708869096, 0.09353659708869096, 0.09353659708869096, 0.09353659708869096, 0.09353659708869096, 0.09353659708869096, 0.09353659708869096, 0.09353659708869096, 0.09353659708869096, 0.09353659708869096, 0.09353659708869096, 0.09353659708869096, 0.09265314671183124, 0.09265314671183124, 0.09265314671183124, 0.09265314671183124, 0.09265314671183124, 0.09265314671183124, 0.09265314671183124, 0.09265314671183124, 0.09265314671183124, 0.09265314671183124, 0.09265314671183124, 0.09265314671183124, 0.09265314671183124, 0.09265314671183124, 0.09265314671183124, 0.09339021944570192, 0.09339021944570192, 0.09339021944570192, 0.09339021944570192, 0.09339021944570192, 0.09339021944570192, 0.09339021944570192, 0.09339021944570192, 0.09339021944570192, 0.09339021944570192, 0.09339021944570192, 0.09339021944570192, 0.09339021944570192, 0.09339021944570192, 0.09339021944570192, 0.09427360591490895, 0.09427360591490895, 0.09427360591490895, 0.09427360591490895, 0.09427360591490895, 0.09427360591490895, 0.09427360591490895, 0.09427360591490895, 0.09427360591490895, 0.09427360591490895, 0.09427360591490895, 0.09427360591490895, 0.09427360591490895, 0.09427360591490895, 0.09427360591490895, 0.09258971486045808, 0.09258971486045808, 0.09258971486045808, 0.09258971486045808, 0.09258971486045808, 0.09258971486045808, 0.09258971486045808, 0.09258971486045808, 0.09258971486045808, 0.09258971486045808, 0.09258971486045808, 0.09258971486045808, 0.09258971486045808, 0.09258971486045808, 0.09258971486045808, 0.09295608073902914, 0.09295608073902914, 0.09295608073902914, 0.09295608073902914, 0.09295608073902914, 0.09295608073902914, 0.09295608073902914, 0.09295608073902914, 0.09295608073902914, 0.09295608073902914, 0.09295608073902914, 0.09295608073902914, 0.09295608073902914, 0.09295608073902914, 0.09532447825217172, 0.09532447825217172, 0.09532447825217172, 0.09532447825217172, 0.09532447825217172, 0.09532447825217172, 0.09532447825217172, 0.09532447825217172, 0.09532447825217172, 0.09532447825217172, 0.09532447825217172, 0.09532447825217172, 0.09532447825217172, 0.09532447825217172, 0.09532447825217172, 0.09326111772115725, 0.09326111772115725, 0.09326111772115725, 0.09326111772115725, 0.09326111772115725, 0.09326111772115725, 0.09326111772115725, 0.09326111772115725, 0.09326111772115725, 0.09326111772115725, 0.09326111772115725, 0.09326111772115725, 0.09326111772115725, 0.09326111772115725, 0.09326111772115725, 0.09554459873361247, 0.09554459873361247, 0.09554459873361247, 0.09554459873361247, 0.09554459873361247, 0.09554459873361247, 0.09554459873361247, 0.09554459873361247, 0.09554459873361247, 0.09554459873361247, 0.09554459873361247, 0.09554459873361247, 0.09554459873361247, 0.09554459873361247, 0.09554459873361247, 0.09557402718622621, 0.09557402718622621, 0.09557402718622621, 0.09557402718622621, 0.09557402718622621, 0.09557402718622621, 0.09557402718622621, 0.09557402718622621, 0.09557402718622621, 0.09557402718622621, 0.09557402718622621, 0.09557402718622621, 0.09557402718622621, 0.09557402718622621, 0.09557402718622621, 0.09273668425677586, 0.09273668425677586, 0.09273668425677586, 0.09273668425677586, 0.09273668425677586, 0.09273668425677586, 0.09273668425677586, 0.09273668425677586, 0.09273668425677586, 0.09273668425677586, 0.09273668425677586, 0.09273668425677586, 0.09273668425677586, 0.09273668425677586, 0.09273668425677586, 0.09388261131419733, 0.09388261131419733, 0.09388261131419733, 0.09388261131419733, 0.09388261131419733, 0.09388261131419733, 0.09388261131419733, 0.09388261131419733, 0.09388261131419733, 0.09388261131419733, 0.09388261131419733, 0.09388261131419733, 0.09388261131419733, 0.09388261131419733, 0.09388261131419733, 0.09307260548470979, 0.09307260548470979, 0.09307260548470979, 0.09307260548470979, 0.09307260548470979, 0.09307260548470979, 0.09307260548470979, 0.09307260548470979, 0.09307260548470979, 0.09307260548470979, 0.09307260548470979, 0.09307260548470979, 0.09307260548470979, 0.09307260548470979, 0.09307260548470979, 0.0921844698740267, 0.0921844698740267, 0.0921844698740267, 0.0921844698740267, 0.0921844698740267, 0.0921844698740267, 0.0921844698740267, 0.0921844698740267, 0.0921844698740267, 0.0921844698740267, 0.0921844698740267, 0.0921844698740267, 0.0921844698740267, 0.0921844698740267, 0.09390275945970199, 0.09390275945970199, 0.09390275945970199, 0.09390275945970199, 0.09390275945970199, 0.09390275945970199, 0.09390275945970199, 0.09390275945970199, 0.09390275945970199, 0.09390275945970199, 0.09390275945970199, 0.09390275945970199, 0.09390275945970199, 0.09390275945970199, 0.09462002744082074, 0.09462002744082074, 0.09462002744082074, 0.09462002744082074, 0.09462002744082074, 0.09462002744082074, 0.09462002744082074, 0.09462002744082074, 0.09462002744082074, 0.09462002744082074, 0.09462002744082074, 0.09462002744082074, 0.09462002744082074, 0.09462002744082074, 0.09462002744082074, 0.09555297320945275, 0.09555297320945275, 0.09555297320945275, 0.09555297320945275, 0.09555297320945275, 0.09555297320945275, 0.09555297320945275, 0.09555297320945275, 0.09555297320945275, 0.09555297320945275, 0.09555297320945275, 0.09555297320945275, 0.09555297320945275, 0.09555297320945275, 0.09287090488374944, 0.09287090488374944, 0.09287090488374944, 0.09287090488374944, 0.09287090488374944, 0.09287090488374944, 0.09287090488374944, 0.09287090488374944, 0.09287090488374944, 0.09287090488374944, 0.09287090488374944, 0.09287090488374944, 0.09287090488374944, 0.09329380444094326, 0.09329380444094326, 0.09329380444094326, 0.09329380444094326, 0.09329380444094326, 0.09329380444094326, 0.09329380444094326, 0.09329380444094326, 0.09329380444094326, 0.09329380444094326, 0.09329380444094326, 0.09329380444094326, 0.09329380444094326, 0.09329380444094326, 0.08822403434453915, 0.08822403434453915, 0.08822403434453915, 0.08822403434453915, 0.08822403434453915, 0.08822403434453915, 0.08822403434453915, 0.08822403434453915, 0.08822403434453915, 0.08822403434453915, 0.08822403434453915, 0.08822403434453915, 0.08822403434453915, 0.08822403434453915, 0.09435432449714988, 0.09435432449714988, 0.09435432449714988, 0.09435432449714988, 0.09435432449714988, 0.09435432449714988, 0.09435432449714988, 0.09435432449714988, 0.09435432449714988, 0.09435432449714988, 0.09435432449714988, 0.09435432449714988, 0.09435432449714988, 0.09435432449714988, 0.09435432449714988, 0.09299759964515553, 0.09299759964515553, 0.09299759964515553, 0.09299759964515553, 0.09299759964515553, 0.09299759964515553, 0.09299759964515553, 0.09299759964515553, 0.09299759964515553, 0.09299759964515553, 0.09299759964515553, 0.09299759964515553, 0.09299759964515553, 0.09299759964515553, 0.09299759964515553, 0.09239940235297396, 0.09239940235297396, 0.09239940235297396, 0.09239940235297396, 0.09239940235297396, 0.09239940235297396, 0.09239940235297396, 0.09239940235297396, 0.09239940235297396, 0.09239940235297396, 0.09239940235297396, 0.09239940235297396, 0.09239940235297396, 0.09239940235297396, 0.09239940235297396, 0.09417480434929093, 0.09417480434929093, 0.09417480434929093, 0.09417480434929093, 0.09417480434929093, 0.09417480434929093, 0.09417480434929093, 0.09417480434929093, 0.09417480434929093, 0.09417480434929093, 0.09417480434929093, 0.09417480434929093, 0.09417480434929093, 0.09417480434929093, 0.09115623950296524, 0.09115623950296524, 0.09115623950296524, 0.09115623950296524, 0.09115623950296524, 0.09115623950296524, 0.09115623950296524, 0.09115623950296524, 0.09115623950296524, 0.09115623950296524, 0.09115623950296524, 0.09115623950296524, 0.09115623950296524, 0.09115623950296524, 0.09115623950296524, 0.09200068327683444, 0.09200068327683444, 0.09200068327683444, 0.09200068327683444, 0.09200068327683444, 0.09200068327683444, 0.09200068327683444, 0.09200068327683444, 0.09200068327683444, 0.09200068327683444, 0.09200068327683444, 0.09200068327683444, 0.09200068327683444, 0.09200068327683444, 0.09421918599626268, 0.09421918599626268, 0.09421918599626268, 0.09421918599626268, 0.09421918599626268, 0.09421918599626268, 0.09421918599626268, 0.09421918599626268, 0.09421918599626268, 0.09421918599626268, 0.09421918599626268, 0.09421918599626268, 0.09421918599626268, 0.09421918599626268, 0.09421918599626268, 0.09314453249108591, 0.09314453249108591, 0.09314453249108591, 0.09314453249108591, 0.09314453249108591, 0.09314453249108591, 0.09314453249108591, 0.09314453249108591, 0.09314453249108591, 0.09314453249108591, 0.09314453249108591, 0.09314453249108591, 0.09314453249108591, 0.09314453249108591, 0.0935925258937306, 0.0935925258937306, 0.0935925258937306, 0.0935925258937306, 0.0935925258937306, 0.0935925258937306, 0.0935925258937306, 0.0935925258937306, 0.0935925258937306, 0.0935925258937306, 0.0935925258937306, 0.0935925258937306, 0.0935925258937306, 0.0935925258937306, 0.0935925258937306, 0.09439048419191991, 0.09439048419191991, 0.09439048419191991, 0.09439048419191991, 0.09439048419191991, 0.09439048419191991, 0.09439048419191991, 0.09439048419191991, 0.09439048419191991, 0.09439048419191991, 0.09439048419191991, 0.09439048419191991, 0.09439048419191991, 0.09439048419191991, 0.09439048419191991, 0.09102368669616343, 0.09102368669616343, 0.09102368669616343, 0.09102368669616343, 0.09102368669616343, 0.09102368669616343, 0.09102368669616343, 0.09102368669616343, 0.09102368669616343, 0.09102368669616343, 0.09102368669616343, 0.09102368669616343, 0.09102368669616343, 0.09102368669616343, 0.09102368669616343, 0.0932858629748457, 0.0932858629748457, 0.0932858629748457, 0.0932858629748457, 0.0932858629748457, 0.0932858629748457, 0.0932858629748457, 0.0932858629748457, 0.0932858629748457, 0.0932858629748457, 0.0932858629748457, 0.0932858629748457, 0.0932858629748457, 0.0932858629748457, 0.0932858629748457, 0.08789154550965514, 0.08789154550965514, 0.08789154550965514, 0.08789154550965514, 0.08789154550965514, 0.08789154550965514, 0.08789154550965514, 0.08789154550965514, 0.08789154550965514, 0.08789154550965514, 0.08789154550965514, 0.08789154550965514, 0.08789154550965514, 0.08789154550965514, 0.08789154550965514, 0.0924979258992672, 0.0924979258992672, 0.0924979258992672, 0.0924979258992672, 0.0924979258992672, 0.0924979258992672, 0.0924979258992672, 0.0924979258992672, 0.0924979258992672, 0.0924979258992672, 0.0924979258992672, 0.0924979258992672, 0.0924979258992672, 0.0924979258992672, 0.0924979258992672, 0.09136046444679423, 0.09136046444679423, 0.09136046444679423, 0.09136046444679423, 0.09136046444679423, 0.09136046444679423, 0.09136046444679423, 0.09136046444679423, 0.09136046444679423, 0.09136046444679423, 0.09136046444679423, 0.09136046444679423, 0.09136046444679423, 0.09136046444679423, 0.0923717253144135, 0.0923717253144135, 0.0923717253144135, 0.0923717253144135, 0.0923717253144135, 0.0923717253144135, 0.0923717253144135, 0.0923717253144135, 0.0923717253144135, 0.0923717253144135, 0.0923717253144135, 0.0923717253144135, 0.0923717253144135, 0.0923717253144135, 0.09338896927935941, 0.09338896927935941, 0.09338896927935941, 0.09338896927935941, 0.09338896927935941, 0.09338896927935941, 0.09338896927935941, 0.09338896927935941, 0.09338896927935941, 0.09338896927935941, 0.09338896927935941, 0.09338896927935941, 0.09338896927935941, 0.09338896927935941, 0.09338896927935941, 0.09568012083023412, 0.09568012083023412, 0.09568012083023412, 0.09568012083023412, 0.09568012083023412, 0.09568012083023412, 0.09568012083023412, 0.09568012083023412, 0.09568012083023412, 0.09568012083023412, 0.09568012083023412, 0.09568012083023412, 0.09568012083023412, 0.09568012083023412, 0.09568012083023412, 0.09238708180764223, 0.09238708180764223, 0.09238708180764223, 0.09238708180764223, 0.09238708180764223, 0.09238708180764223, 0.09238708180764223, 0.09238708180764223, 0.09238708180764223, 0.09238708180764223, 0.09238708180764223, 0.09238708180764223, 0.09238708180764223, 0.09238708180764223, 0.09238708180764223, 0.09508394381925016, 0.09508394381925016, 0.09508394381925016, 0.09508394381925016, 0.09508394381925016, 0.09508394381925016, 0.09508394381925016, 0.09508394381925016, 0.09508394381925016, 0.09508394381925016, 0.09508394381925016, 0.09508394381925016, 0.09508394381925016, 0.09508394381925016, 0.09121851848171011, 0.09121851848171011, 0.09121851848171011, 0.09121851848171011, 0.09121851848171011, 0.09121851848171011, 0.09121851848171011, 0.09121851848171011, 0.09121851848171011, 0.09121851848171011, 0.09121851848171011, 0.09121851848171011, 0.09121851848171011, 0.09121851848171011, 0.09121851848171011, 0.09542633437198296, 0.09542633437198296, 0.09542633437198296, 0.09542633437198296, 0.09542633437198296, 0.09542633437198296, 0.09542633437198296, 0.09542633437198296, 0.09542633437198296, 0.09542633437198296, 0.09542633437198296, 0.09542633437198296, 0.09542633437198296, 0.09542633437198296, 0.09542633437198296, 0.09535855808193533, 0.09535855808193533, 0.09535855808193533, 0.09535855808193533, 0.09535855808193533, 0.09535855808193533, 0.09535855808193533, 0.09535855808193533, 0.09535855808193533, 0.09535855808193533, 0.09535855808193533, 0.09535855808193533, 0.09535855808193533, 0.09535855808193533, 0.09535855808193533, 0.09265910535059853, 0.09265910535059853, 0.09265910535059853, 0.09265910535059853, 0.09265910535059853, 0.09265910535059853, 0.09265910535059853, 0.09265910535059853, 0.09265910535059853, 0.09265910535059853, 0.09265910535059853, 0.09265910535059853, 0.09265910535059853, 0.09310648032752657, 0.09310648032752657, 0.09310648032752657, 0.09310648032752657, 0.09310648032752657, 0.09310648032752657, 0.09310648032752657, 0.09310648032752657, 0.09310648032752657, 0.09310648032752657, 0.09310648032752657, 0.09310648032752657, 0.09310648032752657, 0.09310648032752657, 0.09264811737579426, 0.09264811737579426, 0.09264811737579426, 0.09264811737579426, 0.09264811737579426, 0.09264811737579426, 0.09264811737579426, 0.09264811737579426, 0.09264811737579426, 0.09264811737579426, 0.09264811737579426, 0.09264811737579426, 0.09264811737579426, 0.09264811737579426, 0.09264811737579426, 0.08891125037399683, 0.08891125037399683, 0.08891125037399683, 0.08891125037399683, 0.08891125037399683, 0.08891125037399683, 0.08891125037399683, 0.08891125037399683, 0.08891125037399683, 0.08891125037399683, 0.08891125037399683, 0.08891125037399683, 0.08891125037399683, 0.08891125037399683, 0.08891125037399683, 0.09043095793139465, 0.09043095793139465, 0.09043095793139465, 0.09043095793139465, 0.09043095793139465, 0.09043095793139465, 0.09043095793139465, 0.09043095793139465, 0.09043095793139465, 0.09043095793139465, 0.09043095793139465, 0.09043095793139465, 0.09043095793139465, 0.09043095793139465, 0.09043095793139465, 0.0927872250102216, 0.0927872250102216, 0.0927872250102216, 0.0927872250102216, 0.0927872250102216, 0.0927872250102216, 0.0927872250102216, 0.0927872250102216, 0.0927872250102216, 0.0927872250102216, 0.0927872250102216, 0.0927872250102216, 0.0927872250102216, 0.0927872250102216, 0.0927872250102216, 0.09337720486510556, 0.09337720486510556, 0.09337720486510556, 0.09337720486510556, 0.09337720486510556, 0.09337720486510556, 0.09337720486510556, 0.09337720486510556, 0.09337720486510556, 0.09337720486510556, 0.09337720486510556, 0.09337720486510556, 0.09337720486510556, 0.09337720486510556, 0.09337720486510556, 0.0911566863749447, 0.0911566863749447, 0.0911566863749447, 0.0911566863749447, 0.0911566863749447, 0.0911566863749447, 0.0911566863749447, 0.0911566863749447, 0.0911566863749447, 0.0911566863749447, 0.0911566863749447, 0.0911566863749447, 0.0911566863749447, 0.0911566863749447, 0.0911566863749447, 0.09071152035536362, 0.09071152035536362, 0.09071152035536362, 0.09071152035536362, 0.09071152035536362, 0.09071152035536362, 0.09071152035536362, 0.09071152035536362, 0.09071152035536362, 0.09071152035536362, 0.09071152035536362, 0.09071152035536362, 0.09071152035536362, 0.09071152035536362, 0.09357138537333584, 0.09357138537333584, 0.09357138537333584, 0.09357138537333584, 0.09357138537333584, 0.09357138537333584, 0.09357138537333584, 0.09357138537333584, 0.09357138537333584, 0.09357138537333584, 0.09357138537333584, 0.09357138537333584, 0.09357138537333584, 0.09357138537333584, 0.09357138537333584, 0.09284775652551333, 0.09284775652551333, 0.09284775652551333, 0.09284775652551333, 0.09284775652551333, 0.09284775652551333, 0.09284775652551333, 0.09284775652551333, 0.09284775652551333, 0.09284775652551333, 0.09284775652551333, 0.09284775652551333, 0.09284775652551333, 0.09284775652551333, 0.09307655068198914, 0.09307655068198914, 0.09307655068198914, 0.09307655068198914, 0.09307655068198914, 0.09307655068198914, 0.09307655068198914, 0.09307655068198914, 0.09307655068198914, 0.09307655068198914, 0.09307655068198914, 0.09307655068198914, 0.09307655068198914, 0.09307655068198914, 0.09307655068198914, 0.09269174396215701, 0.09269174396215701, 0.09269174396215701, 0.09269174396215701, 0.09269174396215701, 0.09269174396215701, 0.09269174396215701, 0.09269174396215701, 0.09269174396215701, 0.09269174396215701, 0.09269174396215701, 0.09269174396215701, 0.09269174396215701, 0.09269174396215701, 0.09269174396215701, 0.09304488687539744, 0.09304488687539744, 0.09304488687539744, 0.09304488687539744, 0.09304488687539744, 0.09304488687539744, 0.09304488687539744, 0.09304488687539744, 0.09304488687539744, 0.09304488687539744, 0.09304488687539744, 0.09304488687539744, 0.09304488687539744, 0.09304488687539744, 0.09304488687539744, 0.09252372630515988, 0.09252372630515988, 0.09252372630515988, 0.09252372630515988, 0.09252372630515988, 0.09252372630515988, 0.09252372630515988, 0.09252372630515988, 0.09252372630515988, 0.09252372630515988, 0.09252372630515988, 0.09252372630515988, 0.09252372630515988, 0.09252372630515988, 0.09327668466515562, 0.09327668466515562, 0.09327668466515562, 0.09327668466515562, 0.09327668466515562, 0.09327668466515562, 0.09327668466515562, 0.09327668466515562, 0.09327668466515562, 0.09327668466515562, 0.09327668466515562, 0.09327668466515562, 0.09327668466515562, 0.09327668466515562, 0.09327668466515562, 0.09368950122966463, 0.09368950122966463, 0.09368950122966463, 0.09368950122966463, 0.09368950122966463, 0.09368950122966463, 0.09368950122966463, 0.09368950122966463, 0.09368950122966463, 0.09368950122966463, 0.09368950122966463, 0.09368950122966463, 0.09368950122966463, 0.09368950122966463, 0.09368950122966463, 0.09302877959545161, 0.09302877959545161, 0.09302877959545161, 0.09302877959545161, 0.09302877959545161, 0.09302877959545161, 0.09302877959545161, 0.09302877959545161, 0.09302877959545161, 0.09302877959545161, 0.09302877959545161, 0.09302877959545161, 0.09302877959545161, 0.09302877959545161, 0.09208173247886929, 0.09208173247886929, 0.09208173247886929, 0.09208173247886929, 0.09208173247886929, 0.09208173247886929, 0.09208173247886929, 0.09208173247886929, 0.09208173247886929, 0.09208173247886929, 0.09208173247886929, 0.09208173247886929, 0.09208173247886929, 0.09208173247886929, 0.09208173247886929, 0.0929043841114219, 0.0929043841114219, 0.0929043841114219, 0.0929043841114219, 0.0929043841114219, 0.0929043841114219, 0.0929043841114219, 0.0929043841114219, 0.0929043841114219, 0.0929043841114219, 0.0929043841114219, 0.0929043841114219, 0.0929043841114219, 0.0929043841114219, 0.0929043841114219, 0.09407818230469152, 0.09407818230469152, 0.09407818230469152, 0.09407818230469152, 0.09407818230469152, 0.09407818230469152, 0.09407818230469152, 0.09407818230469152, 0.09407818230469152, 0.09407818230469152, 0.09407818230469152, 0.09407818230469152, 0.09407818230469152, 0.09407818230469152, 0.09407818230469152, 0.09024893232286213, 0.09024893232286213, 0.09024893232286213, 0.09024893232286213, 0.09024893232286213, 0.09024893232286213, 0.09024893232286213, 0.09024893232286213, 0.09024893232286213, 0.09024893232286213, 0.09024893232286213, 0.09024893232286213, 0.09024893232286213, 0.09024893232286213, 0.09024893232286213, 0.09029898440356043, 0.09029898440356043, 0.09029898440356043, 0.09029898440356043, 0.09029898440356043, 0.09029898440356043, 0.09029898440356043, 0.09029898440356043, 0.09029898440356043, 0.09029898440356043, 0.09029898440356043, 0.09029898440356043, 0.09029898440356043, 0.09029898440356043, 0.09029898440356043, 0.09445592386081063, 0.09445592386081063, 0.09445592386081063, 0.09445592386081063, 0.09445592386081063, 0.09445592386081063, 0.09445592386081063, 0.09445592386081063, 0.09445592386081063, 0.09445592386081063, 0.09445592386081063, 0.09445592386081063, 0.09445592386081063, 0.09445592386081063, 0.09445592386081063, 0.09632927678945281, 0.09632927678945281, 0.09632927678945281, 0.09632927678945281, 0.09632927678945281, 0.09632927678945281, 0.09632927678945281, 0.09632927678945281, 0.09632927678945281, 0.09632927678945281, 0.09632927678945281, 0.09632927678945281, 0.09632927678945281, 0.09632927678945281, 0.09632927678945281, 0.09175093959678118, 0.09175093959678118, 0.09175093959678118, 0.09175093959678118, 0.09175093959678118, 0.09175093959678118, 0.09175093959678118, 0.09175093959678118, 0.09175093959678118, 0.09175093959678118, 0.09175093959678118, 0.09175093959678118, 0.09175093959678118, 0.09175093959678118, 0.09175093959678118, 0.09132764138064256, 0.09132764138064256, 0.09132764138064256, 0.09132764138064256, 0.09132764138064256, 0.09132764138064256, 0.09132764138064256, 0.09132764138064256, 0.09132764138064256, 0.09132764138064256, 0.09132764138064256, 0.09132764138064256, 0.09132764138064256, 0.09132764138064256, 0.09132764138064256, 0.09530246784538789, 0.09530246784538789, 0.09530246784538789, 0.09530246784538789, 0.09530246784538789, 0.09530246784538789, 0.09530246784538789, 0.09530246784538789, 0.09530246784538789, 0.09530246784538789, 0.09530246784538789, 0.09530246784538789, 0.09530246784538789, 0.09530246784538789, 0.09530246784538789, 0.0910103691723583, 0.0910103691723583, 0.0910103691723583, 0.0910103691723583, 0.0910103691723583, 0.0910103691723583, 0.0910103691723583, 0.0910103691723583, 0.0910103691723583, 0.0910103691723583, 0.0910103691723583, 0.0910103691723583, 0.0910103691723583, 0.0910103691723583, 0.09290162957434406, 0.09290162957434406, 0.09290162957434406, 0.09290162957434406, 0.09290162957434406, 0.09290162957434406, 0.09290162957434406, 0.09290162957434406, 0.09290162957434406, 0.09290162957434406, 0.09290162957434406, 0.09290162957434406, 0.09290162957434406, 0.09290162957434406, 0.09290162957434406, 0.09286060833350136, 0.09286060833350136, 0.09286060833350136, 0.09286060833350136, 0.09286060833350136, 0.09286060833350136, 0.09286060833350136, 0.09286060833350136, 0.09286060833350136, 0.09286060833350136, 0.09286060833350136, 0.09286060833350136, 0.09286060833350136, 0.09286060833350136, 0.09286060833350136, 0.09043559531479542, 0.09043559531479542, 0.09043559531479542, 0.09043559531479542, 0.09043559531479542, 0.09043559531479542, 0.09043559531479542, 0.09043559531479542, 0.09043559531479542, 0.09043559531479542, 0.09043559531479542, 0.09043559531479542, 0.09043559531479542, 0.09043559531479542, 0.09277829478153257, 0.09277829478153257, 0.09277829478153257, 0.09277829478153257, 0.09277829478153257, 0.09277829478153257, 0.09277829478153257, 0.09277829478153257, 0.09277829478153257, 0.09277829478153257, 0.09277829478153257, 0.09277829478153257, 0.09277829478153257, 0.09277829478153257, 0.09277829478153257, 0.09280761163151587, 0.09280761163151587, 0.09280761163151587, 0.09280761163151587, 0.09280761163151587, 0.09280761163151587, 0.09280761163151587, 0.09280761163151587, 0.09280761163151587, 0.09280761163151587, 0.09280761163151587, 0.09280761163151587, 0.09280761163151587, 0.09280761163151587, 0.09280761163151587, 0.08911252353467466, 0.08911252353467466, 0.08911252353467466, 0.08911252353467466, 0.08911252353467466, 0.08911252353467466, 0.08911252353467466, 0.08911252353467466, 0.08911252353467466, 0.08911252353467466, 0.08911252353467466, 0.08911252353467466, 0.08911252353467466, 0.08911252353467466, 0.08911252353467466, 0.09401313403621166, 0.09401313403621166, 0.09401313403621166, 0.09401313403621166, 0.09401313403621166, 0.09401313403621166, 0.09401313403621166, 0.09401313403621166, 0.09401313403621166, 0.09401313403621166, 0.09401313403621166, 0.09401313403621166, 0.09401313403621166, 0.09401313403621166, 0.0913949924783252, 0.0913949924783252, 0.0913949924783252, 0.0913949924783252, 0.0913949924783252, 0.0913949924783252, 0.0913949924783252, 0.0913949924783252, 0.0913949924783252, 0.0913949924783252, 0.0913949924783252, 0.0913949924783252, 0.0913949924783252, 0.0913949924783252, 0.0913949924783252, 0.09179906544598321, 0.09179906544598321, 0.09179906544598321, 0.09179906544598321, 0.09179906544598321, 0.09179906544598321, 0.09179906544598321, 0.09179906544598321, 0.09179906544598321, 0.09179906544598321, 0.09179906544598321, 0.09179906544598321, 0.09179906544598321, 0.09179906544598321, 0.09339056083636431, 0.09339056083636431, 0.09339056083636431, 0.09339056083636431, 0.09339056083636431, 0.09339056083636431, 0.09339056083636431, 0.09339056083636431, 0.09339056083636431, 0.09339056083636431, 0.09339056083636431, 0.09339056083636431, 0.09339056083636431, 0.09339056083636431, 0.09339056083636431, 0.09537763892699051, 0.09537763892699051, 0.09537763892699051, 0.09537763892699051, 0.09537763892699051, 0.09537763892699051, 0.09537763892699051, 0.09537763892699051, 0.09537763892699051, 0.09537763892699051, 0.09537763892699051, 0.09537763892699051, 0.09537763892699051, 0.09537763892699051, 0.09537763892699051, 0.090694946414953, 0.090694946414953, 0.090694946414953, 0.090694946414953, 0.090694946414953, 0.090694946414953, 0.090694946414953, 0.090694946414953, 0.090694946414953, 0.090694946414953, 0.090694946414953, 0.090694946414953, 0.090694946414953, 0.090694946414953, 0.090694946414953, 0.09577836547101912, 0.09577836547101912, 0.09577836547101912, 0.09577836547101912, 0.09577836547101912, 0.09577836547101912, 0.09577836547101912, 0.09577836547101912, 0.09577836547101912, 0.09577836547101912, 0.09577836547101912, 0.09577836547101912, 0.09577836547101912, 0.09577836547101912, 0.09577836547101912, 0.09420454099152545, 0.09420454099152545, 0.09420454099152545, 0.09420454099152545, 0.09420454099152545, 0.09420454099152545, 0.09420454099152545, 0.09420454099152545, 0.09420454099152545, 0.09420454099152545, 0.09420454099152545, 0.09420454099152545, 0.09420454099152545, 0.09420454099152545, 0.09143090704573328, 0.09143090704573328, 0.09143090704573328, 0.09143090704573328, 0.09143090704573328, 0.09143090704573328, 0.09143090704573328, 0.09143090704573328, 0.09143090704573328, 0.09143090704573328, 0.09143090704573328, 0.09143090704573328, 0.09143090704573328, 0.0926600024220269, 0.0926600024220269, 0.0926600024220269, 0.0926600024220269, 0.0926600024220269, 0.0926600024220269, 0.0926600024220269, 0.0926600024220269, 0.0926600024220269, 0.0926600024220269, 0.0926600024220269, 0.0926600024220269, 0.0926600024220269, 0.0926600024220269, 0.0926600024220269, 0.09220583009831536, 0.09220583009831536, 0.09220583009831536, 0.09220583009831536, 0.09220583009831536, 0.09220583009831536, 0.09220583009831536, 0.09220583009831536, 0.09220583009831536, 0.09220583009831536, 0.09220583009831536, 0.09220583009831536, 0.09220583009831536, 0.09220583009831536, 0.09220583009831536, 0.0924845881433179, 0.0924845881433179, 0.0924845881433179, 0.0924845881433179, 0.0924845881433179, 0.0924845881433179, 0.0924845881433179, 0.0924845881433179, 0.0924845881433179, 0.0924845881433179, 0.0924845881433179, 0.0924845881433179, 0.0924845881433179, 0.0924845881433179, 0.09532706513289824, 0.09532706513289824, 0.09532706513289824, 0.09532706513289824, 0.09532706513289824, 0.09532706513289824, 0.09532706513289824, 0.09532706513289824, 0.09532706513289824, 0.09532706513289824, 0.09532706513289824, 0.09532706513289824, 0.09532706513289824, 0.09532706513289824, 0.09532706513289824, 0.09292813362936751, 0.09292813362936751, 0.09292813362936751, 0.09292813362936751, 0.09292813362936751, 0.09292813362936751, 0.09292813362936751, 0.09292813362936751, 0.09292813362936751, 0.09292813362936751, 0.09292813362936751, 0.09292813362936751, 0.09292813362936751, 0.09292813362936751, 0.09366922463417147, 0.09366922463417147, 0.09366922463417147, 0.09366922463417147, 0.09366922463417147, 0.09366922463417147, 0.09366922463417147, 0.09366922463417147, 0.09366922463417147, 0.09366922463417147, 0.09366922463417147, 0.09366922463417147, 0.09366922463417147, 0.09366922463417147, 0.09366922463417147, 0.08757037496622967, 0.08757037496622967, 0.08757037496622967, 0.08757037496622967, 0.08757037496622967, 0.08757037496622967, 0.08757037496622967, 0.08757037496622967, 0.08757037496622967, 0.08757037496622967, 0.08757037496622967, 0.08757037496622967, 0.08757037496622967, 0.08757037496622967, 0.09434221460374415, 0.09434221460374415, 0.09434221460374415, 0.09434221460374415, 0.09434221460374415, 0.09434221460374415, 0.09434221460374415, 0.09434221460374415, 0.09434221460374415, 0.09434221460374415, 0.09434221460374415, 0.09434221460374415, 0.09434221460374415, 0.09434221460374415, 0.09414354917378859, 0.09414354917378859, 0.09414354917378859, 0.09414354917378859, 0.09414354917378859, 0.09414354917378859, 0.09414354917378859, 0.09414354917378859, 0.09414354917378859, 0.09414354917378859, 0.09414354917378859, 0.09414354917378859, 0.09414354917378859, 0.09414354917378859, 0.09086766873401374, 0.09086766873401374, 0.09086766873401374, 0.09086766873401374, 0.09086766873401374, 0.09086766873401374, 0.09086766873401374, 0.09086766873401374, 0.09086766873401374, 0.09086766873401374, 0.09086766873401374, 0.09086766873401374, 0.09086766873401374, 0.09086766873401374, 0.09270462157578326, 0.09270462157578326, 0.09270462157578326, 0.09270462157578326, 0.09270462157578326, 0.09270462157578326, 0.09270462157578326, 0.09270462157578326, 0.09270462157578326, 0.09270462157578326, 0.09270462157578326, 0.09270462157578326, 0.09270462157578326, 0.09270462157578326, 0.09270462157578326, 0.09333901360819155, 0.09333901360819155, 0.09333901360819155, 0.09333901360819155, 0.09333901360819155, 0.09333901360819155, 0.09333901360819155, 0.09333901360819155, 0.09333901360819155, 0.09333901360819155, 0.09333901360819155, 0.09333901360819155, 0.09333901360819155, 0.09333901360819155, 0.09333901360819155, 0.09297761189881695, 0.09297761189881695, 0.09297761189881695, 0.09297761189881695, 0.09297761189881695, 0.09297761189881695, 0.09297761189881695, 0.09297761189881695, 0.09297761189881695, 0.09297761189881695, 0.09297761189881695, 0.09297761189881695, 0.09297761189881695, 0.09297761189881695, 0.09297761189881695, 0.09317255214924644, 0.09317255214924644, 0.09317255214924644, 0.09317255214924644, 0.09317255214924644, 0.09317255214924644, 0.09317255214924644, 0.09317255214924644, 0.09317255214924644, 0.09317255214924644, 0.09317255214924644, 0.09317255214924644, 0.09317255214924644, 0.09317255214924644, 0.09458611776479833, 0.09458611776479833, 0.09458611776479833, 0.09458611776479833, 0.09458611776479833, 0.09458611776479833, 0.09458611776479833, 0.09458611776479833, 0.09458611776479833, 0.09458611776479833, 0.09458611776479833, 0.09458611776479833, 0.09458611776479833, 0.09458611776479833, 0.09458611776479833, 0.08915267875510528, 0.08915267875510528, 0.08915267875510528, 0.08915267875510528, 0.08915267875510528, 0.08915267875510528, 0.08915267875510528, 0.08915267875510528, 0.08915267875510528, 0.08915267875510528, 0.08915267875510528, 0.08915267875510528, 0.08915267875510528, 0.08915267875510528, 0.09100119089939554, 0.09100119089939554, 0.09100119089939554, 0.09100119089939554, 0.09100119089939554, 0.09100119089939554, 0.09100119089939554, 0.09100119089939554, 0.09100119089939554, 0.09100119089939554, 0.09100119089939554, 0.09100119089939554, 0.09100119089939554, 0.09100119089939554, 0.09100119089939554, 0.09166835852850967, 0.09166835852850967, 0.09166835852850967, 0.09166835852850967, 0.09166835852850967, 0.09166835852850967, 0.09166835852850967, 0.09166835852850967, 0.09166835852850967, 0.09166835852850967, 0.09166835852850967, 0.09166835852850967, 0.09166835852850967, 0.09166835852850967, 0.09166835852850967, 0.09158559892154323, 0.09158559892154323, 0.09158559892154323, 0.09158559892154323, 0.09158559892154323, 0.09158559892154323, 0.09158559892154323, 0.09158559892154323, 0.09158559892154323, 0.09158559892154323, 0.09158559892154323, 0.09158559892154323, 0.09158559892154323, 0.09158559892154323, 0.09322918285945794, 0.09322918285945794, 0.09322918285945794, 0.09322918285945794, 0.09322918285945794, 0.09322918285945794, 0.09322918285945794, 0.09322918285945794, 0.09322918285945794, 0.09322918285945794, 0.09322918285945794, 0.09322918285945794, 0.09322918285945794, 0.09322918285945794, 0.09322918285945794, 0.0937303239053039, 0.0937303239053039, 0.0937303239053039, 0.0937303239053039, 0.0937303239053039, 0.0937303239053039, 0.0937303239053039, 0.0937303239053039, 0.0937303239053039, 0.0937303239053039, 0.0937303239053039, 0.0937303239053039, 0.0937303239053039, 0.0937303239053039, 0.09701435470049653, 0.09701435470049653, 0.09701435470049653, 0.09701435470049653, 0.09701435470049653, 0.09701435470049653, 0.09701435470049653, 0.09701435470049653, 0.09701435470049653, 0.09701435470049653, 0.09701435470049653, 0.09701435470049653, 0.09701435470049653, 0.09701435470049653, 0.09701435470049653, 0.08905623160979431, 0.08905623160979431, 0.08905623160979431, 0.08905623160979431, 0.08905623160979431, 0.08905623160979431, 0.08905623160979431, 0.08905623160979431, 0.08905623160979431, 0.08905623160979431, 0.08905623160979431, 0.08905623160979431, 0.08905623160979431, 0.09591323633355019, 0.09591323633355019, 0.09591323633355019, 0.09591323633355019, 0.09591323633355019, 0.09591323633355019, 0.09591323633355019, 0.09591323633355019, 0.09591323633355019, 0.09591323633355019, 0.09591323633355019, 0.09591323633355019, 0.09591323633355019, 0.09591323633355019, 0.09591323633355019, 0.08902754998974624, 0.08902754998974624, 0.08902754998974624, 0.08902754998974624, 0.08902754998974624, 0.08902754998974624, 0.08902754998974624, 0.08902754998974624, 0.08902754998974624, 0.08902754998974624, 0.08902754998974624, 0.08902754998974624, 0.08902754998974624, 0.08902754998974624, 0.09126801020732125, 0.09126801020732125, 0.09126801020732125, 0.09126801020732125, 0.09126801020732125, 0.09126801020732125, 0.09126801020732125, 0.09126801020732125, 0.09126801020732125, 0.09126801020732125, 0.09126801020732125, 0.09126801020732125, 0.09126801020732125, 0.09484669833591353, 0.09484669833591353, 0.09484669833591353, 0.09484669833591353, 0.09484669833591353, 0.09484669833591353, 0.09484669833591353, 0.09484669833591353, 0.09484669833591353, 0.09484669833591353, 0.09484669833591353, 0.09484669833591353, 0.09484669833591353, 0.09484669833591353, 0.09484669833591353, 0.09312060748843314, 0.09312060748843314, 0.09312060748843314, 0.09312060748843314, 0.09312060748843314, 0.09312060748843314, 0.09312060748843314, 0.09312060748843314, 0.09312060748843314, 0.09312060748843314, 0.09312060748843314, 0.09312060748843314, 0.09312060748843314, 0.09312060748843314, 0.09312060748843314, 0.09561269370969025, 0.09561269370969025, 0.09561269370969025, 0.09561269370969025, 0.09561269370969025, 0.09561269370969025, 0.09561269370969025, 0.09561269370969025, 0.09561269370969025, 0.09561269370969025, 0.09561269370969025, 0.09561269370969025, 0.09561269370969025, 0.09561269370969025, 0.09561269370969025, 0.09259099573208196, 0.09259099573208196, 0.09259099573208196, 0.09259099573208196, 0.09259099573208196, 0.09259099573208196, 0.09259099573208196, 0.09259099573208196, 0.09259099573208196, 0.09259099573208196, 0.09259099573208196, 0.09259099573208196, 0.09259099573208196, 0.09259099573208196, 0.09259099573208196, 0.09125874522587038, 0.09125874522587038, 0.09125874522587038, 0.09125874522587038, 0.09125874522587038, 0.09125874522587038, 0.09125874522587038, 0.09125874522587038, 0.09125874522587038, 0.09125874522587038, 0.09125874522587038, 0.09125874522587038, 0.09125874522587038, 0.09125874522587038, 0.09125874522587038, 0.09121270032591118, 0.09121270032591118, 0.09121270032591118, 0.09121270032591118, 0.09121270032591118, 0.09121270032591118, 0.09121270032591118, 0.09121270032591118, 0.09121270032591118, 0.09121270032591118, 0.09121270032591118, 0.09121270032591118, 0.09121270032591118, 0.09121270032591118, 0.09121270032591118, 0.0938623537689931, 0.0938623537689931, 0.0938623537689931, 0.0938623537689931, 0.0938623537689931, 0.0938623537689931, 0.0938623537689931, 0.0938623537689931, 0.0938623537689931, 0.0938623537689931, 0.0938623537689931, 0.0938623537689931, 0.0938623537689931, 0.0938623537689931, 0.0938623537689931, 0.08900312116827405, 0.08900312116827405, 0.08900312116827405, 0.08900312116827405, 0.08900312116827405, 0.08900312116827405, 0.08900312116827405, 0.08900312116827405, 0.08900312116827405, 0.08900312116827405, 0.08900312116827405, 0.08900312116827405, 0.08900312116827405, 0.08900312116827405, 0.09399932089754465, 0.09399932089754465, 0.09399932089754465, 0.09399932089754465, 0.09399932089754465, 0.09399932089754465, 0.09399932089754465, 0.09399932089754465, 0.09399932089754465, 0.09399932089754465, 0.09399932089754465, 0.09399932089754465, 0.09399932089754465, 0.09399932089754465, 0.09414498549183842, 0.09414498549183842, 0.09414498549183842, 0.09414498549183842, 0.09414498549183842, 0.09414498549183842, 0.09414498549183842, 0.09414498549183842, 0.09414498549183842, 0.09414498549183842, 0.09414498549183842, 0.09414498549183842, 0.09414498549183842, 0.09414498549183842, 0.0935644076985794, 0.0935644076985794, 0.0935644076985794, 0.0935644076985794, 0.0935644076985794, 0.0935644076985794, 0.0935644076985794, 0.0935644076985794, 0.0935644076985794, 0.0935644076985794, 0.0935644076985794, 0.0935644076985794, 0.0935644076985794, 0.0935644076985794, 0.0935644076985794, 0.09193748729694062, 0.09193748729694062, 0.09193748729694062, 0.09193748729694062, 0.09193748729694062, 0.09193748729694062, 0.09193748729694062, 0.09193748729694062, 0.09193748729694062, 0.09193748729694062, 0.09193748729694062, 0.09193748729694062, 0.09193748729694062, 0.09193748729694062, 0.09193748729694062, 0.09825609014213575, 0.09825609014213575, 0.09825609014213575, 0.09825609014213575, 0.09825609014213575, 0.09825609014213575, 0.09825609014213575, 0.09825609014213575, 0.09825609014213575, 0.09825609014213575, 0.09825609014213575, 0.09825609014213575, 0.09825609014213575, 0.09825609014213575, 0.09825609014213575, 0.09321100204263288, 0.09321100204263288, 0.09321100204263288, 0.09321100204263288, 0.09321100204263288, 0.09321100204263288, 0.09321100204263288, 0.09321100204263288, 0.09321100204263288, 0.09321100204263288, 0.09321100204263288, 0.09321100204263288, 0.09321100204263288, 0.09321137118592446, 0.09321137118592446, 0.09321137118592446, 0.09321137118592446, 0.09321137118592446, 0.09321137118592446, 0.09321137118592446, 0.09321137118592446, 0.09321137118592446, 0.09321137118592446, 0.09321137118592446, 0.09321137118592446, 0.09321137118592446, 0.09321137118592446, 0.09321137118592446, 0.09635700749172639, 0.09635700749172639, 0.09635700749172639, 0.09635700749172639, 0.09635700749172639, 0.09635700749172639, 0.09635700749172639, 0.09635700749172639, 0.09635700749172639, 0.09635700749172639, 0.09635700749172639, 0.09635700749172639, 0.09635700749172639, 0.09635700749172639, 0.09635700749172639, 0.09300773010338813, 0.09300773010338813, 0.09300773010338813, 0.09300773010338813, 0.09300773010338813, 0.09300773010338813, 0.09300773010338813, 0.09300773010338813, 0.09300773010338813, 0.09300773010338813, 0.09300773010338813, 0.09300773010338813, 0.09300773010338813, 0.09300773010338813, 0.09609785578512532, 0.09609785578512532, 0.09609785578512532, 0.09609785578512532, 0.09609785578512532, 0.09609785578512532, 0.09609785578512532, 0.09609785578512532, 0.09609785578512532, 0.09609785578512532, 0.09609785578512532, 0.09609785578512532, 0.09609785578512532, 0.09609785578512532, 0.09369684296963254, 0.09369684296963254, 0.09369684296963254, 0.09369684296963254, 0.09369684296963254, 0.09369684296963254, 0.09369684296963254, 0.09369684296963254, 0.09369684296963254, 0.09369684296963254, 0.09369684296963254, 0.09369684296963254, 0.09369684296963254, 0.09369684296963254, 0.09369684296963254, 0.09359083040529163, 0.09359083040529163, 0.09359083040529163, 0.09359083040529163, 0.09359083040529163, 0.09359083040529163, 0.09359083040529163, 0.09359083040529163, 0.09359083040529163, 0.09359083040529163, 0.09359083040529163, 0.09359083040529163, 0.09359083040529163, 0.09315073322628217, 0.09315073322628217, 0.09315073322628217, 0.09315073322628217, 0.09315073322628217, 0.09315073322628217, 0.09315073322628217, 0.09315073322628217, 0.09315073322628217, 0.09315073322628217, 0.09315073322628217, 0.09315073322628217, 0.09315073322628217, 0.09315073322628217, 0.09315073322628217, 0.0908795387424868, 0.0908795387424868, 0.0908795387424868, 0.0908795387424868, 0.0908795387424868, 0.0908795387424868, 0.0908795387424868, 0.0908795387424868, 0.0908795387424868, 0.0908795387424868, 0.0908795387424868, 0.0908795387424868, 0.0908795387424868, 0.0908795387424868, 0.0908795387424868, 0.09193800629802536, 0.09193800629802536, 0.09193800629802536, 0.09193800629802536, 0.09193800629802536, 0.09193800629802536, 0.09193800629802536, 0.09193800629802536, 0.09193800629802536, 0.09193800629802536, 0.09193800629802536, 0.09193800629802536, 0.09193800629802536, 0.09193800629802536, 0.09196182882246132, 0.09196182882246132, 0.09196182882246132, 0.09196182882246132, 0.09196182882246132, 0.09196182882246132, 0.09196182882246132, 0.09196182882246132, 0.09196182882246132, 0.09196182882246132, 0.09196182882246132, 0.09196182882246132, 0.09196182882246132, 0.09196182882246132, 0.09196182882246132, 0.09112510623989392, 0.09112510623989392, 0.09112510623989392, 0.09112510623989392, 0.09112510623989392, 0.09112510623989392, 0.09112510623989392, 0.09112510623989392, 0.09112510623989392, 0.09112510623989392, 0.09112510623989392, 0.09112510623989392, 0.09112510623989392, 0.09112510623989392, 0.09352211082071456, 0.09352211082071456, 0.09352211082071456, 0.09352211082071456, 0.09352211082071456, 0.09352211082071456, 0.09352211082071456, 0.09352211082071456, 0.09352211082071456, 0.09352211082071456, 0.09352211082071456, 0.09352211082071456, 0.09352211082071456, 0.09352211082071456, 0.09352211082071456, 0.09184159819781827, 0.09184159819781827, 0.09184159819781827, 0.09184159819781827, 0.09184159819781827, 0.09184159819781827, 0.09184159819781827, 0.09184159819781827, 0.09184159819781827, 0.09184159819781827, 0.09184159819781827, 0.09184159819781827, 0.09184159819781827, 0.09184159819781827, 0.09184159819781827, 0.09347347990523638, 0.09347347990523638, 0.09347347990523638, 0.09347347990523638, 0.09347347990523638, 0.09347347990523638, 0.09347347990523638, 0.09347347990523638, 0.09347347990523638, 0.09347347990523638, 0.09347347990523638, 0.09347347990523638, 0.09347347990523638, 0.09347347990523638, 0.09347347990523638, 0.09321320389412142, 0.09321320389412142, 0.09321320389412142, 0.09321320389412142, 0.09321320389412142, 0.09321320389412142, 0.09321320389412142, 0.09321320389412142, 0.09321320389412142, 0.09321320389412142, 0.09321320389412142, 0.09321320389412142, 0.09321320389412142, 0.09321320389412142, 0.09311335583838241, 0.09311335583838241, 0.09311335583838241, 0.09311335583838241, 0.09311335583838241, 0.09311335583838241, 0.09311335583838241, 0.09311335583838241, 0.09311335583838241, 0.09311335583838241, 0.09311335583838241, 0.09311335583838241, 0.09311335583838241, 0.09311335583838241, 0.09082167414621796, 0.09082167414621796, 0.09082167414621796, 0.09082167414621796, 0.09082167414621796, 0.09082167414621796, 0.09082167414621796, 0.09082167414621796, 0.09082167414621796, 0.09082167414621796, 0.09082167414621796, 0.09082167414621796, 0.09082167414621796, 0.09082167414621796, 0.09082167414621796, 0.09262900700353455, 0.09262900700353455, 0.09262900700353455, 0.09262900700353455, 0.09262900700353455, 0.09262900700353455, 0.09262900700353455, 0.09262900700353455, 0.09262900700353455, 0.09262900700353455, 0.09262900700353455, 0.09262900700353455, 0.09262900700353455, 0.09262900700353455, 0.09262900700353455, 0.09450538203383045, 0.09450538203383045, 0.09450538203383045, 0.09450538203383045, 0.09450538203383045, 0.09450538203383045, 0.09450538203383045, 0.09450538203383045, 0.09450538203383045, 0.09450538203383045, 0.09450538203383045, 0.09450538203383045, 0.09450538203383045, 0.09308414507460301, 0.09308414507460301, 0.09308414507460301, 0.09308414507460301, 0.09308414507460301, 0.09308414507460301, 0.09308414507460301, 0.09308414507460301, 0.09308414507460301, 0.09308414507460301, 0.09308414507460301, 0.09308414507460301, 0.09308414507460301, 0.09308414507460301, 0.09308414507460301, 0.09341606691156275, 0.09341606691156275, 0.09341606691156275, 0.09341606691156275, 0.09341606691156275, 0.09341606691156275, 0.09341606691156275, 0.09341606691156275, 0.09341606691156275, 0.09341606691156275, 0.09341606691156275, 0.09341606691156275, 0.09341606691156275, 0.09341606691156275, 0.09341606691156275, 0.09411360716147073, 0.09411360716147073, 0.09411360716147073, 0.09411360716147073, 0.09411360716147073, 0.09411360716147073, 0.09411360716147073, 0.09411360716147073, 0.09411360716147073, 0.09411360716147073, 0.09411360716147073, 0.09411360716147073, 0.09411360716147073, 0.09411360716147073, 0.09411360716147073, 0.08940807057134408, 0.08940807057134408, 0.08940807057134408, 0.08940807057134408, 0.08940807057134408, 0.08940807057134408, 0.08940807057134408, 0.08940807057134408, 0.08940807057134408, 0.08940807057134408, 0.08940807057134408, 0.08940807057134408, 0.08940807057134408, 0.08940807057134408, 0.09218765498523412, 0.09218765498523412, 0.09218765498523412, 0.09218765498523412, 0.09218765498523412, 0.09218765498523412, 0.09218765498523412, 0.09218765498523412, 0.09218765498523412, 0.09218765498523412, 0.09218765498523412, 0.09218765498523412, 0.09218765498523412, 0.09218765498523412, 0.09218765498523412, 0.09065297006373062, 0.09065297006373062, 0.09065297006373062, 0.09065297006373062, 0.09065297006373062, 0.09065297006373062, 0.09065297006373062, 0.09065297006373062, 0.09065297006373062, 0.09065297006373062, 0.09065297006373062, 0.09065297006373062, 0.09065297006373062, 0.09065297006373062, 0.09577767920298784, 0.09577767920298784, 0.09577767920298784, 0.09577767920298784, 0.09577767920298784, 0.09577767920298784, 0.09577767920298784, 0.09577767920298784, 0.09577767920298784, 0.09577767920298784, 0.09577767920298784, 0.09577767920298784, 0.09577767920298784, 0.09577767920298784, 0.09577767920298784, 0.09268210066096183, 0.09268210066096183, 0.09268210066096183, 0.09268210066096183, 0.09268210066096183, 0.09268210066096183, 0.09268210066096183, 0.09268210066096183, 0.09268210066096183, 0.09268210066096183, 0.09268210066096183, 0.09268210066096183, 0.09268210066096183, 0.09268210066096183, 0.09268210066096183, 0.09161407575883809, 0.09161407575883809, 0.09161407575883809, 0.09161407575883809, 0.09161407575883809, 0.09161407575883809, 0.09161407575883809, 0.09161407575883809, 0.09161407575883809, 0.09161407575883809, 0.09161407575883809, 0.09161407575883809, 0.09161407575883809, 0.09161407575883809, 0.0948516361221841, 0.0948516361221841, 0.0948516361221841, 0.0948516361221841, 0.0948516361221841, 0.0948516361221841, 0.0948516361221841, 0.0948516361221841, 0.0948516361221841, 0.0948516361221841, 0.0948516361221841, 0.0948516361221841, 0.0948516361221841, 0.0948516361221841, 0.0948516361221841, 0.09686594480119678, 0.09686594480119678, 0.09686594480119678, 0.09686594480119678, 0.09686594480119678, 0.09686594480119678, 0.09686594480119678, 0.09686594480119678, 0.09686594480119678, 0.09686594480119678, 0.09686594480119678, 0.09686594480119678, 0.09686594480119678, 0.09686594480119678, 0.09686594480119678, 0.08845698879326348, 0.08845698879326348, 0.08845698879326348, 0.08845698879326348, 0.08845698879326348, 0.08845698879326348, 0.08845698879326348, 0.08845698879326348, 0.08845698879326348, 0.08845698879326348, 0.08845698879326348, 0.08845698879326348, 0.08845698879326348, 0.09136345654390854, 0.09136345654390854, 0.09136345654390854, 0.09136345654390854, 0.09136345654390854, 0.09136345654390854, 0.09136345654390854, 0.09136345654390854, 0.09136345654390854, 0.09136345654390854, 0.09136345654390854, 0.09136345654390854, 0.09136345654390854, 0.09136345654390854, 0.0935237287557172, 0.0935237287557172, 0.0935237287557172, 0.0935237287557172, 0.0935237287557172, 0.0935237287557172, 0.0935237287557172, 0.0935237287557172, 0.0935237287557172, 0.0935237287557172, 0.0935237287557172, 0.0935237287557172, 0.0935237287557172, 0.0935237287557172, 0.0935237287557172, 0.09406431154034033, 0.09406431154034033, 0.09406431154034033, 0.09406431154034033, 0.09406431154034033, 0.09406431154034033, 0.09406431154034033, 0.09406431154034033, 0.09406431154034033, 0.09406431154034033, 0.09406431154034033, 0.09406431154034033, 0.09406431154034033, 0.09406431154034033, 0.09406431154034033, 0.0901543842047091, 0.0901543842047091, 0.0901543842047091, 0.0901543842047091, 0.0901543842047091, 0.0901543842047091, 0.0901543842047091, 0.0901543842047091, 0.0901543842047091, 0.0901543842047091, 0.0901543842047091, 0.0901543842047091, 0.0901543842047091, 0.0901543842047091, 0.0901543842047091], \"Term\": [\"abstract\", \"abstract\", \"abstract\", \"abstract\", \"abstract\", \"abstract\", \"abstract\", \"abstract\", \"abstract\", \"abstract\", \"abstract\", \"abstract\", \"abstract\", \"abstract\", \"abstract\", \"academic_institution\", \"academic_institution\", \"academic_institution\", \"academic_institution\", \"academic_institution\", \"academic_institution\", \"academic_institution\", \"academic_institution\", \"academic_institution\", \"academic_institution\", \"academic_institution\", \"academic_institution\", \"academic_institution\", \"academic_institution\", \"academic_institution\", \"accept\", \"accept\", \"accept\", \"accept\", \"accept\", \"accept\", \"accept\", \"accept\", \"accept\", \"accept\", \"accept\", \"accept\", \"accept\", \"accept\", \"access\", \"access\", \"access\", \"access\", \"access\", \"access\", \"access\", \"access\", \"access\", \"access\", \"access\", \"access\", \"access\", \"access\", \"access\", \"accommodate\", \"accommodate\", \"accommodate\", \"accommodate\", \"accommodate\", \"accommodate\", \"accommodate\", \"accommodate\", \"accommodate\", \"accommodate\", \"accommodate\", \"accommodate\", \"accommodate\", \"accommodate\", \"accommodate\", \"account\", \"account\", \"account\", \"account\", \"account\", \"account\", \"account\", \"account\", \"account\", \"account\", \"account\", \"account\", \"account\", \"account\", \"account\", \"accurate\", \"accurate\", \"accurate\", \"accurate\", \"accurate\", \"accurate\", \"accurate\", \"accurate\", \"accurate\", \"accurate\", \"accurate\", \"accurate\", \"accurate\", \"accurate\", \"add\", \"add\", \"add\", \"add\", \"add\", \"add\", \"add\", \"add\", \"add\", \"add\", \"add\", \"add\", \"add\", \"add\", \"add\", \"address\", \"address\", \"address\", \"address\", \"address\", \"address\", \"address\", \"address\", \"address\", \"address\", \"address\", \"address\", \"address\", \"address\", \"address\", \"agriculture\", \"agriculture\", \"agriculture\", \"agriculture\", \"agriculture\", \"agriculture\", \"agriculture\", \"agriculture\", \"agriculture\", \"agriculture\", \"agriculture\", \"agriculture\", \"agriculture\", \"agriculture\", \"agriculture\", \"alakangas\", \"alakangas\", \"alakangas\", \"alakangas\", \"alakangas\", \"alakangas\", \"alakangas\", \"alakangas\", \"alakangas\", \"alakangas\", \"alakangas\", \"alakangas\", \"alakangas\", \"allow\", \"allow\", \"allow\", \"allow\", \"allow\", \"allow\", \"allow\", \"allow\", \"allow\", \"allow\", \"allow\", \"allow\", \"allow\", \"allow\", \"allow\", \"allude\", \"allude\", \"allude\", \"allude\", \"allude\", \"allude\", \"allude\", \"allude\", \"allude\", \"allude\", \"allude\", \"allude\", \"allude\", \"allude\", \"analysis\", \"analysis\", \"analysis\", \"analysis\", \"analysis\", \"analysis\", \"analysis\", \"analysis\", \"analysis\", \"analysis\", \"analysis\", \"analysis\", \"analysis\", \"analyze\", \"analyze\", \"analyze\", \"analyze\", \"analyze\", \"analyze\", \"analyze\", \"analyze\", \"analyze\", \"analyze\", \"analyze\", \"analyze\", \"analyze\", \"analyze\", \"analyze\", \"appropriate\", \"appropriate\", \"appropriate\", \"appropriate\", \"appropriate\", \"appropriate\", \"appropriate\", \"appropriate\", \"appropriate\", \"appropriate\", \"appropriate\", \"appropriate\", \"appropriate\", \"appropriate\", \"appropriate\", \"archambaultal\", \"archambaultal\", \"archambaultal\", \"archambaultal\", \"archambaultal\", \"archambaultal\", \"archambaultal\", \"archambaultal\", \"archambaultal\", \"archambaultal\", \"archambaultal\", \"archambaultal\", \"archambaultal\", \"archambaultal\", \"art\", \"art\", \"art\", \"art\", \"art\", \"art\", \"art\", \"art\", \"art\", \"art\", \"art\", \"art\", \"art\", \"article\", \"article\", \"article\", \"article\", \"article\", \"article\", \"article\", \"article\", \"article\", \"article\", \"article\", \"article\", \"article\", \"article\", \"author\", \"author\", \"author\", \"author\", \"author\", \"author\", \"author\", \"author\", \"author\", \"author\", \"author\", \"author\", \"author\", \"avoid\", \"avoid\", \"avoid\", \"avoid\", \"avoid\", \"avoid\", \"avoid\", \"avoid\", \"avoid\", \"avoid\", \"avoid\", \"avoid\", \"avoid\", \"avoid\", \"avoid\", \"award\", \"award\", \"award\", \"award\", \"award\", \"award\", \"award\", \"award\", \"award\", \"award\", \"award\", \"award\", \"award\", \"award\", \"award\", \"bias\", \"bias\", \"bias\", \"bias\", \"bias\", \"bias\", \"bias\", \"bias\", \"bias\", \"bias\", \"bias\", \"bias\", \"bias\", \"bias\", \"bias\", \"biased\", \"biased\", \"biased\", \"biased\", \"biased\", \"biased\", \"biased\", \"biased\", \"biased\", \"biased\", \"biased\", \"biased\", \"biased\", \"biased\", \"biased\", \"bibliometric\", \"bibliometric\", \"bibliometric\", \"bibliometric\", \"bibliometric\", \"bibliometric\", \"bibliometric\", \"bibliometric\", \"bibliometric\", \"bibliometric\", \"bibliometric\", \"bibliometric\", \"bibliometric\", \"bibliometric\", \"bibliometric\", \"bibliometric_analyse\", \"bibliometric_analyse\", \"bibliometric_analyse\", \"bibliometric_analyse\", \"bibliometric_analyse\", \"bibliometric_analyse\", \"bibliometric_analyse\", \"bibliometric_analyse\", \"bibliometric_analyse\", \"bibliometric_analyse\", \"bibliometric_analyse\", \"bibliometric_analyse\", \"bibliometric_analyse\", \"bibliometric_analyse\", \"bibliometric_analyse\", \"bibliometric_analysis\", \"bibliometric_analysis\", \"bibliometric_analysis\", \"bibliometric_analysis\", \"bibliometric_analysis\", \"bibliometric_analysis\", \"bibliometric_analysis\", \"bibliometric_analysis\", \"bibliometric_analysis\", \"bibliometric_analysis\", \"bibliometric_analysis\", \"bibliometric_analysis\", \"bibliometric_analysis\", \"bibliometric_analysis\", \"bibliometric_analysis\", \"bibliometric_database\", \"bibliometric_database\", \"bibliometric_database\", \"bibliometric_database\", \"bibliometric_database\", \"bibliometric_database\", \"bibliometric_database\", \"bibliometric_database\", \"bibliometric_database\", \"bibliometric_database\", \"bibliometric_database\", \"bibliometric_database\", \"bibliometric_database\", \"bibliometric_database\", \"bibliometric_indicator_takes\", \"bibliometric_indicator_takes\", \"bibliometric_indicator_takes\", \"bibliometric_indicator_takes\", \"bibliometric_indicator_takes\", \"bibliometric_indicator_takes\", \"bibliometric_indicator_takes\", \"bibliometric_indicator_takes\", \"bibliometric_indicator_takes\", \"bibliometric_indicator_takes\", \"bibliometric_indicator_takes\", \"bibliometric_indicator_takes\", \"bibliometric_indicator_takes\", \"bibliometric_indicator_takes\", \"bibliometric_indicator_takes\", \"bibliometric_record\", \"bibliometric_record\", \"bibliometric_record\", \"bibliometric_record\", \"bibliometric_record\", \"bibliometric_record\", \"bibliometric_record\", \"bibliometric_record\", \"bibliometric_record\", \"bibliometric_record\", \"bibliometric_record\", \"bibliometric_record\", \"bibliometric_record\", \"bibliometric_record\", \"bibliometric_research\", \"bibliometric_research\", \"bibliometric_research\", \"bibliometric_research\", \"bibliometric_research\", \"bibliometric_research\", \"bibliometric_research\", \"bibliometric_research\", \"bibliometric_research\", \"bibliometric_research\", \"bibliometric_research\", \"bibliometric_research\", \"bibliometric_research\", \"bibliometric_research\", \"bibliometric_research\", \"biomedical_research\", \"biomedical_research\", \"biomedical_research\", \"biomedical_research\", \"biomedical_research\", \"biomedical_research\", \"biomedical_research\", \"biomedical_research\", \"biomedical_research\", \"biomedical_research\", \"biomedical_research\", \"biomedical_research\", \"biomedical_research\", \"biomedical_research\", \"biomedical_research\", \"biorxiv\", \"biorxiv\", \"biorxiv\", \"biorxiv\", \"biorxiv\", \"biorxiv\", \"biorxiv\", \"biorxiv\", \"biorxiv\", \"biorxiv\", \"biorxiv\", \"biorxiv\", \"biorxiv\", \"biorxiv\", \"birkleal\", \"birkleal\", \"birkleal\", \"birkleal\", \"birkleal\", \"birkleal\", \"birkleal\", \"birkleal\", \"birkleal\", \"birkleal\", \"birkleal\", \"birkleal\", \"birkleal\", \"birkleal\", \"birkleal\", \"book\", \"book\", \"book\", \"book\", \"book\", \"book\", \"book\", \"book\", \"book\", \"book\", \"book\", \"book\", \"book\", \"book\", \"boolean_searche\", \"boolean_searche\", \"boolean_searche\", \"boolean_searche\", \"boolean_searche\", \"boolean_searche\", \"boolean_searche\", \"boolean_searche\", \"boolean_searche\", \"boolean_searche\", \"boolean_searche\", \"boolean_searche\", \"boolean_searche\", \"boolean_searche\", \"boolean_searche\", \"bosmanal\", \"bosmanal\", \"bosmanal\", \"bosmanal\", \"bosmanal\", \"bosmanal\", \"bosmanal\", \"bosmanal\", \"bosmanal\", \"bosmanal\", \"bosmanal\", \"bosmanal\", \"bosmanal\", \"bosmanal\", \"bosmanal\", \"boundary\", \"boundary\", \"boundary\", \"boundary\", \"boundary\", \"boundary\", \"boundary\", \"boundary\", \"boundary\", \"boundary\", \"boundary\", \"boundary\", \"boundary\", \"boundary\", \"boundary\", \"broad\", \"broad\", \"broad\", \"broad\", \"broad\", \"broad\", \"broad\", \"broad\", \"broad\", \"broad\", \"broad\", \"broad\", \"broad\", \"broad\", \"broad\", \"brockeal\", \"brockeal\", \"brockeal\", \"brockeal\", \"brockeal\", \"brockeal\", \"brockeal\", \"brockeal\", \"brockeal\", \"brockeal\", \"brockeal\", \"brockeal\", \"brockeal\", \"brockeal\", \"brockeal\", \"business\", \"business\", \"business\", \"business\", \"business\", \"business\", \"business\", \"business\", \"business\", \"business\", \"business\", \"business\", \"business\", \"business\", \"business\", \"call\", \"call\", \"call\", \"call\", \"call\", \"call\", \"call\", \"call\", \"call\", \"call\", \"call\", \"call\", \"call\", \"call\", \"capacity\", \"capacity\", \"capacity\", \"capacity\", \"capacity\", \"capacity\", \"capacity\", \"capacity\", \"capacity\", \"capacity\", \"capacity\", \"capacity\", \"capacity\", \"capacity\", \"capacity\", \"carry\", \"carry\", \"carry\", \"carry\", \"carry\", \"carry\", \"carry\", \"carry\", \"carry\", \"carry\", \"carry\", \"carry\", \"carry\", \"carry\", \"carry\", \"case_studie\", \"case_studie\", \"case_studie\", \"case_studie\", \"case_studie\", \"case_studie\", \"case_studie\", \"case_studie\", \"case_studie\", \"case_studie\", \"case_studie\", \"case_studie\", \"case_studie\", \"case_studie\", \"case_studie\", \"category\", \"category\", \"category\", \"category\", \"category\", \"category\", \"category\", \"category\", \"category\", \"category\", \"category\", \"category\", \"category\", \"category\", \"category\", \"cent\", \"cent\", \"cent\", \"cent\", \"cent\", \"cent\", \"cent\", \"cent\", \"cent\", \"cent\", \"cent\", \"cent\", \"cent\", \"cent\", \"cent\", \"centobelli\", \"centobelli\", \"centobelli\", \"centobelli\", \"centobelli\", \"centobelli\", \"centobelli\", \"centobelli\", \"centobelli\", \"centobelli\", \"centobelli\", \"centobelli\", \"centobelli\", \"centobelli\", \"centre\", \"centre\", \"centre\", \"centre\", \"centre\", \"centre\", \"centre\", \"centre\", \"centre\", \"centre\", \"centre\", \"centre\", \"centre\", \"centre\", \"centre\", \"certain\", \"certain\", \"certain\", \"certain\", \"certain\", \"certain\", \"certain\", \"certain\", \"certain\", \"certain\", \"certain\", \"certain\", \"certain\", \"certain\", \"certain\", \"choice\", \"choice\", \"choice\", \"choice\", \"choice\", \"choice\", \"choice\", \"choice\", \"choice\", \"choice\", \"choice\", \"choice\", \"choice\", \"choice\", \"choice\", \"choose\", \"choose\", \"choose\", \"choose\", \"choose\", \"choose\", \"choose\", \"choose\", \"choose\", \"choose\", \"choose\", \"choose\", \"choose\", \"choose\", \"circular_economy\", \"circular_economy\", \"circular_economy\", \"circular_economy\", \"circular_economy\", \"circular_economy\", \"circular_economy\", \"circular_economy\", \"circular_economy\", \"circular_economy\", \"circular_economy\", \"circular_economy\", \"circular_economy\", \"circular_economy\", \"circular_economy\", \"citation\", \"citation\", \"citation\", \"citation\", \"citation\", \"citation\", \"citation\", \"citation\", \"citation\", \"citation\", \"citation\", \"citation\", \"citation\", \"citation\", \"citation_analysis\", \"citation_analysis\", \"citation_analysis\", \"citation_analysis\", \"citation_analysis\", \"citation_analysis\", \"citation_analysis\", \"citation_analysis\", \"citation_analysis\", \"citation_analysis\", \"citation_analysis\", \"citation_analysis\", \"citation_analysis\", \"citation_database\", \"citation_database\", \"citation_database\", \"citation_database\", \"citation_database\", \"citation_database\", \"citation_database\", \"citation_database\", \"citation_database\", \"citation_database\", \"citation_database\", \"citation_database\", \"citation_database\", \"citation_database\", \"citation_database\", \"cite\", \"cite\", \"cite\", \"cite\", \"cite\", \"cite\", \"cite\", \"cite\", \"cite\", \"cite\", \"cite\", \"cite\", \"cite\", \"cite\", \"clarivate_analytic\", \"clarivate_analytic\", \"clarivate_analytic\", \"clarivate_analytic\", \"clarivate_analytic\", \"clarivate_analytic\", \"clarivate_analytic\", \"clarivate_analytic\", \"clarivate_analytic\", \"clarivate_analytic\", \"clarivate_analytic\", \"clarivate_analytic\", \"clarivate_analytic\", \"clarivate_analytic\", \"classification\", \"classification\", \"classification\", \"classification\", \"classification\", \"classification\", \"classification\", \"classification\", \"classification\", \"classification\", \"classification\", \"classification\", \"classification\", \"classification\", \"classification\", \"collection\", \"collection\", \"collection\", \"collection\", \"collection\", \"collection\", \"collection\", \"collection\", \"collection\", \"collection\", \"collection\", \"collection\", \"collection\", \"collection\", \"combination\", \"combination\", \"combination\", \"combination\", \"combination\", \"combination\", \"combination\", \"combination\", \"combination\", \"combination\", \"combination\", \"combination\", \"combination\", \"combination\", \"combination\", \"come\", \"come\", \"come\", \"come\", \"come\", \"come\", \"come\", \"come\", \"come\", \"come\", \"come\", \"come\", \"come\", \"come\", \"come\", \"comparable\", \"comparable\", \"comparable\", \"comparable\", \"comparable\", \"comparable\", \"comparable\", \"comparable\", \"comparable\", \"comparable\", \"comparable\", \"comparable\", \"comparable\", \"comparable\", \"comparable\", \"comparative_analysis\", \"comparative_analysis\", \"comparative_analysis\", \"comparative_analysis\", \"comparative_analysis\", \"comparative_analysis\", \"comparative_analysis\", \"comparative_analysis\", \"comparative_analysis\", \"comparative_analysis\", \"comparative_analysis\", \"comparative_analysis\", \"comparative_analysis\", \"comparative_analysis\", \"comparative_analysis\", \"comparative_study\", \"comparative_study\", \"comparative_study\", \"comparative_study\", \"comparative_study\", \"comparative_study\", \"comparative_study\", \"comparative_study\", \"comparative_study\", \"comparative_study\", \"comparative_study\", \"comparative_study\", \"comparative_study\", \"compare\", \"compare\", \"compare\", \"compare\", \"compare\", \"compare\", \"compare\", \"compare\", \"compare\", \"compare\", \"compare\", \"compare\", \"compare\", \"compare\", \"comparison\", \"comparison\", \"comparison\", \"comparison\", \"comparison\", \"comparison\", \"comparison\", \"comparison\", \"comparison\", \"comparison\", \"comparison\", \"comparison\", \"comparison\", \"compelling_reason\", \"compelling_reason\", \"compelling_reason\", \"compelling_reason\", \"compelling_reason\", \"compelling_reason\", \"compelling_reason\", \"compelling_reason\", \"compelling_reason\", \"compelling_reason\", \"compelling_reason\", \"compelling_reason\", \"compelling_reason\", \"compelling_reason\", \"compelling_reason\", \"compelling_reputation\", \"compelling_reputation\", \"compelling_reputation\", \"compelling_reputation\", \"compelling_reputation\", \"compelling_reputation\", \"compelling_reputation\", \"compelling_reputation\", \"compelling_reputation\", \"compelling_reputation\", \"compelling_reputation\", \"compelling_reputation\", \"compelling_reputation\", \"compelling_reputation\", \"compelling_reputation\", \"complement\", \"complement\", \"complement\", \"complement\", \"complement\", \"complement\", \"complement\", \"complement\", \"complement\", \"complement\", \"complement\", \"complement\", \"complement\", \"complement\", \"complement\", \"comprehensiveness\", \"comprehensiveness\", \"comprehensiveness\", \"comprehensiveness\", \"comprehensiveness\", \"comprehensiveness\", \"comprehensiveness\", \"comprehensiveness\", \"comprehensiveness\", \"comprehensiveness\", \"comprehensiveness\", \"comprehensiveness\", \"comprehensiveness\", \"comprehensiveness\", \"comprehensiveness\", \"conclude\", \"conclude\", \"conclude\", \"conclude\", \"conclude\", \"conclude\", \"conclude\", \"conclude\", \"conclude\", \"conclude\", \"conclude\", \"conclude\", \"conclude\", \"conclude\", \"conduct\", \"conduct\", \"conduct\", \"conduct\", \"conduct\", \"conduct\", \"conduct\", \"conduct\", \"conduct\", \"conduct\", \"conduct\", \"conduct\", \"conduct\", \"conduct\", \"conduct\", \"consider\", \"consider\", \"consider\", \"consider\", \"consider\", \"consider\", \"consider\", \"consider\", \"consider\", \"consider\", \"consider\", \"consider\", \"consider\", \"consider\", \"consist\", \"consist\", \"consist\", \"consist\", \"consist\", \"consist\", \"consist\", \"consist\", \"consist\", \"consist\", \"consist\", \"consist\", \"consist\", \"consist\", \"consist\", \"consistent\", \"consistent\", \"consistent\", \"consistent\", \"consistent\", \"consistent\", \"consistent\", \"consistent\", \"consistent\", \"consistent\", \"consistent\", \"consistent\", \"consistent\", \"consistent\", \"constraint\", \"constraint\", \"constraint\", \"constraint\", \"constraint\", \"constraint\", \"constraint\", \"constraint\", \"constraint\", \"constraint\", \"constraint\", \"constraint\", \"constraint\", \"constraint\", \"constraint\", \"contain\", \"contain\", \"contain\", \"contain\", \"contain\", \"contain\", \"contain\", \"contain\", \"contain\", \"contain\", \"contain\", \"contain\", \"contain\", \"contain\", \"contain\", \"contrast\", \"contrast\", \"contrast\", \"contrast\", \"contrast\", \"contrast\", \"contrast\", \"contrast\", \"contrast\", \"contrast\", \"contrast\", \"contrast\", \"contrast\", \"contrast\", \"correlation\", \"correlation\", \"correlation\", \"correlation\", \"correlation\", \"correlation\", \"correlation\", \"correlation\", \"correlation\", \"correlation\", \"correlation\", \"correlation\", \"correlation\", \"correlation\", \"correlation\", \"cost\", \"cost\", \"cost\", \"cost\", \"cost\", \"cost\", \"cost\", \"cost\", \"cost\", \"cost\", \"cost\", \"cost\", \"cost\", \"cost\", \"cost\", \"costaal\", \"costaal\", \"costaal\", \"costaal\", \"costaal\", \"costaal\", \"costaal\", \"costaal\", \"costaal\", \"costaal\", \"costaal\", \"costaal\", \"costaal\", \"costaal\", \"country\", \"country\", \"country\", \"country\", \"country\", \"country\", \"country\", \"country\", \"country\", \"country\", \"country\", \"country\", \"country\", \"country\", \"country\", \"cover\", \"cover\", \"cover\", \"cover\", \"cover\", \"cover\", \"cover\", \"cover\", \"cover\", \"cover\", \"cover\", \"cover\", \"cover\", \"coverage\", \"coverage\", \"coverage\", \"coverage\", \"coverage\", \"coverage\", \"coverage\", \"coverage\", \"coverage\", \"coverage\", \"coverage\", \"coverage\", \"coverage\", \"criterion\", \"criterion\", \"criterion\", \"criterion\", \"criterion\", \"criterion\", \"criterion\", \"criterion\", \"criterion\", \"criterion\", \"criterion\", \"criterion\", \"criterion\", \"criterion\", \"crosschecke\", \"crosschecke\", \"crosschecke\", \"crosschecke\", \"crosschecke\", \"crosschecke\", \"crosschecke\", \"crosschecke\", \"crosschecke\", \"crosschecke\", \"crosschecke\", \"crosschecke\", \"crosschecke\", \"crosschecke\", \"crowdsourced\", \"crowdsourced\", \"crowdsourced\", \"crowdsourced\", \"crowdsourced\", \"crowdsourced\", \"crowdsourced\", \"crowdsourced\", \"crowdsourced\", \"crowdsourced\", \"crowdsourced\", \"crowdsourced\", \"crowdsourced\", \"crowdsourced\", \"crowdsourced\", \"data_bia\", \"data_bia\", \"data_bia\", \"data_bia\", \"data_bia\", \"data_bia\", \"data_bia\", \"data_bia\", \"data_bia\", \"data_bia\", \"data_bia\", \"data_bia\", \"data_bia\", \"data_bia\", \"data_bia\", \"data_quality\", \"data_quality\", \"data_quality\", \"data_quality\", \"data_quality\", \"data_quality\", \"data_quality\", \"data_quality\", \"data_quality\", \"data_quality\", \"data_quality\", \"data_quality\", \"data_quality\", \"data_quality\", \"data_source\", \"data_source\", \"data_source\", \"data_source\", \"data_source\", \"data_source\", \"data_source\", \"data_source\", \"data_source\", \"data_source\", \"data_source\", \"data_source\", \"data_source\", \"data_source\", \"data_source\", \"database\", \"database\", \"database\", \"database\", \"database\", \"database\", \"database\", \"database\", \"database\", \"database\", \"database\", \"database\", \"database\", \"database\", \"database\", \"datasource\", \"datasource\", \"datasource\", \"datasource\", \"datasource\", \"datasource\", \"datasource\", \"datasource\", \"datasource\", \"datasource\", \"datasource\", \"datasource\", \"datasource\", \"datasource\", \"datasource\", \"datum\", \"datum\", \"datum\", \"datum\", \"datum\", \"datum\", \"datum\", \"datum\", \"datum\", \"datum\", \"datum\", \"datum\", \"datum\", \"datum\", \"datum\", \"december\", \"december\", \"december\", \"december\", \"december\", \"december\", \"december\", \"december\", \"december\", \"december\", \"december\", \"december\", \"december\", \"december\", \"december\", \"decision\", \"decision\", \"decision\", \"decision\", \"decision\", \"decision\", \"decision\", \"decision\", \"decision\", \"decision\", \"decision\", \"decision\", \"decision\", \"decision\", \"depend\", \"depend\", \"depend\", \"depend\", \"depend\", \"depend\", \"depend\", \"depend\", \"depend\", \"depend\", \"depend\", \"depend\", \"depend\", \"depend\", \"depend\", \"despite\", \"despite\", \"despite\", \"despite\", \"despite\", \"despite\", \"despite\", \"despite\", \"despite\", \"despite\", \"despite\", \"despite\", \"despite\", \"despite\", \"despite\", \"detriment\", \"detriment\", \"detriment\", \"detriment\", \"detriment\", \"detriment\", \"detriment\", \"detriment\", \"detriment\", \"detriment\", \"detriment\", \"detriment\", \"detriment\", \"detriment\", \"develop\", \"develop\", \"develop\", \"develop\", \"develop\", \"develop\", \"develop\", \"develop\", \"develop\", \"develop\", \"develop\", \"develop\", \"develop\", \"develop\", \"develop\", \"developing_countrie\", \"developing_countrie\", \"developing_countrie\", \"developing_countrie\", \"developing_countrie\", \"developing_countrie\", \"developing_countrie\", \"developing_countrie\", \"developing_countrie\", \"developing_countrie\", \"developing_countrie\", \"developing_countrie\", \"developing_countrie\", \"developing_countrie\", \"development\", \"development\", \"development\", \"development\", \"development\", \"development\", \"development\", \"development\", \"development\", \"development\", \"development\", \"development\", \"development\", \"development\", \"development\", \"difference\", \"difference\", \"difference\", \"difference\", \"difference\", \"difference\", \"difference\", \"difference\", \"difference\", \"difference\", \"difference\", \"difference\", \"difference\", \"difference\", \"different\", \"different\", \"different\", \"different\", \"different\", \"different\", \"different\", \"different\", \"different\", \"different\", \"different\", \"different\", \"different\", \"different\", \"discipline\", \"discipline\", \"discipline\", \"discipline\", \"discipline\", \"discipline\", \"discipline\", \"discipline\", \"discipline\", \"discipline\", \"discipline\", \"discipline\", \"discipline\", \"discipline\", \"display\", \"display\", \"display\", \"display\", \"display\", \"display\", \"display\", \"display\", \"display\", \"display\", \"display\", \"display\", \"display\", \"display\", \"document\", \"document\", \"document\", \"document\", \"document\", \"document\", \"document\", \"document\", \"document\", \"document\", \"document\", \"document\", \"document\", \"document_type\", \"document_type\", \"document_type\", \"document_type\", \"document_type\", \"document_type\", \"document_type\", \"document_type\", \"document_type\", \"document_type\", \"document_type\", \"document_type\", \"document_type\", \"document_type\", \"document_type\", \"domain\", \"domain\", \"domain\", \"domain\", \"domain\", \"domain\", \"domain\", \"domain\", \"domain\", \"domain\", \"domain\", \"domain\", \"domain\", \"domain\", \"domain\", \"early\", \"early\", \"early\", \"early\", \"early\", \"early\", \"early\", \"early\", \"early\", \"early\", \"early\", \"early\", \"early\", \"early\", \"early\", \"ecology\", \"ecology\", \"ecology\", \"ecology\", \"ecology\", \"ecology\", \"ecology\", \"ecology\", \"ecology\", \"ecology\", \"ecology\", \"ecology\", \"ecology\", \"ecology\", \"ecology\", \"electronic_database\", \"electronic_database\", \"electronic_database\", \"electronic_database\", \"electronic_database\", \"electronic_database\", \"electronic_database\", \"electronic_database\", \"electronic_database\", \"electronic_database\", \"electronic_database\", \"electronic_database\", \"electronic_database\", \"electronic_database\", \"electronic_database\", \"emergence\", \"emergence\", \"emergence\", \"emergence\", \"emergence\", \"emergence\", \"emergence\", \"emergence\", \"emergence\", \"emergence\", \"emergence\", \"emergence\", \"emergence\", \"emergence\", \"emergence\", \"emergent\", \"emergent\", \"emergent\", \"emergent\", \"emergent\", \"emergent\", \"emergent\", \"emergent\", \"emergent\", \"emergent\", \"emergent\", \"emergent\", \"emergent\", \"emergent\", \"emergent\", \"engine\", \"engine\", \"engine\", \"engine\", \"engine\", \"engine\", \"engine\", \"engine\", \"engine\", \"engine\", \"engine\", \"engine\", \"engine\", \"engine\", \"engine\", \"engineer\", \"engineer\", \"engineer\", \"engineer\", \"engineer\", \"engineer\", \"engineer\", \"engineer\", \"engineer\", \"engineer\", \"engineer\", \"engineer\", \"engineer\", \"engineer\", \"engineering\", \"engineering\", \"engineering\", \"engineering\", \"engineering\", \"engineering\", \"engineering\", \"engineering\", \"engineering\", \"engineering\", \"engineering\", \"engineering\", \"engineering\", \"engineering\", \"english\", \"english\", \"english\", \"english\", \"english\", \"english\", \"english\", \"english\", \"english\", \"english\", \"english\", \"english\", \"english\", \"english\", \"english\", \"english_language\", \"english_language\", \"english_language\", \"english_language\", \"english_language\", \"english_language\", \"english_language\", \"english_language\", \"english_language\", \"english_language\", \"english_language\", \"english_language\", \"english_language\", \"english_language\", \"english_language\", \"englishlanguage\", \"englishlanguage\", \"englishlanguage\", \"englishlanguage\", \"englishlanguage\", \"englishlanguage\", \"englishlanguage\", \"englishlanguage\", \"englishlanguage\", \"englishlanguage\", \"englishlanguage\", \"englishlanguage\", \"englishlanguage\", \"englishlanguage\", \"englishlanguage\", \"ensure\", \"ensure\", \"ensure\", \"ensure\", \"ensure\", \"ensure\", \"ensure\", \"ensure\", \"ensure\", \"ensure\", \"ensure\", \"ensure\", \"ensure\", \"ensure\", \"erosion\", \"erosion\", \"erosion\", \"erosion\", \"erosion\", \"erosion\", \"erosion\", \"erosion\", \"erosion\", \"erosion\", \"erosion\", \"erosion\", \"erosion\", \"erosion\", \"erosion\", \"esci\", \"esci\", \"esci\", \"esci\", \"esci\", \"esci\", \"esci\", \"esci\", \"esci\", \"esci\", \"esci\", \"esci\", \"esci\", \"esci\", \"evaluate\", \"evaluate\", \"evaluate\", \"evaluate\", \"evaluate\", \"evaluate\", \"evaluate\", \"evaluate\", \"evaluate\", \"evaluate\", \"evaluate\", \"evaluate\", \"evaluate\", \"evaluate\", \"evaluate\", \"evaluation\", \"evaluation\", \"evaluation\", \"evaluation\", \"evaluation\", \"evaluation\", \"evaluation\", \"evaluation\", \"evaluation\", \"evaluation\", \"evaluation\", \"evaluation\", \"evaluation\", \"evaluation\", \"evolution\", \"evolution\", \"evolution\", \"evolution\", \"evolution\", \"evolution\", \"evolution\", \"evolution\", \"evolution\", \"evolution\", \"evolution\", \"evolution\", \"evolution\", \"evolution\", \"evolution\", \"examine\", \"examine\", \"examine\", \"examine\", \"examine\", \"examine\", \"examine\", \"examine\", \"examine\", \"examine\", \"examine\", \"examine\", \"examine\", \"examine\", \"examine\", \"example\", \"example\", \"example\", \"example\", \"example\", \"example\", \"example\", \"example\", \"example\", \"example\", \"example\", \"example\", \"example\", \"example\", \"example\", \"exclusive\", \"exclusive\", \"exclusive\", \"exclusive\", \"exclusive\", \"exclusive\", \"exclusive\", \"exclusive\", \"exclusive\", \"exclusive\", \"exclusive\", \"exclusive\", \"exclusive\", \"exclusive\", \"exclusive\", \"exist\", \"exist\", \"exist\", \"exist\", \"exist\", \"exist\", \"exist\", \"exist\", \"exist\", \"exist\", \"exist\", \"exist\", \"exist\", \"exist\", \"exist\", \"expert\", \"expert\", \"expert\", \"expert\", \"expert\", \"expert\", \"expert\", \"expert\", \"expert\", \"expert\", \"expert\", \"expert\", \"expert\", \"expert\", \"expert\", \"extensive\", \"extensive\", \"extensive\", \"extensive\", \"extensive\", \"extensive\", \"extensive\", \"extensive\", \"extensive\", \"extensive\", \"extensive\", \"extensive\", \"extensive\", \"extensive\", \"extensive\", \"extent\", \"extent\", \"extent\", \"extent\", \"extent\", \"extent\", \"extent\", \"extent\", \"extent\", \"extent\", \"extent\", \"extent\", \"extent\", \"fact\", \"fact\", \"fact\", \"fact\", \"fact\", \"fact\", \"fact\", \"fact\", \"fact\", \"fact\", \"fact\", \"fact\", \"fact\", \"fact\", \"favor\", \"favor\", \"favor\", \"favor\", \"favor\", \"favor\", \"favor\", \"favor\", \"favor\", \"favor\", \"favor\", \"favor\", \"favor\", \"field\", \"field\", \"field\", \"field\", \"field\", \"field\", \"field\", \"field\", \"field\", \"field\", \"field\", \"field\", \"field\", \"field\", \"field_coverage\", \"field_coverage\", \"field_coverage\", \"field_coverage\", \"field_coverage\", \"field_coverage\", \"field_coverage\", \"field_coverage\", \"field_coverage\", \"field_coverage\", \"field_coverage\", \"field_coverage\", \"field_coverage\", \"field_coverage\", \"field_coverage\", \"field_of_study\", \"field_of_study\", \"field_of_study\", \"field_of_study\", \"field_of_study\", \"field_of_study\", \"field_of_study\", \"field_of_study\", \"field_of_study\", \"field_of_study\", \"field_of_study\", \"field_of_study\", \"field_of_study\", \"field_of_study\", \"field_of_study\", \"fig\", \"fig\", \"fig\", \"fig\", \"fig\", \"fig\", \"fig\", \"fig\", \"fig\", \"fig\", \"fig\", \"fig\", \"fig\", \"fig\", \"fig\", \"find\", \"find\", \"find\", \"find\", \"find\", \"find\", \"find\", \"find\", \"find\", \"find\", \"find\", \"find\", \"find\", \"find\", \"find\", \"focus\", \"focus\", \"focus\", \"focus\", \"focus\", \"focus\", \"focus\", \"focus\", \"focus\", \"focus\", \"focus\", \"focus\", \"focus\", \"focus\", \"follow\", \"follow\", \"follow\", \"follow\", \"follow\", \"follow\", \"follow\", \"follow\", \"follow\", \"follow\", \"follow\", \"follow\", \"follow\", \"follow\", \"follow\", \"funding\", \"funding\", \"funding\", \"funding\", \"funding\", \"funding\", \"funding\", \"funding\", \"funding\", \"funding\", \"funding\", \"funding\", \"funding\", \"funding\", \"funding\", \"gather\", \"gather\", \"gather\", \"gather\", \"gather\", \"gather\", \"gather\", \"gather\", \"gather\", \"gather\", \"gather\", \"gather\", \"gather\", \"gather\", \"gather\", \"gavel\", \"gavel\", \"gavel\", \"gavel\", \"gavel\", \"gavel\", \"gavel\", \"gavel\", \"gavel\", \"gavel\", \"gavel\", \"gavel\", \"gavel\", \"gavel\", \"gender\", \"gender\", \"gender\", \"gender\", \"gender\", \"gender\", \"gender\", \"gender\", \"gender\", \"gender\", \"gender\", \"gender\", \"gender\", \"gender\", \"gender\", \"general\", \"general\", \"general\", \"general\", \"general\", \"general\", \"general\", \"general\", \"general\", \"general\", \"general\", \"general\", \"general\", \"general\", \"general\", \"generate\", \"generate\", \"generate\", \"generate\", \"generate\", \"generate\", \"generate\", \"generate\", \"generate\", \"generate\", \"generate\", \"generate\", \"generate\", \"generate\", \"generate\", \"give\", \"give\", \"give\", \"give\", \"give\", \"give\", \"give\", \"give\", \"give\", \"give\", \"give\", \"give\", \"give\", \"give\", \"give\", \"good\", \"good\", \"good\", \"good\", \"good\", \"good\", \"good\", \"good\", \"good\", \"good\", \"good\", \"good\", \"good\", \"good\", \"google_scholar\", \"google_scholar\", \"google_scholar\", \"google_scholar\", \"google_scholar\", \"google_scholar\", \"google_scholar\", \"google_scholar\", \"google_scholar\", \"google_scholar\", \"google_scholar\", \"google_scholar\", \"google_scholar\", \"great\", \"great\", \"great\", \"great\", \"great\", \"great\", \"great\", \"great\", \"great\", \"great\", \"great\", \"great\", \"great\", \"grow\", \"grow\", \"grow\", \"grow\", \"grow\", \"grow\", \"grow\", \"grow\", \"grow\", \"grow\", \"grow\", \"grow\", \"grow\", \"grow\", \"hand\", \"hand\", \"hand\", \"hand\", \"hand\", \"hand\", \"hand\", \"hand\", \"hand\", \"hand\", \"hand\", \"hand\", \"hand\", \"hand\", \"harze\", \"harze\", \"harze\", \"harze\", \"harze\", \"harze\", \"harze\", \"harze\", \"harze\", \"harze\", \"harze\", \"harze\", \"harze\", \"harze\", \"have\", \"have\", \"have\", \"have\", \"have\", \"have\", \"have\", \"have\", \"have\", \"have\", \"have\", \"have\", \"have\", \"have\", \"have\", \"helpful\", \"helpful\", \"helpful\", \"helpful\", \"helpful\", \"helpful\", \"helpful\", \"helpful\", \"helpful\", \"helpful\", \"helpful\", \"helpful\", \"helpful\", \"helpful\", \"helpful\", \"high\", \"high\", \"high\", \"high\", \"high\", \"high\", \"high\", \"high\", \"high\", \"high\", \"high\", \"high\", \"high\", \"high\", \"huangal\", \"huangal\", \"huangal\", \"huangal\", \"huangal\", \"huangal\", \"huangal\", \"huangal\", \"huangal\", \"huangal\", \"huangal\", \"huangal\", \"huangal\", \"huangal\", \"humanity\", \"humanity\", \"humanity\", \"humanity\", \"humanity\", \"humanity\", \"humanity\", \"humanity\", \"humanity\", \"humanity\", \"humanity\", \"humanity\", \"humanity\", \"humanity\", \"identi\", \"identi\", \"identi\", \"identi\", \"identi\", \"identi\", \"identi\", \"identi\", \"identi\", \"identi\", \"identi\", \"identi\", \"identi\", \"identi\", \"identi\", \"identification\", \"identification\", \"identification\", \"identification\", \"identification\", \"identification\", \"identification\", \"identification\", \"identification\", \"identification\", \"identification\", \"identification\", \"identification\", \"identification\", \"identification\", \"identify\", \"identify\", \"identify\", \"identify\", \"identify\", \"identify\", \"identify\", \"identify\", \"identify\", \"identify\", \"identify\", \"identify\", \"identify\", \"identify\", \"identify\", \"impact\", \"impact\", \"impact\", \"impact\", \"impact\", \"impact\", \"impact\", \"impact\", \"impact\", \"impact\", \"impact\", \"impact\", \"impact\", \"impact\", \"impact\", \"include\", \"include\", \"include\", \"include\", \"include\", \"include\", \"include\", \"include\", \"include\", \"include\", \"include\", \"include\", \"include\", \"include\", \"index\", \"index\", \"index\", \"index\", \"index\", \"index\", \"index\", \"index\", \"index\", \"index\", \"index\", \"index\", \"index\", \"indexed_article\", \"indexed_article\", \"indexed_article\", \"indexed_article\", \"indexed_article\", \"indexed_article\", \"indexed_article\", \"indexed_article\", \"indexed_article\", \"indexed_article\", \"indexed_article\", \"indexed_article\", \"indexed_article\", \"indexed_article\", \"indexed_article\", \"indexed_journal\", \"indexed_journal\", \"indexed_journal\", \"indexed_journal\", \"indexed_journal\", \"indexed_journal\", \"indexed_journal\", \"indexed_journal\", \"indexed_journal\", \"indexed_journal\", \"indexed_journal\", \"indexed_journal\", \"indexed_journal\", \"indexed_journal\", \"indexed_journal\", \"india\", \"india\", \"india\", \"india\", \"india\", \"india\", \"india\", \"india\", \"india\", \"india\", \"india\", \"india\", \"india\", \"india\", \"india\", \"individual\", \"individual\", \"individual\", \"individual\", \"individual\", \"individual\", \"individual\", \"individual\", \"individual\", \"individual\", \"individual\", \"individual\", \"individual\", \"individual\", \"individual\", \"industrial\", \"industrial\", \"industrial\", \"industrial\", \"industrial\", \"industrial\", \"industrial\", \"industrial\", \"industrial\", \"industrial\", \"industrial\", \"industrial\", \"industrial\", \"industrial\", \"industrial\", \"industry\", \"industry\", \"industry\", \"industry\", \"industry\", \"industry\", \"industry\", \"industry\", \"industry\", \"industry\", \"industry\", \"industry\", \"industry\", \"industry\", \"industry\", \"inequality\", \"inequality\", \"inequality\", \"inequality\", \"inequality\", \"inequality\", \"inequality\", \"inequality\", \"inequality\", \"inequality\", \"inequality\", \"inequality\", \"inequality\", \"inequality\", \"inequality\", \"influence\", \"influence\", \"influence\", \"influence\", \"influence\", \"influence\", \"influence\", \"influence\", \"influence\", \"influence\", \"influence\", \"influence\", \"influence\", \"influence\", \"influence\", \"information\", \"information\", \"information\", \"information\", \"information\", \"information\", \"information\", \"information\", \"information\", \"information\", \"information\", \"information\", \"information\", \"information\", \"information\", \"instance\", \"instance\", \"instance\", \"instance\", \"instance\", \"instance\", \"instance\", \"instance\", \"instance\", \"instance\", \"instance\", \"instance\", \"instance\", \"issue\", \"issue\", \"issue\", \"issue\", \"issue\", \"issue\", \"issue\", \"issue\", \"issue\", \"issue\", \"issue\", \"issue\", \"issue\", \"issue\", \"issue\", \"journal\", \"journal\", \"journal\", \"journal\", \"journal\", \"journal\", \"journal\", \"journal\", \"journal\", \"journal\", \"journal\", \"journal\", \"journal\", \"journal\", \"keep\", \"keep\", \"keep\", \"keep\", \"keep\", \"keep\", \"keep\", \"keep\", \"keep\", \"keep\", \"keep\", \"keep\", \"keep\", \"keep\", \"keep\", \"keyword\", \"keyword\", \"keyword\", \"keyword\", \"keyword\", \"keyword\", \"keyword\", \"keyword\", \"keyword\", \"keyword\", \"keyword\", \"keyword\", \"keyword\", \"keyword\", \"keyword\", \"language\", \"language\", \"language\", \"language\", \"language\", \"language\", \"language\", \"language\", \"language\", \"language\", \"language\", \"language\", \"language\", \"language\", \"language\", \"large\", \"large\", \"large\", \"large\", \"large\", \"large\", \"large\", \"large\", \"large\", \"large\", \"large\", \"large\", \"large\", \"large\", \"lead\", \"lead\", \"lead\", \"lead\", \"lead\", \"lead\", \"lead\", \"lead\", \"lead\", \"lead\", \"lead\", \"lead\", \"lead\", \"lead\", \"lead\", \"leverage\", \"leverage\", \"leverage\", \"leverage\", \"leverage\", \"leverage\", \"leverage\", \"leverage\", \"leverage\", \"leverage\", \"leverage\", \"leverage\", \"leverage\", \"leverage\", \"leverage\", \"library\", \"library\", \"library\", \"library\", \"library\", \"library\", \"library\", \"library\", \"library\", \"library\", \"library\", \"library\", \"library\", \"library\", \"library\", \"life_science\", \"life_science\", \"life_science\", \"life_science\", \"life_science\", \"life_science\", \"life_science\", \"life_science\", \"life_science\", \"life_science\", \"life_science\", \"life_science\", \"life_science\", \"life_science\", \"life_science\", \"likely\", \"likely\", \"likely\", \"likely\", \"likely\", \"likely\", \"likely\", \"likely\", \"likely\", \"likely\", \"likely\", \"likely\", \"likely\", \"likely\", \"likely\", \"limit\", \"limit\", \"limit\", \"limit\", \"limit\", \"limit\", \"limit\", \"limit\", \"limit\", \"limit\", \"limit\", \"limit\", \"limit\", \"limit\", \"limitation\", \"limitation\", \"limitation\", \"limitation\", \"limitation\", \"limitation\", \"limitation\", \"limitation\", \"limitation\", \"limitation\", \"limitation\", \"limitation\", \"limitation\", \"limitation\", \"limitation\", \"list\", \"list\", \"list\", \"list\", \"list\", \"list\", \"list\", \"list\", \"list\", \"list\", \"list\", \"list\", \"list\", \"list\", \"list\", \"literature\", \"literature\", \"literature\", \"literature\", \"literature\", \"literature\", \"literature\", \"literature\", \"literature\", \"literature\", \"literature\", \"literature\", \"literature\", \"literature\", \"literature\", \"literature_review\", \"literature_review\", \"literature_review\", \"literature_review\", \"literature_review\", \"literature_review\", \"literature_review\", \"literature_review\", \"literature_review\", \"literature_review\", \"literature_review\", \"literature_review\", \"literature_review\", \"literature_review\", \"literature_review\", \"literature_reviews\", \"literature_reviews\", \"literature_reviews\", \"literature_reviews\", \"literature_reviews\", \"literature_reviews\", \"literature_reviews\", \"literature_reviews\", \"literature_reviews\", \"literature_reviews\", \"literature_reviews\", \"literature_reviews\", \"literature_reviews\", \"literature_reviews\", \"literature_reviews\", \"localisedlocalized_scleroderma\", \"localisedlocalized_scleroderma\", \"localisedlocalized_scleroderma\", \"localisedlocalized_scleroderma\", \"localisedlocalized_scleroderma\", \"localisedlocalized_scleroderma\", \"localisedlocalized_scleroderma\", \"localisedlocalized_scleroderma\", \"localisedlocalized_scleroderma\", \"localisedlocalized_scleroderma\", \"localisedlocalized_scleroderma\", \"localisedlocalized_scleroderma\", \"localisedlocalized_scleroderma\", \"localisedlocalized_scleroderma\", \"localisedlocalized_scleroderma\", \"low\", \"low\", \"low\", \"low\", \"low\", \"low\", \"low\", \"low\", \"low\", \"low\", \"low\", \"low\", \"low\", \"low\", \"main\", \"main\", \"main\", \"main\", \"main\", \"main\", \"main\", \"main\", \"main\", \"main\", \"main\", \"main\", \"main\", \"main\", \"management\", \"management\", \"management\", \"management\", \"management\", \"management\", \"management\", \"management\", \"management\", \"management\", \"management\", \"management\", \"management\", \"management\", \"management\", \"matter\", \"matter\", \"matter\", \"matter\", \"matter\", \"matter\", \"matter\", \"matter\", \"matter\", \"matter\", \"matter\", \"matter\", \"matter\", \"matter\", \"matter\", \"mean\", \"mean\", \"mean\", \"mean\", \"mean\", \"mean\", \"mean\", \"mean\", \"mean\", \"mean\", \"mean\", \"mean\", \"mean\", \"mean\", \"mean\", \"measure\", \"measure\", \"measure\", \"measure\", \"measure\", \"measure\", \"measure\", \"measure\", \"measure\", \"measure\", \"measure\", \"measure\", \"measure\", \"measure\", \"measure\", \"medicine\", \"medicine\", \"medicine\", \"medicine\", \"medicine\", \"medicine\", \"medicine\", \"medicine\", \"medicine\", \"medicine\", \"medicine\", \"medicine\", \"medicine\", \"medicine\", \"medicine\", \"medline\", \"medline\", \"medline\", \"medline\", \"medline\", \"medline\", \"medline\", \"medline\", \"medline\", \"medline\", \"medline\", \"medline\", \"medline\", \"medline\", \"medline\", \"metric\", \"metric\", \"metric\", \"metric\", \"metric\", \"metric\", \"metric\", \"metric\", \"metric\", \"metric\", \"metric\", \"metric\", \"metric\", \"metric\", \"metric\", \"microsoft\", \"microsoft\", \"microsoft\", \"microsoft\", \"microsoft\", \"microsoft\", \"microsoft\", \"microsoft\", \"microsoft\", \"microsoft\", \"microsoft\", \"microsoft\", \"microsoft\", \"microsoft\", \"migration\", \"migration\", \"migration\", \"migration\", \"migration\", \"migration\", \"migration\", \"migration\", \"migration\", \"migration\", \"migration\", \"migration\", \"migration\", \"migration\", \"migration\", \"minor\", \"minor\", \"minor\", \"minor\", \"minor\", \"minor\", \"minor\", \"minor\", \"minor\", \"minor\", \"minor\", \"minor\", \"minor\", \"minor\", \"minor\", \"mobility\", \"mobility\", \"mobility\", \"mobility\", \"mobility\", \"mobility\", \"mobility\", \"mobility\", \"mobility\", \"mobility\", \"mobility\", \"mobility\", \"mobility\", \"mobility\", \"mobility\", \"motivation\", \"motivation\", \"motivation\", \"motivation\", \"motivation\", \"motivation\", \"motivation\", \"motivation\", \"motivation\", \"motivation\", \"motivation\", \"motivation\", \"motivation\", \"motivation\", \"motivation\", \"multidisciplinary\", \"multidisciplinary\", \"multidisciplinary\", \"multidisciplinary\", \"multidisciplinary\", \"multidisciplinary\", \"multidisciplinary\", \"multidisciplinary\", \"multidisciplinary\", \"multidisciplinary\", \"multidisciplinary\", \"multidisciplinary\", \"multidisciplinary\", \"multidisciplinary\", \"multidisciplinary\", \"narrow\", \"narrow\", \"narrow\", \"narrow\", \"narrow\", \"narrow\", \"narrow\", \"narrow\", \"narrow\", \"narrow\", \"narrow\", \"narrow\", \"narrow\", \"narrow\", \"narrow\", \"natural\", \"natural\", \"natural\", \"natural\", \"natural\", \"natural\", \"natural\", \"natural\", \"natural\", \"natural\", \"natural\", \"natural\", \"natural\", \"natural\", \"natural\", \"natural_science\", \"natural_science\", \"natural_science\", \"natural_science\", \"natural_science\", \"natural_science\", \"natural_science\", \"natural_science\", \"natural_science\", \"natural_science\", \"natural_science\", \"natural_science\", \"natural_science\", \"natural_science\", \"ndou\", \"ndou\", \"ndou\", \"ndou\", \"ndou\", \"ndou\", \"ndou\", \"ndou\", \"ndou\", \"ndou\", \"ndou\", \"ndou\", \"ndou\", \"ndou\", \"netherland\", \"netherland\", \"netherland\", \"netherland\", \"netherland\", \"netherland\", \"netherland\", \"netherland\", \"netherland\", \"netherland\", \"netherland\", \"netherland\", \"netherland\", \"netherland\", \"netherland\", \"nonenglish_language\", \"nonenglish_language\", \"nonenglish_language\", \"nonenglish_language\", \"nonenglish_language\", \"nonenglish_language\", \"nonenglish_language\", \"nonenglish_language\", \"nonenglish_language\", \"nonenglish_language\", \"nonenglish_language\", \"nonenglish_language\", \"nonenglish_language\", \"nonenglish_language\", \"note\", \"note\", \"note\", \"note\", \"note\", \"note\", \"note\", \"note\", \"note\", \"note\", \"note\", \"note\", \"note\", \"notwithstanding\", \"notwithstanding\", \"notwithstanding\", \"notwithstanding\", \"notwithstanding\", \"notwithstanding\", \"notwithstanding\", \"notwithstanding\", \"notwithstanding\", \"notwithstanding\", \"notwithstanding\", \"notwithstanding\", \"notwithstanding\", \"notwithstanding\", \"number\", \"number\", \"number\", \"number\", \"number\", \"number\", \"number\", \"number\", \"number\", \"number\", \"number\", \"number\", \"number\", \"number\", \"objective\", \"objective\", \"objective\", \"objective\", \"objective\", \"objective\", \"objective\", \"objective\", \"objective\", \"objective\", \"objective\", \"objective\", \"objective\", \"objective\", \"objective\", \"observe\", \"observe\", \"observe\", \"observe\", \"observe\", \"observe\", \"observe\", \"observe\", \"observe\", \"observe\", \"observe\", \"observe\", \"observe\", \"observe\", \"observe\", \"obtain\", \"obtain\", \"obtain\", \"obtain\", \"obtain\", \"obtain\", \"obtain\", \"obtain\", \"obtain\", \"obtain\", \"obtain\", \"obtain\", \"obtain\", \"obtain\", \"obtain\", \"onward\", \"onward\", \"onward\", \"onward\", \"onward\", \"onward\", \"onward\", \"onward\", \"onward\", \"onward\", \"onward\", \"onward\", \"onward\", \"onward\", \"order\", \"order\", \"order\", \"order\", \"order\", \"order\", \"order\", \"order\", \"order\", \"order\", \"order\", \"order\", \"order\", \"order\", \"order\", \"overlap\", \"overlap\", \"overlap\", \"overlap\", \"overlap\", \"overlap\", \"overlap\", \"overlap\", \"overlap\", \"overlap\", \"overlap\", \"overlap\", \"overlap\", \"overlap\", \"overrepresent\", \"overrepresent\", \"overrepresent\", \"overrepresent\", \"overrepresent\", \"overrepresent\", \"overrepresent\", \"overrepresent\", \"overrepresent\", \"overrepresent\", \"overrepresent\", \"overrepresent\", \"overrepresent\", \"overrepresent\", \"overrepresent\", \"overrepresentation\", \"overrepresentation\", \"overrepresentation\", \"overrepresentation\", \"overrepresentation\", \"overrepresentation\", \"overrepresentation\", \"overrepresentation\", \"overrepresentation\", \"overrepresentation\", \"overrepresentation\", \"overrepresentation\", \"overrepresentation\", \"overrepresentation\", \"overrepresente\", \"overrepresente\", \"overrepresente\", \"overrepresente\", \"overrepresente\", \"overrepresente\", \"overrepresente\", \"overrepresente\", \"overrepresente\", \"overrepresente\", \"overrepresente\", \"overrepresente\", \"overrepresente\", \"overrepresente\", \"overrepresente\", \"packer\", \"packer\", \"packer\", \"packer\", \"packer\", \"packer\", \"packer\", \"packer\", \"packer\", \"packer\", \"packer\", \"packer\", \"packer\", \"packer\", \"packer\", \"paper\", \"paper\", \"paper\", \"paper\", \"paper\", \"paper\", \"paper\", \"paper\", \"paper\", \"paper\", \"paper\", \"paper\", \"paper\", \"paper\", \"paper\", \"part\", \"part\", \"part\", \"part\", \"part\", \"part\", \"part\", \"part\", \"part\", \"part\", \"part\", \"part\", \"part\", \"part\", \"part\", \"paulhu\", \"paulhu\", \"paulhu\", \"paulhu\", \"paulhu\", \"paulhu\", \"paulhu\", \"paulhu\", \"paulhu\", \"paulhu\", \"paulhu\", \"paulhu\", \"paulhu\", \"paulhu\", \"paulhu\", \"peerreviewed_journal\", \"peerreviewed_journal\", \"peerreviewed_journal\", \"peerreviewed_journal\", \"peerreviewed_journal\", \"peerreviewed_journal\", \"peerreviewed_journal\", \"peerreviewed_journal\", \"peerreviewed_journal\", \"peerreviewed_journal\", \"peerreviewed_journal\", \"peerreviewed_journal\", \"peerreviewed_journal\", \"peerreviewed_journal\", \"peerreviewed_journal\", \"perform\", \"perform\", \"perform\", \"perform\", \"perform\", \"perform\", \"perform\", \"perform\", \"perform\", \"perform\", \"perform\", \"perform\", \"perform\", \"perform\", \"period\", \"period\", \"period\", \"period\", \"period\", \"period\", \"period\", \"period\", \"period\", \"period\", \"period\", \"period\", \"period\", \"period\", \"periodical\", \"periodical\", \"periodical\", \"periodical\", \"periodical\", \"periodical\", \"periodical\", \"periodical\", \"periodical\", \"periodical\", \"periodical\", \"periodical\", \"periodical\", \"periodical\", \"periodical\", \"portuguese\", \"portuguese\", \"portuguese\", \"portuguese\", \"portuguese\", \"portuguese\", \"portuguese\", \"portuguese\", \"portuguese\", \"portuguese\", \"portuguese\", \"portuguese\", \"portuguese\", \"portuguese\", \"portuguese\", \"pose\", \"pose\", \"pose\", \"pose\", \"pose\", \"pose\", \"pose\", \"pose\", \"pose\", \"pose\", \"pose\", \"pose\", \"pose\", \"pose\", \"pose\", \"preference\", \"preference\", \"preference\", \"preference\", \"preference\", \"preference\", \"preference\", \"preference\", \"preference\", \"preference\", \"preference\", \"preference\", \"preference\", \"preference\", \"present\", \"present\", \"present\", \"present\", \"present\", \"present\", \"present\", \"present\", \"present\", \"present\", \"present\", \"present\", \"present\", \"present\", \"present\", \"pritchard\", \"pritchard\", \"pritchard\", \"pritchard\", \"pritchard\", \"pritchard\", \"pritchard\", \"pritchard\", \"pritchard\", \"pritchard\", \"pritchard\", \"pritchard\", \"pritchard\", \"pritchard\", \"pritchard\", \"probability\", \"probability\", \"probability\", \"probability\", \"probability\", \"probability\", \"probability\", \"probability\", \"probability\", \"probability\", \"probability\", \"probability\", \"probability\", \"probability\", \"probability\", \"produce\", \"produce\", \"produce\", \"produce\", \"produce\", \"produce\", \"produce\", \"produce\", \"produce\", \"produce\", \"produce\", \"produce\", \"produce\", \"proportion\", \"proportion\", \"proportion\", \"proportion\", \"proportion\", \"proportion\", \"proportion\", \"proportion\", \"proportion\", \"proportion\", \"proportion\", \"proportion\", \"proportion\", \"proportion\", \"propose\", \"propose\", \"propose\", \"propose\", \"propose\", \"propose\", \"propose\", \"propose\", \"propose\", \"propose\", \"propose\", \"propose\", \"propose\", \"propose\", \"propose\", \"publication\", \"publication\", \"publication\", \"publication\", \"publication\", \"publication\", \"publication\", \"publication\", \"publication\", \"publication\", \"publication\", \"publication\", \"publication\", \"publication\", \"publication\", \"publish\", \"publish\", \"publish\", \"publish\", \"publish\", \"publish\", \"publish\", \"publish\", \"publish\", \"publish\", \"publish\", \"publish\", \"publish\", \"publish\", \"publish\", \"pubme\", \"pubme\", \"pubme\", \"pubme\", \"pubme\", \"pubme\", \"pubme\", \"pubme\", \"pubme\", \"pubme\", \"pubme\", \"pubme\", \"pubme\", \"pubme\", \"pubme\", \"pubmed\", \"pubmed\", \"pubmed\", \"pubmed\", \"pubmed\", \"pubmed\", \"pubmed\", \"pubmed\", \"pubmed\", \"pubmed\", \"pubmed\", \"pubmed\", \"pubmed\", \"pubmed\", \"pubmed\", \"purpose\", \"purpose\", \"purpose\", \"purpose\", \"purpose\", \"purpose\", \"purpose\", \"purpose\", \"purpose\", \"purpose\", \"purpose\", \"purpose\", \"purpose\", \"purpose\", \"purpose\", \"quality\", \"quality\", \"quality\", \"quality\", \"quality\", \"quality\", \"quality\", \"quality\", \"quality\", \"quality\", \"quality\", \"quality\", \"quality\", \"quality\", \"quantitative\", \"quantitative\", \"quantitative\", \"quantitative\", \"quantitative\", \"quantitative\", \"quantitative\", \"quantitative\", \"quantitative\", \"quantitative\", \"quantitative\", \"quantitative\", \"quantitative\", \"quantitative\", \"quantitative\", \"question\", \"question\", \"question\", \"question\", \"question\", \"question\", \"question\", \"question\", \"question\", \"question\", \"question\", \"question\", \"question\", \"question\", \"raan\", \"raan\", \"raan\", \"raan\", \"raan\", \"raan\", \"raan\", \"raan\", \"raan\", \"raan\", \"raan\", \"raan\", \"raan\", \"raan\", \"raan\", \"range\", \"range\", \"range\", \"range\", \"range\", \"range\", \"range\", \"range\", \"range\", \"range\", \"range\", \"range\", \"range\", \"range\", \"range\", \"real\", \"real\", \"real\", \"real\", \"real\", \"real\", \"real\", \"real\", \"real\", \"real\", \"real\", \"real\", \"real\", \"real\", \"real\", \"receive\", \"receive\", \"receive\", \"receive\", \"receive\", \"receive\", \"receive\", \"receive\", \"receive\", \"receive\", \"receive\", \"receive\", \"receive\", \"receive\", \"recommend\", \"recommend\", \"recommend\", \"recommend\", \"recommend\", \"recommend\", \"recommend\", \"recommend\", \"recommend\", \"recommend\", \"recommend\", \"recommend\", \"recommend\", \"recommend\", \"recommend\", \"refer\", \"refer\", \"refer\", \"refer\", \"refer\", \"refer\", \"refer\", \"refer\", \"refer\", \"refer\", \"refer\", \"refer\", \"refer\", \"refer\", \"refer\", \"reference\", \"reference\", \"reference\", \"reference\", \"reference\", \"reference\", \"reference\", \"reference\", \"reference\", \"reference\", \"reference\", \"reference\", \"reference\", \"reference\", \"reflect\", \"reflect\", \"reflect\", \"reflect\", \"reflect\", \"reflect\", \"reflect\", \"reflect\", \"reflect\", \"reflect\", \"reflect\", \"reflect\", \"reflect\", \"reflect\", \"reflect\", \"regard\", \"regard\", \"regard\", \"regard\", \"regard\", \"regard\", \"regard\", \"regard\", \"regard\", \"regard\", \"regard\", \"regard\", \"regard\", \"regard\", \"regard\", \"region\", \"region\", \"region\", \"region\", \"region\", \"region\", \"region\", \"region\", \"region\", \"region\", \"region\", \"region\", \"region\", \"region\", \"region\", \"relevant\", \"relevant\", \"relevant\", \"relevant\", \"relevant\", \"relevant\", \"relevant\", \"relevant\", \"relevant\", \"relevant\", \"relevant\", \"relevant\", \"relevant\", \"relevant\", \"relevant\", \"reliable\", \"reliable\", \"reliable\", \"reliable\", \"reliable\", \"reliable\", \"reliable\", \"reliable\", \"reliable\", \"reliable\", \"reliable\", \"reliable\", \"reliable\", \"reliable\", \"reliable\", \"rely\", \"rely\", \"rely\", \"rely\", \"rely\", \"rely\", \"rely\", \"rely\", \"rely\", \"rely\", \"rely\", \"rely\", \"rely\", \"rely\", \"rely\", \"renewable\", \"renewable\", \"renewable\", \"renewable\", \"renewable\", \"renewable\", \"renewable\", \"renewable\", \"renewable\", \"renewable\", \"renewable\", \"renewable\", \"renewable\", \"renewable\", \"renewable\", \"rensleigh\", \"rensleigh\", \"rensleigh\", \"rensleigh\", \"rensleigh\", \"rensleigh\", \"rensleigh\", \"rensleigh\", \"rensleigh\", \"rensleigh\", \"rensleigh\", \"rensleigh\", \"rensleigh\", \"rensleigh\", \"rensleigh\", \"report\", \"report\", \"report\", \"report\", \"report\", \"report\", \"report\", \"report\", \"report\", \"report\", \"report\", \"report\", \"report\", \"report\", \"report\", \"representation\", \"representation\", \"representation\", \"representation\", \"representation\", \"representation\", \"representation\", \"representation\", \"representation\", \"representation\", \"representation\", \"representation\", \"representation\", \"representation\", \"representation\", \"reputable\", \"reputable\", \"reputable\", \"reputable\", \"reputable\", \"reputable\", \"reputable\", \"reputable\", \"reputable\", \"reputable\", \"reputable\", \"reputable\", \"reputable\", \"reputable\", \"require\", \"require\", \"require\", \"require\", \"require\", \"require\", \"require\", \"require\", \"require\", \"require\", \"require\", \"require\", \"require\", \"require\", \"require\", \"requirement\", \"requirement\", \"requirement\", \"requirement\", \"requirement\", \"requirement\", \"requirement\", \"requirement\", \"requirement\", \"requirement\", \"requirement\", \"requirement\", \"requirement\", \"requirement\", \"requirement\", \"research\", \"research\", \"research\", \"research\", \"research\", \"research\", \"research\", \"research\", \"research\", \"research\", \"research\", \"research\", \"research\", \"research\", \"research_evaluation\", \"research_evaluation\", \"research_evaluation\", \"research_evaluation\", \"research_evaluation\", \"research_evaluation\", \"research_evaluation\", \"research_evaluation\", \"research_evaluation\", \"research_evaluation\", \"research_evaluation\", \"research_evaluation\", \"research_evaluation\", \"research_evaluation\", \"research_evaluation\", \"researched_article\", \"researched_article\", \"researched_article\", \"researched_article\", \"researched_article\", \"researched_article\", \"researched_article\", \"researched_article\", \"researched_article\", \"researched_article\", \"researched_article\", \"researched_article\", \"researched_article\", \"researched_article\", \"researched_article\", \"researcher\", \"researcher\", \"researcher\", \"researcher\", \"researcher\", \"researcher\", \"researcher\", \"researcher\", \"researcher\", \"researcher\", \"researcher\", \"researcher\", \"researcher\", \"researcher\", \"researcher\", \"respect\", \"respect\", \"respect\", \"respect\", \"respect\", \"respect\", \"respect\", \"respect\", \"respect\", \"respect\", \"respect\", \"respect\", \"respect\", \"respect\", \"result\", \"result\", \"result\", \"result\", \"result\", \"result\", \"result\", \"result\", \"result\", \"result\", \"result\", \"result\", \"result\", \"result\", \"result\", \"retrieve\", \"retrieve\", \"retrieve\", \"retrieve\", \"retrieve\", \"retrieve\", \"retrieve\", \"retrieve\", \"retrieve\", \"retrieve\", \"retrieve\", \"retrieve\", \"retrieve\", \"retrieve\", \"return\", \"return\", \"return\", \"return\", \"return\", \"return\", \"return\", \"return\", \"return\", \"return\", \"return\", \"return\", \"return\", \"return\", \"return\", \"reuter\", \"reuter\", \"reuter\", \"reuter\", \"reuter\", \"reuter\", \"reuter\", \"reuter\", \"reuter\", \"reuter\", \"reuter\", \"reuter\", \"reuter\", \"reuter\", \"reuter\", \"review\", \"review\", \"review\", \"review\", \"review\", \"review\", \"review\", \"review\", \"review\", \"review\", \"review\", \"review\", \"review\", \"review\", \"review\", \"risk\", \"risk\", \"risk\", \"risk\", \"risk\", \"risk\", \"risk\", \"risk\", \"risk\", \"risk\", \"risk\", \"risk\", \"risk\", \"risk\", \"risk\", \"scholarly_journal\", \"scholarly_journal\", \"scholarly_journal\", \"scholarly_journal\", \"scholarly_journal\", \"scholarly_journal\", \"scholarly_journal\", \"scholarly_journal\", \"scholarly_journal\", \"scholarly_journal\", \"scholarly_journal\", \"scholarly_journal\", \"scholarly_journal\", \"scholarly_journal\", \"science\", \"science\", \"science\", \"science\", \"science\", \"science\", \"science\", \"science\", \"science\", \"science\", \"science\", \"science\", \"science\", \"scientific\", \"scientific\", \"scientific\", \"scientific\", \"scientific\", \"scientific\", \"scientific\", \"scientific\", \"scientific\", \"scientific\", \"scientific\", \"scientific\", \"scientific\", \"scientific\", \"scientific\", \"scientific_evaluation\", \"scientific_evaluation\", \"scientific_evaluation\", \"scientific_evaluation\", \"scientific_evaluation\", \"scientific_evaluation\", \"scientific_evaluation\", \"scientific_evaluation\", \"scientific_evaluation\", \"scientific_evaluation\", \"scientific_evaluation\", \"scientific_evaluation\", \"scientific_evaluation\", \"scientific_evaluation\", \"scientific_evaluation\", \"scientific_production\", \"scientific_production\", \"scientific_production\", \"scientific_production\", \"scientific_production\", \"scientific_production\", \"scientific_production\", \"scientific_production\", \"scientific_production\", \"scientific_production\", \"scientific_production\", \"scientific_production\", \"scientific_production\", \"scientific_production\", \"scientific_studie\", \"scientific_studie\", \"scientific_studie\", \"scientific_studie\", \"scientific_studie\", \"scientific_studie\", \"scientific_studie\", \"scientific_studie\", \"scientific_studie\", \"scientific_studie\", \"scientific_studie\", \"scientific_studie\", \"scientific_studie\", \"scientific_studie\", \"scientific_studie\", \"sciexpande\", \"sciexpande\", \"sciexpande\", \"sciexpande\", \"sciexpande\", \"sciexpande\", \"sciexpande\", \"sciexpande\", \"sciexpande\", \"sciexpande\", \"sciexpande\", \"sciexpande\", \"sciexpande\", \"sciexpande\", \"scleroderma\", \"scleroderma\", \"scleroderma\", \"scleroderma\", \"scleroderma\", \"scleroderma\", \"scleroderma\", \"scleroderma\", \"scleroderma\", \"scleroderma\", \"scleroderma\", \"scleroderma\", \"scleroderma\", \"scleroderma\", \"scleroderma\", \"scopus\", \"scopus\", \"scopus\", \"scopus\", \"scopus\", \"scopus\", \"scopus\", \"scopus\", \"scopus\", \"scopus\", \"scopus\", \"scopus\", \"scopus\", \"scopus\", \"scopus_cover\", \"scopus_cover\", \"scopus_cover\", \"scopus_cover\", \"scopus_cover\", \"scopus_cover\", \"scopus_cover\", \"scopus_cover\", \"scopus_cover\", \"scopus_cover\", \"scopus_cover\", \"scopus_cover\", \"scopus_cover\", \"scopus_cover\", \"scopus_data\", \"scopus_data\", \"scopus_data\", \"scopus_data\", \"scopus_data\", \"scopus_data\", \"scopus_data\", \"scopus_data\", \"scopus_data\", \"scopus_data\", \"scopus_data\", \"scopus_data\", \"scopus_data\", \"scopus_data\", \"scopus_database\", \"scopus_database\", \"scopus_database\", \"scopus_database\", \"scopus_database\", \"scopus_database\", \"scopus_database\", \"scopus_database\", \"scopus_database\", \"scopus_database\", \"scopus_database\", \"scopus_database\", \"scopus_database\", \"scopus_database\", \"scopus_dbs\", \"scopus_dbs\", \"scopus_dbs\", \"scopus_dbs\", \"scopus_dbs\", \"scopus_dbs\", \"scopus_dbs\", \"scopus_dbs\", \"scopus_dbs\", \"scopus_dbs\", \"scopus_dbs\", \"scopus_dbs\", \"scopus_dbs\", \"scopus_dbs\", \"scopus_dbs\", \"scopus_index\", \"scopus_index\", \"scopus_index\", \"scopus_index\", \"scopus_index\", \"scopus_index\", \"scopus_index\", \"scopus_index\", \"scopus_index\", \"scopus_index\", \"scopus_index\", \"scopus_index\", \"scopus_index\", \"scopus_index\", \"scopus_index\", \"scopus_journal\", \"scopus_journal\", \"scopus_journal\", \"scopus_journal\", \"scopus_journal\", \"scopus_journal\", \"scopus_journal\", \"scopus_journal\", \"scopus_journal\", \"scopus_journal\", \"scopus_journal\", \"scopus_journal\", \"scopus_journal\", \"scopus_journal\", \"scopus_journal\", \"scopus_journal_coverage\", \"scopus_journal_coverage\", \"scopus_journal_coverage\", \"scopus_journal_coverage\", \"scopus_journal_coverage\", \"scopus_journal_coverage\", \"scopus_journal_coverage\", \"scopus_journal_coverage\", \"scopus_journal_coverage\", \"scopus_journal_coverage\", \"scopus_journal_coverage\", \"scopus_journal_coverage\", \"scopus_journal_coverage\", \"scopus_journal_coverage\", \"scopus_result\", \"scopus_result\", \"scopus_result\", \"scopus_result\", \"scopus_result\", \"scopus_result\", \"scopus_result\", \"scopus_result\", \"scopus_result\", \"scopus_result\", \"scopus_result\", \"scopus_result\", \"scopus_result\", \"scopus_result\", \"scopus_result\", \"search\", \"search\", \"search\", \"search\", \"search\", \"search\", \"search\", \"search\", \"search\", \"search\", \"search\", \"search\", \"search\", \"search\", \"second\", \"second\", \"second\", \"second\", \"second\", \"second\", \"second\", \"second\", \"second\", \"second\", \"second\", \"second\", \"second\", \"second\", \"second\", \"select\", \"select\", \"select\", \"select\", \"select\", \"select\", \"select\", \"select\", \"select\", \"select\", \"select\", \"select\", \"select\", \"select\", \"select\", \"show\", \"show\", \"show\", \"show\", \"show\", \"show\", \"show\", \"show\", \"show\", \"show\", \"show\", \"show\", \"show\", \"show\", \"similar\", \"similar\", \"similar\", \"similar\", \"similar\", \"similar\", \"similar\", \"similar\", \"similar\", \"similar\", \"similar\", \"similar\", \"similar\", \"similar\", \"similar\", \"singhal\", \"singhal\", \"singhal\", \"singhal\", \"singhal\", \"singhal\", \"singhal\", \"singhal\", \"singhal\", \"singhal\", \"singhal\", \"singhal\", \"singhal\", \"singhal\", \"singular\", \"singular\", \"singular\", \"singular\", \"singular\", \"singular\", \"singular\", \"singular\", \"singular\", \"singular\", \"singular\", \"singular\", \"singular\", \"singular\", \"singular\", \"social_science\", \"social_science\", \"social_science\", \"social_science\", \"social_science\", \"social_science\", \"social_science\", \"social_science\", \"social_science\", \"social_science\", \"social_science\", \"social_science\", \"social_science\", \"solid\", \"solid\", \"solid\", \"solid\", \"solid\", \"solid\", \"solid\", \"solid\", \"solid\", \"solid\", \"solid\", \"solid\", \"solid\", \"solid\", \"solid\", \"source\", \"source\", \"source\", \"source\", \"source\", \"source\", \"source\", \"source\", \"source\", \"source\", \"source\", \"source\", \"source\", \"source\", \"specific\", \"specific\", \"specific\", \"specific\", \"specific\", \"specific\", \"specific\", \"specific\", \"specific\", \"specific\", \"specific\", \"specific\", \"specific\", \"ssc\", \"ssc\", \"ssc\", \"ssc\", \"ssc\", \"ssc\", \"ssc\", \"ssc\", \"ssc\", \"ssc\", \"ssc\", \"ssc\", \"ssc\", \"ssc\", \"ssc\", \"ssci\", \"ssci\", \"ssci\", \"ssci\", \"ssci\", \"ssci\", \"ssci\", \"ssci\", \"ssci\", \"ssci\", \"ssci\", \"ssci\", \"ssci\", \"ssci\", \"ssci\", \"stakeholder\", \"stakeholder\", \"stakeholder\", \"stakeholder\", \"stakeholder\", \"stakeholder\", \"stakeholder\", \"stakeholder\", \"stakeholder\", \"stakeholder\", \"stakeholder\", \"stakeholder\", \"stakeholder\", \"stakeholder\", \"stakeholder\", \"starting\", \"starting\", \"starting\", \"starting\", \"starting\", \"starting\", \"starting\", \"starting\", \"starting\", \"starting\", \"starting\", \"starting\", \"starting\", \"starting\", \"starting\", \"step\", \"step\", \"step\", \"step\", \"step\", \"step\", \"step\", \"step\", \"step\", \"step\", \"step\", \"step\", \"step\", \"step\", \"step\", \"strategy\", \"strategy\", \"strategy\", \"strategy\", \"strategy\", \"strategy\", \"strategy\", \"strategy\", \"strategy\", \"strategy\", \"strategy\", \"strategy\", \"strategy\", \"strategy\", \"strategy\", \"string\", \"string\", \"string\", \"string\", \"string\", \"string\", \"string\", \"string\", \"string\", \"string\", \"string\", \"string\", \"string\", \"string\", \"string\", \"study\", \"study\", \"study\", \"study\", \"study\", \"study\", \"study\", \"study\", \"study\", \"study\", \"study\", \"study\", \"study\", \"study\", \"subject\", \"subject\", \"subject\", \"subject\", \"subject\", \"subject\", \"subject\", \"subject\", \"subject\", \"subject\", \"subject\", \"subject\", \"subject\", \"subject\", \"subset\", \"subset\", \"subset\", \"subset\", \"subset\", \"subset\", \"subset\", \"subset\", \"subset\", \"subset\", \"subset\", \"subset\", \"subset\", \"subset\", \"superior\", \"superior\", \"superior\", \"superior\", \"superior\", \"superior\", \"superior\", \"superior\", \"superior\", \"superior\", \"superior\", \"superior\", \"superior\", \"superior\", \"superior\", \"sustainability\", \"sustainability\", \"sustainability\", \"sustainability\", \"sustainability\", \"sustainability\", \"sustainability\", \"sustainability\", \"sustainability\", \"sustainability\", \"sustainability\", \"sustainability\", \"sustainability\", \"sustainability\", \"sustainability\", \"synthesise\", \"synthesise\", \"synthesise\", \"synthesise\", \"synthesise\", \"synthesise\", \"synthesise\", \"synthesise\", \"synthesise\", \"synthesise\", \"synthesise\", \"synthesise\", \"synthesise\", \"synthesise\", \"synthesise\", \"system\", \"system\", \"system\", \"system\", \"system\", \"system\", \"system\", \"system\", \"system\", \"system\", \"system\", \"system\", \"system\", \"systematic_literature_review\", \"systematic_literature_review\", \"systematic_literature_review\", \"systematic_literature_review\", \"systematic_literature_review\", \"systematic_literature_review\", \"systematic_literature_review\", \"systematic_literature_review\", \"systematic_literature_review\", \"systematic_literature_review\", \"systematic_literature_review\", \"systematic_literature_review\", \"systematic_literature_review\", \"systematic_literature_review\", \"systematic_literature_review\", \"systemic_sclerosis\", \"systemic_sclerosis\", \"systemic_sclerosis\", \"systemic_sclerosis\", \"systemic_sclerosis\", \"systemic_sclerosis\", \"systemic_sclerosis\", \"systemic_sclerosis\", \"systemic_sclerosis\", \"systemic_sclerosis\", \"systemic_sclerosis\", \"systemic_sclerosis\", \"systemic_sclerosis\", \"systemic_sclerosis\", \"systemic_sclerosis\", \"table\", \"table\", \"table\", \"table\", \"table\", \"table\", \"table\", \"table\", \"table\", \"table\", \"table\", \"table\", \"table\", \"table\", \"teaching\", \"teaching\", \"teaching\", \"teaching\", \"teaching\", \"teaching\", \"teaching\", \"teaching\", \"teaching\", \"teaching\", \"teaching\", \"teaching\", \"teaching\", \"teaching\", \"technology\", \"technology\", \"technology\", \"technology\", \"technology\", \"technology\", \"technology\", \"technology\", \"technology\", \"technology\", \"technology\", \"technology\", \"technology\", \"technology\", \"technology\", \"tend\", \"tend\", \"tend\", \"tend\", \"tend\", \"tend\", \"tend\", \"tend\", \"tend\", \"tend\", \"tend\", \"tend\", \"tend\", \"thelwall\", \"thelwall\", \"thelwall\", \"thelwall\", \"thelwall\", \"thelwall\", \"thelwall\", \"thelwall\", \"thelwall\", \"thelwall\", \"thelwall\", \"thelwall\", \"thelwall\", \"thelwall\", \"thelwall\", \"title\", \"title\", \"title\", \"title\", \"title\", \"title\", \"title\", \"title\", \"title\", \"title\", \"title\", \"title\", \"title\", \"title\", \"title\", \"tool\", \"tool\", \"tool\", \"tool\", \"tool\", \"tool\", \"tool\", \"tool\", \"tool\", \"tool\", \"tool\", \"tool\", \"tool\", \"tool\", \"trend\", \"trend\", \"trend\", \"trend\", \"trend\", \"trend\", \"trend\", \"trend\", \"trend\", \"trend\", \"trend\", \"trend\", \"trend\", \"trend\", \"trend\", \"type\", \"type\", \"type\", \"type\", \"type\", \"type\", \"type\", \"type\", \"type\", \"type\", \"type\", \"type\", \"type\", \"type\", \"underestimate\", \"underestimate\", \"underestimate\", \"underestimate\", \"underestimate\", \"underestimate\", \"underestimate\", \"underestimate\", \"underestimate\", \"underestimate\", \"underestimate\", \"underestimate\", \"underestimate\", \"underestimate\", \"underestimate\", \"underrepresented\", \"underrepresented\", \"underrepresented\", \"underrepresented\", \"underrepresented\", \"underrepresented\", \"underrepresented\", \"underrepresented\", \"underrepresented\", \"underrepresented\", \"underrepresented\", \"underrepresented\", \"underrepresented\", \"underrepresented\", \"underrepresented\", \"unit_of_analysis\", \"unit_of_analysis\", \"unit_of_analysis\", \"unit_of_analysis\", \"unit_of_analysis\", \"unit_of_analysis\", \"unit_of_analysis\", \"unit_of_analysis\", \"unit_of_analysis\", \"unit_of_analysis\", \"unit_of_analysis\", \"unit_of_analysis\", \"unit_of_analysis\", \"unit_of_analysis\", \"unit_of_analysis\", \"united_kingdom\", \"united_kingdom\", \"united_kingdom\", \"united_kingdom\", \"united_kingdom\", \"united_kingdom\", \"united_kingdom\", \"united_kingdom\", \"united_kingdom\", \"united_kingdom\", \"united_kingdom\", \"united_kingdom\", \"united_kingdom\", \"united_kingdom\", \"usa\", \"usa\", \"usa\", \"usa\", \"usa\", \"usa\", \"usa\", \"usa\", \"usa\", \"usa\", \"usa\", \"usa\", \"usa\", \"usa\", \"value\", \"value\", \"value\", \"value\", \"value\", \"value\", \"value\", \"value\", \"value\", \"value\", \"value\", \"value\", \"value\", \"value\", \"value\", \"van\", \"van\", \"van\", \"van\", \"van\", \"van\", \"van\", \"van\", \"van\", \"van\", \"van\", \"van\", \"van\", \"van\", \"van\", \"variation\", \"variation\", \"variation\", \"variation\", \"variation\", \"variation\", \"variation\", \"variation\", \"variation\", \"variation\", \"variation\", \"variation\", \"variation\", \"vary\", \"vary\", \"vary\", \"vary\", \"vary\", \"vary\", \"vary\", \"vary\", \"vary\", \"vary\", \"vary\", \"vary\", \"vary\", \"vary\", \"vary\", \"vosviewer\", \"vosviewer\", \"vosviewer\", \"vosviewer\", \"vosviewer\", \"vosviewer\", \"vosviewer\", \"vosviewer\", \"vosviewer\", \"vosviewer\", \"vosviewer\", \"vosviewer\", \"vosviewer\", \"vosviewer\", \"vosviewer\", \"weak\", \"weak\", \"weak\", \"weak\", \"weak\", \"weak\", \"weak\", \"weak\", \"weak\", \"weak\", \"weak\", \"weak\", \"weak\", \"weak\", \"weak\", \"web_of_science\", \"web_of_science\", \"web_of_science\", \"web_of_science\", \"web_of_science\", \"web_of_science\", \"web_of_science\", \"web_of_science\", \"web_of_science\", \"web_of_science\", \"web_of_science\", \"web_of_science\", \"web_of_science\", \"web_of_science\", \"web_of_science_database\", \"web_of_science_database\", \"web_of_science_database\", \"web_of_science_database\", \"web_of_science_database\", \"web_of_science_database\", \"web_of_science_database\", \"web_of_science_database\", \"web_of_science_database\", \"web_of_science_database\", \"web_of_science_database\", \"web_of_science_database\", \"web_of_science_database\", \"web_of_science_database\", \"web_of_science_database\", \"well\", \"well\", \"well\", \"well\", \"well\", \"well\", \"well\", \"well\", \"well\", \"well\", \"well\", \"well\", \"well\", \"well\", \"western_europe\", \"western_europe\", \"western_europe\", \"western_europe\", \"western_europe\", \"western_europe\", \"western_europe\", \"western_europe\", \"western_europe\", \"western_europe\", \"western_europe\", \"western_europe\", \"western_europe\", \"western_europe\", \"western_europe\", \"whilst\", \"whilst\", \"whilst\", \"whilst\", \"whilst\", \"whilst\", \"whilst\", \"whilst\", \"whilst\", \"whilst\", \"whilst\", \"whilst\", \"whilst\", \"whilst\", \"whilst\", \"wide\", \"wide\", \"wide\", \"wide\", \"wide\", \"wide\", \"wide\", \"wide\", \"wide\", \"wide\", \"wide\", \"wide\", \"wide\", \"wide\", \"word\", \"word\", \"word\", \"word\", \"word\", \"word\", \"word\", \"word\", \"word\", \"word\", \"word\", \"word\", \"word\", \"word\", \"word\", \"worth\", \"worth\", \"worth\", \"worth\", \"worth\", \"worth\", \"worth\", \"worth\", \"worth\", \"worth\", \"worth\", \"worth\", \"worth\", \"worth\", \"worth\", \"wos\", \"wos\", \"wos\", \"wos\", \"wos\", \"wos\", \"wos\", \"wos\", \"wos\", \"wos\", \"wos\", \"wos\", \"wos\", \"wos_database\", \"wos_database\", \"wos_database\", \"wos_database\", \"wos_database\", \"wos_database\", \"wos_database\", \"wos_database\", \"wos_database\", \"wos_database\", \"wos_database\", \"wos_database\", \"wos_database\", \"wos_database\", \"wos_journal_coverage\", \"wos_journal_coverage\", \"wos_journal_coverage\", \"wos_journal_coverage\", \"wos_journal_coverage\", \"wos_journal_coverage\", \"wos_journal_coverage\", \"wos_journal_coverage\", \"wos_journal_coverage\", \"wos_journal_coverage\", \"wos_journal_coverage\", \"wos_journal_coverage\", \"wos_journal_coverage\", \"wos_journal_coverage\", \"wos_journal_coverage\", \"write\", \"write\", \"write\", \"write\", \"write\", \"write\", \"write\", \"write\", \"write\", \"write\", \"write\", \"write\", \"write\", \"write\", \"write\", \"year\", \"year\", \"year\", \"year\", \"year\", \"year\", \"year\", \"year\", \"year\", \"year\", \"year\", \"year\", \"year\", \"year\", \"year\"]}, \"R\": 30, \"lambda.step\": 0.01, \"plot.opts\": {\"xlab\": \"PC1\", \"ylab\": \"PC2\"}, \"topic.order\": [13, 2, 11, 12, 7, 6, 8, 14, 15, 10, 4, 9, 1, 5, 3]};\n",
              "\n",
              "function LDAvis_load_lib(url, callback){\n",
              "  var s = document.createElement('script');\n",
              "  s.src = url;\n",
              "  s.async = true;\n",
              "  s.onreadystatechange = s.onload = callback;\n",
              "  s.onerror = function(){console.warn(\"failed to load library \" + url);};\n",
              "  document.getElementsByTagName(\"head\")[0].appendChild(s);\n",
              "}\n",
              "\n",
              "if(typeof(LDAvis) !== \"undefined\"){\n",
              "   // already loaded: just create the visualization\n",
              "   !function(LDAvis){\n",
              "       new LDAvis(\"#\" + \"ldavis_el567141401255816302885714025946\", ldavis_el567141401255816302885714025946_data);\n",
              "   }(LDAvis);\n",
              "}else if(typeof define === \"function\" && define.amd){\n",
              "   // require.js is available: use it to load d3/LDAvis\n",
              "   require.config({paths: {d3: \"https://d3js.org/d3.v5\"}});\n",
              "   require([\"d3\"], function(d3){\n",
              "      window.d3 = d3;\n",
              "      LDAvis_load_lib(\"https://cdn.jsdelivr.net/gh/bmabey/pyLDAvis@3.3.1/pyLDAvis/js/ldavis.v3.0.0.js\", function(){\n",
              "        new LDAvis(\"#\" + \"ldavis_el567141401255816302885714025946\", ldavis_el567141401255816302885714025946_data);\n",
              "      });\n",
              "    });\n",
              "}else{\n",
              "    // require.js not available: dynamically load d3 & LDAvis\n",
              "    LDAvis_load_lib(\"https://d3js.org/d3.v5.js\", function(){\n",
              "         LDAvis_load_lib(\"https://cdn.jsdelivr.net/gh/bmabey/pyLDAvis@3.3.1/pyLDAvis/js/ldavis.v3.0.0.js\", function(){\n",
              "                 new LDAvis(\"#\" + \"ldavis_el567141401255816302885714025946\", ldavis_el567141401255816302885714025946_data);\n",
              "            })\n",
              "         });\n",
              "}\n",
              "</script>"
            ]
          },
          "metadata": {},
          "execution_count": 15
        }
      ],
      "source": [
        "import pyLDAvis as vis\n",
        "\n",
        "ztm = results_df.sort_values(by='coherence', ascending=False).iloc[0]['model']\n",
        "tp = results_df.sort_values(by='coherence', ascending=False).iloc[0]['tp']\n",
        "training_dataset = results_df.sort_values(by='coherence', ascending=False).iloc[0]['training_dataset']\n",
        "lda_vis_data = ztm.get_ldavis_data_format(tp.vocab, training_dataset, n_samples=1)\n",
        "\n",
        "ztm_pd = vis.prepare(**lda_vis_data)\n",
        "vis.display(ztm_pd)"
      ]
    },
    {
      "cell_type": "markdown",
      "metadata": {
        "id": "7c1FU-XmMh6r"
      },
      "source": [
        "## Compute Topic Index"
      ]
    },
    {
      "cell_type": "code",
      "execution_count": 16,
      "metadata": {
        "colab": {
          "base_uri": "https://localhost:8080/"
        },
        "id": "LwK17HaJMh6r",
        "outputId": "98d7ee47-f03a-499e-a75b-c1649b19a798"
      },
      "outputs": [
        {
          "output_type": "stream",
          "name": "stderr",
          "text": [
            "Sampling: [5/5]: : 5it [00:01,  2.51it/s]\n",
            "Sampling: [5/5]: : 5it [00:01,  2.52it/s]\n",
            "Sampling: [5/5]: : 5it [00:01,  2.51it/s]\n",
            "Sampling: [5/5]: : 5it [00:01,  2.55it/s]\n",
            "Sampling: [5/5]: : 5it [00:01,  2.53it/s]\n",
            "Sampling: [5/5]: : 5it [00:01,  2.52it/s]\n",
            "Sampling: [5/5]: : 5it [00:02,  2.46it/s]\n",
            "Sampling: [5/5]: : 5it [00:02,  2.44it/s]\n",
            "Sampling: [5/5]: : 5it [00:02,  2.37it/s]\n",
            "Sampling: [5/5]: : 5it [00:01,  2.51it/s]\n",
            "Sampling: [5/5]: : 5it [00:01,  2.53it/s]\n",
            "Sampling: [5/5]: : 5it [00:02,  2.49it/s]\n",
            "Sampling: [5/5]: : 5it [00:01,  2.52it/s]\n",
            "Sampling: [5/5]: : 5it [00:02,  2.47it/s]\n",
            "Sampling: [5/5]: : 5it [00:01,  2.52it/s]\n",
            "Sampling: [5/5]: : 5it [00:02,  2.46it/s]\n",
            "Sampling: [5/5]: : 5it [00:02,  2.45it/s]\n",
            "Sampling: [5/5]: : 5it [00:02,  2.33it/s]\n",
            "Sampling: [5/5]: : 5it [00:02,  2.48it/s]\n",
            "Sampling: [5/5]: : 5it [00:02,  2.46it/s]\n",
            "Sampling: [5/5]: : 5it [00:02,  2.47it/s]\n",
            "Sampling: [5/5]: : 5it [00:02,  2.44it/s]\n",
            "Sampling: [5/5]: : 5it [00:02,  2.45it/s]\n",
            "Sampling: [5/5]: : 5it [00:02,  2.43it/s]\n",
            "Sampling: [5/5]: : 5it [00:02,  2.43it/s]\n",
            "Sampling: [5/5]: : 5it [00:02,  1.84it/s]\n",
            "Sampling: [5/5]: : 5it [00:02,  2.28it/s]\n",
            "Sampling: [5/5]: : 5it [00:02,  2.40it/s]\n",
            "Sampling: [5/5]: : 5it [00:02,  2.40it/s]\n",
            "Sampling: [5/5]: : 5it [00:02,  2.43it/s]\n",
            "Sampling: [5/5]: : 5it [00:02,  2.41it/s]\n",
            "Sampling: [5/5]: : 5it [00:02,  2.38it/s]\n",
            "Sampling: [5/5]: : 5it [00:02,  2.40it/s]\n",
            "Sampling: [5/5]: : 5it [00:02,  2.38it/s]\n",
            "Sampling: [5/5]: : 5it [00:02,  2.34it/s]\n",
            "Sampling: [5/5]: : 5it [00:02,  2.29it/s]\n"
          ]
        }
      ],
      "source": [
        "import numpy as np\n",
        "import json\n",
        "for i, result in results_df.iterrows():\n",
        "    documents = []\n",
        "    topic_predictions = result['model'].get_thetas(training_dataset, n_samples=5)\n",
        "    for topics, doi, cite_id in zip(topic_predictions, citations['source_doi'], citations['id']):\n",
        "        topic_number = np.argmax(topics)\n",
        "        keywords = [term for term in result['model'].get_topic_lists(10)[topic_number]]\n",
        "        documents.append({\n",
        "            \"doi\": doi,\n",
        "            \"cite_id\": cite_id,\n",
        "            \"keywords\": [word for word in set(keywords)]\n",
        "        })\n",
        "        with open(f'./ztm_{result[\"num_topics\"]}_{result[\"embedding_model\"].replace(\"/\", \"_\")}_topic_index.json', 'w+') as f:\n",
        "            json.dump({\n",
        "                \"embedding_model\": result[\"embedding_model\"],\n",
        "                \"topics\": result[\"num_topics\"],\n",
        "                \"diversity\": result[\"diversity\"],\n",
        "                \"coherence\": result[\"coherence\"],\n",
        "                \"documents\": documents\n",
        "            }, f)"
      ]
    },
    {
      "cell_type": "code",
      "source": [
        ""
      ],
      "metadata": {
        "id": "2mUUpT9LjmAz"
      },
      "execution_count": 16,
      "outputs": []
    }
  ],
  "metadata": {
    "accelerator": "GPU",
    "colab": {
      "collapsed_sections": [
        "YSxaxusuf_rg"
      ],
      "name": "ZTM.ipynb",
      "provenance": []
    },
    "kernelspec": {
      "display_name": "Python 3",
      "language": "python",
      "name": "python3"
    },
    "language_info": {
      "codemirror_mode": {
        "name": "ipython",
        "version": 3
      },
      "file_extension": ".py",
      "mimetype": "text/x-python",
      "name": "python",
      "nbconvert_exporter": "python",
      "pygments_lexer": "ipython3",
      "version": "3.10.4"
    },
    "widgets": {
      "application/vnd.jupyter.widget-state+json": {
        "f02c7e85248b42988a1e964ea95deb87": {
          "model_module": "@jupyter-widgets/controls",
          "model_name": "HBoxModel",
          "model_module_version": "1.5.0",
          "state": {
            "_dom_classes": [],
            "_model_module": "@jupyter-widgets/controls",
            "_model_module_version": "1.5.0",
            "_model_name": "HBoxModel",
            "_view_count": null,
            "_view_module": "@jupyter-widgets/controls",
            "_view_module_version": "1.5.0",
            "_view_name": "HBoxView",
            "box_style": "",
            "children": [
              "IPY_MODEL_939d982d950d45b6a5e7f6f042e225aa",
              "IPY_MODEL_d3e1b1f58fec4c6d9129bb76bf110a97",
              "IPY_MODEL_2fe8bb9643694b17b97ade5ca9815312"
            ],
            "layout": "IPY_MODEL_25c0b14a35bd4b3999a2704a42bf9590"
          }
        },
        "939d982d950d45b6a5e7f6f042e225aa": {
          "model_module": "@jupyter-widgets/controls",
          "model_name": "HTMLModel",
          "model_module_version": "1.5.0",
          "state": {
            "_dom_classes": [],
            "_model_module": "@jupyter-widgets/controls",
            "_model_module_version": "1.5.0",
            "_model_name": "HTMLModel",
            "_view_count": null,
            "_view_module": "@jupyter-widgets/controls",
            "_view_module_version": "1.5.0",
            "_view_name": "HTMLView",
            "description": "",
            "description_tooltip": null,
            "layout": "IPY_MODEL_6fbd2a44c1be4c94aa69926f4565c067",
            "placeholder": "​",
            "style": "IPY_MODEL_08fd7309a00743bcb3674dd8061f57cb",
            "value": "Batches: 100%"
          }
        },
        "d3e1b1f58fec4c6d9129bb76bf110a97": {
          "model_module": "@jupyter-widgets/controls",
          "model_name": "FloatProgressModel",
          "model_module_version": "1.5.0",
          "state": {
            "_dom_classes": [],
            "_model_module": "@jupyter-widgets/controls",
            "_model_module_version": "1.5.0",
            "_model_name": "FloatProgressModel",
            "_view_count": null,
            "_view_module": "@jupyter-widgets/controls",
            "_view_module_version": "1.5.0",
            "_view_name": "ProgressView",
            "bar_style": "success",
            "description": "",
            "description_tooltip": null,
            "layout": "IPY_MODEL_7e07cb386e16473b93b25551e8229e5c",
            "max": 4,
            "min": 0,
            "orientation": "horizontal",
            "style": "IPY_MODEL_798846dd7134425bb541ab94908fafd4",
            "value": 4
          }
        },
        "2fe8bb9643694b17b97ade5ca9815312": {
          "model_module": "@jupyter-widgets/controls",
          "model_name": "HTMLModel",
          "model_module_version": "1.5.0",
          "state": {
            "_dom_classes": [],
            "_model_module": "@jupyter-widgets/controls",
            "_model_module_version": "1.5.0",
            "_model_name": "HTMLModel",
            "_view_count": null,
            "_view_module": "@jupyter-widgets/controls",
            "_view_module_version": "1.5.0",
            "_view_name": "HTMLView",
            "description": "",
            "description_tooltip": null,
            "layout": "IPY_MODEL_e8932b500f494e17a2e980c2d95df8e2",
            "placeholder": "​",
            "style": "IPY_MODEL_65d5c768107149b4876ab4f1f1f6046d",
            "value": " 4/4 [00:02&lt;00:00,  1.57it/s]"
          }
        },
        "25c0b14a35bd4b3999a2704a42bf9590": {
          "model_module": "@jupyter-widgets/base",
          "model_name": "LayoutModel",
          "model_module_version": "1.2.0",
          "state": {
            "_model_module": "@jupyter-widgets/base",
            "_model_module_version": "1.2.0",
            "_model_name": "LayoutModel",
            "_view_count": null,
            "_view_module": "@jupyter-widgets/base",
            "_view_module_version": "1.2.0",
            "_view_name": "LayoutView",
            "align_content": null,
            "align_items": null,
            "align_self": null,
            "border": null,
            "bottom": null,
            "display": null,
            "flex": null,
            "flex_flow": null,
            "grid_area": null,
            "grid_auto_columns": null,
            "grid_auto_flow": null,
            "grid_auto_rows": null,
            "grid_column": null,
            "grid_gap": null,
            "grid_row": null,
            "grid_template_areas": null,
            "grid_template_columns": null,
            "grid_template_rows": null,
            "height": null,
            "justify_content": null,
            "justify_items": null,
            "left": null,
            "margin": null,
            "max_height": null,
            "max_width": null,
            "min_height": null,
            "min_width": null,
            "object_fit": null,
            "object_position": null,
            "order": null,
            "overflow": null,
            "overflow_x": null,
            "overflow_y": null,
            "padding": null,
            "right": null,
            "top": null,
            "visibility": null,
            "width": null
          }
        },
        "6fbd2a44c1be4c94aa69926f4565c067": {
          "model_module": "@jupyter-widgets/base",
          "model_name": "LayoutModel",
          "model_module_version": "1.2.0",
          "state": {
            "_model_module": "@jupyter-widgets/base",
            "_model_module_version": "1.2.0",
            "_model_name": "LayoutModel",
            "_view_count": null,
            "_view_module": "@jupyter-widgets/base",
            "_view_module_version": "1.2.0",
            "_view_name": "LayoutView",
            "align_content": null,
            "align_items": null,
            "align_self": null,
            "border": null,
            "bottom": null,
            "display": null,
            "flex": null,
            "flex_flow": null,
            "grid_area": null,
            "grid_auto_columns": null,
            "grid_auto_flow": null,
            "grid_auto_rows": null,
            "grid_column": null,
            "grid_gap": null,
            "grid_row": null,
            "grid_template_areas": null,
            "grid_template_columns": null,
            "grid_template_rows": null,
            "height": null,
            "justify_content": null,
            "justify_items": null,
            "left": null,
            "margin": null,
            "max_height": null,
            "max_width": null,
            "min_height": null,
            "min_width": null,
            "object_fit": null,
            "object_position": null,
            "order": null,
            "overflow": null,
            "overflow_x": null,
            "overflow_y": null,
            "padding": null,
            "right": null,
            "top": null,
            "visibility": null,
            "width": null
          }
        },
        "08fd7309a00743bcb3674dd8061f57cb": {
          "model_module": "@jupyter-widgets/controls",
          "model_name": "DescriptionStyleModel",
          "model_module_version": "1.5.0",
          "state": {
            "_model_module": "@jupyter-widgets/controls",
            "_model_module_version": "1.5.0",
            "_model_name": "DescriptionStyleModel",
            "_view_count": null,
            "_view_module": "@jupyter-widgets/base",
            "_view_module_version": "1.2.0",
            "_view_name": "StyleView",
            "description_width": ""
          }
        },
        "7e07cb386e16473b93b25551e8229e5c": {
          "model_module": "@jupyter-widgets/base",
          "model_name": "LayoutModel",
          "model_module_version": "1.2.0",
          "state": {
            "_model_module": "@jupyter-widgets/base",
            "_model_module_version": "1.2.0",
            "_model_name": "LayoutModel",
            "_view_count": null,
            "_view_module": "@jupyter-widgets/base",
            "_view_module_version": "1.2.0",
            "_view_name": "LayoutView",
            "align_content": null,
            "align_items": null,
            "align_self": null,
            "border": null,
            "bottom": null,
            "display": null,
            "flex": null,
            "flex_flow": null,
            "grid_area": null,
            "grid_auto_columns": null,
            "grid_auto_flow": null,
            "grid_auto_rows": null,
            "grid_column": null,
            "grid_gap": null,
            "grid_row": null,
            "grid_template_areas": null,
            "grid_template_columns": null,
            "grid_template_rows": null,
            "height": null,
            "justify_content": null,
            "justify_items": null,
            "left": null,
            "margin": null,
            "max_height": null,
            "max_width": null,
            "min_height": null,
            "min_width": null,
            "object_fit": null,
            "object_position": null,
            "order": null,
            "overflow": null,
            "overflow_x": null,
            "overflow_y": null,
            "padding": null,
            "right": null,
            "top": null,
            "visibility": null,
            "width": null
          }
        },
        "798846dd7134425bb541ab94908fafd4": {
          "model_module": "@jupyter-widgets/controls",
          "model_name": "ProgressStyleModel",
          "model_module_version": "1.5.0",
          "state": {
            "_model_module": "@jupyter-widgets/controls",
            "_model_module_version": "1.5.0",
            "_model_name": "ProgressStyleModel",
            "_view_count": null,
            "_view_module": "@jupyter-widgets/base",
            "_view_module_version": "1.2.0",
            "_view_name": "StyleView",
            "bar_color": null,
            "description_width": ""
          }
        },
        "e8932b500f494e17a2e980c2d95df8e2": {
          "model_module": "@jupyter-widgets/base",
          "model_name": "LayoutModel",
          "model_module_version": "1.2.0",
          "state": {
            "_model_module": "@jupyter-widgets/base",
            "_model_module_version": "1.2.0",
            "_model_name": "LayoutModel",
            "_view_count": null,
            "_view_module": "@jupyter-widgets/base",
            "_view_module_version": "1.2.0",
            "_view_name": "LayoutView",
            "align_content": null,
            "align_items": null,
            "align_self": null,
            "border": null,
            "bottom": null,
            "display": null,
            "flex": null,
            "flex_flow": null,
            "grid_area": null,
            "grid_auto_columns": null,
            "grid_auto_flow": null,
            "grid_auto_rows": null,
            "grid_column": null,
            "grid_gap": null,
            "grid_row": null,
            "grid_template_areas": null,
            "grid_template_columns": null,
            "grid_template_rows": null,
            "height": null,
            "justify_content": null,
            "justify_items": null,
            "left": null,
            "margin": null,
            "max_height": null,
            "max_width": null,
            "min_height": null,
            "min_width": null,
            "object_fit": null,
            "object_position": null,
            "order": null,
            "overflow": null,
            "overflow_x": null,
            "overflow_y": null,
            "padding": null,
            "right": null,
            "top": null,
            "visibility": null,
            "width": null
          }
        },
        "65d5c768107149b4876ab4f1f1f6046d": {
          "model_module": "@jupyter-widgets/controls",
          "model_name": "DescriptionStyleModel",
          "model_module_version": "1.5.0",
          "state": {
            "_model_module": "@jupyter-widgets/controls",
            "_model_module_version": "1.5.0",
            "_model_name": "DescriptionStyleModel",
            "_view_count": null,
            "_view_module": "@jupyter-widgets/base",
            "_view_module_version": "1.2.0",
            "_view_name": "StyleView",
            "description_width": ""
          }
        },
        "9082905a9420488180b27ba3b0cd9040": {
          "model_module": "@jupyter-widgets/controls",
          "model_name": "HBoxModel",
          "model_module_version": "1.5.0",
          "state": {
            "_dom_classes": [],
            "_model_module": "@jupyter-widgets/controls",
            "_model_module_version": "1.5.0",
            "_model_name": "HBoxModel",
            "_view_count": null,
            "_view_module": "@jupyter-widgets/controls",
            "_view_module_version": "1.5.0",
            "_view_name": "HBoxView",
            "box_style": "",
            "children": [
              "IPY_MODEL_03159fddb0384c199f27c369efd9d904",
              "IPY_MODEL_de91459ae9e5458e8d7f25801e413624",
              "IPY_MODEL_d15b7cb5c65e468cbd84493e806fd023"
            ],
            "layout": "IPY_MODEL_80e6948feb794af18bd482f264847b95"
          }
        },
        "03159fddb0384c199f27c369efd9d904": {
          "model_module": "@jupyter-widgets/controls",
          "model_name": "HTMLModel",
          "model_module_version": "1.5.0",
          "state": {
            "_dom_classes": [],
            "_model_module": "@jupyter-widgets/controls",
            "_model_module_version": "1.5.0",
            "_model_name": "HTMLModel",
            "_view_count": null,
            "_view_module": "@jupyter-widgets/controls",
            "_view_module_version": "1.5.0",
            "_view_name": "HTMLView",
            "description": "",
            "description_tooltip": null,
            "layout": "IPY_MODEL_d7e5f5e80d61450fb64275a029a2f401",
            "placeholder": "​",
            "style": "IPY_MODEL_423f618f6ccb4f44a7338830911c5fc7",
            "value": "Batches: 100%"
          }
        },
        "de91459ae9e5458e8d7f25801e413624": {
          "model_module": "@jupyter-widgets/controls",
          "model_name": "FloatProgressModel",
          "model_module_version": "1.5.0",
          "state": {
            "_dom_classes": [],
            "_model_module": "@jupyter-widgets/controls",
            "_model_module_version": "1.5.0",
            "_model_name": "FloatProgressModel",
            "_view_count": null,
            "_view_module": "@jupyter-widgets/controls",
            "_view_module_version": "1.5.0",
            "_view_name": "ProgressView",
            "bar_style": "success",
            "description": "",
            "description_tooltip": null,
            "layout": "IPY_MODEL_62cf4a1ef4204a818500f9a715e1d5a1",
            "max": 4,
            "min": 0,
            "orientation": "horizontal",
            "style": "IPY_MODEL_666156e792354ee5acd6484fe89a33eb",
            "value": 4
          }
        },
        "d15b7cb5c65e468cbd84493e806fd023": {
          "model_module": "@jupyter-widgets/controls",
          "model_name": "HTMLModel",
          "model_module_version": "1.5.0",
          "state": {
            "_dom_classes": [],
            "_model_module": "@jupyter-widgets/controls",
            "_model_module_version": "1.5.0",
            "_model_name": "HTMLModel",
            "_view_count": null,
            "_view_module": "@jupyter-widgets/controls",
            "_view_module_version": "1.5.0",
            "_view_name": "HTMLView",
            "description": "",
            "description_tooltip": null,
            "layout": "IPY_MODEL_4831c8787a344cf8ac607775937703f0",
            "placeholder": "​",
            "style": "IPY_MODEL_24727ab4f9f94d029772d16a24e0e613",
            "value": " 4/4 [00:04&lt;00:00,  1.17s/it]"
          }
        },
        "80e6948feb794af18bd482f264847b95": {
          "model_module": "@jupyter-widgets/base",
          "model_name": "LayoutModel",
          "model_module_version": "1.2.0",
          "state": {
            "_model_module": "@jupyter-widgets/base",
            "_model_module_version": "1.2.0",
            "_model_name": "LayoutModel",
            "_view_count": null,
            "_view_module": "@jupyter-widgets/base",
            "_view_module_version": "1.2.0",
            "_view_name": "LayoutView",
            "align_content": null,
            "align_items": null,
            "align_self": null,
            "border": null,
            "bottom": null,
            "display": null,
            "flex": null,
            "flex_flow": null,
            "grid_area": null,
            "grid_auto_columns": null,
            "grid_auto_flow": null,
            "grid_auto_rows": null,
            "grid_column": null,
            "grid_gap": null,
            "grid_row": null,
            "grid_template_areas": null,
            "grid_template_columns": null,
            "grid_template_rows": null,
            "height": null,
            "justify_content": null,
            "justify_items": null,
            "left": null,
            "margin": null,
            "max_height": null,
            "max_width": null,
            "min_height": null,
            "min_width": null,
            "object_fit": null,
            "object_position": null,
            "order": null,
            "overflow": null,
            "overflow_x": null,
            "overflow_y": null,
            "padding": null,
            "right": null,
            "top": null,
            "visibility": null,
            "width": null
          }
        },
        "d7e5f5e80d61450fb64275a029a2f401": {
          "model_module": "@jupyter-widgets/base",
          "model_name": "LayoutModel",
          "model_module_version": "1.2.0",
          "state": {
            "_model_module": "@jupyter-widgets/base",
            "_model_module_version": "1.2.0",
            "_model_name": "LayoutModel",
            "_view_count": null,
            "_view_module": "@jupyter-widgets/base",
            "_view_module_version": "1.2.0",
            "_view_name": "LayoutView",
            "align_content": null,
            "align_items": null,
            "align_self": null,
            "border": null,
            "bottom": null,
            "display": null,
            "flex": null,
            "flex_flow": null,
            "grid_area": null,
            "grid_auto_columns": null,
            "grid_auto_flow": null,
            "grid_auto_rows": null,
            "grid_column": null,
            "grid_gap": null,
            "grid_row": null,
            "grid_template_areas": null,
            "grid_template_columns": null,
            "grid_template_rows": null,
            "height": null,
            "justify_content": null,
            "justify_items": null,
            "left": null,
            "margin": null,
            "max_height": null,
            "max_width": null,
            "min_height": null,
            "min_width": null,
            "object_fit": null,
            "object_position": null,
            "order": null,
            "overflow": null,
            "overflow_x": null,
            "overflow_y": null,
            "padding": null,
            "right": null,
            "top": null,
            "visibility": null,
            "width": null
          }
        },
        "423f618f6ccb4f44a7338830911c5fc7": {
          "model_module": "@jupyter-widgets/controls",
          "model_name": "DescriptionStyleModel",
          "model_module_version": "1.5.0",
          "state": {
            "_model_module": "@jupyter-widgets/controls",
            "_model_module_version": "1.5.0",
            "_model_name": "DescriptionStyleModel",
            "_view_count": null,
            "_view_module": "@jupyter-widgets/base",
            "_view_module_version": "1.2.0",
            "_view_name": "StyleView",
            "description_width": ""
          }
        },
        "62cf4a1ef4204a818500f9a715e1d5a1": {
          "model_module": "@jupyter-widgets/base",
          "model_name": "LayoutModel",
          "model_module_version": "1.2.0",
          "state": {
            "_model_module": "@jupyter-widgets/base",
            "_model_module_version": "1.2.0",
            "_model_name": "LayoutModel",
            "_view_count": null,
            "_view_module": "@jupyter-widgets/base",
            "_view_module_version": "1.2.0",
            "_view_name": "LayoutView",
            "align_content": null,
            "align_items": null,
            "align_self": null,
            "border": null,
            "bottom": null,
            "display": null,
            "flex": null,
            "flex_flow": null,
            "grid_area": null,
            "grid_auto_columns": null,
            "grid_auto_flow": null,
            "grid_auto_rows": null,
            "grid_column": null,
            "grid_gap": null,
            "grid_row": null,
            "grid_template_areas": null,
            "grid_template_columns": null,
            "grid_template_rows": null,
            "height": null,
            "justify_content": null,
            "justify_items": null,
            "left": null,
            "margin": null,
            "max_height": null,
            "max_width": null,
            "min_height": null,
            "min_width": null,
            "object_fit": null,
            "object_position": null,
            "order": null,
            "overflow": null,
            "overflow_x": null,
            "overflow_y": null,
            "padding": null,
            "right": null,
            "top": null,
            "visibility": null,
            "width": null
          }
        },
        "666156e792354ee5acd6484fe89a33eb": {
          "model_module": "@jupyter-widgets/controls",
          "model_name": "ProgressStyleModel",
          "model_module_version": "1.5.0",
          "state": {
            "_model_module": "@jupyter-widgets/controls",
            "_model_module_version": "1.5.0",
            "_model_name": "ProgressStyleModel",
            "_view_count": null,
            "_view_module": "@jupyter-widgets/base",
            "_view_module_version": "1.2.0",
            "_view_name": "StyleView",
            "bar_color": null,
            "description_width": ""
          }
        },
        "4831c8787a344cf8ac607775937703f0": {
          "model_module": "@jupyter-widgets/base",
          "model_name": "LayoutModel",
          "model_module_version": "1.2.0",
          "state": {
            "_model_module": "@jupyter-widgets/base",
            "_model_module_version": "1.2.0",
            "_model_name": "LayoutModel",
            "_view_count": null,
            "_view_module": "@jupyter-widgets/base",
            "_view_module_version": "1.2.0",
            "_view_name": "LayoutView",
            "align_content": null,
            "align_items": null,
            "align_self": null,
            "border": null,
            "bottom": null,
            "display": null,
            "flex": null,
            "flex_flow": null,
            "grid_area": null,
            "grid_auto_columns": null,
            "grid_auto_flow": null,
            "grid_auto_rows": null,
            "grid_column": null,
            "grid_gap": null,
            "grid_row": null,
            "grid_template_areas": null,
            "grid_template_columns": null,
            "grid_template_rows": null,
            "height": null,
            "justify_content": null,
            "justify_items": null,
            "left": null,
            "margin": null,
            "max_height": null,
            "max_width": null,
            "min_height": null,
            "min_width": null,
            "object_fit": null,
            "object_position": null,
            "order": null,
            "overflow": null,
            "overflow_x": null,
            "overflow_y": null,
            "padding": null,
            "right": null,
            "top": null,
            "visibility": null,
            "width": null
          }
        },
        "24727ab4f9f94d029772d16a24e0e613": {
          "model_module": "@jupyter-widgets/controls",
          "model_name": "DescriptionStyleModel",
          "model_module_version": "1.5.0",
          "state": {
            "_model_module": "@jupyter-widgets/controls",
            "_model_module_version": "1.5.0",
            "_model_name": "DescriptionStyleModel",
            "_view_count": null,
            "_view_module": "@jupyter-widgets/base",
            "_view_module_version": "1.2.0",
            "_view_name": "StyleView",
            "description_width": ""
          }
        },
        "d4e9f7af2e384e04a27709af8148c9df": {
          "model_module": "@jupyter-widgets/controls",
          "model_name": "HBoxModel",
          "model_module_version": "1.5.0",
          "state": {
            "_dom_classes": [],
            "_model_module": "@jupyter-widgets/controls",
            "_model_module_version": "1.5.0",
            "_model_name": "HBoxModel",
            "_view_count": null,
            "_view_module": "@jupyter-widgets/controls",
            "_view_module_version": "1.5.0",
            "_view_name": "HBoxView",
            "box_style": "",
            "children": [
              "IPY_MODEL_4f588712b9ac4899926db2725de74182",
              "IPY_MODEL_2aecd2f14a1b4a6ebc47c23f34696a66",
              "IPY_MODEL_c4fbea97057d46c29e236f8f0fd1bc5a"
            ],
            "layout": "IPY_MODEL_85af7cdbf5b0403fb220d81f2a60ed0f"
          }
        },
        "4f588712b9ac4899926db2725de74182": {
          "model_module": "@jupyter-widgets/controls",
          "model_name": "HTMLModel",
          "model_module_version": "1.5.0",
          "state": {
            "_dom_classes": [],
            "_model_module": "@jupyter-widgets/controls",
            "_model_module_version": "1.5.0",
            "_model_name": "HTMLModel",
            "_view_count": null,
            "_view_module": "@jupyter-widgets/controls",
            "_view_module_version": "1.5.0",
            "_view_name": "HTMLView",
            "description": "",
            "description_tooltip": null,
            "layout": "IPY_MODEL_ceea3fdca90943deb2711e22850ec38f",
            "placeholder": "​",
            "style": "IPY_MODEL_d4159768fe964c238ae4b5310c10cd21",
            "value": "Batches: 100%"
          }
        },
        "2aecd2f14a1b4a6ebc47c23f34696a66": {
          "model_module": "@jupyter-widgets/controls",
          "model_name": "FloatProgressModel",
          "model_module_version": "1.5.0",
          "state": {
            "_dom_classes": [],
            "_model_module": "@jupyter-widgets/controls",
            "_model_module_version": "1.5.0",
            "_model_name": "FloatProgressModel",
            "_view_count": null,
            "_view_module": "@jupyter-widgets/controls",
            "_view_module_version": "1.5.0",
            "_view_name": "ProgressView",
            "bar_style": "success",
            "description": "",
            "description_tooltip": null,
            "layout": "IPY_MODEL_2945c966108744beb7ab2f35be24d4bf",
            "max": 4,
            "min": 0,
            "orientation": "horizontal",
            "style": "IPY_MODEL_11193ab31956486cb35db9d783ffcf6d",
            "value": 4
          }
        },
        "c4fbea97057d46c29e236f8f0fd1bc5a": {
          "model_module": "@jupyter-widgets/controls",
          "model_name": "HTMLModel",
          "model_module_version": "1.5.0",
          "state": {
            "_dom_classes": [],
            "_model_module": "@jupyter-widgets/controls",
            "_model_module_version": "1.5.0",
            "_model_name": "HTMLModel",
            "_view_count": null,
            "_view_module": "@jupyter-widgets/controls",
            "_view_module_version": "1.5.0",
            "_view_name": "HTMLView",
            "description": "",
            "description_tooltip": null,
            "layout": "IPY_MODEL_c87e40c09f9f420f87da08d2a303197e",
            "placeholder": "​",
            "style": "IPY_MODEL_4b9df1b13071403a9e283f515f1204f3",
            "value": " 4/4 [00:04&lt;00:00,  1.16s/it]"
          }
        },
        "85af7cdbf5b0403fb220d81f2a60ed0f": {
          "model_module": "@jupyter-widgets/base",
          "model_name": "LayoutModel",
          "model_module_version": "1.2.0",
          "state": {
            "_model_module": "@jupyter-widgets/base",
            "_model_module_version": "1.2.0",
            "_model_name": "LayoutModel",
            "_view_count": null,
            "_view_module": "@jupyter-widgets/base",
            "_view_module_version": "1.2.0",
            "_view_name": "LayoutView",
            "align_content": null,
            "align_items": null,
            "align_self": null,
            "border": null,
            "bottom": null,
            "display": null,
            "flex": null,
            "flex_flow": null,
            "grid_area": null,
            "grid_auto_columns": null,
            "grid_auto_flow": null,
            "grid_auto_rows": null,
            "grid_column": null,
            "grid_gap": null,
            "grid_row": null,
            "grid_template_areas": null,
            "grid_template_columns": null,
            "grid_template_rows": null,
            "height": null,
            "justify_content": null,
            "justify_items": null,
            "left": null,
            "margin": null,
            "max_height": null,
            "max_width": null,
            "min_height": null,
            "min_width": null,
            "object_fit": null,
            "object_position": null,
            "order": null,
            "overflow": null,
            "overflow_x": null,
            "overflow_y": null,
            "padding": null,
            "right": null,
            "top": null,
            "visibility": null,
            "width": null
          }
        },
        "ceea3fdca90943deb2711e22850ec38f": {
          "model_module": "@jupyter-widgets/base",
          "model_name": "LayoutModel",
          "model_module_version": "1.2.0",
          "state": {
            "_model_module": "@jupyter-widgets/base",
            "_model_module_version": "1.2.0",
            "_model_name": "LayoutModel",
            "_view_count": null,
            "_view_module": "@jupyter-widgets/base",
            "_view_module_version": "1.2.0",
            "_view_name": "LayoutView",
            "align_content": null,
            "align_items": null,
            "align_self": null,
            "border": null,
            "bottom": null,
            "display": null,
            "flex": null,
            "flex_flow": null,
            "grid_area": null,
            "grid_auto_columns": null,
            "grid_auto_flow": null,
            "grid_auto_rows": null,
            "grid_column": null,
            "grid_gap": null,
            "grid_row": null,
            "grid_template_areas": null,
            "grid_template_columns": null,
            "grid_template_rows": null,
            "height": null,
            "justify_content": null,
            "justify_items": null,
            "left": null,
            "margin": null,
            "max_height": null,
            "max_width": null,
            "min_height": null,
            "min_width": null,
            "object_fit": null,
            "object_position": null,
            "order": null,
            "overflow": null,
            "overflow_x": null,
            "overflow_y": null,
            "padding": null,
            "right": null,
            "top": null,
            "visibility": null,
            "width": null
          }
        },
        "d4159768fe964c238ae4b5310c10cd21": {
          "model_module": "@jupyter-widgets/controls",
          "model_name": "DescriptionStyleModel",
          "model_module_version": "1.5.0",
          "state": {
            "_model_module": "@jupyter-widgets/controls",
            "_model_module_version": "1.5.0",
            "_model_name": "DescriptionStyleModel",
            "_view_count": null,
            "_view_module": "@jupyter-widgets/base",
            "_view_module_version": "1.2.0",
            "_view_name": "StyleView",
            "description_width": ""
          }
        },
        "2945c966108744beb7ab2f35be24d4bf": {
          "model_module": "@jupyter-widgets/base",
          "model_name": "LayoutModel",
          "model_module_version": "1.2.0",
          "state": {
            "_model_module": "@jupyter-widgets/base",
            "_model_module_version": "1.2.0",
            "_model_name": "LayoutModel",
            "_view_count": null,
            "_view_module": "@jupyter-widgets/base",
            "_view_module_version": "1.2.0",
            "_view_name": "LayoutView",
            "align_content": null,
            "align_items": null,
            "align_self": null,
            "border": null,
            "bottom": null,
            "display": null,
            "flex": null,
            "flex_flow": null,
            "grid_area": null,
            "grid_auto_columns": null,
            "grid_auto_flow": null,
            "grid_auto_rows": null,
            "grid_column": null,
            "grid_gap": null,
            "grid_row": null,
            "grid_template_areas": null,
            "grid_template_columns": null,
            "grid_template_rows": null,
            "height": null,
            "justify_content": null,
            "justify_items": null,
            "left": null,
            "margin": null,
            "max_height": null,
            "max_width": null,
            "min_height": null,
            "min_width": null,
            "object_fit": null,
            "object_position": null,
            "order": null,
            "overflow": null,
            "overflow_x": null,
            "overflow_y": null,
            "padding": null,
            "right": null,
            "top": null,
            "visibility": null,
            "width": null
          }
        },
        "11193ab31956486cb35db9d783ffcf6d": {
          "model_module": "@jupyter-widgets/controls",
          "model_name": "ProgressStyleModel",
          "model_module_version": "1.5.0",
          "state": {
            "_model_module": "@jupyter-widgets/controls",
            "_model_module_version": "1.5.0",
            "_model_name": "ProgressStyleModel",
            "_view_count": null,
            "_view_module": "@jupyter-widgets/base",
            "_view_module_version": "1.2.0",
            "_view_name": "StyleView",
            "bar_color": null,
            "description_width": ""
          }
        },
        "c87e40c09f9f420f87da08d2a303197e": {
          "model_module": "@jupyter-widgets/base",
          "model_name": "LayoutModel",
          "model_module_version": "1.2.0",
          "state": {
            "_model_module": "@jupyter-widgets/base",
            "_model_module_version": "1.2.0",
            "_model_name": "LayoutModel",
            "_view_count": null,
            "_view_module": "@jupyter-widgets/base",
            "_view_module_version": "1.2.0",
            "_view_name": "LayoutView",
            "align_content": null,
            "align_items": null,
            "align_self": null,
            "border": null,
            "bottom": null,
            "display": null,
            "flex": null,
            "flex_flow": null,
            "grid_area": null,
            "grid_auto_columns": null,
            "grid_auto_flow": null,
            "grid_auto_rows": null,
            "grid_column": null,
            "grid_gap": null,
            "grid_row": null,
            "grid_template_areas": null,
            "grid_template_columns": null,
            "grid_template_rows": null,
            "height": null,
            "justify_content": null,
            "justify_items": null,
            "left": null,
            "margin": null,
            "max_height": null,
            "max_width": null,
            "min_height": null,
            "min_width": null,
            "object_fit": null,
            "object_position": null,
            "order": null,
            "overflow": null,
            "overflow_x": null,
            "overflow_y": null,
            "padding": null,
            "right": null,
            "top": null,
            "visibility": null,
            "width": null
          }
        },
        "4b9df1b13071403a9e283f515f1204f3": {
          "model_module": "@jupyter-widgets/controls",
          "model_name": "DescriptionStyleModel",
          "model_module_version": "1.5.0",
          "state": {
            "_model_module": "@jupyter-widgets/controls",
            "_model_module_version": "1.5.0",
            "_model_name": "DescriptionStyleModel",
            "_view_count": null,
            "_view_module": "@jupyter-widgets/base",
            "_view_module_version": "1.2.0",
            "_view_name": "StyleView",
            "description_width": ""
          }
        },
        "413cac38e3864a15856a6814872df5f5": {
          "model_module": "@jupyter-widgets/controls",
          "model_name": "HBoxModel",
          "model_module_version": "1.5.0",
          "state": {
            "_dom_classes": [],
            "_model_module": "@jupyter-widgets/controls",
            "_model_module_version": "1.5.0",
            "_model_name": "HBoxModel",
            "_view_count": null,
            "_view_module": "@jupyter-widgets/controls",
            "_view_module_version": "1.5.0",
            "_view_name": "HBoxView",
            "box_style": "",
            "children": [
              "IPY_MODEL_2dfe3de904f4431db68b4320ce47b50b",
              "IPY_MODEL_a57e25db31454a1ab55ee46849fabdfd",
              "IPY_MODEL_0914c4f7381441058d7c671461766bc1"
            ],
            "layout": "IPY_MODEL_0d1a23cc0b3b41178bc7326188549be2"
          }
        },
        "2dfe3de904f4431db68b4320ce47b50b": {
          "model_module": "@jupyter-widgets/controls",
          "model_name": "HTMLModel",
          "model_module_version": "1.5.0",
          "state": {
            "_dom_classes": [],
            "_model_module": "@jupyter-widgets/controls",
            "_model_module_version": "1.5.0",
            "_model_name": "HTMLModel",
            "_view_count": null,
            "_view_module": "@jupyter-widgets/controls",
            "_view_module_version": "1.5.0",
            "_view_name": "HTMLView",
            "description": "",
            "description_tooltip": null,
            "layout": "IPY_MODEL_9ed915ea8a164df3bc2b18906a984395",
            "placeholder": "​",
            "style": "IPY_MODEL_8b4799b281294eea8355dbd3cfa75eea",
            "value": "Batches: 100%"
          }
        },
        "a57e25db31454a1ab55ee46849fabdfd": {
          "model_module": "@jupyter-widgets/controls",
          "model_name": "FloatProgressModel",
          "model_module_version": "1.5.0",
          "state": {
            "_dom_classes": [],
            "_model_module": "@jupyter-widgets/controls",
            "_model_module_version": "1.5.0",
            "_model_name": "FloatProgressModel",
            "_view_count": null,
            "_view_module": "@jupyter-widgets/controls",
            "_view_module_version": "1.5.0",
            "_view_name": "ProgressView",
            "bar_style": "success",
            "description": "",
            "description_tooltip": null,
            "layout": "IPY_MODEL_78e053e101914a9e92a0115dfbf3fe44",
            "max": 4,
            "min": 0,
            "orientation": "horizontal",
            "style": "IPY_MODEL_8c02d71b1a5343fb96740ae37dbd7c57",
            "value": 4
          }
        },
        "0914c4f7381441058d7c671461766bc1": {
          "model_module": "@jupyter-widgets/controls",
          "model_name": "HTMLModel",
          "model_module_version": "1.5.0",
          "state": {
            "_dom_classes": [],
            "_model_module": "@jupyter-widgets/controls",
            "_model_module_version": "1.5.0",
            "_model_name": "HTMLModel",
            "_view_count": null,
            "_view_module": "@jupyter-widgets/controls",
            "_view_module_version": "1.5.0",
            "_view_name": "HTMLView",
            "description": "",
            "description_tooltip": null,
            "layout": "IPY_MODEL_a628d20f76d7470cb704bf222845884e",
            "placeholder": "​",
            "style": "IPY_MODEL_d6bbf508feff46ba9510bea3cde058a5",
            "value": " 4/4 [00:04&lt;00:00,  1.17s/it]"
          }
        },
        "0d1a23cc0b3b41178bc7326188549be2": {
          "model_module": "@jupyter-widgets/base",
          "model_name": "LayoutModel",
          "model_module_version": "1.2.0",
          "state": {
            "_model_module": "@jupyter-widgets/base",
            "_model_module_version": "1.2.0",
            "_model_name": "LayoutModel",
            "_view_count": null,
            "_view_module": "@jupyter-widgets/base",
            "_view_module_version": "1.2.0",
            "_view_name": "LayoutView",
            "align_content": null,
            "align_items": null,
            "align_self": null,
            "border": null,
            "bottom": null,
            "display": null,
            "flex": null,
            "flex_flow": null,
            "grid_area": null,
            "grid_auto_columns": null,
            "grid_auto_flow": null,
            "grid_auto_rows": null,
            "grid_column": null,
            "grid_gap": null,
            "grid_row": null,
            "grid_template_areas": null,
            "grid_template_columns": null,
            "grid_template_rows": null,
            "height": null,
            "justify_content": null,
            "justify_items": null,
            "left": null,
            "margin": null,
            "max_height": null,
            "max_width": null,
            "min_height": null,
            "min_width": null,
            "object_fit": null,
            "object_position": null,
            "order": null,
            "overflow": null,
            "overflow_x": null,
            "overflow_y": null,
            "padding": null,
            "right": null,
            "top": null,
            "visibility": null,
            "width": null
          }
        },
        "9ed915ea8a164df3bc2b18906a984395": {
          "model_module": "@jupyter-widgets/base",
          "model_name": "LayoutModel",
          "model_module_version": "1.2.0",
          "state": {
            "_model_module": "@jupyter-widgets/base",
            "_model_module_version": "1.2.0",
            "_model_name": "LayoutModel",
            "_view_count": null,
            "_view_module": "@jupyter-widgets/base",
            "_view_module_version": "1.2.0",
            "_view_name": "LayoutView",
            "align_content": null,
            "align_items": null,
            "align_self": null,
            "border": null,
            "bottom": null,
            "display": null,
            "flex": null,
            "flex_flow": null,
            "grid_area": null,
            "grid_auto_columns": null,
            "grid_auto_flow": null,
            "grid_auto_rows": null,
            "grid_column": null,
            "grid_gap": null,
            "grid_row": null,
            "grid_template_areas": null,
            "grid_template_columns": null,
            "grid_template_rows": null,
            "height": null,
            "justify_content": null,
            "justify_items": null,
            "left": null,
            "margin": null,
            "max_height": null,
            "max_width": null,
            "min_height": null,
            "min_width": null,
            "object_fit": null,
            "object_position": null,
            "order": null,
            "overflow": null,
            "overflow_x": null,
            "overflow_y": null,
            "padding": null,
            "right": null,
            "top": null,
            "visibility": null,
            "width": null
          }
        },
        "8b4799b281294eea8355dbd3cfa75eea": {
          "model_module": "@jupyter-widgets/controls",
          "model_name": "DescriptionStyleModel",
          "model_module_version": "1.5.0",
          "state": {
            "_model_module": "@jupyter-widgets/controls",
            "_model_module_version": "1.5.0",
            "_model_name": "DescriptionStyleModel",
            "_view_count": null,
            "_view_module": "@jupyter-widgets/base",
            "_view_module_version": "1.2.0",
            "_view_name": "StyleView",
            "description_width": ""
          }
        },
        "78e053e101914a9e92a0115dfbf3fe44": {
          "model_module": "@jupyter-widgets/base",
          "model_name": "LayoutModel",
          "model_module_version": "1.2.0",
          "state": {
            "_model_module": "@jupyter-widgets/base",
            "_model_module_version": "1.2.0",
            "_model_name": "LayoutModel",
            "_view_count": null,
            "_view_module": "@jupyter-widgets/base",
            "_view_module_version": "1.2.0",
            "_view_name": "LayoutView",
            "align_content": null,
            "align_items": null,
            "align_self": null,
            "border": null,
            "bottom": null,
            "display": null,
            "flex": null,
            "flex_flow": null,
            "grid_area": null,
            "grid_auto_columns": null,
            "grid_auto_flow": null,
            "grid_auto_rows": null,
            "grid_column": null,
            "grid_gap": null,
            "grid_row": null,
            "grid_template_areas": null,
            "grid_template_columns": null,
            "grid_template_rows": null,
            "height": null,
            "justify_content": null,
            "justify_items": null,
            "left": null,
            "margin": null,
            "max_height": null,
            "max_width": null,
            "min_height": null,
            "min_width": null,
            "object_fit": null,
            "object_position": null,
            "order": null,
            "overflow": null,
            "overflow_x": null,
            "overflow_y": null,
            "padding": null,
            "right": null,
            "top": null,
            "visibility": null,
            "width": null
          }
        },
        "8c02d71b1a5343fb96740ae37dbd7c57": {
          "model_module": "@jupyter-widgets/controls",
          "model_name": "ProgressStyleModel",
          "model_module_version": "1.5.0",
          "state": {
            "_model_module": "@jupyter-widgets/controls",
            "_model_module_version": "1.5.0",
            "_model_name": "ProgressStyleModel",
            "_view_count": null,
            "_view_module": "@jupyter-widgets/base",
            "_view_module_version": "1.2.0",
            "_view_name": "StyleView",
            "bar_color": null,
            "description_width": ""
          }
        },
        "a628d20f76d7470cb704bf222845884e": {
          "model_module": "@jupyter-widgets/base",
          "model_name": "LayoutModel",
          "model_module_version": "1.2.0",
          "state": {
            "_model_module": "@jupyter-widgets/base",
            "_model_module_version": "1.2.0",
            "_model_name": "LayoutModel",
            "_view_count": null,
            "_view_module": "@jupyter-widgets/base",
            "_view_module_version": "1.2.0",
            "_view_name": "LayoutView",
            "align_content": null,
            "align_items": null,
            "align_self": null,
            "border": null,
            "bottom": null,
            "display": null,
            "flex": null,
            "flex_flow": null,
            "grid_area": null,
            "grid_auto_columns": null,
            "grid_auto_flow": null,
            "grid_auto_rows": null,
            "grid_column": null,
            "grid_gap": null,
            "grid_row": null,
            "grid_template_areas": null,
            "grid_template_columns": null,
            "grid_template_rows": null,
            "height": null,
            "justify_content": null,
            "justify_items": null,
            "left": null,
            "margin": null,
            "max_height": null,
            "max_width": null,
            "min_height": null,
            "min_width": null,
            "object_fit": null,
            "object_position": null,
            "order": null,
            "overflow": null,
            "overflow_x": null,
            "overflow_y": null,
            "padding": null,
            "right": null,
            "top": null,
            "visibility": null,
            "width": null
          }
        },
        "d6bbf508feff46ba9510bea3cde058a5": {
          "model_module": "@jupyter-widgets/controls",
          "model_name": "DescriptionStyleModel",
          "model_module_version": "1.5.0",
          "state": {
            "_model_module": "@jupyter-widgets/controls",
            "_model_module_version": "1.5.0",
            "_model_name": "DescriptionStyleModel",
            "_view_count": null,
            "_view_module": "@jupyter-widgets/base",
            "_view_module_version": "1.2.0",
            "_view_name": "StyleView",
            "description_width": ""
          }
        }
      }
    },
    "gpuClass": "standard"
  },
  "nbformat": 4,
  "nbformat_minor": 0
}